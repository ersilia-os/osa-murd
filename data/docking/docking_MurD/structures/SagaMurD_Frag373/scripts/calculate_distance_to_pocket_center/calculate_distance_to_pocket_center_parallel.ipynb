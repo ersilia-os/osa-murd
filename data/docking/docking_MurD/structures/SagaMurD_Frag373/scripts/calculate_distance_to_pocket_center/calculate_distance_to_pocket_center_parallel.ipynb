{
 "cells": [
  {
   "cell_type": "markdown",
   "id": "930c1333",
   "metadata": {
    "heading_collapsed": true
   },
   "source": [
    "# 0. Definitions"
   ]
  },
  {
   "cell_type": "code",
   "execution_count": null,
   "id": "f1bae3b8",
   "metadata": {
    "hidden": true
   },
   "outputs": [],
   "source": [
    "import os\n",
    "import pandas as pd\n",
    "import numpy as np\n",
    "import random\n",
    "import pickle\n",
    "\n",
    "# get the notebook's root path\n",
    "try: \n",
    "    ipynb_path\n",
    "except NameError: \n",
    "    ipynb_path = os.getcwd()\n",
    "if ipynb_path.startswith('/slgpfs/'):\n",
    "    # change scratch path to projects path\n",
    "    ipynb_path = ipynb_path.replace(\"/scratch/\", \"/projects/\")\n",
    "    #print(ipynb_path)\n",
    "elif ipynb_path.startswith('/aloy/'):\n",
    "    # change scratch path to home path\n",
    "    ipynb_path = ipynb_path.replace(\"/scratch/\", \"/home/\")\n",
    "    #print(ipynb_path)\n",
    "parent_dir = ipynb_path + '/' + '../' + '../'\n",
    "#print('wd:', wd)"
   ]
  },
  {
   "cell_type": "markdown",
   "id": "623e4aa8",
   "metadata": {
    "hidden": true
   },
   "source": [
    "Get dirname"
   ]
  },
  {
   "cell_type": "code",
   "execution_count": null,
   "id": "7e31d0e7",
   "metadata": {
    "hidden": true
   },
   "outputs": [],
   "source": [
    "import sys\n",
    "import time\n",
    "import json\n",
    "\n",
    "task_id = sys.argv[1]  # <TASK_ID>\n",
    "filename = sys.argv[2]  # <FILE>\n",
    "input_pickle = pickle.load(open(filename, 'rb'))\n",
    "element = input_pickle[task_id][0] #This \"[0]\" is important as it by default uses a list of lists\n",
    "\n",
    "# Get dirname\n",
    "wd = parent_dir + element + '/'"
   ]
  },
  {
   "cell_type": "markdown",
   "id": "e5afa26c",
   "metadata": {},
   "source": [
    "# 1. Calculate distance to pocket center"
   ]
  },
  {
   "cell_type": "markdown",
   "id": "91c99904",
   "metadata": {},
   "source": [
    "Calculate distance to pocket center"
   ]
  },
  {
   "cell_type": "code",
   "execution_count": null,
   "id": "8ca13879",
   "metadata": {},
   "outputs": [],
   "source": [
    "import os\n",
    "import pybel\n",
    "import time\n",
    "from rdkit import Chem\n",
    "from rdkit.Chem import rdFreeSASA\n",
    "import subprocess\n",
    "import numpy as np\n",
    "\n",
    "start_time = time.time()\n",
    "\n",
    "# # Read prot\n",
    "# prot_pdb_file = parent_dir + 'SagaMurD_Frag373_MOEprep.pdb'\n",
    "# prot = Chem.MolFromPDBFile(prot_pdb_file)\n",
    "\n",
    "# Obtain the coordinates of the center of the pocket (use the center of the grid)\n",
    "pocket_coords = np.array([32.729, -33.675, -1.107])\n",
    "\n",
    "results_dir = wd + 'results' + '/'\n",
    "# Create dataframe to store the results\n",
    "df_pocket_edist = pd.DataFrame(columns=['title','score','pocket_edist'])\n",
    "\n",
    "docked_poses_file = results_dir + 'best_docked_pose.sdf'\n",
    "sdf_file = pybel.readfile(\"sdf\",  docked_poses_file)\n",
    "for compound in sdf_file:\n",
    "    row_dict = {}\n",
    "    data_dict = compound.data\n",
    "    compound_title = compound.title\n",
    "    docking_score = float(data_dict[\"SCORE.INTER\"])\n",
    "#     # Convert compound to rdkit mol\n",
    "#     compound.write('sdf', results_dir + 'mol.sdf', overwrite=True)\n",
    "#     suppl = Chem.SDMolSupplier(results_dir + 'mol.sdf')\n",
    "#     mol_list = [x for x in suppl]\n",
    "#     lig = mol_list[0]\n",
    "    # Convert rdkit mol to pdb\n",
    "    #lig = Chem.rdmolfiles.MolToPDBBlock(lig)\n",
    "    atom_edists_dict = {}\n",
    "    # Calculate euclidean distance to the center of the pocket for each atom\n",
    "    for atom in compound:\n",
    "        atom_idx = str(atom.idx)\n",
    "        atom_coords = atom.coords\n",
    "        #print('atom_coords', atom_coords)\n",
    "        #print('type(atom_coords)', type(atom_coords))\n",
    "        atom_edist = np.linalg.norm(pocket_coords-atom_coords)\n",
    "        atom_edists_dict[atom_idx] = atom_edist\n",
    "    # Get the minimum distance\n",
    "    key_min = min(atom_edists_dict.keys(), key=(lambda k: atom_edists_dict[k]))\n",
    "    min_edist = atom_edists_dict[key_min]\n",
    "    pocket_edist = min_edist\n",
    "    #print('compound.title', 'docking_score', 'pocket_edist')\n",
    "    #print(compound.title, docking_score, pocket_edist)\n",
    "    \n",
    "    # Append rows to dataframe\n",
    "    row_dict['title'] = compound.title\n",
    "    row_dict['score'] = docking_score\n",
    "    row_dict['pocket_edist'] = pocket_edist\n",
    "    df_pocket_edist = df_pocket_edist.append(row_dict, ignore_index=True)\n",
    "\n",
    "# Export dataframe as .tsv\n",
    "df_pocket_edist_file = results_dir + 'pocket_edist' + '.tsv'\n",
    "df_pocket_edist.to_csv(df_pocket_edist_file, sep='\\t', encoding='utf-8', index=False)\n",
    "print(df_pocket_edist)\n",
    "    "
   ]
  }
 ],
 "metadata": {
  "hide_input": false,
  "kernelspec": {
   "display_name": "sign",
   "language": "python",
   "name": "sign"
  },
  "language_info": {
   "codemirror_mode": {
    "name": "ipython",
    "version": 3
   },
   "file_extension": ".py",
   "mimetype": "text/x-python",
   "name": "python",
   "nbconvert_exporter": "python",
   "pygments_lexer": "ipython3",
   "version": "3.7.10"
  },
  "varInspector": {
   "cols": {
    "lenName": 16,
    "lenType": 16,
    "lenVar": 40
   },
   "kernels_config": {
    "python": {
     "delete_cmd_postfix": "",
     "delete_cmd_prefix": "del ",
     "library": "var_list.py",
     "varRefreshCmd": "print(var_dic_list())"
    },
    "r": {
     "delete_cmd_postfix": ") ",
     "delete_cmd_prefix": "rm(",
     "library": "var_list.r",
     "varRefreshCmd": "cat(var_dic_list()) "
    }
   },
   "types_to_exclude": [
    "module",
    "function",
    "builtin_function_or_method",
    "instance",
    "_Feature"
   ],
   "window_display": false
  }
 },
 "nbformat": 4,
 "nbformat_minor": 5
}
