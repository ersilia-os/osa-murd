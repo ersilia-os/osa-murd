{
 "cells": [
  {
   "cell_type": "markdown",
   "id": "930c1333",
   "metadata": {
    "heading_collapsed": true
   },
   "source": [
    "# 0. Definitions"
   ]
  },
  {
   "cell_type": "code",
   "execution_count": null,
   "id": "f1bae3b8",
   "metadata": {
    "hidden": true
   },
   "outputs": [],
   "source": [
    "import os\n",
    "import pandas as pd\n",
    "import numpy as np\n",
    "import random\n",
    "import pickle\n",
    "\n",
    "# get the notebook's root path\n",
    "try: \n",
    "    ipynb_path\n",
    "except NameError: \n",
    "    ipynb_path = os.getcwd()\n",
    "if ipynb_path.startswith('/slgpfs/'):\n",
    "    # change scratch path to projects path\n",
    "    ipynb_path = ipynb_path.replace(\"/scratch/\", \"/projects/\")\n",
    "    #print(ipynb_path)\n",
    "elif ipynb_path.startswith('/aloy/'):\n",
    "    # change scratch path to home path\n",
    "    ipynb_path = ipynb_path.replace(\"/scratch/\", \"/home/\")\n",
    "    #print(ipynb_path)\n",
    "parent_dir = ipynb_path + '/' + '../' + '../'\n",
    "#print('wd:', wd)"
   ]
  },
  {
   "cell_type": "markdown",
   "id": "623e4aa8",
   "metadata": {
    "hidden": true
   },
   "source": [
    "Get dirname"
   ]
  },
  {
   "cell_type": "code",
   "execution_count": null,
   "id": "7e31d0e7",
   "metadata": {
    "hidden": true
   },
   "outputs": [],
   "source": [
    "import sys\n",
    "import time\n",
    "import json\n",
    "\n",
    "task_id = sys.argv[1]  # <TASK_ID>\n",
    "filename = sys.argv[2]  # <FILE>\n",
    "input_pickle = pickle.load(open(filename, 'rb'))\n",
    "element = input_pickle[task_id][0] #This \"[0]\" is important as it by default uses a list of lists\n",
    "\n",
    "# Get dirname\n",
    "wd = parent_dir + element + '/'"
   ]
  },
  {
   "cell_type": "markdown",
   "id": "e5afa26c",
   "metadata": {
    "heading_collapsed": true
   },
   "source": [
    "# 1. Calculate accessibility"
   ]
  },
  {
   "cell_type": "markdown",
   "id": "91c99904",
   "metadata": {
    "hidden": true
   },
   "source": [
    "Calculate accessibility"
   ]
  },
  {
   "cell_type": "code",
   "execution_count": null,
   "id": "8ca13879",
   "metadata": {
    "hidden": true
   },
   "outputs": [],
   "source": [
    "import os\n",
    "import pybel\n",
    "import time\n",
    "from rdkit import Chem\n",
    "from rdkit.Chem import rdFreeSASA\n",
    "import subprocess\n",
    "import numpy as np\n",
    "\n",
    "start_time = time.time()\n",
    "\n",
    "def SASA(prot, lig): \n",
    "\n",
    "    # Protonation gives too many issues. Avoid it\n",
    "    \n",
    "    #compute ligand SASA\n",
    "    #lig_h = Chem.rdmolops.AddHs(lig, addCoords=True, explicitOnly=True)\n",
    "    lig_h = lig\n",
    "    # Get Van der Waals radii (angstrom)\n",
    "    ptable = Chem.GetPeriodicTable()\n",
    "    radii = [ptable.GetRvdw(atom.GetAtomicNum()) for atom in lig_h.GetAtoms()]\n",
    "    # Compute solvent accessible surface area\n",
    "    lig_sasa = rdFreeSASA.CalcSASA(lig_h, radii)\n",
    "\n",
    "    # Join protein & ligand\n",
    "    comp = Chem.CombineMols(prot, lig)\n",
    "    comp_h = comp\n",
    "    #comp_h = Chem.AddHs(comp, addCoords=True)\n",
    "    # Get Van der Waals radii (angstrom)\n",
    "    ptable = Chem.GetPeriodicTable()\n",
    "    radii = [ptable.GetRvdw(atom.GetAtomicNum()) for atom in comp_h.GetAtoms()]\n",
    "    # Compute solvent accessible surface area\n",
    "    comp_sasa = rdFreeSASA.CalcSASA(comp_h, radii)\n",
    "    comp_lig = Chem.GetMolFrags(comp_h, asMols=True,  sanitizeFrags=True)\n",
    "    comp_lig = [i for i in comp_lig if lig_h.GetNumHeavyAtoms() == i.GetNumHeavyAtoms()][0]\n",
    "    \n",
    "    lig_sasa_free = 0\n",
    "    for a in lig_h.GetAtoms():\n",
    "        lig_sasa_free += float(a.GetProp(\"SASA\"))\n",
    "\n",
    "    lig_sasa_bound = 0\n",
    "    for a in comp_lig.GetAtoms():\n",
    "        lig_sasa_bound += float(a.GetProp(\"SASA\"))\n",
    "        \n",
    "    return round(lig_sasa_free, 3), round(lig_sasa_bound, 3)\n",
    "\n",
    "# Get SASA\n",
    "#prot = Chem.MolFromPDBFile(os.path.join(path, pdb + \"_\" + chain_id + \"_\" + int_lig + \".pdb\"))\n",
    "\n",
    "# # Convert protein from mol2 to pdb\n",
    "# prot_mol2_file = parent_dir + 'SagaMurD_Frag373_MOEprep.mol2'\n",
    "# prot_pdb_file = parent_dir + 'SagaMurD_Frag373_MOEprep.pdb'\n",
    "# obabel_command = 'obabel -imol2 ' + prot_mol2_file + ' -opdb -O ' + prot_pdb_file\n",
    "# subprocess.call(obabel_command.split())\n",
    "# prot = Chem.MolFromPDBFile(prot_pdb_file)\n",
    "\n",
    "# Read prot\n",
    "prot_pdb_file = parent_dir + 'SagaMurD_Frag373_MOEprep.pdb'\n",
    "prot = Chem.MolFromPDBFile(prot_pdb_file)\n",
    "\n",
    "results_dir = wd + 'results' + '/'\n",
    "# Create dataframe to store the results\n",
    "df_accessibility = pd.DataFrame(columns=['title','score','accessibility'])\n",
    "\n",
    "docked_poses_file = results_dir + 'best_docked_pose.sdf'\n",
    "sdf_file = pybel.readfile(\"sdf\",  docked_poses_file)\n",
    "for compound in sdf_file:\n",
    "    row_dict = {}\n",
    "    data_dict = compound.data\n",
    "    compound_title = compound.title\n",
    "    docking_score = float(data_dict[\"SCORE.INTER\"])\n",
    "    # Convert compound to rdkit mol\n",
    "    compound.write('sdf', results_dir + 'mol.sdf', overwrite=True)\n",
    "    suppl = Chem.SDMolSupplier(results_dir + 'mol.sdf')\n",
    "    mol_list = [x for x in suppl]\n",
    "    lig = mol_list[0]\n",
    "    # Convert rdkit mol to pdb\n",
    "    #lig = Chem.rdmolfiles.MolToPDBBlock(lig)\n",
    "    \n",
    "    # Calculate accessibility    \n",
    "    lig_sasa_free, lig_sasa_bound = SASA(prot, lig)\n",
    "    acc = round(lig_sasa_bound / lig_sasa_free, 3)\n",
    "    #print('compound.title', 'docking_score', 'acc')\n",
    "    #print(compound.title, docking_score, acc)\n",
    "    \n",
    "    # Append rows to dataframe\n",
    "    row_dict['title'] = compound.title\n",
    "    row_dict['score'] = docking_score\n",
    "    row_dict['accessibility'] = acc\n",
    "    df_accessibility = df_accessibility.append(row_dict, ignore_index=True)\n",
    "\n",
    "# Export dataframe as .tsv\n",
    "df_accessibility_file = results_dir + 'accessibilities' + '.tsv'\n",
    "df_accessibility.to_csv(df_accessibility_file, sep='\\t', encoding='utf-8', index=False)\n",
    "print(df_accessibility)\n",
    "    "
   ]
  }
 ],
 "metadata": {
  "hide_input": false,
  "kernelspec": {
   "display_name": "sign",
   "language": "python",
   "name": "sign"
  },
  "language_info": {
   "codemirror_mode": {
    "name": "ipython",
    "version": 3
   },
   "file_extension": ".py",
   "mimetype": "text/x-python",
   "name": "python",
   "nbconvert_exporter": "python",
   "pygments_lexer": "ipython3",
   "version": "3.7.10"
  },
  "varInspector": {
   "cols": {
    "lenName": 16,
    "lenType": 16,
    "lenVar": 40
   },
   "kernels_config": {
    "python": {
     "delete_cmd_postfix": "",
     "delete_cmd_prefix": "del ",
     "library": "var_list.py",
     "varRefreshCmd": "print(var_dic_list())"
    },
    "r": {
     "delete_cmd_postfix": ") ",
     "delete_cmd_prefix": "rm(",
     "library": "var_list.r",
     "varRefreshCmd": "cat(var_dic_list()) "
    }
   },
   "types_to_exclude": [
    "module",
    "function",
    "builtin_function_or_method",
    "instance",
    "_Feature"
   ],
   "window_display": false
  }
 },
 "nbformat": 4,
 "nbformat_minor": 5
}
