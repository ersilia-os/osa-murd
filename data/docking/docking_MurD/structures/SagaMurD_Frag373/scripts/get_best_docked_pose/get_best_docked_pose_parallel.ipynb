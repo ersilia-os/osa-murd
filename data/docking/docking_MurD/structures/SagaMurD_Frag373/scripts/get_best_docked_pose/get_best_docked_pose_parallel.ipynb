{
 "cells": [
  {
   "cell_type": "markdown",
   "id": "930c1333",
   "metadata": {},
   "source": [
    "# 0. Definitions"
   ]
  },
  {
   "cell_type": "code",
   "execution_count": null,
   "id": "f1bae3b8",
   "metadata": {},
   "outputs": [],
   "source": [
    "import os\n",
    "import pandas as pd\n",
    "import numpy as np\n",
    "import random\n",
    "import pickle\n",
    "\n",
    "# get the notebook's root path\n",
    "try: \n",
    "    ipynb_path\n",
    "except NameError: \n",
    "    ipynb_path = os.getcwd()\n",
    "if ipynb_path.startswith('/slgpfs/'):\n",
    "    # change scratch path to projects path\n",
    "    ipynb_path = ipynb_path.replace(\"/scratch/\", \"/projects/\")\n",
    "    #print(ipynb_path)\n",
    "elif ipynb_path.startswith('/aloy/'):\n",
    "    # change scratch path to home path\n",
    "    ipynb_path = ipynb_path.replace(\"/scratch/\", \"/home/\")\n",
    "    #print(ipynb_path)\n",
    "parent_dir = ipynb_path + '/' + '../' + '../'\n",
    "#print('wd:', wd)"
   ]
  },
  {
   "cell_type": "markdown",
   "id": "623e4aa8",
   "metadata": {},
   "source": [
    "Get dirname"
   ]
  },
  {
   "cell_type": "code",
   "execution_count": null,
   "id": "7e31d0e7",
   "metadata": {},
   "outputs": [],
   "source": [
    "import sys\n",
    "import time\n",
    "import json\n",
    "\n",
    "task_id = sys.argv[1]  # <TASK_ID>\n",
    "filename = sys.argv[2]  # <FILE>\n",
    "input_pickle = pickle.load(open(filename, 'rb'))\n",
    "element = input_pickle[task_id][0] #This \"[0]\" is important as it by default uses a list of lists\n",
    "\n",
    "# Get dirname\n",
    "wd = parent_dir + element + '/'"
   ]
  },
  {
   "cell_type": "markdown",
   "id": "e5afa26c",
   "metadata": {},
   "source": [
    "# 1. Get the best docked pose for each compound"
   ]
  },
  {
   "cell_type": "markdown",
   "id": "91c99904",
   "metadata": {},
   "source": [
    "Create an sdf file with the best docked pose for each split"
   ]
  },
  {
   "cell_type": "code",
   "execution_count": null,
   "id": "8ca13879",
   "metadata": {},
   "outputs": [],
   "source": [
    "import fnmatch\n",
    "import os\n",
    "import pybel\n",
    "import subprocess\n",
    "import re\n",
    "import time\n",
    "import math\n",
    "\n",
    "start_time = time.time()\n",
    "\n",
    "def sorted_nicely( l ): \n",
    "    \"\"\" Sort the given iterable in the way that humans expect.\"\"\" \n",
    "    convert = lambda text: int(text) if text.isdigit() else text \n",
    "    alphanum_key = lambda key: [ convert(c) for c in re.split('([0-9]+)', key) ] \n",
    "    return sorted(l, key = alphanum_key)\n",
    "\n",
    "# Extract best docked pose for each compound\n",
    "print ('\\nGetting the best docked pose obtained for each compound...\\n')\n",
    "results_dir = wd + 'results' + '/'\n",
    "output_sdf = results_dir + 'results.sd'\n",
    "output_sdf_best_docked_pose_filename = results_dir + 'best_docked_pose.sdf'\n",
    "output_sdf_best_docked_pose = pybel.Outputfile('sdf', output_sdf_best_docked_pose_filename, overwrite=True)\n",
    "if os.path.isfile(output_sdf) == True: # only process the docking results if they exist\n",
    "    # Generate a dictionary with the best docking score for each compound\n",
    "    sdf_file = pybel.readfile(\"sdf\",  output_sdf)\n",
    "    docking_score_dict = {}\n",
    "    for compound in sdf_file:\n",
    "        data_dict = compound.data\n",
    "        compound_title = compound.title\n",
    "        docking_score = float(data_dict[\"SCORE.INTER\"])\n",
    "        if compound_title not in docking_score_dict:\n",
    "            docking_score_dict[compound_title] = docking_score\n",
    "        else:\n",
    "            if docking_score <= docking_score_dict[compound_title]:\n",
    "                docking_score_dict[compound_title] = docking_score\n",
    "    #print(docking_score_dict)\n",
    "    # Write the docked pose with the best docking score to the output file\n",
    "    processed_compounds_list = []\n",
    "    n=0\n",
    "    sdf_file = pybel.readfile(\"sdf\",  output_sdf)\n",
    "    for compound in sdf_file:\n",
    "        data_dict = compound.data\n",
    "        compound_title = compound.title\n",
    "        docking_score = float(data_dict[\"SCORE.INTER\"])\n",
    "        if compound_title not in processed_compounds_list:\n",
    "            if math.isclose(docking_score,  docking_score_dict[compound_title]) == True: # compare floats for almost-equality\n",
    "                output_sdf_best_docked_pose.write(compound)\n",
    "                n+=1 # counts unique compounds\n",
    "                print(\"compound \" + str(n) + \" of \" +str(len(docking_score_dict)) + \" written at t = %s seconds\" % (time.time() - start_time))\n",
    "                processed_compounds_list.append(compound_title)"
   ]
  }
 ],
 "metadata": {
  "hide_input": false,
  "kernelspec": {
   "display_name": "sign",
   "language": "python",
   "name": "sign"
  },
  "language_info": {
   "codemirror_mode": {
    "name": "ipython",
    "version": 3
   },
   "file_extension": ".py",
   "mimetype": "text/x-python",
   "name": "python",
   "nbconvert_exporter": "python",
   "pygments_lexer": "ipython3",
   "version": "3.7.10"
  },
  "varInspector": {
   "cols": {
    "lenName": 16,
    "lenType": 16,
    "lenVar": 40
   },
   "kernels_config": {
    "python": {
     "delete_cmd_postfix": "",
     "delete_cmd_prefix": "del ",
     "library": "var_list.py",
     "varRefreshCmd": "print(var_dic_list())"
    },
    "r": {
     "delete_cmd_postfix": ") ",
     "delete_cmd_prefix": "rm(",
     "library": "var_list.r",
     "varRefreshCmd": "cat(var_dic_list()) "
    }
   },
   "types_to_exclude": [
    "module",
    "function",
    "builtin_function_or_method",
    "instance",
    "_Feature"
   ],
   "window_display": false
  }
 },
 "nbformat": 4,
 "nbformat_minor": 5
}
