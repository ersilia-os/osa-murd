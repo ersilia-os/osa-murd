{
 "cells": [
  {
   "cell_type": "code",
   "execution_count": 2,
   "metadata": {},
   "outputs": [],
   "source": [
    "def chunker(seq, size):\n",
    "    return (seq[pos:pos + size] for pos in range(0, len(seq), size))\n",
    "import csv\n",
    "from rdkit import Chem\n",
    "\n",
    "smiles = []\n",
    "with open(\"all_smiles_unique.tsv\", \"r\") as f:\n",
    "    reader = csv.reader(f, delimiter=\"\\t\")\n",
    "    for r in reader:\n",
    "        smiles += [r[0]]\n",
    "\n",
    "for i, chunk in enumerate(chunker(smiles, 10000)):\n",
    "    with open(\"docking-{0}.csv\".format(i), \"w\") as f:\n",
    "        writer = csv.writer(f)\n",
    "        for smi in chunk:\n",
    "            writer.writerow([smi])"
   ]
  },
  {
   "cell_type": "code",
   "execution_count": null,
   "metadata": {},
   "outputs": [],
   "source": []
  }
 ],
 "metadata": {
  "kernelspec": {
   "display_name": "Python 3.7.12 ('zairachem')",
   "language": "python",
   "name": "python3"
  },
  "language_info": {
   "codemirror_mode": {
    "name": "ipython",
    "version": 3
   },
   "file_extension": ".py",
   "mimetype": "text/x-python",
   "name": "python",
   "nbconvert_exporter": "python",
   "pygments_lexer": "ipython3",
   "version": "3.7.12"
  },
  "orig_nbformat": 4,
  "vscode": {
   "interpreter": {
    "hash": "49615352d8230f3a65afead9b02f22d2317a0bc659ed2d3903b4cb5550fa74aa"
   }
  }
 },
 "nbformat": 4,
 "nbformat_minor": 2
}
