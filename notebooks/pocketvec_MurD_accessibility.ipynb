{
 "cells": [
  {
   "cell_type": "code",
   "execution_count": 1,
   "id": "a3368fbc-721f-41f4-a571-2e4471a1e577",
   "metadata": {},
   "outputs": [],
   "source": [
    "### CALCULATE ACCESSIBILITY FOR THE MURD ALLOSTERIC POCKETS IN 4 FRAG STRUCTURES ####"
   ]
  },
  {
   "cell_type": "code",
   "execution_count": 14,
   "id": "af63c6ce-fb2d-4521-94aa-64afb049a24c",
   "metadata": {},
   "outputs": [],
   "source": [
    "from subprocess import Popen, PIPE\n",
    "from scipy.spatial import distance\n",
    "from collections import Counter\n",
    "import matplotlib.pyplot as plt\n",
    "from Bio.SeqUtils import seq1\n",
    "from Bio.PDB import *\n",
    "from rdkit import Chem\n",
    "import pandas as pd\n",
    "import numpy as np\n",
    "import scipy.stats as ss\n",
    "import seaborn as sns\n",
    "import tqdm\n",
    "import pickle\n",
    "import os\n",
    "import time\n",
    "import shutil\n",
    "import gzip\n",
    "import tarfile\n",
    "import sys\n",
    "import random\n",
    "import pybel\n",
    "from rdkit.Chem import rdFreeSASA"
   ]
  },
  {
   "cell_type": "code",
   "execution_count": 15,
   "id": "dd1160b1-3a02-45b9-bfa1-b57938a4697b",
   "metadata": {},
   "outputs": [],
   "source": [
    "def SASA(prot, lig): \n",
    "\n",
    "    # Protonation gives too many issues. Avoid it\n",
    "    \n",
    "    #compute ligand SASA\n",
    "    #lig_h = Chem.rdmolops.AddHs(lig, addCoords=True, explicitOnly=True)\n",
    "    lig_h = lig\n",
    "    # Get Van der Waals radii (angstrom)\n",
    "    ptable = Chem.GetPeriodicTable()\n",
    "    radii = [ptable.GetRvdw(atom.GetAtomicNum()) for atom in lig_h.GetAtoms()]\n",
    "    # Compute solvent accessible surface area\n",
    "    lig_sasa = rdFreeSASA.CalcSASA(lig_h, radii)\n",
    "\n",
    "    # Join protein & ligand\n",
    "    comp = Chem.CombineMols(prot, lig)\n",
    "    comp_h = comp\n",
    "    #comp_h = Chem.AddHs(comp, addCoords=True)\n",
    "    # Get Van der Waals radii (angstrom)\n",
    "    ptable = Chem.GetPeriodicTable()\n",
    "    radii = [ptable.GetRvdw(atom.GetAtomicNum()) for atom in comp_h.GetAtoms()]\n",
    "    # Compute solvent accessible surface area\n",
    "    comp_sasa = rdFreeSASA.CalcSASA(comp_h, radii)\n",
    "    comp_lig = Chem.GetMolFrags(comp_h, asMols=True,  sanitizeFrags=True)\n",
    "    comp_lig = [i for i in comp_lig if lig_h.GetNumHeavyAtoms() == i.GetNumHeavyAtoms()][0]\n",
    "    \n",
    "    lig_sasa_free = 0\n",
    "    for a in lig_h.GetAtoms():\n",
    "        lig_sasa_free += float(a.GetProp(\"SASA\"))\n",
    "\n",
    "    lig_sasa_bound = 0\n",
    "    for a in comp_lig.GetAtoms():\n",
    "        lig_sasa_bound += float(a.GetProp(\"SASA\"))\n",
    "        \n",
    "    return round(lig_sasa_free, 3), round(lig_sasa_bound, 3)"
   ]
  },
  {
   "cell_type": "code",
   "execution_count": 16,
   "id": "58af8d80-ac2f-4da2-8c0e-2a5cad2412da",
   "metadata": {},
   "outputs": [],
   "source": [
    "path = \"../data/structures/\"\n",
    "\n",
    "sts = ['SagaMurD_Frag349', \"SagaMurD_Frag373\", \"SagaMurD_Frag374\", \"SagaMurD_Frag378\"]"
   ]
  },
  {
   "cell_type": "code",
   "execution_count": 25,
   "id": "0f667acc-1f99-4d52-b771-9bd700abc5f6",
   "metadata": {},
   "outputs": [
    {
     "name": "stdout",
     "output_type": "stream",
     "text": [
      "SagaMurD_Frag349\t0.46\n",
      "SagaMurD_Frag373\t0.457\n",
      "SagaMurD_Frag374\t0.342\n",
      "SagaMurD_Frag378\t0.473\n"
     ]
    }
   ],
   "source": [
    "for st in sts:\n",
    "    \n",
    "    # Get SASA\n",
    "    prot = Chem.MolFromPDBFile(os.path.join(path, st + \".pdb\"))\n",
    "    lig = Chem.MolFromPDBFile(os.path.join(path, st.split(\"Frag\")[1] + \"_ligand_only.pdb\"))\n",
    "    \n",
    "    lig_sasa_free, lig_sasa_bound = SASA(prot, lig)\n",
    "    \n",
    "    print(st + \"\\t\" + str(round(lig_sasa_bound/lig_sasa_free, 3)))"
   ]
  },
  {
   "cell_type": "code",
   "execution_count": null,
   "id": "e810afc0-fa2a-4148-bfa5-6d09d0d3e0df",
   "metadata": {},
   "outputs": [],
   "source": []
  }
 ],
 "metadata": {
  "kernelspec": {
   "display_name": "Python 3",
   "language": "python",
   "name": "python3"
  },
  "language_info": {
   "codemirror_mode": {
    "name": "ipython",
    "version": 3
   },
   "file_extension": ".py",
   "mimetype": "text/x-python",
   "name": "python",
   "nbconvert_exporter": "python",
   "pygments_lexer": "ipython3",
   "version": "3.7.10"
  }
 },
 "nbformat": 4,
 "nbformat_minor": 5
}
