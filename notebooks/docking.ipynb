{
 "cells": [
  {
   "cell_type": "code",
   "execution_count": 1,
   "id": "7a4853c7-a09b-4277-b1fc-b6854ede6d0e",
   "metadata": {},
   "outputs": [],
   "source": [
    "from collections import Counter\n",
    "import pandas as pd\n",
    "import numpy as np\n",
    "import tqdm\n",
    "import pickle\n",
    "import matplotlib.pyplot as plt\n",
    "from Bio.PDB import *\n",
    "from rdkit import Chem\n",
    "import os\n",
    "import time\n",
    "import shutil\n",
    "from Bio.SeqUtils import seq1\n",
    "import gzip\n",
    "import tarfile\n",
    "import sys\n",
    "import random\n",
    "from rdkit.Chem import rdFreeSASA\n",
    "from rdkit import Chem\n",
    "from rdkit.Chem.Descriptors import MolWt"
   ]
  },
  {
   "cell_type": "code",
   "execution_count": null,
   "id": "4b2672fd-860b-4592-aec1-c5802faec855",
   "metadata": {},
   "outputs": [],
   "source": []
  }
 ],
 "metadata": {
  "kernelspec": {
   "display_name": "Python 3",
   "language": "python",
   "name": "python3"
  },
  "language_info": {
   "codemirror_mode": {
    "name": "ipython",
    "version": 3
   },
   "file_extension": ".py",
   "mimetype": "text/x-python",
   "name": "python",
   "nbconvert_exporter": "python",
   "pygments_lexer": "ipython3",
   "version": "3.7.10"
  }
 },
 "nbformat": 4,
 "nbformat_minor": 5
}
