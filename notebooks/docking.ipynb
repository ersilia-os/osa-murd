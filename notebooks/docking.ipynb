{
 "cells": [
  {
   "cell_type": "code",
   "execution_count": 2,
   "id": "7a4853c7-a09b-4277-b1fc-b6854ede6d0e",
   "metadata": {},
   "outputs": [],
   "source": [
    "from collections import Counter\n",
    "import pandas as pd\n",
    "import numpy as np\n",
    "import tqdm\n",
    "import pickle\n",
    "import matplotlib.pyplot as plt\n",
    "from Bio.PDB import *\n",
    "from rdkit import Chem\n",
    "import os\n",
    "import time\n",
    "import shutil\n",
    "from Bio.SeqUtils import seq1\n",
    "import gzip\n",
    "import tarfile\n",
    "import sys\n",
    "import random\n",
    "from rdkit.Chem import rdFreeSASA\n",
    "from rdkit import Chem\n",
    "from rdkit.Chem.Descriptors import MolWt\n",
    "import pybel\n",
    "from rdkit.Chem.EnumerateStereoisomers import EnumerateStereoisomers"
   ]
  },
  {
   "cell_type": "code",
   "execution_count": 9,
   "id": "abe3b58c-7f14-4345-986e-7ccc8fbce36b",
   "metadata": {},
   "outputs": [],
   "source": [
    "### 0. Prepare structure 373 for docking\n",
    "### Important: structure has already been prepared in pocketvec_Murd.ipynb\n",
    "\n",
    "### GET SMILES FROM LIGANDS\n",
    "path = \"/aloy/home/acomajuncosa/MurD/GitHub/osa-murd/data/structures\"\n",
    "os.chdir(path)\n",
    "frags = ['349', \"373\", \"374\", \"378\"]\n",
    "\n",
    "for frag in frags:\n",
    "    if frag == '349':\n",
    "        command = 'obabel ' + frag + \"_ligand_only.pdb\" + \" -osmi > frags.smi\"\n",
    "    else:\n",
    "        command = 'obabel ' + frag + \"_ligand_only.pdb\" + \" -osmi >> frags.smi\"\n",
    "    os.system(command)"
   ]
  },
  {
   "cell_type": "code",
   "execution_count": 54,
   "id": "ce8e4c5b-9889-4c8b-b3e5-d8718afc2f35",
   "metadata": {},
   "outputs": [],
   "source": [
    "# Are all molecules flat?  YES THEY ARE\n",
    "\n",
    "# molecules = pybel.readfile('sdf', '/aloy/home/acomajuncosa/MurD/GitHub/osa-murd/data/docking/full_lib/CDI_BMS_DivSet_300k_CleanSlate.sdf')\n",
    "# coordinates = []\n",
    "\n",
    "# for mol in tqdm.tqdm(molecules):\n",
    "#     atoms = np.array([i.coords for i in mol.atoms])[:,2]  # Take all the z coords\n",
    "#     coordinates.extend(atoms)\n",
    "    \n",
    "# print(Counter(coordinates))"
   ]
  },
  {
   "cell_type": "code",
   "execution_count": 55,
   "id": "4b2672fd-860b-4592-aec1-c5802faec855",
   "metadata": {
    "tags": []
   },
   "outputs": [
    {
     "data": {
      "text/plain": [
       "0"
      ]
     },
     "execution_count": 55,
     "metadata": {},
     "output_type": "execute_result"
    }
   ],
   "source": [
    "### 1. SDF to smiles using obabel (it takes ~3min)\n",
    "path_to_dataset = \"../data/docking/full_lib/CDI_BMS_DivSet_300k_CleanSlate.sdf.gz\"\n",
    "path_to_output = \"../data/docking/full_lib/smiles.smi\"\n",
    "\n",
    "command = \"obabel \" + path_to_dataset + \" -osmi > \" + path_to_output\n",
    "os.system(command)"
   ]
  },
  {
   "cell_type": "code",
   "execution_count": 2,
   "id": "634baca9-746e-49f4-b1f3-b7bb20fb3cfd",
   "metadata": {
    "tags": []
   },
   "outputs": [],
   "source": [
    "# ### 1. Take smiles directly from SDF (it takes ~2min)\n",
    "# sdf = pybel.readfile('sdf', '../data/docking/full_lib/CDI_BMS_DivSet_300k_CleanSlate.sdf.gz')\n",
    "# smiles = [[i.data['BMS (canonical SMILES)'], i.data['IDNUMBER']] for i in tqdm.tqdm(sdf)]\n",
    "\n",
    "# with open(\"../data/docking/full_lib/smiles.smi\", \"w\") as f:\n",
    "#     for s in smiles:\n",
    "#         f.write(\"\\t\".join(s) + \"\\n\")"
   ]
  },
  {
   "cell_type": "code",
   "execution_count": 3,
   "id": "6c4916e6-0050-4445-b16b-52bb6faee711",
   "metadata": {},
   "outputs": [
    {
     "data": {
      "text/html": [
       "<div>\n",
       "<style scoped>\n",
       "    .dataframe tbody tr th:only-of-type {\n",
       "        vertical-align: middle;\n",
       "    }\n",
       "\n",
       "    .dataframe tbody tr th {\n",
       "        vertical-align: top;\n",
       "    }\n",
       "\n",
       "    .dataframe thead th {\n",
       "        text-align: right;\n",
       "    }\n",
       "</style>\n",
       "<table border=\"1\" class=\"dataframe\">\n",
       "  <thead>\n",
       "    <tr style=\"text-align: right;\">\n",
       "      <th></th>\n",
       "      <th>smiles</th>\n",
       "      <th>id</th>\n",
       "    </tr>\n",
       "  </thead>\n",
       "  <tbody>\n",
       "    <tr>\n",
       "      <th>0</th>\n",
       "      <td>CC1(C)Cc2c(C#N)c(nc(c2CO1)N1CCOCC1)SCC(=O)Nc1c...</td>\n",
       "      <td>D396-0181</td>\n",
       "    </tr>\n",
       "    <tr>\n",
       "      <th>1</th>\n",
       "      <td>CC(CBr)n1ncnn1</td>\n",
       "      <td>8009-0167</td>\n",
       "    </tr>\n",
       "    <tr>\n",
       "      <th>2</th>\n",
       "      <td>CCCCS(=O)(=O)N=C1NCN(CC(=O)[O-])CN1</td>\n",
       "      <td>5044-0010</td>\n",
       "    </tr>\n",
       "    <tr>\n",
       "      <th>3</th>\n",
       "      <td>C[C@@]12CC[C@H](O)C[C@H]1[C@@H](O)CC1[C@H]2C[C...</td>\n",
       "      <td>N037-0036</td>\n",
       "    </tr>\n",
       "    <tr>\n",
       "      <th>4</th>\n",
       "      <td>Cc1[nH]c(=S)[nH]c(=O)c1CCCO</td>\n",
       "      <td>3399-0213</td>\n",
       "    </tr>\n",
       "    <tr>\n",
       "      <th>...</th>\n",
       "      <td>...</td>\n",
       "      <td>...</td>\n",
       "    </tr>\n",
       "    <tr>\n",
       "      <th>300534</th>\n",
       "      <td>CCCCNC(=O)C1(CCC1)c1ccc(cc1)NS(=O)(=O)c1cc(OC)...</td>\n",
       "      <td>L426-0625</td>\n",
       "    </tr>\n",
       "    <tr>\n",
       "      <th>300535</th>\n",
       "      <td>CCCCN(CC)c1ccc(cc1C(=O)O)NS(=O)(=O)c1cc(F)c(F)cc1</td>\n",
       "      <td>F294-0550</td>\n",
       "    </tr>\n",
       "    <tr>\n",
       "      <th>300536</th>\n",
       "      <td>CN(C)CCN(CC)c1ccc(cc1NS(=O)(=O)c1ccc(C)cc1C)C(...</td>\n",
       "      <td>F295-0500</td>\n",
       "    </tr>\n",
       "    <tr>\n",
       "      <th>300537</th>\n",
       "      <td>Nc1c(Br)cc(cc1Br)NS(=O)(=O)c1ccccc1</td>\n",
       "      <td>R052-1647</td>\n",
       "    </tr>\n",
       "    <tr>\n",
       "      <th>300538</th>\n",
       "      <td>Cc1ccc(cc1)NS(=O)(=O)c1ccc(N)cc1</td>\n",
       "      <td>R004-0058</td>\n",
       "    </tr>\n",
       "  </tbody>\n",
       "</table>\n",
       "<p>300539 rows × 2 columns</p>\n",
       "</div>"
      ],
      "text/plain": [
       "                                                   smiles         id\n",
       "0       CC1(C)Cc2c(C#N)c(nc(c2CO1)N1CCOCC1)SCC(=O)Nc1c...  D396-0181\n",
       "1                                          CC(CBr)n1ncnn1  8009-0167\n",
       "2                     CCCCS(=O)(=O)N=C1NCN(CC(=O)[O-])CN1  5044-0010\n",
       "3       C[C@@]12CC[C@H](O)C[C@H]1[C@@H](O)CC1[C@H]2C[C...  N037-0036\n",
       "4                             Cc1[nH]c(=S)[nH]c(=O)c1CCCO  3399-0213\n",
       "...                                                   ...        ...\n",
       "300534  CCCCNC(=O)C1(CCC1)c1ccc(cc1)NS(=O)(=O)c1cc(OC)...  L426-0625\n",
       "300535  CCCCN(CC)c1ccc(cc1C(=O)O)NS(=O)(=O)c1cc(F)c(F)cc1  F294-0550\n",
       "300536  CN(C)CCN(CC)c1ccc(cc1NS(=O)(=O)c1ccc(C)cc1C)C(...  F295-0500\n",
       "300537                Nc1c(Br)cc(cc1Br)NS(=O)(=O)c1ccccc1  R052-1647\n",
       "300538                   Cc1ccc(cc1)NS(=O)(=O)c1ccc(N)cc1  R004-0058\n",
       "\n",
       "[300539 rows x 2 columns]"
      ]
     },
     "execution_count": 3,
     "metadata": {},
     "output_type": "execute_result"
    }
   ],
   "source": [
    "smiles = pd.read_csv(\"../data/docking/full_lib/smiles.smi\", sep='\\t', names=['smiles', 'id'])\n",
    "smiles"
   ]
  },
  {
   "cell_type": "code",
   "execution_count": 4,
   "id": "4efb83f1-123a-4b55-a19d-5e134c021b60",
   "metadata": {},
   "outputs": [
    {
     "name": "stderr",
     "output_type": "stream",
     "text": [
      "100%|██████████| 300539/300539 [00:56<00:00, 5358.10it/s]\n",
      "100%|██████████| 300539/300539 [00:29<00:00, 10125.12it/s]\n"
     ]
    }
   ],
   "source": [
    "mols = [Chem.MolFromSmiles(i) for i in tqdm.tqdm(smiles['smiles'], position=0)]\n",
    "smiles['nonisomeric'] = [Chem.MolToSmiles(i, isomericSmiles=False) for i in tqdm.tqdm(mols)]\n",
    "del mols"
   ]
  },
  {
   "cell_type": "code",
   "execution_count": 1,
   "id": "34b3d515-31b8-4772-afa2-31310907ba12",
   "metadata": {
    "tags": []
   },
   "outputs": [],
   "source": [
    "# # Inchies if needed\n",
    "# mols = [Chem.MolFromSmiles(i) for i in tqdm.tqdm(smiles['nonisomeric'], position=0)]\n",
    "# inchi = [Chem.MolToInchi(i) for i in mols]\n",
    "\n",
    "# smiles['inchi'] = inchi"
   ]
  },
  {
   "cell_type": "code",
   "execution_count": 5,
   "id": "6a9e1047-c887-4952-aedd-5ad86e9b7637",
   "metadata": {},
   "outputs": [],
   "source": [
    "with open(\"/aloy/home/acomajuncosa/MurD/GitHub/osa-murd/data/docking/full_lib/nonisomeric_smiles.smi\", \"w\") as f:\n",
    "    for i, j in zip(smiles['nonisomeric'], smiles['id']):\n",
    "        f.write(\"\\t\".join([i, j]) + \"\\n\")"
   ]
  },
  {
   "cell_type": "code",
   "execution_count": 44,
   "id": "e570ccd0-d062-40d5-8111-038729f7c167",
   "metadata": {},
   "outputs": [],
   "source": [
    "noniso_smiles = np.array([[i, j] for i, j in zip(smiles['nonisomeric'], smiles['id'])])\n",
    "noniso_smiles = np.array_split(noniso_smiles, 950)"
   ]
  },
  {
   "cell_type": "code",
   "execution_count": 4,
   "id": "1ebc03da-9f46-459e-b2a3-3d4aefa5738c",
   "metadata": {
    "collapsed": true,
    "jupyter": {
     "outputs_hidden": true
    },
    "tags": []
   },
   "outputs": [
    {
     "ename": "NameError",
     "evalue": "name 'noniso_smiles' is not defined",
     "output_type": "error",
     "traceback": [
      "\u001b[0;31m---------------------------------------------------------------------------\u001b[0m",
      "\u001b[0;31mNameError\u001b[0m                                 Traceback (most recent call last)",
      "\u001b[0;32m<ipython-input-4-d77a883cd261>\u001b[0m in \u001b[0;36m<module>\u001b[0;34m\u001b[0m\n\u001b[1;32m      1\u001b[0m \u001b[0mpath\u001b[0m \u001b[0;34m=\u001b[0m \u001b[0;34m'/aloy/home/acomajuncosa/MurD/GitHub/osa-murd/data/docking/batches_smi'\u001b[0m\u001b[0;34m\u001b[0m\u001b[0;34m\u001b[0m\u001b[0m\n\u001b[1;32m      2\u001b[0m \u001b[0;34m\u001b[0m\u001b[0m\n\u001b[0;32m----> 3\u001b[0;31m \u001b[0;32mfor\u001b[0m \u001b[0mc\u001b[0m\u001b[0;34m,\u001b[0m \u001b[0msm\u001b[0m \u001b[0;32min\u001b[0m \u001b[0menumerate\u001b[0m\u001b[0;34m(\u001b[0m\u001b[0mnoniso_smiles\u001b[0m\u001b[0;34m)\u001b[0m\u001b[0;34m:\u001b[0m\u001b[0;34m\u001b[0m\u001b[0;34m\u001b[0m\u001b[0m\n\u001b[0m\u001b[1;32m      4\u001b[0m \u001b[0;34m\u001b[0m\u001b[0m\n\u001b[1;32m      5\u001b[0m     \u001b[0msmile\u001b[0m \u001b[0;34m=\u001b[0m \u001b[0msm\u001b[0m\u001b[0;34m[\u001b[0m\u001b[0;34m:\u001b[0m\u001b[0;34m,\u001b[0m\u001b[0;36m0\u001b[0m\u001b[0;34m]\u001b[0m\u001b[0;34m\u001b[0m\u001b[0;34m\u001b[0m\u001b[0m\n",
      "\u001b[0;31mNameError\u001b[0m: name 'noniso_smiles' is not defined"
     ]
    }
   ],
   "source": [
    "path = '/aloy/home/acomajuncosa/MurD/GitHub/osa-murd/data/docking/batches_smi'\n",
    "\n",
    "for c, sm in enumerate(noniso_smiles):\n",
    "    \n",
    "    smile = sm[:,0]\n",
    "    ids = sm[:,1]\n",
    "    \n",
    "    with open(os.path.join(path, \"smiles\" + \"0\"*(3-len(str(c))) + str(c)), \"w\") as f:\n",
    "        \n",
    "        for i, j in zip(smile, ids):\n",
    "            f.write(\"\\t\".join([i, j]) + \"\\n\")"
   ]
  },
  {
   "cell_type": "code",
   "execution_count": 6,
   "id": "7ce9ab6d-201c-4db7-8f11-fd15bccac93c",
   "metadata": {},
   "outputs": [],
   "source": [
    "in_path = '/aloy/home/acomajuncosa/MurD/GitHub/osa-murd/data/docking/batches_smi'\n",
    "out_path = \"/aloy/home/acomajuncosa/MurD/GitHub/docking/kraken/ligand_preparation\"\n",
    "\n",
    "for file in sorted(os.listdir(in_path)):\n",
    "    \n",
    "    numb = file\n",
    "    \n",
    "    if os.path.exists(os.path.join(out_path, numb)) is False: os.makedirs(os.path.join(out_path, numb))\n",
    "    if os.path.exists(os.path.join(out_path, \"out_\" + numb)) is False: os.makedirs(os.path.join(out_path, \"out_\" + numb))\n",
    "    shutil.copyfile(os.path.join(in_path, file), os.path.join(out_path, numb, file))   "
   ]
  },
  {
   "cell_type": "code",
   "execution_count": null,
   "id": "715929bf-f098-41dd-a511-86b85669e26a",
   "metadata": {},
   "outputs": [],
   "source": []
  }
 ],
 "metadata": {
  "kernelspec": {
   "display_name": "Python 3",
   "language": "python",
   "name": "python3"
  },
  "language_info": {
   "codemirror_mode": {
    "name": "ipython",
    "version": 3
   },
   "file_extension": ".py",
   "mimetype": "text/x-python",
   "name": "python",
   "nbconvert_exporter": "python",
   "pygments_lexer": "ipython3",
   "version": "3.7.10"
  }
 },
 "nbformat": 4,
 "nbformat_minor": 5
}
