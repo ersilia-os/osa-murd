{
 "cells": [
  {
   "cell_type": "code",
   "execution_count": 1,
   "id": "296e3cba-5f76-425f-ab1a-c7747cd5419f",
   "metadata": {},
   "outputs": [],
   "source": [
    "import numpy as np\n",
    "import pandas as pd\n",
    "import os\n",
    "from rdkit import Chem\n",
    "from rdkit.Chem import Draw\n",
    "import shutil\n",
    "import tqdm\n",
    "import pybel\n",
    "import tarfile"
   ]
  },
  {
   "cell_type": "code",
   "execution_count": 2,
   "id": "73825248-4117-4aba-8768-b8833739c575",
   "metadata": {},
   "outputs": [
    {
     "name": "stdout",
     "output_type": "stream",
     "text": [
      "33905\n",
      "33742\n"
     ]
    }
   ],
   "source": [
    "path = \"/aloy/home/acomajuncosa/MurD/GitHub/osa-murd/data/generated/zairachem\"\n",
    "smiles = []\n",
    "\n",
    "for file in sorted(os.listdir(path)):\n",
    "    df = pd.read_csv(os.path.join(path, file), header=None, names=['smiles'])['smiles'].tolist()\n",
    "    smiles.extend(df)\n",
    "    \n",
    "print(len(smiles))\n",
    "print(len(set(smiles)))\n",
    "\n",
    "smiles = np.array_split(sorted(set(smiles)), 950)"
   ]
  },
  {
   "cell_type": "code",
   "execution_count": 173,
   "id": "e5ffcb55-b144-44d6-868a-74f7e761dcee",
   "metadata": {
    "tags": []
   },
   "outputs": [
    {
     "name": "stderr",
     "output_type": "stream",
     "text": [
      "950it [04:10,  3.79it/s]\n"
     ]
    }
   ],
   "source": [
    "### write files in alexandria1\n",
    "outpath = \"/alexandria1/acomajuncosa/MurD/ligand_preparation_Miquel/splits\"\n",
    "count_molecule = 0\n",
    "\n",
    "for c, smi in tqdm.tqdm(enumerate(smiles)):\n",
    "    \n",
    "    # Create directories\n",
    "    if os.path.exists(os.path.join(outpath, \"smiles\" + str(c))) is False:\n",
    "        os.makedirs(os.path.join(outpath, \"smiles\" + str(c)))\n",
    "    if os.path.exists(os.path.join(outpath, \"out_smiles\" + str(c))) is False:\n",
    "        os.makedirs(os.path.join(outpath, \"out_smiles\" + str(c)))\n",
    "        \n",
    "    # Write files\n",
    "    with open(os.path.join(outpath, \"smiles\" + str(c), \"smiles\" + str(c)), \"w\") as f:\n",
    "        for s in smi:\n",
    "            f.write(\"\\t\".join([s, str(count_molecule)]) + \"\\n\")\n",
    "            count_molecule += 1"
   ]
  },
  {
   "cell_type": "code",
   "execution_count": 24,
   "id": "67aef748-f446-455a-a969-5c3975b2d3fe",
   "metadata": {
    "tags": []
   },
   "outputs": [
    {
     "name": "stderr",
     "output_type": "stream",
     "text": [
      "100%|██████████| 950/950 [03:25<00:00,  4.62it/s]\n"
     ]
    }
   ],
   "source": [
    "### CHECK THAT MOST OF THEM ARE KEPT\n",
    "path = '/alexandria1/acomajuncosa/MurD/ligand_preparation_Miquel/splits'\n",
    "original_, final_ = [], []\n",
    "\n",
    "for split in tqdm.tqdm(range(950)):\n",
    "    original = open(os.path.join(path, \"smiles\" + str(split), \"smiles\" + str(split)), \"r\").readlines()\n",
    "    final = [i.title for i in pybel.readfile(\"sdf\", \"/alexandria1/acomajuncosa/MurD/ligand_preparation_Miquel/splits/out_smiles\" + str(split) + \"/out_smiles\" + str(split) + \".sdf\")]\n",
    "    original_.extend(original)\n",
    "    final_.extend(final)\n",
    "    # print(split, round(len(set(final))/len(set(original))*100, 1))"
   ]
  },
  {
   "cell_type": "code",
   "execution_count": 25,
   "id": "8e1207ad-c466-4a90-ac45-ce58724313b6",
   "metadata": {},
   "outputs": [
    {
     "data": {
      "text/plain": [
       "(33742, 30324, 89.9)"
      ]
     },
     "execution_count": 25,
     "metadata": {},
     "output_type": "execute_result"
    }
   ],
   "source": [
    "len(set(original_)), len(set(final_)), round(len(set(final_))/len(set(original_))*100, 1)"
   ]
  },
  {
   "cell_type": "code",
   "execution_count": 26,
   "id": "e17a517b-3edb-4bf5-90ae-abc40cae5e89",
   "metadata": {},
   "outputs": [],
   "source": [
    "### COPY DATA TO SL"
   ]
  },
  {
   "cell_type": "code",
   "execution_count": 28,
   "id": "45a3ced8-cc90-475a-aac8-a90889ee5b22",
   "metadata": {
    "tags": []
   },
   "outputs": [
    {
     "name": "stderr",
     "output_type": "stream",
     "text": [
      "100%|██████████| 1901/1901 [00:57<00:00, 32.82it/s]\n"
     ]
    }
   ],
   "source": [
    "path = '/alexandria1/acomajuncosa/MurD/ligand_preparation_Miquel/splits'\n",
    "outpath = '/slgpfs/projects/irb35/acomajuncosa/MurD/rest_docking/Miquel/structures'\n",
    "\n",
    "for file in tqdm.tqdm(sorted(os.listdir(path))):\n",
    "    if \"out\" in file:\n",
    "        if os.path.exists(os.path.join(outpath, file)) is False: os.makedirs(os.path.join(outpath, file))\n",
    "        shutil.copyfile(os.path.join(path, file, file + \".sdf\"), os.path.join(outpath, file, file + \".sdf\"))"
   ]
  },
  {
   "cell_type": "code",
   "execution_count": 168,
   "id": "6bff1d95-81b7-4d2e-ae08-e5f687374c49",
   "metadata": {},
   "outputs": [],
   "source": [
    "### RUN DOCKINGS"
   ]
  },
  {
   "cell_type": "code",
   "execution_count": 32,
   "id": "11c9c37d-70b6-4e49-bc8f-f29a9366597f",
   "metadata": {},
   "outputs": [],
   "source": [
    "path = '/slgpfs/projects/irb35/acomajuncosa/MurD/rest_docking/Miquel/structures'\n",
    "elements = sorted(os.listdir(path))"
   ]
  },
  {
   "cell_type": "code",
   "execution_count": 33,
   "id": "0bd8052c-ed17-42d4-b185-71619d862b12",
   "metadata": {},
   "outputs": [
    {
     "data": {
      "text/plain": [
       "950"
      ]
     },
     "execution_count": 33,
     "metadata": {},
     "output_type": "execute_result"
    }
   ],
   "source": [
    "len(elements)"
   ]
  },
  {
   "cell_type": "code",
   "execution_count": 16,
   "id": "c657d2e3-e5f7-4f08-a1c1-db0c9fac19cc",
   "metadata": {},
   "outputs": [],
   "source": [
    "elements = to_repeat"
   ]
  },
  {
   "cell_type": "code",
   "execution_count": 18,
   "id": "778c4909-0535-4ab1-83a5-8330d7dc6fa0",
   "metadata": {},
   "outputs": [
    {
     "name": "stderr",
     "output_type": "stream",
     "text": [
      "2022-06-28 10:51:25,901 chemicalchecker.util.config.config.Config [DEBUG   ] CC_CONFIG environment variable not set. Using default config file.\n",
      "2022-06-28 10:51:25,901 chemicalchecker.util.config.config.Config [DEBUG   ] Loading config from: /home/acomajuncosa/programs/anaconda3/lib/python3.7/site-packages/chemicalchecker/util/config/cc_config.json\n",
      "2022-06-28 10:51:26,976 hpc.HPC      [DEBUG   ] HPC system to use: slurm\n",
      "2022-06-28 10:51:26,977 hpc.HPC      [DEBUG   ] initializing object slurm\n",
      "2022-06-28 10:51:27,117 slurm.slurm  [DEBUG   ] Job nasdfdsfsdfsdfdme is: murd_miq\n",
      "2022-06-28 10:51:27,131 slurm.slurm  [DEBUG   ] Num elements submitted 13\n",
      "2022-06-28 10:51:27,131 slurm.slurm  [DEBUG   ] Num Job submitted 13\n",
      "2022-06-28 10:51:27,138 slurm.slurm  [INFO    ] Writing file /slgpfs/scratch/irb35/acomajuncosa/MurD/rest_docking/Miquel_rep/job-murd_miq.sh...\n",
      "2022-06-28 10:51:27,152 slurm.slurm  [DEBUG   ] HPC submission: sbatch --parsable /slgpfs/scratch/irb35/acomajuncosa/MurD/rest_docking/Miquel_rep/job-murd_miq.sh\n"
     ]
    },
    {
     "name": "stdout",
     "output_type": "stream",
     "text": [
      "module 'matplotlib.font_manager' has no attribute '_rebuild'\n"
     ]
    },
    {
     "name": "stderr",
     "output_type": "stream",
     "text": [
      "2022-06-28 10:51:30,537 slurm.slurm  [DEBUG   ] load SINGULARITY/3\n"
     ]
    }
   ],
   "source": [
    "import sys\n",
    "sys.path.insert(0, '/aloy/home/acomajuncosa/programs/hpc') #CHANGE THIS PATH TO YOUR HPC PATH!\n",
    "from hpc import HPC\n",
    "from starlife_config import config as cluster_config\n",
    "\n",
    "scratch_path = \"/slgpfs/scratch/irb35/acomajuncosa/MurD/rest_docking/Miquel_rep\" \n",
    "script_path = \"/slgpfs/projects/irb35/acomajuncosa/MurD/rest_docking/Miquel/gen_fps_rDock_center.py\"\n",
    "\n",
    "ncpus = 4\n",
    "cluster = HPC(**cluster_config)\n",
    "njobs = len(elements)\n",
    "\n",
    "cluster_params = {}\n",
    "cluster_params['job_name'] = 'murd_miq'\n",
    "cluster_params[\"jobdir\"] = scratch_path\n",
    "cluster_params[\"memory\"] = ncpus\n",
    "cluster_params['cpu'] = ncpus\n",
    "cluster_params[\"wait\"] = False\n",
    "cluster_params[\"elements\"] = elements\n",
    "cluster_params[\"num_jobs\"] = len(elements)\n",
    "\n",
    "\n",
    "singularity_image = \"/slgpfs/projects/irb35/acomajuncosa/rDock_image_2.simg\"\n",
    "command = \"singularity exec {} python {} <TASK_ID> <FILE>\".format(\n",
    "singularity_image,\n",
    "script_path)\n",
    "\n",
    "cluster.submitMultiJob(command, **cluster_params)"
   ]
  },
  {
   "cell_type": "code",
   "execution_count": 5,
   "id": "a3352822-edef-4784-b686-eaa606f05219",
   "metadata": {},
   "outputs": [
    {
     "name": "stderr",
     "output_type": "stream",
     "text": [
      " 11%|█         | 102/953 [00:00<00:01, 446.86it/s]"
     ]
    },
    {
     "name": "stdout",
     "output_type": "stream",
     "text": [
      "slurm-18106459_114.out\n",
      "slurm-18106459_136.out\n"
     ]
    },
    {
     "name": "stderr",
     "output_type": "stream",
     "text": [
      " 61%|██████▏   | 584/953 [00:01<00:00, 439.72it/s]"
     ]
    },
    {
     "name": "stdout",
     "output_type": "stream",
     "text": [
      "slurm-18106459_557.out\n"
     ]
    },
    {
     "name": "stderr",
     "output_type": "stream",
     "text": [
      " 76%|███████▋  | 729/953 [00:01<00:00, 458.86it/s]"
     ]
    },
    {
     "name": "stdout",
     "output_type": "stream",
     "text": [
      "slurm-18106459_69.out\n"
     ]
    },
    {
     "name": "stderr",
     "output_type": "stream",
     "text": [
      "100%|██████████| 953/953 [00:02<00:00, 461.97it/s]"
     ]
    },
    {
     "name": "stdout",
     "output_type": "stream",
     "text": [
      "slurm-18106459_893.out\n",
      "slurm-18106459_894.out\n",
      "slurm-18106459_895.out\n"
     ]
    },
    {
     "name": "stderr",
     "output_type": "stream",
     "text": [
      "\n"
     ]
    }
   ],
   "source": [
    "### LOOK FOR ERRORS/PROBLEMS\n",
    "\n",
    "# SCRATCH\n",
    "path = \"/slgpfs/scratch/irb35/acomajuncosa/MurD/rest_docking/Miquel\"\n",
    "for file in tqdm.tqdm(sorted(os.listdir(path))):\n",
    "    if '.out' in file:\n",
    "        with open(os.path.join(path, file), \"r\") as f:\n",
    "            for l in f:\n",
    "                if \"error\" in l.lower() or \"warning\" in l.lower() or 'segmentation' in l.lower():\n",
    "                    print(file)\n",
    "                    break\n",
    "                    \n"
   ]
  },
  {
   "cell_type": "code",
   "execution_count": 19,
   "id": "4287a99b-e8b7-4ef7-a00d-7a5cf6a2ef8e",
   "metadata": {
    "tags": []
   },
   "outputs": [
    {
     "name": "stderr",
     "output_type": "stream",
     "text": [
      "  7%|▋         | 69/950 [01:16<17:44,  1.21s/it]"
     ]
    },
    {
     "name": "stdout",
     "output_type": "stream",
     "text": [
      "out_smiles16\n"
     ]
    },
    {
     "name": "stderr",
     "output_type": "stream",
     "text": [
      " 12%|█▏        | 113/950 [02:10<14:34,  1.04s/it]"
     ]
    },
    {
     "name": "stdout",
     "output_type": "stream",
     "text": [
      "out_smiles20\n"
     ]
    },
    {
     "name": "stderr",
     "output_type": "stream",
     "text": [
      " 14%|█▍        | 136/950 [02:36<12:00,  1.13it/s]"
     ]
    },
    {
     "name": "stdout",
     "output_type": "stream",
     "text": [
      "out_smiles22\n"
     ]
    },
    {
     "name": "stderr",
     "output_type": "stream",
     "text": [
      " 15%|█▌        | 143/950 [02:43<11:19,  1.19it/s]"
     ]
    },
    {
     "name": "stdout",
     "output_type": "stream",
     "text": [
      "out_smiles226\n"
     ]
    },
    {
     "name": "stderr",
     "output_type": "stream",
     "text": [
      " 18%|█▊        | 168/950 [03:09<12:30,  1.04it/s]"
     ]
    },
    {
     "name": "stdout",
     "output_type": "stream",
     "text": [
      "out_smiles25\n"
     ]
    },
    {
     "name": "stderr",
     "output_type": "stream",
     "text": [
      " 19%|█▉        | 180/950 [03:18<07:07,  1.80it/s]"
     ]
    },
    {
     "name": "stdout",
     "output_type": "stream",
     "text": [
      "out_smiles26\n"
     ]
    },
    {
     "name": "stderr",
     "output_type": "stream",
     "text": [
      " 22%|██▏       | 213/950 [03:49<14:54,  1.21s/it]"
     ]
    },
    {
     "name": "stdout",
     "output_type": "stream",
     "text": [
      "out_smiles29\n"
     ]
    },
    {
     "name": "stderr",
     "output_type": "stream",
     "text": [
      " 39%|███▉      | 371/950 [07:03<08:35,  1.12it/s]"
     ]
    },
    {
     "name": "stdout",
     "output_type": "stream",
     "text": [
      "out_smiles432: some error...\n"
     ]
    },
    {
     "name": "stderr",
     "output_type": "stream",
     "text": [
      " 59%|█████▊    | 557/950 [10:18<04:31,  1.45it/s]"
     ]
    },
    {
     "name": "stdout",
     "output_type": "stream",
     "text": [
      "out_smiles6\n"
     ]
    },
    {
     "name": "stderr",
     "output_type": "stream",
     "text": [
      " 62%|██████▏   | 589/950 [10:52<05:06,  1.18it/s]"
     ]
    },
    {
     "name": "stdout",
     "output_type": "stream",
     "text": [
      "out_smiles629: some error...\n"
     ]
    },
    {
     "name": "stderr",
     "output_type": "stream",
     "text": [
      " 66%|██████▌   | 626/950 [11:27<03:40,  1.47it/s]"
     ]
    },
    {
     "name": "stdout",
     "output_type": "stream",
     "text": [
      "out_smiles661\n"
     ]
    },
    {
     "name": "stderr",
     "output_type": "stream",
     "text": [
      " 77%|███████▋  | 729/950 [12:57<02:03,  1.80it/s]"
     ]
    },
    {
     "name": "stdout",
     "output_type": "stream",
     "text": [
      "out_smiles754\n"
     ]
    },
    {
     "name": "stderr",
     "output_type": "stream",
     "text": [
      " 78%|███████▊  | 744/950 [13:05<01:43,  1.99it/s]"
     ]
    },
    {
     "name": "stdout",
     "output_type": "stream",
     "text": [
      "out_smiles769: some error...\n"
     ]
    },
    {
     "name": "stderr",
     "output_type": "stream",
     "text": [
      " 94%|█████████▍| 895/950 [15:20<00:21,  2.52it/s]"
     ]
    },
    {
     "name": "stdout",
     "output_type": "stream",
     "text": [
      "out_smiles901\n",
      "out_smiles902: some error...\n",
      "out_smiles903: some error...\n"
     ]
    },
    {
     "name": "stderr",
     "output_type": "stream",
     "text": [
      "100%|██████████| 950/950 [16:13<00:00,  1.02s/it]\n"
     ]
    }
   ],
   "source": [
    "#RESULTS\n",
    "path = \"/slgpfs/projects/irb35/acomajuncosa/MurD/rest_docking/Miquel/structures\"\n",
    "\n",
    "original, final = set(), set()\n",
    "to_repeat = []\n",
    "data = {}\n",
    "\n",
    "for split in tqdm.tqdm(sorted(os.listdir(path))):\n",
    "    \n",
    "    try:\n",
    "    \n",
    "        mymolecules = set([i.title for i in pybel.readfile(\"sdf\", os.path.join(path, split, split + \".sdf\"))])\n",
    "        myfile = os.path.join(path, split, \"rDock_results_\" + split, \"results.tar.gz\")\n",
    "\n",
    "        if os.path.exists(myfile):\n",
    "            # if os.path.exists(os.path.join(path, split, \"results\", \"results.sd\")) is False:\n",
    "            #     tar = tarfile.open(myfile, \"r:gz\")\n",
    "            #     tar.extract(\"results/results.sd\", os.path.join(path, split))\n",
    "            myresults = set([i.title for i in pybel.readfile(\"sdf\", os.path.join(path, split, \"results\", \"results.sd\"))])\n",
    "            data[split] = myresults\n",
    "\n",
    "\n",
    "            for i in mymolecules:\n",
    "                original.add(i)\n",
    "            for i in myresults:\n",
    "                final.add(i)\n",
    "\n",
    "            if len(myresults) < len(mymolecules)*0.5:\n",
    "                print(split)\n",
    "                to_repeat.append(split)\n",
    "\n",
    "        else:\n",
    "            print(split + \" does not exist\")\n",
    "            \n",
    "    except:\n",
    "        \n",
    "        print(split + \": some error...\")\n",
    "        \n",
    "    # break"
   ]
  },
  {
   "cell_type": "code",
   "execution_count": 20,
   "id": "fcb1ad9f-e073-412a-8b73-b02c11f278a8",
   "metadata": {},
   "outputs": [
    {
     "data": {
      "text/plain": [
       "30264"
      ]
     },
     "execution_count": 20,
     "metadata": {},
     "output_type": "execute_result"
    }
   ],
   "source": [
    "len(original)"
   ]
  },
  {
   "cell_type": "code",
   "execution_count": 21,
   "id": "9cb7872e-deab-4c5a-8f2a-87722a797c88",
   "metadata": {},
   "outputs": [
    {
     "data": {
      "text/plain": [
       "28537"
      ]
     },
     "execution_count": 21,
     "metadata": {},
     "output_type": "execute_result"
    }
   ],
   "source": [
    "len(final)"
   ]
  },
  {
   "cell_type": "code",
   "execution_count": 22,
   "id": "91145644-daf3-4048-8537-cca985196b56",
   "metadata": {},
   "outputs": [
    {
     "name": "stderr",
     "output_type": "stream",
     "text": [
      " 46%|████▌     | 434/950 [00:28<00:24, 21.42it/s]"
     ]
    },
    {
     "name": "stdout",
     "output_type": "stream",
     "text": [
      "432\n"
     ]
    },
    {
     "name": "stderr",
     "output_type": "stream",
     "text": [
      " 67%|██████▋   | 632/950 [00:41<00:18, 17.63it/s]"
     ]
    },
    {
     "name": "stdout",
     "output_type": "stream",
     "text": [
      "629\n"
     ]
    },
    {
     "name": "stderr",
     "output_type": "stream",
     "text": [
      " 81%|████████▏ | 774/950 [00:48<00:06, 27.40it/s]"
     ]
    },
    {
     "name": "stdout",
     "output_type": "stream",
     "text": [
      "769\n"
     ]
    },
    {
     "name": "stderr",
     "output_type": "stream",
     "text": [
      " 95%|█████████▌| 907/950 [00:55<00:02, 19.74it/s]"
     ]
    },
    {
     "name": "stdout",
     "output_type": "stream",
     "text": [
      "902\n",
      "903\n"
     ]
    },
    {
     "name": "stderr",
     "output_type": "stream",
     "text": [
      "100%|██████████| 950/950 [00:57<00:00, 16.43it/s]\n"
     ]
    }
   ],
   "source": [
    "original_ = []\n",
    "final_ = []\n",
    "for split in tqdm.tqdm(range(950)):\n",
    "    try:\n",
    "        original = [i.title for i in pybel.readfile(\"sdf\", \"/slgpfs/projects/irb35/acomajuncosa/MurD/rest_docking/Miquel/structures/out_smiles\" + str(split) + \"/out_smiles\" + str(split) + \".sdf\")]\n",
    "        original_.extend(original)\n",
    "        final = data[\"out_smiles\" + str(split)]\n",
    "        final_.extend(final)\n",
    "    except:\n",
    "        print(split)"
   ]
  },
  {
   "cell_type": "code",
   "execution_count": 23,
   "id": "228bf5c0-90e7-4478-94ff-b5420903138c",
   "metadata": {},
   "outputs": [
    {
     "data": {
      "text/plain": [
       "28537"
      ]
     },
     "execution_count": 23,
     "metadata": {},
     "output_type": "execute_result"
    }
   ],
   "source": [
    "len(set(final_))"
   ]
  },
  {
   "cell_type": "code",
   "execution_count": 25,
   "id": "d1c0d970-6177-4e55-8a38-780e8462973c",
   "metadata": {},
   "outputs": [
    {
     "data": {
      "text/plain": [
       "30324"
      ]
     },
     "execution_count": 25,
     "metadata": {},
     "output_type": "execute_result"
    }
   ],
   "source": [
    "len(set(original_))"
   ]
  },
  {
   "cell_type": "code",
   "execution_count": null,
   "id": "9cc15129-689a-46ed-8759-f3beb9d2e9ba",
   "metadata": {},
   "outputs": [],
   "source": []
  }
 ],
 "metadata": {
  "kernelspec": {
   "display_name": "Python 3",
   "language": "python",
   "name": "python3"
  },
  "language_info": {
   "codemirror_mode": {
    "name": "ipython",
    "version": 3
   },
   "file_extension": ".py",
   "mimetype": "text/x-python",
   "name": "python",
   "nbconvert_exporter": "python",
   "pygments_lexer": "ipython3",
   "version": "3.7.10"
  }
 },
 "nbformat": 4,
 "nbformat_minor": 5
}
