{
 "cells": [
  {
   "cell_type": "code",
   "execution_count": 1,
   "id": "af3cf000",
   "metadata": {},
   "outputs": [],
   "source": [
    "import os\n",
    "import pandas as pd\n",
    "from rdkit import Chem\n",
    "from rdkit.Chem import AllChem\n",
    "import csv\n",
    "\n",
    "DATA = os.path.abspath(\"../data\")\n",
    "INPUT_PATH = os.path.join(DATA, \"generated\")\n",
    "\n",
    "def read_smiles(file_name):\n",
    "    with open(file_name, \"r\") as f:\n",
    "        reader = csv.reader(f)\n",
    "        smiles = []\n",
    "        for r in reader:\n",
    "            smiles += [r[0]]\n",
    "    return smiles\n",
    "\n",
    "def write_smiles(smiles_list, file_name):\n",
    "    with open(file_name, \"w\") as f:\n",
    "        writer = csv.writer(f)\n",
    "        for smi in smiles_list:\n",
    "            writer.writerow([smi])"
   ]
  },
  {
   "cell_type": "code",
   "execution_count": 2,
   "id": "22056d0c",
   "metadata": {},
   "outputs": [],
   "source": [
    "import collections\n",
    "import urllib\n",
    "import json\n",
    "\n",
    "from smallworld_api import SmallWorld\n",
    "\n",
    "import warnings\n",
    "warnings.filterwarnings(\"ignore\")\n",
    "\n",
    "\n",
    "def get_available_maps():\n",
    "    url = \"https://sw.docking.org/search/maps\"\n",
    "    response = urllib.request.urlopen(url)\n",
    "    data = json.loads(response.read())\n",
    "    return data\n",
    "\n",
    "\n",
    "def get_maps():\n",
    "    data = get_available_maps()\n",
    "    labels = [\"REAL\", \"WuXi\", \"MCule\", \"Zinc\"]\n",
    "    found_maps = collections.defaultdict(list)\n",
    "    for k,v in data.items():\n",
    "        for l in labels:\n",
    "            l_ = l.lower()\n",
    "            k_ = k.lower()\n",
    "            if l_ in k_:\n",
    "                found_maps[l] += [k]\n",
    "    found_maps_ = {}\n",
    "    for k,v in found_maps.items():\n",
    "        if len(v) == 1:\n",
    "            v_ = v[0]\n",
    "            if data[v_][\"enabled\"] and data[v_][\"status\"] == \"Available\":\n",
    "                found_maps_[k] = v_\n",
    "        else:\n",
    "            v_sel = None\n",
    "            w_sel = None\n",
    "            for v_ in v:\n",
    "                if not data[v_][\"enabled\"] or data[v_][\"status\"] != \"Available\":\n",
    "                    continue\n",
    "                w_ = data[v_][\"numEntries\"]\n",
    "                if v_sel is None:\n",
    "                    v_sel = v_\n",
    "                    w_sel = w_\n",
    "                else:\n",
    "                    if w_ > w_sel:\n",
    "                        v_sel = v_\n",
    "                        w_sel = w_\n",
    "            if v_sel is not None:\n",
    "                found_maps_[k] = v_sel\n",
    "    result = []\n",
    "    for l in labels:\n",
    "        if l in found_maps_:\n",
    "            result += [(l, found_maps_[l])]\n",
    "    return result"
   ]
  },
  {
   "cell_type": "code",
   "execution_count": 10,
   "id": "5b4acb8e",
   "metadata": {},
   "outputs": [],
   "source": [
    "from tqdm import tqdm\n",
    "import time\n",
    "import random\n",
    "\n",
    "\n",
    "class SmallWorldSampler(object):\n",
    "    \n",
    "    def __init__(self, dist=10, length=100):\n",
    "        self.maps = get_maps()\n",
    "        self.sw = SmallWorld()\n",
    "        self.dist = dist\n",
    "        self.length = length\n",
    "        self.seconds_per_query = 3\n",
    "        \n",
    "    def _sample(self, smiles, time_budget_sec):\n",
    "        t0 = time.time()\n",
    "        sampled_smiles = []\n",
    "        for m in self.maps:\n",
    "            try:\n",
    "                db_name = m[1]\n",
    "                results : pd.DataFrame = self.sw.search(smiles, dist=self.dist, db=db_name, length=self.length)\n",
    "            except:\n",
    "                print(smiles, m, \"did not work...\")\n",
    "                results = None\n",
    "            if results is not None:\n",
    "                sampled_smiles += list(results[\"smiles\"])\n",
    "            t1 = time.time()\n",
    "            if (t1-t0) > time_budget_sec:\n",
    "                break\n",
    "            t0 = time.time()\n",
    "        return sampled_smiles\n",
    "            \n",
    "    def sample(self, smiles_list, time_budget_sec=600):\n",
    "        time_budget_sec_per_query = int(time_budget_sec/(self.seconds_per_query*len(smiles_list)))+1\n",
    "        sampled_smiles = []\n",
    "        for smi in tqdm(smiles_list):\n",
    "            sampled_smiles += self._sample(smi, time_budget_sec_per_query)\n",
    "        sampled_smiles = list(set(sampled_smiles))\n",
    "        random.shuffle(sampled_smiles)\n",
    "        return sampled_smiles\n",
    "\n",
    "smp = SmallWorldSampler()"
   ]
  },
  {
   "cell_type": "code",
   "execution_count": 11,
   "id": "788d4427",
   "metadata": {},
   "outputs": [
    {
     "name": "stderr",
     "output_type": "stream",
     "text": [
      " 12%|██████████▉                                                                            | 2/16 [01:02<07:25, 31.79s/it]"
     ]
    },
    {
     "name": "stdout",
     "output_type": "stream",
     "text": [
      "O=C(C1CCN(C)CC1)NC2=C(C3=CC=C(C=CC=C4)C4=C3)C=CC=C2 ('MCule', 'MculeUltimate-20Q2.smi.anon') did not work...\n"
     ]
    },
    {
     "name": "stderr",
     "output_type": "stream",
     "text": [
      " 56%|████████████████████████████████████████████████▉                                      | 9/16 [04:37<03:28, 29.77s/it]"
     ]
    },
    {
     "name": "stdout",
     "output_type": "stream",
     "text": [
      "CN(CC1)CCN1C2=CC=C(C3=CC=C(OC4=CC=CC=C4)C=C3)C=C2 ('Zinc', 'all-zinc.smi.anon') did not work...\n"
     ]
    },
    {
     "name": "stderr",
     "output_type": "stream",
     "text": [
      " 69%|███████████████████████████████████████████████████████████▏                          | 11/16 [05:27<02:11, 26.35s/it]"
     ]
    },
    {
     "name": "stdout",
     "output_type": "stream",
     "text": [
      "O=C(C(C)C)NC1=CC=C(C2=CSC3=C2C=CC=C3)C=C1 ('REAL', 'REAL-Database-22Q1.smi.anon') did not work...\n"
     ]
    },
    {
     "name": "stderr",
     "output_type": "stream",
     "text": [
      "\r",
      " 75%|████████████████████████████████████████████████████████████████▌                     | 12/16 [05:41<01:31, 22.76s/it]"
     ]
    },
    {
     "name": "stdout",
     "output_type": "stream",
     "text": [
      "O=C(C(C)C)NC1=CC=C(C2=CN=CC=C2)C=C1 ('REAL', 'REAL-Database-22Q1.smi.anon') did not work...\n",
      "CN(CC1)CCN1C2=CC=C(C3=CSC4=C3C=CC=C4)C=C2 ('REAL', 'REAL-Database-22Q1.smi.anon') did not work...\n"
     ]
    },
    {
     "name": "stderr",
     "output_type": "stream",
     "text": [
      " 88%|███████████████████████████████████████████████████████████████████████████▎          | 14/16 [06:39<00:51, 25.79s/it]"
     ]
    },
    {
     "name": "stdout",
     "output_type": "stream",
     "text": [
      "CN(CC1)CCN1C2=CC=C(NC(CN3CCC(C=CC=C4)=C4C3)=O)C=C2 ('REAL', 'REAL-Database-22Q1.smi.anon') did not work...\n"
     ]
    },
    {
     "name": "stderr",
     "output_type": "stream",
     "text": [
      "\r",
      " 94%|████████████████████████████████████████████████████████████████████████████████▋     | 15/16 [07:12<00:28, 28.10s/it]"
     ]
    },
    {
     "name": "stdout",
     "output_type": "stream",
     "text": [
      "CN(CC1)CCN1C2=CC=C(NC(CN3CCC(C=CC=C4)=C4C3)=O)C=C2 ('MCule', 'MculeUltimate-20Q2.smi.anon') did not work...\n"
     ]
    },
    {
     "name": "stderr",
     "output_type": "stream",
     "text": [
      "100%|██████████████████████████████████████████████████████████████████████████████████████| 16/16 [07:37<00:00, 28.60s/it]\n"
     ]
    }
   ],
   "source": [
    "smiles = read_smiles(os.path.join(INPUT_PATH, \"known_hits.csv\"))\n",
    "\n",
    "sampled_smiles = smp.sample(smiles, 600)\n",
    "write_smiles(sampled_smiles, os.path.join(INPUT_PATH, \"known_hits_lib_aug.csv\"))"
   ]
  },
  {
   "cell_type": "code",
   "execution_count": 12,
   "id": "7837e566",
   "metadata": {},
   "outputs": [
    {
     "name": "stderr",
     "output_type": "stream",
     "text": [
      "  7%|█████▊                                                                                 | 1/15 [00:20<04:47, 20.54s/it]"
     ]
    },
    {
     "name": "stdout",
     "output_type": "stream",
     "text": [
      "O=C(O)C(=O)/C=C/[C@@H](F)C(=O)c1ccccc1F ('REAL', 'REAL-Database-22Q1.smi.anon') did not work...\n"
     ]
    },
    {
     "name": "stderr",
     "output_type": "stream",
     "text": [
      " 20%|█████████████████▍                                                                     | 3/15 [01:14<05:17, 26.50s/it]"
     ]
    },
    {
     "name": "stdout",
     "output_type": "stream",
     "text": [
      "Nc1ncnc2c1ncn2[C@@H]1O[C@H](CO)[C@@H](O)[C@H]1O ('MCule', 'MculeUltimate-20Q2.smi.anon') did not work...\n"
     ]
    },
    {
     "name": "stderr",
     "output_type": "stream",
     "text": [
      "\r",
      " 27%|███████████████████████▏                                                               | 4/15 [01:53<05:47, 31.60s/it]"
     ]
    },
    {
     "name": "stdout",
     "output_type": "stream",
     "text": [
      "Oc1cc(O)c2c(c1)O[C@H](c1cc(O)c(O)c(O)c1)[C@H](O)C2 ('REAL', 'REAL-Database-22Q1.smi.anon') did not work...\n"
     ]
    },
    {
     "name": "stderr",
     "output_type": "stream",
     "text": [
      "\r",
      " 33%|█████████████████████████████                                                          | 5/15 [02:59<07:18, 43.89s/it]"
     ]
    },
    {
     "name": "stdout",
     "output_type": "stream",
     "text": [
      "C[C@]12CC[C@@H]3c4ccc(O)cc4CC[C@H]3[C@@H]1CC[C@@H]2O ('REAL', 'REAL-Database-22Q1.smi.anon') did not work...\n",
      "C[C@]12CC[C@@H]3c4ccc(O)cc4CC[C@H]3[C@@H]1CC[C@@H]2O ('WuXi', 'WuXi-20Q4.smi.anon') did not work...\n"
     ]
    },
    {
     "name": "stderr",
     "output_type": "stream",
     "text": [
      "\r",
      " 40%|██████████████████████████████████▊                                                    | 6/15 [03:26<05:42, 38.00s/it]"
     ]
    },
    {
     "name": "stdout",
     "output_type": "stream",
     "text": [
      "C[C@]12CC[C@@H]3c4ccc(O)cc4CC[C@H]3[C@@H]1CC[C@@H]2O ('Zinc', 'all-zinc.smi.anon') did not work...\n"
     ]
    },
    {
     "name": "stderr",
     "output_type": "stream",
     "text": [
      " 53%|██████████████████████████████████████████████▍                                        | 8/15 [04:14<03:33, 30.51s/it]"
     ]
    },
    {
     "name": "stdout",
     "output_type": "stream",
     "text": [
      "CSC[C@H]1O[C@@H](n2cnc3c2NC=NC[C@H]3O)[C@H](O)[C@@H]1O ('REAL', 'REAL-Database-22Q1.smi.anon') did not work...\n"
     ]
    },
    {
     "name": "stderr",
     "output_type": "stream",
     "text": [
      "\r",
      " 60%|████████████████████████████████████████████████████▏                                  | 9/15 [04:53<03:19, 33.20s/it]"
     ]
    },
    {
     "name": "stdout",
     "output_type": "stream",
     "text": [
      "O=C(O)CCC(=O)N[C@@H](C(=O)O)c1ccccc1 ('REAL', 'REAL-Database-22Q1.smi.anon') did not work...\n"
     ]
    },
    {
     "name": "stderr",
     "output_type": "stream",
     "text": [
      "\r",
      " 67%|█████████████████████████████████████████████████████████▎                            | 10/15 [05:42<03:11, 38.22s/it]"
     ]
    },
    {
     "name": "stdout",
     "output_type": "stream",
     "text": [
      "CC(=O)N[C@@H](Cc1ccc2ccccc2c1)C(=O)O ('REAL', 'REAL-Database-22Q1.smi.anon') did not work...\n",
      "CC(=O)N[C@@H](Cc1ccc2ccccc2c1)C(=O)O ('WuXi', 'WuXi-20Q4.smi.anon') did not work...\n"
     ]
    },
    {
     "name": "stderr",
     "output_type": "stream",
     "text": [
      "\r",
      " 73%|███████████████████████████████████████████████████████████████                       | 11/15 [06:26<02:40, 40.05s/it]"
     ]
    },
    {
     "name": "stdout",
     "output_type": "stream",
     "text": [
      "CC(=O)N[C@@H](Cc1ccc2ccccc2c1)C(=O)O ('MCule', 'MculeUltimate-20Q2.smi.anon') did not work...\n"
     ]
    },
    {
     "name": "stderr",
     "output_type": "stream",
     "text": [
      "\r",
      " 80%|████████████████████████████████████████████████████████████████████▊                 | 12/15 [07:16<02:09, 43.02s/it]"
     ]
    },
    {
     "name": "stdout",
     "output_type": "stream",
     "text": [
      "Cc1ccc(S(=O)(=O)N2CCSC[C@H]2C(=O)N[C@@H](CC(C)C)C(=O)O)cc1 ('REAL', 'REAL-Database-22Q1.smi.anon') did not work...\n"
     ]
    },
    {
     "name": "stderr",
     "output_type": "stream",
     "text": [
      "100%|██████████████████████████████████████████████████████████████████████████████████████| 15/15 [08:49<00:00, 35.31s/it]"
     ]
    },
    {
     "name": "stdout",
     "output_type": "stream",
     "text": [
      "O=c1[nH]c2cc(C(F)(F)F)c(N3CCOCC3)cc2n(CP(=O)(O)O)c1=O ('REAL', 'REAL-Database-22Q1.smi.anon') did not work...\n"
     ]
    },
    {
     "name": "stderr",
     "output_type": "stream",
     "text": [
      "\n"
     ]
    }
   ],
   "source": [
    "smiles = read_smiles(os.path.join(INPUT_PATH, \"pocketvec_mw250_hits.csv\"))\n",
    "\n",
    "sampled_smiles = smp.sample(smiles, 600)\n",
    "write_smiles(sampled_smiles, os.path.join(INPUT_PATH, \"pocketvec_mw250_hits_lib_aug.csv\"))"
   ]
  },
  {
   "cell_type": "code",
   "execution_count": 13,
   "id": "746a650f",
   "metadata": {},
   "outputs": [
    {
     "name": "stderr",
     "output_type": "stream",
     "text": [
      "  6%|█████▍                                                                                 | 5/80 [01:43<21:43, 17.37s/it]"
     ]
    },
    {
     "name": "stdout",
     "output_type": "stream",
     "text": [
      "Nc1c(O)cccc1C(=O)O ('REAL', 'REAL-Database-22Q1.smi.anon') did not work...\n"
     ]
    },
    {
     "name": "stderr",
     "output_type": "stream",
     "text": [
      "\r",
      "  8%|██████▌                                                                                | 6/80 [01:52<18:14, 14.78s/it]"
     ]
    },
    {
     "name": "stdout",
     "output_type": "stream",
     "text": [
      "O=C(O)C(=O)Cc1c[nH]c2ccccc12 ('REAL', 'REAL-Database-22Q1.smi.anon') did not work...\n"
     ]
    },
    {
     "name": "stderr",
     "output_type": "stream",
     "text": [
      " 12%|██████████▊                                                                           | 10/80 [02:53<15:51, 13.59s/it]"
     ]
    },
    {
     "name": "stdout",
     "output_type": "stream",
     "text": [
      "C[N+]1(C)C[C@H](O)C[C@@H]1C(=O)O ('REAL', 'REAL-Database-22Q1.smi.anon') did not work...\n"
     ]
    },
    {
     "name": "stderr",
     "output_type": "stream",
     "text": [
      "\r",
      " 14%|███████████▊                                                                          | 11/80 [03:07<15:55, 13.85s/it]"
     ]
    },
    {
     "name": "stdout",
     "output_type": "stream",
     "text": [
      "CC(=O)N[C@@H](Cc1ccccc1)C(=O)O ('REAL', 'REAL-Database-22Q1.smi.anon') did not work...\n"
     ]
    },
    {
     "name": "stderr",
     "output_type": "stream",
     "text": [
      "\r",
      " 15%|████████████▉                                                                         | 12/80 [03:20<15:31, 13.70s/it]"
     ]
    },
    {
     "name": "stdout",
     "output_type": "stream",
     "text": [
      "Cc1cc(O)ccc1O ('REAL', 'REAL-Database-22Q1.smi.anon') did not work...\n"
     ]
    },
    {
     "name": "stderr",
     "output_type": "stream",
     "text": [
      "\r",
      " 16%|█████████████▉                                                                        | 13/80 [03:33<14:54, 13.36s/it]"
     ]
    },
    {
     "name": "stdout",
     "output_type": "stream",
     "text": [
      "CC(=O)c1c(O)cc(O)cc1O ('REAL', 'REAL-Database-22Q1.smi.anon') did not work...\n"
     ]
    },
    {
     "name": "stderr",
     "output_type": "stream",
     "text": [
      " 21%|██████████████████▎                                                                   | 17/80 [04:12<11:21, 10.82s/it]"
     ]
    },
    {
     "name": "stdout",
     "output_type": "stream",
     "text": [
      "CC(=O)Oc1ccccc1C(=O)O ('REAL', 'REAL-Database-22Q1.smi.anon') did not work...\n"
     ]
    },
    {
     "name": "stderr",
     "output_type": "stream",
     "text": [
      " 29%|████████████████████████▋                                                             | 23/80 [05:27<13:18, 14.01s/it]"
     ]
    },
    {
     "name": "stdout",
     "output_type": "stream",
     "text": [
      "Oc1ccc2ccccc2c1O ('REAL', 'REAL-Database-22Q1.smi.anon') did not work...\n"
     ]
    },
    {
     "name": "stderr",
     "output_type": "stream",
     "text": [
      "\r",
      " 30%|█████████████████████████▊                                                            | 24/80 [05:33<10:54, 11.69s/it]"
     ]
    },
    {
     "name": "stdout",
     "output_type": "stream",
     "text": [
      "O=C(O)c1ccc(O)c(O)c1 ('REAL', 'REAL-Database-22Q1.smi.anon') did not work...\n"
     ]
    },
    {
     "name": "stderr",
     "output_type": "stream",
     "text": [
      " 38%|████████████████████████████████▎                                                     | 30/80 [07:11<13:51, 16.63s/it]"
     ]
    },
    {
     "name": "stdout",
     "output_type": "stream",
     "text": [
      "O=C(O)C(=O)Cc1ccc(O)cc1 ('REAL', 'REAL-Database-22Q1.smi.anon') did not work...\n"
     ]
    },
    {
     "name": "stderr",
     "output_type": "stream",
     "text": [
      " 40%|██████████████████████████████████▍                                                   | 32/80 [07:54<14:33, 18.19s/it]"
     ]
    },
    {
     "name": "stdout",
     "output_type": "stream",
     "text": [
      "C[C@]12CC[C@@H]3c4ccc(O)cc4CC[C@H]3[C@@H]1CC[C@@H]2O ('REAL', 'REAL-Database-22Q1.smi.anon') did not work...\n"
     ]
    },
    {
     "name": "stderr",
     "output_type": "stream",
     "text": [
      " 42%|████████████████████████████████████▌                                                 | 34/80 [08:46<16:10, 21.11s/it]"
     ]
    },
    {
     "name": "stdout",
     "output_type": "stream",
     "text": [
      "N[C@@H](Cn1cc(F)c(=O)[nH]c1=O)C(=O)O ('REAL', 'REAL-Database-22Q1.smi.anon') did not work...\n"
     ]
    },
    {
     "name": "stderr",
     "output_type": "stream",
     "text": [
      " 45%|██████████████████████████████████████▋                                               | 36/80 [09:26<14:16, 19.47s/it]"
     ]
    },
    {
     "name": "stdout",
     "output_type": "stream",
     "text": [
      "O=C(O)/C=C/c1ccc(O)cc1 ('REAL', 'REAL-Database-22Q1.smi.anon') did not work...\n"
     ]
    },
    {
     "name": "stderr",
     "output_type": "stream",
     "text": [
      "\r",
      " 46%|███████████████████████████████████████▊                                              | 37/80 [09:35<11:53, 16.59s/it]"
     ]
    },
    {
     "name": "stdout",
     "output_type": "stream",
     "text": [
      "O=C(/C=C/c1ccc(O)cc1)c1ccc(O)cc1O ('REAL', 'REAL-Database-22Q1.smi.anon') did not work...\n"
     ]
    },
    {
     "name": "stderr",
     "output_type": "stream",
     "text": [
      " 50%|███████████████████████████████████████████                                           | 40/80 [11:12<16:46, 25.17s/it]"
     ]
    },
    {
     "name": "stdout",
     "output_type": "stream",
     "text": [
      "C=C(O[C@H]1C=CC=C(C(=O)O)[C@@H]1O)C(=O)O ('REAL', 'REAL-Database-22Q1.smi.anon') did not work...\n"
     ]
    },
    {
     "name": "stderr",
     "output_type": "stream",
     "text": [
      " 74%|███████████████████████████████████████████████████████████████▍                      | 59/80 [15:27<03:13,  9.21s/it]"
     ]
    },
    {
     "name": "stdout",
     "output_type": "stream",
     "text": [
      "C[N+]1(C)CCC[C@H]1C(=O)O ('REAL', 'REAL-Database-22Q1.smi.anon') did not work...\n"
     ]
    },
    {
     "name": "stderr",
     "output_type": "stream",
     "text": [
      " 81%|█████████████████████████████████████████████████████████████████████▉                | 65/80 [16:35<02:58, 11.92s/it]"
     ]
    },
    {
     "name": "stdout",
     "output_type": "stream",
     "text": [
      "N[C@@H](Cc1ccccc1)[C@@H](O)CCl ('REAL', 'REAL-Database-22Q1.smi.anon') did not work...\n"
     ]
    },
    {
     "name": "stderr",
     "output_type": "stream",
     "text": [
      " 95%|█████████████████████████████████████████████████████████████████████████████████▋    | 76/80 [19:34<01:04, 16.16s/it]"
     ]
    },
    {
     "name": "stdout",
     "output_type": "stream",
     "text": [
      "CCO[C@@H]1C=CC=C(C(=O)O)[C@H]1N ('REAL', 'REAL-Database-22Q1.smi.anon') did not work...\n"
     ]
    },
    {
     "name": "stderr",
     "output_type": "stream",
     "text": [
      "\r",
      " 96%|██████████████████████████████████████████████████████████████████████████████████▊   | 77/80 [19:46<00:44, 14.86s/it]"
     ]
    },
    {
     "name": "stdout",
     "output_type": "stream",
     "text": [
      "CCO[C@@H]1C=CC=C(C(=O)O)[C@H]1N ('WuXi', 'WuXi-20Q4.smi.anon') did not work...\n"
     ]
    },
    {
     "name": "stderr",
     "output_type": "stream",
     "text": [
      " 99%|████████████████████████████████████████████████████████████████████████████████████▉ | 79/80 [20:16<00:14, 14.65s/it]"
     ]
    },
    {
     "name": "stdout",
     "output_type": "stream",
     "text": [
      "O=C(O)c1ccc(Br)cc1 ('REAL', 'REAL-Database-22Q1.smi.anon') did not work...\n"
     ]
    },
    {
     "name": "stderr",
     "output_type": "stream",
     "text": [
      "100%|██████████████████████████████████████████████████████████████████████████████████████| 80/80 [20:56<00:00, 15.70s/it]\n"
     ]
    }
   ],
   "source": [
    "smiles = read_smiles(os.path.join(INPUT_PATH, \"pocketvec_hits.csv\"))\n",
    "\n",
    "sampled_smiles = smp.sample(smiles, 600)\n",
    "write_smiles(sampled_smiles, os.path.join(INPUT_PATH, \"pocketvec_hits_lib_aug.csv\"))"
   ]
  },
  {
   "cell_type": "code",
   "execution_count": 14,
   "id": "bb5fca7a",
   "metadata": {},
   "outputs": [
    {
     "name": "stderr",
     "output_type": "stream",
     "text": [
      "  5%|████▎                                                                                 | 5/100 [01:27<19:57, 12.61s/it]"
     ]
    },
    {
     "name": "stdout",
     "output_type": "stream",
     "text": [
      "Cc1ccc(S(=O)(=O)Nc2nc3c(C)cc(NC(=O)c4cc5ccccc5[nH]4)cc3s2)cc1 ('REAL', 'REAL-Database-22Q1.smi.anon') did not work...\n"
     ]
    },
    {
     "name": "stderr",
     "output_type": "stream",
     "text": [
      "\r",
      "  6%|█████▏                                                                                | 6/100 [01:36<18:04, 11.53s/it]"
     ]
    },
    {
     "name": "stdout",
     "output_type": "stream",
     "text": [
      "Cc1ccc(S(=O)(=O)Nc2nc3c(C)cc(NC(=O)c4cc5ccccc5[nH]4)cc3s2)cc1 ('WuXi', 'WuXi-20Q4.smi.anon') did not work...\n"
     ]
    },
    {
     "name": "stderr",
     "output_type": "stream",
     "text": [
      " 10%|████████▌                                                                            | 10/100 [02:05<12:42,  8.47s/it]"
     ]
    },
    {
     "name": "stdout",
     "output_type": "stream",
     "text": [
      "CC(=O)N(CN1C(=O)C2C3c4ccccc4C(c4ccccc43)C2C1=O)c1ccc2c(c1)oc1ccccc12 ('REAL', 'REAL-Database-22Q1.smi.anon') did not work...\n"
     ]
    },
    {
     "name": "stderr",
     "output_type": "stream",
     "text": [
      " 20%|█████████████████                                                                    | 20/100 [03:36<11:54,  8.93s/it]"
     ]
    },
    {
     "name": "stdout",
     "output_type": "stream",
     "text": [
      "COc1ccc(CNC(=O)CC2N=C3c4ccccc4N=C(SCC(=O)Nc4cc(C)[nH]n4)N3C2=O)cc1 ('REAL', 'REAL-Database-22Q1.smi.anon') did not work...\n"
     ]
    },
    {
     "name": "stderr",
     "output_type": "stream",
     "text": [
      " 22%|██████████████████▋                                                                  | 22/100 [03:50<10:00,  7.69s/it]"
     ]
    },
    {
     "name": "stdout",
     "output_type": "stream",
     "text": [
      "Cc1cc(NC(=O)CSC2=Nc3ccccc3C3=NC(CC(=O)NCc4ccc5c(c4)OCO5)C(=O)N23)n[nH]1 ('REAL', 'REAL-Database-22Q1.smi.anon') did not work...\n"
     ]
    },
    {
     "name": "stderr",
     "output_type": "stream",
     "text": [
      "\r",
      " 23%|███████████████████▌                                                                 | 23/100 [03:58<10:17,  8.02s/it]"
     ]
    },
    {
     "name": "stdout",
     "output_type": "stream",
     "text": [
      "Cc1cc(NC(=O)CSC2=Nc3ccccc3C3=NC(CC(=O)NCc4ccc5c(c4)OCO5)C(=O)N23)n[nH]1 ('WuXi', 'WuXi-20Q4.smi.anon') did not work...\n"
     ]
    },
    {
     "name": "stderr",
     "output_type": "stream",
     "text": [
      " 26%|██████████████████████                                                               | 26/100 [04:25<10:28,  8.50s/it]"
     ]
    },
    {
     "name": "stdout",
     "output_type": "stream",
     "text": [
      "Cc1nc2ccccc2n1CCc1nc2c3ccccc3nc(SCC(=O)Nc3cccc(C(F)(F)F)c3)n2n1 ('REAL', 'REAL-Database-22Q1.smi.anon') did not work...\n"
     ]
    },
    {
     "name": "stderr",
     "output_type": "stream",
     "text": [
      " 32%|███████████████████████████▏                                                         | 32/100 [05:25<10:56,  9.66s/it]"
     ]
    },
    {
     "name": "stdout",
     "output_type": "stream",
     "text": [
      "Cc1noc(C23CC(NC(=O)c4ccc(F)cn4)CC2CN(C(=O)C(C)C)C3)n1 ('REAL', 'REAL-Database-22Q1.smi.anon') did not work...\n"
     ]
    },
    {
     "name": "stderr",
     "output_type": "stream",
     "text": [
      "\r",
      " 33%|████████████████████████████                                                         | 33/100 [05:34<10:40,  9.56s/it]"
     ]
    },
    {
     "name": "stdout",
     "output_type": "stream",
     "text": [
      "Cc1noc(C23CC(NC(=O)c4ccc(F)cn4)CC2CN(C(=O)C(C)C)C3)n1 ('WuXi', 'WuXi-20Q4.smi.anon') did not work...\n"
     ]
    },
    {
     "name": "stderr",
     "output_type": "stream",
     "text": [
      " 35%|█████████████████████████████▋                                                       | 35/100 [05:47<08:31,  7.87s/it]"
     ]
    },
    {
     "name": "stdout",
     "output_type": "stream",
     "text": [
      "O=C1CCCC2=C1C(c1cc(Br)ccc1O)C1C(=O)c3ccccc3C1=N2 ('REAL', 'REAL-Database-22Q1.smi.anon') did not work...\n"
     ]
    },
    {
     "name": "stderr",
     "output_type": "stream",
     "text": [
      " 38%|████████████████████████████████▎                                                    | 38/100 [06:14<08:55,  8.63s/it]"
     ]
    },
    {
     "name": "stdout",
     "output_type": "stream",
     "text": [
      "COc1cccc(NC(=O)CSc2nc3ccccc3c3nc(CCc4c[nH]c5ccccc45)nn23)c1 ('REAL', 'REAL-Database-22Q1.smi.anon') did not work...\n"
     ]
    },
    {
     "name": "stderr",
     "output_type": "stream",
     "text": [
      " 47%|███████████████████████████████████████▉                                             | 47/100 [07:27<07:04,  8.01s/it]"
     ]
    },
    {
     "name": "stdout",
     "output_type": "stream",
     "text": [
      "O=C(CCc1nc2ccccc2n(CC(=O)NC2CCc3ccccc32)c1=O)NC1CCCCC1 ('REAL', 'REAL-Database-22Q1.smi.anon') did not work...\n"
     ]
    },
    {
     "name": "stderr",
     "output_type": "stream",
     "text": [
      "\r",
      " 48%|████████████████████████████████████████▊                                            | 48/100 [07:35<07:08,  8.24s/it]"
     ]
    },
    {
     "name": "stdout",
     "output_type": "stream",
     "text": [
      "O=C(CCc1nc2ccccc2n(CC(=O)NC2CCc3ccccc32)c1=O)NC1CCCCC1 ('WuXi', 'WuXi-20Q4.smi.anon') did not work...\n"
     ]
    },
    {
     "name": "stderr",
     "output_type": "stream",
     "text": [
      " 56%|███████████████████████████████████████████████▌                                     | 56/100 [08:43<05:52,  8.02s/it]"
     ]
    },
    {
     "name": "stdout",
     "output_type": "stream",
     "text": [
      "Cc1ccc2nc(NC(=O)c3cc(-c4ccc(Cl)s4)nc4ccccc34)sc2c1 ('REAL', 'REAL-Database-22Q1.smi.anon') did not work...\n"
     ]
    },
    {
     "name": "stderr",
     "output_type": "stream",
     "text": [
      "\r",
      " 57%|████████████████████████████████████████████████▍                                    | 57/100 [08:52<05:55,  8.27s/it]"
     ]
    },
    {
     "name": "stdout",
     "output_type": "stream",
     "text": [
      "Cc1ccc2nc(NC(=O)c3cc(-c4ccc(Cl)s4)nc4ccccc34)sc2c1 ('WuXi', 'WuXi-20Q4.smi.anon') did not work...\n"
     ]
    },
    {
     "name": "stderr",
     "output_type": "stream",
     "text": [
      " 59%|██████████████████████████████████████████████████▏                                  | 59/100 [09:05<05:02,  7.37s/it]"
     ]
    },
    {
     "name": "stdout",
     "output_type": "stream",
     "text": [
      "O=C1CN(S(=O)(=O)c2ccc(CN3C(=O)c4cccnc4C3=O)s2)c2ccccc2N1 ('REAL', 'REAL-Database-22Q1.smi.anon') did not work...\n"
     ]
    },
    {
     "name": "stderr",
     "output_type": "stream",
     "text": [
      "\r",
      " 60%|███████████████████████████████████████████████████                                  | 60/100 [09:13<05:11,  7.78s/it]"
     ]
    },
    {
     "name": "stdout",
     "output_type": "stream",
     "text": [
      "O=C1CN(S(=O)(=O)c2ccc(CN3C(=O)c4cccnc4C3=O)s2)c2ccccc2N1 ('WuXi', 'WuXi-20Q4.smi.anon') did not work...\n"
     ]
    },
    {
     "name": "stderr",
     "output_type": "stream",
     "text": [
      "\r",
      " 61%|███████████████████████████████████████████████████▊                                 | 61/100 [09:21<04:57,  7.62s/it]"
     ]
    },
    {
     "name": "stdout",
     "output_type": "stream",
     "text": [
      "O=C(c1cccnn1)N1CC(F)(F)CC1c1nc(C2CC2)no1 ('REAL', 'REAL-Database-22Q1.smi.anon') did not work...\n"
     ]
    },
    {
     "name": "stderr",
     "output_type": "stream",
     "text": [
      "\r",
      " 62%|████████████████████████████████████████████████████▋                                | 62/100 [09:28<04:41,  7.42s/it]"
     ]
    },
    {
     "name": "stdout",
     "output_type": "stream",
     "text": [
      "N#CC1=C2N=C(N)c3c(sc4c3CCCCC4)N2C2=C(C(=O)CCC2)C1c1ccc2c(c1)OCO2 ('REAL', 'REAL-Database-22Q1.smi.anon') did not work...\n"
     ]
    },
    {
     "name": "stderr",
     "output_type": "stream",
     "text": [
      "\r",
      " 63%|█████████████████████████████████████████████████████▌                               | 63/100 [09:36<04:49,  7.83s/it]"
     ]
    },
    {
     "name": "stdout",
     "output_type": "stream",
     "text": [
      "N#CC1=C2N=C(N)c3c(sc4c3CCCCC4)N2C2=C(C(=O)CCC2)C1c1ccc2c(c1)OCO2 ('WuXi', 'WuXi-20Q4.smi.anon') did not work...\n"
     ]
    },
    {
     "name": "stderr",
     "output_type": "stream",
     "text": [
      " 66%|████████████████████████████████████████████████████████                             | 66/100 [09:56<03:51,  6.82s/it]"
     ]
    },
    {
     "name": "stdout",
     "output_type": "stream",
     "text": [
      "CC(=O)n1c2cc(C#N)c(C#N)cc2oc2nc3ccccc3nc2c2ccccc21 ('REAL', 'REAL-Database-22Q1.smi.anon') did not work...\n"
     ]
    },
    {
     "name": "stderr",
     "output_type": "stream",
     "text": [
      "\r",
      " 67%|████████████████████████████████████████████████████████▉                            | 67/100 [10:04<04:04,  7.42s/it]"
     ]
    },
    {
     "name": "stdout",
     "output_type": "stream",
     "text": [
      "CC(=O)n1c2cc(C#N)c(C#N)cc2oc2nc3ccccc3nc2c2ccccc21 ('WuXi', 'WuXi-20Q4.smi.anon') did not work...\n"
     ]
    },
    {
     "name": "stderr",
     "output_type": "stream",
     "text": [
      " 72%|█████████████████████████████████████████████████████████████▏                       | 72/100 [10:45<03:33,  7.64s/it]"
     ]
    },
    {
     "name": "stdout",
     "output_type": "stream",
     "text": [
      "COc1ccc(-c2cc(C(=O)N3CCCC3c3cc(C)no3)no2)cc1 ('REAL', 'REAL-Database-22Q1.smi.anon') did not work...\n"
     ]
    },
    {
     "name": "stderr",
     "output_type": "stream",
     "text": [
      " 77%|█████████████████████████████████████████████████████████████████▍                   | 77/100 [11:26<02:54,  7.58s/it]"
     ]
    },
    {
     "name": "stdout",
     "output_type": "stream",
     "text": [
      "[O-][n+]1c2ccccc2nc2c3ccccc3c3nc4ccccc4nc3c21 ('REAL', 'REAL-Database-22Q1.smi.anon') did not work...\n"
     ]
    },
    {
     "name": "stderr",
     "output_type": "stream",
     "text": [
      "\r",
      " 78%|██████████████████████████████████████████████████████████████████▎                  | 78/100 [11:34<02:54,  7.93s/it]"
     ]
    },
    {
     "name": "stdout",
     "output_type": "stream",
     "text": [
      "[O-][n+]1c2ccccc2nc2c3ccccc3c3nc4ccccc4nc3c21 ('WuXi', 'WuXi-20Q4.smi.anon') did not work...\n"
     ]
    },
    {
     "name": "stderr",
     "output_type": "stream",
     "text": [
      " 80%|████████████████████████████████████████████████████████████████████                 | 80/100 [11:53<02:51,  8.56s/it]"
     ]
    },
    {
     "name": "stdout",
     "output_type": "stream",
     "text": [
      "CN1c2ccccc2C(=O)N2CCc3c(n(CC(=O)NCCc4c[nH]cn4)c4ccccc34)C21 ('REAL', 'REAL-Database-22Q1.smi.anon') did not work...\n"
     ]
    },
    {
     "name": "stderr",
     "output_type": "stream",
     "text": [
      "\r",
      " 81%|████████████████████████████████████████████████████████████████████▊                | 81/100 [11:58<02:24,  7.58s/it]"
     ]
    },
    {
     "name": "stdout",
     "output_type": "stream",
     "text": [
      "Cc1cnc(-c2cccnc2)n1C1CCN(C(=O)CC2CCCC2)C1 ('REAL', 'REAL-Database-22Q1.smi.anon') did not work...\n"
     ]
    },
    {
     "name": "stderr",
     "output_type": "stream",
     "text": [
      "\r",
      " 82%|█████████████████████████████████████████████████████████████████████▋               | 82/100 [12:05<02:09,  7.21s/it]"
     ]
    },
    {
     "name": "stdout",
     "output_type": "stream",
     "text": [
      "Cc1cc(NC(=O)CSc2nc3ccccc3c(=O)n2CCC(=O)N2CCCCC2)n[nH]1 ('REAL', 'REAL-Database-22Q1.smi.anon') did not work...\n"
     ]
    },
    {
     "name": "stderr",
     "output_type": "stream",
     "text": [
      "\r",
      " 83%|██████████████████████████████████████████████████████████████████████▌              | 83/100 [12:14<02:14,  7.88s/it]"
     ]
    },
    {
     "name": "stdout",
     "output_type": "stream",
     "text": [
      "Cc1cc(NC(=O)CSc2nc3ccccc3c(=O)n2CCC(=O)N2CCCCC2)n[nH]1 ('WuXi', 'WuXi-20Q4.smi.anon') did not work...\n"
     ]
    },
    {
     "name": "stderr",
     "output_type": "stream",
     "text": [
      " 87%|█████████████████████████████████████████████████████████████████████████▉           | 87/100 [12:48<01:42,  7.92s/it]"
     ]
    },
    {
     "name": "stdout",
     "output_type": "stream",
     "text": [
      "Cn1ccnc1C(=O)N1CC(F)CC1Cn1cc(C(=O)N2CCc3ccccc32)nn1 ('REAL', 'REAL-Database-22Q1.smi.anon') did not work...\n"
     ]
    },
    {
     "name": "stderr",
     "output_type": "stream",
     "text": [
      "\r",
      " 88%|██████████████████████████████████████████████████████████████████████████▊          | 88/100 [12:56<01:38,  8.19s/it]"
     ]
    },
    {
     "name": "stdout",
     "output_type": "stream",
     "text": [
      "Cn1ccnc1C(=O)N1CC(F)CC1Cn1cc(C(=O)N2CCc3ccccc32)nn1 ('WuXi', 'WuXi-20Q4.smi.anon') did not work...\n"
     ]
    },
    {
     "name": "stderr",
     "output_type": "stream",
     "text": [
      " 91%|█████████████████████████████████████████████████████████████████████████████▎       | 91/100 [13:22<01:12,  8.03s/it]"
     ]
    },
    {
     "name": "stdout",
     "output_type": "stream",
     "text": [
      "O=C(Nc1cccc2c1C(=O)c1ccccc1C2=O)c1ccc(S(=O)(=O)N2CCc3ccccc3C2)cc1 ('REAL', 'REAL-Database-22Q1.smi.anon') did not work...\n"
     ]
    },
    {
     "name": "stderr",
     "output_type": "stream",
     "text": [
      "\r",
      " 92%|██████████████████████████████████████████████████████████████████████████████▏      | 92/100 [13:31<01:07,  8.46s/it]"
     ]
    },
    {
     "name": "stdout",
     "output_type": "stream",
     "text": [
      "O=C(Nc1cccc2c1C(=O)c1ccccc1C2=O)c1ccc(S(=O)(=O)N2CCc3ccccc3C2)cc1 ('WuXi', 'WuXi-20Q4.smi.anon') did not work...\n"
     ]
    },
    {
     "name": "stderr",
     "output_type": "stream",
     "text": [
      " 95%|████████████████████████████████████████████████████████████████████████████████▊    | 95/100 [13:50<00:34,  6.99s/it]"
     ]
    },
    {
     "name": "stdout",
     "output_type": "stream",
     "text": [
      "O=C(c1ccccc1)N1CCC(c2nc(C3CCOCC3)no2)C1 ('REAL', 'REAL-Database-22Q1.smi.anon') did not work...\n"
     ]
    },
    {
     "name": "stderr",
     "output_type": "stream",
     "text": [
      " 97%|██████████████████████████████████████████████████████████████████████████████████▍  | 97/100 [14:07<00:23,  7.86s/it]"
     ]
    },
    {
     "name": "stdout",
     "output_type": "stream",
     "text": [
      "N#CC1=C2N=C(N)c3c(sc4c3CCCCC4)N2C2=C(C(=O)CCC2)C1c1cccs1 ('REAL', 'REAL-Database-22Q1.smi.anon') did not work...\n"
     ]
    },
    {
     "name": "stderr",
     "output_type": "stream",
     "text": [
      "100%|████████████████████████████████████████████████████████████████████████████████████| 100/100 [14:36<00:00,  8.76s/it]\n"
     ]
    }
   ],
   "source": [
    "smiles = read_smiles(os.path.join(INPUT_PATH, \"docking_top100_hits.csv\"))\n",
    "\n",
    "sampled_smiles = smp.sample(smiles, 600)\n",
    "write_smiles(sampled_smiles, os.path.join(INPUT_PATH, \"docking_top100_hits_lib_aug.csv\"))"
   ]
  },
  {
   "cell_type": "code",
   "execution_count": null,
   "id": "15475400",
   "metadata": {},
   "outputs": [],
   "source": []
  }
 ],
 "metadata": {
  "kernelspec": {
   "display_name": "Python 3 (ipykernel)",
   "language": "python",
   "name": "python3"
  },
  "language_info": {
   "codemirror_mode": {
    "name": "ipython",
    "version": 3
   },
   "file_extension": ".py",
   "mimetype": "text/x-python",
   "name": "python",
   "nbconvert_exporter": "python",
   "pygments_lexer": "ipython3",
   "version": "3.7.12"
  }
 },
 "nbformat": 4,
 "nbformat_minor": 5
}
