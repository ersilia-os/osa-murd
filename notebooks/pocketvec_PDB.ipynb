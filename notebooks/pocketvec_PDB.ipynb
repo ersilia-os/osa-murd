{
 "cells": [
  {
   "cell_type": "code",
   "execution_count": 1,
   "id": "3cb29230-362f-4ae4-9310-405ea9975cb8",
   "metadata": {},
   "outputs": [],
   "source": [
    "from collections import Counter\n",
    "import pandas as pd\n",
    "import numpy as np\n",
    "import tqdm\n",
    "import pickle\n",
    "import matplotlib.pyplot as plt\n",
    "from Bio.PDB import *\n",
    "from rdkit import Chem\n",
    "import os\n",
    "import time\n",
    "import shutil\n",
    "from Bio.SeqUtils import seq1\n",
    "import gzip\n",
    "import tarfile\n",
    "import sys\n",
    "import random\n",
    "from rdkit.Chem import rdFreeSASA\n",
    "from rdkit import Chem\n",
    "from rdkit.Chem.Descriptors import MolWt"
   ]
  },
  {
   "cell_type": "code",
   "execution_count": 2,
   "id": "d234cdaa-c0ec-4793-ba01-dc4e418bf85c",
   "metadata": {},
   "outputs": [],
   "source": [
    "def good_ligand(inchi):\n",
    "    try:\n",
    "        m = Chem.MolFromInchi(inchi)\n",
    "        count_carbons = 0\n",
    "        for i in m.GetAtoms():\n",
    "            if int(i.GetAtomicNum()) == 6:\n",
    "                count_carbons += 1\n",
    "            if count_carbons >= 7:\n",
    "                break\n",
    "        return count_carbons >= 7\n",
    "    except:\n",
    "        return False\n",
    "    \n",
    "\n",
    "# Natural amino acids\n",
    "nat_aa = {'ALA', 'ARG', 'ASN', 'ASP', 'CYS', 'GLN', 'GLU', 'GLY', 'HIS', 'ILE', 'LEU', 'LYS', 'MET', 'PHE', 'PRO', 'SER', 'THR', 'TRP', 'TYR', 'VAL'}\n",
    "maestro_blacklist = set([i.strip() for i in pd.read_csv(\"/aloy/home/acomajuncosa/PocketVec_v2/kinase/PDB/LIG/preprocess/maestro_blacklist.csv\")[' Residue']])\n",
    "# uninteresting_ligands = pickle.load(open(\"/aloy/home/acomajuncosa/Apps_PocketVec/HT/PDB/uninteresting_ligands.pkl\", \"rb\")) ## Not using it, for the moment\n",
    "original_wd = os.getcwd()"
   ]
  },
  {
   "cell_type": "code",
   "execution_count": 3,
   "id": "aafc3fc6-0927-42ce-a3a1-a02afb456645",
   "metadata": {
    "collapsed": true,
    "jupyter": {
     "outputs_hidden": true
    },
    "tags": []
   },
   "outputs": [
    {
     "name": "stderr",
     "output_type": "stream",
     "text": [
      "  0%|          | 156/37360 [00:00<00:23, 1558.59it/s]RDKit ERROR: [12:59:12] Explicit valence for atom # 27 Be, 4, is greater than permitted\n",
      "  3%|▎         | 1093/37360 [00:00<00:24, 1507.70it/s]RDKit ERROR: [12:59:12] ERROR: Explicit valence for atom # 27 Be, 4, is greater than permitted\n",
      "RDKit ERROR: [12:59:13] Explicit valence for atom # 15 C, 6, is greater than permitted\n",
      "RDKit ERROR: [12:59:13] ERROR: Explicit valence for atom # 15 C, 6, is greater than permitted\n",
      "RDKit ERROR: [12:59:13] Explicit valence for atom # 15 C, 6, is greater than permitted\n",
      "  3%|▎         | 1245/37360 [00:00<00:24, 1477.83it/s]RDKit ERROR: [12:59:13] ERROR: Explicit valence for atom # 15 C, 6, is greater than permitted\n",
      "RDKit ERROR: [12:59:13] Explicit valence for atom # 16 N, 5, is greater than permitted\n",
      "  5%|▍         | 1721/37360 [00:01<00:23, 1526.80it/s]RDKit ERROR: [12:59:13] ERROR: Explicit valence for atom # 16 N, 5, is greater than permitted\n",
      "RDKit ERROR: [12:59:13] Explicit valence for atom # 0 C, 5, is greater than permitted\n",
      "  6%|▋         | 2359/37360 [00:01<00:22, 1576.31it/s]RDKit ERROR: [12:59:13] ERROR: Explicit valence for atom # 0 C, 5, is greater than permitted\n",
      "RDKit ERROR: [12:59:14] Explicit valence for atom # 1 C, 5, is greater than permitted\n",
      "RDKit ERROR: [12:59:14] ERROR: Explicit valence for atom # 1 C, 5, is greater than permitted\n",
      "RDKit ERROR: [12:59:14] Explicit valence for atom # 1 C, 5, is greater than permitted\n",
      "  7%|▋         | 2531/37360 [00:01<00:21, 1615.03it/s]RDKit ERROR: [12:59:14] ERROR: Explicit valence for atom # 1 C, 5, is greater than permitted\n",
      "RDKit ERROR: [12:59:14] Explicit valence for atom # 6 B, 6, is greater than permitted\n",
      "  7%|▋         | 2720/37360 [00:01<00:20, 1695.47it/s]RDKit WARNING: [12:59:12] WARNING:  Problems/mismatches: Mobile-H( Hydrogens: Number; Mobile-H groups: Number; Charge(s): Do not match)\n",
      "RDKit WARNING: [12:59:12] WARNING:  Problems/mismatches: Mobile-H( Hydrogens: Locations or number; Mobile-H groups: Number)\n",
      "RDKit WARNING: [12:59:13] WARNING:  (Metal compound)Disconnected:  Problems/mismatches: Mobile-H( Hydrogens: Number; Mobile-H groups: Multiple instead of one, Attachment points, Number; Charge(s): Do not match; Proton balance: Does not match) Fixed-H( Charge(s): Do not match; Stereobonds/cumulenes: Missing known)\n",
      "RDKit WARNING: [12:59:14] WARNING: not removing hydrogen atom without neighbors\n",
      "  9%|▉         | 3542/37360 [00:02<00:22, 1494.96it/s]RDKit ERROR: [12:59:14] ERROR: Explicit valence for atom # 6 B, 6, is greater than permitted\n",
      "RDKit ERROR: [12:59:14] Explicit valence for atom # 6 C, 6, is greater than permitted\n",
      " 10%|▉         | 3707/37360 [00:02<00:21, 1536.10it/s]RDKit ERROR: [12:59:14] ERROR: Explicit valence for atom # 6 C, 6, is greater than permitted\n",
      "RDKit ERROR: [12:59:14] Explicit valence for atom # 10 B, 5, is greater than permitted\n",
      "RDKit ERROR: [12:59:14] ERROR: Explicit valence for atom # 10 B, 5, is greater than permitted\n",
      "RDKit ERROR: [12:59:14] Explicit valence for atom # 10 B, 5, is greater than permitted\n",
      " 15%|█▍        | 5427/37360 [00:03<00:18, 1753.89it/s]RDKit ERROR: [12:59:14] ERROR: Explicit valence for atom # 10 B, 5, is greater than permitted\n",
      "RDKit ERROR: [12:59:15] ERROR: \n",
      "RDKit ERROR: [12:59:15] Explicit valence for atom # 19 B, 7, is greater than permitted\n",
      " 20%|██        | 7565/37360 [00:04<00:17, 1702.43it/s]RDKit ERROR: [12:59:15] ERROR: Explicit valence for atom # 19 B, 7, is greater than permitted\n",
      "RDKit ERROR: [12:59:17] Explicit valence for atom # 20 N, 4, is greater than permitted\n",
      " 21%|██        | 7904/37360 [00:04<00:17, 1671.06it/s]RDKit ERROR: [12:59:17] ERROR: Explicit valence for atom # 20 N, 4, is greater than permitted\n",
      "RDKit ERROR: [12:59:17] Explicit valence for atom # 8 N, 5, is greater than permitted\n",
      " 27%|██▋       | 9942/37360 [00:06<00:15, 1738.79it/s]RDKit WARNING: [12:59:14] WARNING:  Problems/mismatches: Mobile-H( Hydrogens: Locations or number, Number; Charge(s): Do not match)\n",
      "RDKit WARNING: [12:59:14] WARNING:  (Metal compound) Problems/mismatches: Mobile-H( Hydrogens: Locations or number, Number; Charge(s): Do not match; Proton balance: Does not match)\n",
      "RDKit WARNING: [12:59:17] WARNING:  Problems/mismatches: Mobile-H( Hydrogens: Number; Mobile-H groups: Number; Charge(s): Do not match)\n",
      "RDKit WARNING: [12:59:18] WARNING: not removing hydrogen atom without neighbors\n",
      "RDKit WARNING: [12:59:18] WARNING: not removing hydrogen atom without neighbors\n",
      "RDKit WARNING: [12:59:18] WARNING: not removing hydrogen atom without neighbors\n",
      " 27%|██▋       | 10116/37360 [00:06<00:15, 1726.95it/s]RDKit ERROR: [12:59:17] ERROR: Explicit valence for atom # 8 N, 5, is greater than permitted\n",
      "RDKit ERROR: [12:59:18] Explicit valence for atom # 11 N, 4, is greater than permitted\n",
      " 28%|██▊       | 10290/37360 [00:06<00:15, 1730.07it/s]RDKit ERROR: [12:59:18] ERROR: Explicit valence for atom # 11 N, 4, is greater than permitted\n",
      "RDKit ERROR: [12:59:18] Explicit valence for atom # 15 N, 4, is greater than permitted\n",
      " 31%|███       | 11434/37360 [00:07<00:17, 1498.04it/s]RDKit ERROR: [12:59:18] ERROR: Explicit valence for atom # 15 N, 4, is greater than permitted\n",
      "RDKit ERROR: [12:59:19] Explicit valence for atom # 8 B, 6, is greater than permitted\n",
      "RDKit WARNING: [12:59:19] WARNING:  Problems/mismatches: Mobile-H( Hydrogens: Number; Mobile-H groups: Number; Charge(s): Do not match)\n",
      "RDKit WARNING: [12:59:19] WARNING:  Problems/mismatches: Mobile-H( Stereo centers/allenes: Extra undefined)\n",
      "RDKit WARNING: [12:59:19] WARNING:  Problems/mismatches: Mobile-H( Stereo centers/allenes: Extra undefined)\n",
      "RDKit WARNING: [12:59:19] WARNING:  Problems/mismatches: Mobile-H( Hydrogens: Number; Mobile-H groups: One instead of multiple, Number; Charge(s): Do not match; Proton balance: Does not match)\n",
      "RDKit WARNING: [12:59:19] WARNING: not removing hydrogen atom without neighbors\n",
      "RDKit WARNING: [12:59:19] WARNING: not removing hydrogen atom without neighbors\n",
      "RDKit WARNING: [12:59:19] WARNING: not removing hydrogen atom without neighbors\n",
      "RDKit WARNING: [12:59:19] WARNING: not removing hydrogen atom without neighbors\n",
      " 32%|███▏      | 11780/37360 [00:07<00:15, 1607.28it/s]RDKit ERROR: [12:59:19] ERROR: Explicit valence for atom # 8 B, 6, is greater than permitted\n",
      "RDKit ERROR: [12:59:19] Explicit valence for atom # 7 N, 5, is greater than permitted\n",
      "RDKit ERROR: [12:59:19] ERROR: Explicit valence for atom # 7 N, 5, is greater than permitted\n",
      "RDKit ERROR: [12:59:19] Explicit valence for atom # 12 N, 5, is greater than permitted\n",
      " 32%|███▏      | 11942/37360 [00:07<00:16, 1586.68it/s]RDKit WARNING: [12:59:19] Allene-style stereochemistry is not supported yet and will be ignored.\n",
      " 35%|███▌      | 13161/37360 [00:08<00:14, 1616.98it/s]RDKit ERROR: [12:59:19] ERROR: Explicit valence for atom # 12 N, 5, is greater than permitted\n",
      "RDKit ERROR: [12:59:20] Explicit valence for atom # 3 C, 5, is greater than permitted\n",
      " 36%|███▌      | 13324/37360 [00:08<00:15, 1595.41it/s]RDKit ERROR: [12:59:20] ERROR: Explicit valence for atom # 3 C, 5, is greater than permitted\n",
      "RDKit ERROR: [12:59:20] Explicit valence for atom # 55 Mg, 6, is greater than permitted\n",
      "RDKit ERROR: [12:59:20] ERROR: Explicit valence for atom # 55 Mg, 6, is greater than permitted\n",
      "RDKit ERROR: [12:59:20] Explicit valence for atom # 55 Mg, 4, is greater than permitted\n",
      " 36%|███▌      | 13484/37360 [00:08<00:15, 1569.26it/s]RDKit ERROR: [12:59:20] ERROR: Explicit valence for atom # 55 Mg, 4, is greater than permitted\n",
      "RDKit ERROR: [12:59:20] Explicit valence for atom # 21 S, 8, is greater than permitted\n",
      " 37%|███▋      | 13806/37360 [00:08<00:15, 1542.47it/s]RDKit ERROR: [12:59:20] ERROR: Explicit valence for atom # 21 S, 8, is greater than permitted\n",
      "RDKit ERROR: [12:59:20] Explicit valence for atom # 6 N, 5, is greater than permitted\n",
      " 37%|███▋      | 13961/37360 [00:08<00:15, 1493.66it/s]RDKit WARNING: [12:59:19] WARNING:  (Metal compound)Disconnected:  Problems/mismatches: Mobile-H( Stereobonds/cumulenes: Missing known) Fixed-H( Stereobonds/cumulenes: Missing known)\n",
      "RDKit WARNING: [12:59:20] WARNING:  Problems/mismatches: Mobile-H( Hydrogens: Number; Mobile-H groups: Number; Charge(s): Do not match)\n",
      "RDKit WARNING: [12:59:20] WARNING:  (Metal compound) Problems/mismatches: Mobile-H( Hydrogens: Locations or number; Mobile-H groups: Attachment points, Number) Fixed-H( Hydrogens: Fixed-H); Disconnected:  Mobile-H( Hydrogens: Locations or number, Number; Mobile-H groups: One instead of multiple, Attachment points, Number; Charge(s): Do not match; Proton balance: Does not match; Stereobonds/cumulenes: Missing known) Fixed-H( Hydrogens: Fixed-H; Stereobonds/cumulenes: Missing known)\n",
      "RDKit WARNING: [12:59:20] WARNING:  (Metal compound) Problems/mismatches: Mobile-H( Hydrogens: Locations or number, Number; Charge(s): Do not match; Proton balance: Does not match) Fixed-H( Hydrogens: Fixed-H); Disconnected:  Mobile-H( Hydrogens: Number; Mobile-H groups: One instead of multiple, Number; Charge(s): Do not match; Proton balance: Does not match)\n",
      "RDKit WARNING: [12:59:20] WARNING:  Problems/mismatches: Mobile-H( Stereo centers/allenes: Extra undefined)\n",
      "RDKit WARNING: [12:59:20] WARNING:  (Metal compound) Problems/mismatches: Mobile-H( Hydrogens: Locations or number, Number; Charge(s): Do not match; Proton balance: Does not match)\n",
      "RDKit WARNING: [12:59:21] WARNING:  (Metal compound)Disconnected:  Problems/mismatches: Mobile-H( Charge(s): Do not match) Fixed-H( Charge(s): Do not match)\n",
      "RDKit WARNING: [12:59:21] Cannot assign bond directions!\n",
      " 38%|███▊      | 14111/37360 [00:08<00:17, 1348.78it/s]RDKit WARNING: [12:59:21] WARNING: not removing hydrogen atom without neighbors\n",
      "RDKit ERROR: [12:59:20] ERROR: Explicit valence for atom # 6 N, 5, is greater than permitted\n",
      "RDKit ERROR: [12:59:21] Explicit valence for atom # 0 Cl, 3, is greater than permitted\n",
      " 39%|███▊      | 14423/37360 [00:08<00:16, 1367.60it/s]RDKit ERROR: [12:59:21] ERROR: Explicit valence for atom # 0 Cl, 3, is greater than permitted\n",
      "RDKit ERROR: [12:59:21] Explicit valence for atom # 0 C, 5, is greater than permitted\n",
      " 39%|███▉      | 14706/37360 [00:09<00:17, 1332.25it/s]RDKit ERROR: [12:59:21] ERROR: Explicit valence for atom # 0 C, 5, is greater than permitted\n",
      "RDKit ERROR: [12:59:21] Explicit valence for atom # 65 Mg, 4, is greater than permitted\n",
      " 40%|███▉      | 14868/37360 [00:09<00:15, 1411.88it/s]RDKit ERROR: [12:59:21] ERROR: Explicit valence for atom # 65 Mg, 4, is greater than permitted\n",
      "RDKit ERROR: [12:59:21] Explicit valence for atom # 64 Mg, 4, is greater than permitted\n",
      "RDKit ERROR: [12:59:21] ERROR: Explicit valence for atom # 64 Mg, 4, is greater than permitted\n",
      "RDKit ERROR: [12:59:21] Explicit valence for atom # 64 Mg, 4, is greater than permitted\n",
      "RDKit ERROR: [12:59:21] ERROR: Explicit valence for atom # 64 Mg, 4, is greater than permitted\n",
      "RDKit ERROR: [12:59:21] Explicit valence for atom # 64 Mg, 4, is greater than permitted\n",
      "RDKit ERROR: [12:59:21] ERROR: Explicit valence for atom # 64 Mg, 4, is greater than permitted\n",
      "RDKit ERROR: [12:59:21] Explicit valence for atom # 64 Mg, 4, is greater than permitted\n",
      "RDKit ERROR: [12:59:21] ERROR: Explicit valence for atom # 64 Mg, 4, is greater than permitted\n",
      "RDKit ERROR: [12:59:21] Explicit valence for atom # 8 Cl, 5, is greater than permitted\n",
      " 40%|████      | 15011/37360 [00:09<00:16, 1349.53it/s]RDKit ERROR: [12:59:21] ERROR: Explicit valence for atom # 8 Cl, 5, is greater than permitted\n",
      "RDKit ERROR: [12:59:21] Explicit valence for atom # 1 N, 5, is greater than permitted\n",
      " 41%|████      | 15148/37360 [00:09<00:16, 1336.90it/s]RDKit WARNING: [12:59:21] WARNING:  (Metal compound)Disconnected:  Problems/mismatches: Mobile-H( Mobile-H groups: Attachment points, Number; Charge(s): Do not match) Fixed-H( Charge(s): Do not match; Stereobonds/cumulenes: Missing known)\n",
      "RDKit WARNING: [12:59:21] WARNING:  (Metal compound)Disconnected:  Problems/mismatches: Mobile-H( Hydrogens: Number; Mobile-H groups: Number; Charge(s): Do not match; Proton balance: Does not match; Stereobonds/cumulenes: Missing known) Fixed-H( Charge(s): Do not match; Stereobonds/cumulenes: Missing known)\n",
      "RDKit WARNING: [12:59:21] WARNING:  (Metal compound)Disconnected:  Problems/mismatches: Mobile-H( Charge(s): Do not match)\n",
      "RDKit WARNING: [12:59:21] WARNING:  Problems/mismatches: Mobile-H( Hydrogens: Number; Mobile-H groups: Number; Charge(s): Do not match)\n",
      "RDKit WARNING: [12:59:21] WARNING:  (Metal compound)Disconnected:  Problems/mismatches: Mobile-H( Charge(s): Do not match)\n",
      "RDKit WARNING: [12:59:21] WARNING:  (Metal compound)Disconnected:  Problems/mismatches: Mobile-H( Hydrogens: Number; Mobile-H groups: Multiple instead of one, Attachment points, Number; Charge(s): Do not match; Proton balance: Does not match) Fixed-H( Charge(s): Do not match; Stereobonds/cumulenes: Missing known)\n",
      "RDKit WARNING: [12:59:21] WARNING:  (Metal compound)Disconnected:  Problems/mismatches: Mobile-H( Charge(s): Do not match)\n",
      "RDKit WARNING: [12:59:21] WARNING:  (Metal compound)Disconnected:  Problems/mismatches: Mobile-H( Charge(s): Do not match)\n",
      "RDKit WARNING: [12:59:21] WARNING:  (Metal compound)Disconnected:  Problems/mismatches: Mobile-H( Charge(s): Do not match)\n",
      "RDKit WARNING: [12:59:21] WARNING:  (Metal compound)Disconnected:  Problems/mismatches: Mobile-H( Hydrogens: Number; Mobile-H groups: Multiple instead of one, Attachment points, Number; Charge(s): Do not match; Proton balance: Does not match; Stereobonds/cumulenes: Missing known) Fixed-H( Charge(s): Do not match; Stereobonds/cumulenes: Missing known)\n",
      "RDKit WARNING: [12:59:21] WARNING:  (Metal compound)Disconnected:  Problems/mismatches: Mobile-H( Stereobonds/cumulenes: Missing known) Fixed-H( Stereobonds/cumulenes: Missing known)\n",
      "RDKit WARNING: [12:59:21] WARNING: not removing hydrogen atom without neighbors\n",
      "RDKit WARNING: [12:59:21] WARNING: not removing hydrogen atom without neighbors\n",
      "RDKit WARNING: [12:59:22] WARNING: not removing hydrogen atom without neighbors\n",
      " 42%|████▏     | 15628/37360 [00:09<00:14, 1514.58it/s]RDKit WARNING: [12:59:22] WARNING:  Problems/mismatches: Mobile-H( Hydrogens: Locations or number, Number; Charge(s): Do not match)\n",
      "RDKit WARNING: [12:59:22] WARNING:  (Metal compound)Disconnected:  Problems/mismatches: Mobile-H( Stereobonds/cumulenes: Missing known) Fixed-H( Stereobonds/cumulenes: Missing known)\n",
      "RDKit WARNING: [12:59:22] WARNING:  (Metal compound)Disconnected:  Problems/mismatches: Mobile-H( Stereobonds/cumulenes: Missing known) Fixed-H( Stereobonds/cumulenes: Missing known)\n",
      "RDKit WARNING: [12:59:22] WARNING: not removing hydrogen atom without neighbors\n",
      "RDKit ERROR: [12:59:21] ERROR: Explicit valence for atom # 1 N, 5, is greater than permitted\n",
      "RDKit ERROR: [12:59:22] Explicit valence for atom # 24 Be, 3, is greater than permitted\n",
      "RDKit ERROR: [12:59:22] ERROR: Explicit valence for atom # 24 Be, 3, is greater than permitted\n",
      "RDKit ERROR: [12:59:22] Explicit valence for atom # 25 Be, 4, is greater than permitted\n",
      " 42%|████▏     | 15796/37360 [00:09<00:13, 1560.51it/s]RDKit ERROR: [12:59:22] ERROR: Explicit valence for atom # 25 Be, 4, is greater than permitted\n",
      "RDKit ERROR: [12:59:22] Explicit valence for atom # 20 N, 4, is greater than permitted\n",
      "RDKit ERROR: [12:59:22] ERROR: Explicit valence for atom # 20 N, 4, is greater than permitted\n",
      "RDKit ERROR: [12:59:22] Explicit valence for atom # 38 O, 3, is greater than permitted\n",
      "RDKit ERROR: [12:59:22] ERROR: Explicit valence for atom # 38 O, 3, is greater than permitted\n",
      "RDKit ERROR: [12:59:22] Explicit valence for atom # 23 N, 4, is greater than permitted\n",
      " 43%|████▎     | 15953/37360 [00:10<00:14, 1456.10it/s]RDKit ERROR: [12:59:22] ERROR: Explicit valence for atom # 23 N, 4, is greater than permitted\n",
      "RDKit ERROR: [12:59:22] Explicit valence for atom # 13 C, 6, is greater than permitted\n",
      "RDKit ERROR: [12:59:22] ERROR: Explicit valence for atom # 13 C, 6, is greater than permitted\n",
      "RDKit ERROR: [12:59:22] Explicit valence for atom # 24 N, 4, is greater than permitted\n",
      " 48%|████▊     | 18104/37360 [00:11<00:12, 1598.30it/s]RDKit ERROR: [12:59:22] ERROR: Explicit valence for atom # 24 N, 4, is greater than permitted\n",
      "RDKit ERROR: [12:59:23] Explicit valence for atom # 26 O, 4, is greater than permitted\n",
      " 49%|████▉     | 18421/37360 [00:11<00:12, 1511.27it/s]RDKit ERROR: [12:59:23] ERROR: Explicit valence for atom # 26 O, 4, is greater than permitted\n",
      "RDKit ERROR: [12:59:24] Explicit valence for atom # 36 N, 4, is greater than permitted\n",
      " 50%|████▉     | 18576/37360 [00:11<00:12, 1520.93it/s]RDKit ERROR: [12:59:24] ERROR: Explicit valence for atom # 36 N, 4, is greater than permitted\n",
      "RDKit ERROR: [12:59:24] Explicit valence for atom # 48 N, 4, is greater than permitted\n",
      " 51%|█████▏    | 19206/37360 [00:12<00:12, 1455.73it/s]RDKit WARNING: [12:59:22] WARNING:  (Metal compound)Disconnected:  Problems/mismatches: Mobile-H( Hydrogens: Number; Mobile-H groups: Number; Charge(s): Do not match; Proton balance: Does not match; Stereobonds/cumulenes: Missing known) Fixed-H( Charge(s): Do not match; Stereobonds/cumulenes: Missing known)\n",
      "RDKit WARNING: [12:59:22] WARNING:  (Metal compound) Problems/mismatches: Mobile-H( Mobile-H groups: One instead of multiple, Attachment points, Number); Disconnected:  Mobile-H( Hydrogens: Number; Mobile-H groups: Number; Charge(s): Do not match; Proton balance: Does not match) Fixed-H( Charge(s): Do not match; Stereobonds/cumulenes: Missing known)\n",
      "RDKit WARNING: [12:59:23] WARNING:  Problems/mismatches: Mobile-H( Hydrogens: Locations or number; Mobile-H groups: Falsely present, Attachment points)\n",
      "RDKit WARNING: [12:59:23] WARNING:  Problems/mismatches: Mobile-H( Hydrogens: Number; Mobile-H groups: Number; Charge(s): Do not match)\n",
      "RDKit WARNING: [12:59:23] WARNING:  Problems/mismatches: Mobile-H( Hydrogens: Locations or number; Mobile-H groups: Attachment points, Number)\n",
      "RDKit WARNING: [12:59:23] WARNING:  Problems/mismatches: Mobile-H( Hydrogens: Locations or number; Mobile-H groups: Attachment points, Number)\n",
      "RDKit WARNING: [12:59:23] WARNING:  Problems/mismatches: Mobile-H( Hydrogens: Locations or number; Mobile-H groups: Attachment points, Number)\n",
      "RDKit WARNING: [12:59:23] WARNING:  (Metal compound)Disconnected:  Problems/mismatches: Mobile-H( Hydrogens: Number; Mobile-H groups: Multiple instead of one, Attachment points, Number; Charge(s): Do not match; Proton balance: Does not match; Stereobonds/cumulenes: Missing known) Fixed-H( Charge(s): Do not match; Stereobonds/cumulenes: Missing known)\n",
      "RDKit WARNING: [12:59:24] WARNING:  (Metal compound) Problems/mismatches: Mobile-H( Hydrogens: Locations or number, Number; Charge(s): Do not match; Proton balance: Does not match)\n",
      "RDKit WARNING: [12:59:24] WARNING:  (Metal compound) Problems/mismatches: Mobile-H( Stereo centers/allenes: Extra undefined)\n",
      "RDKit WARNING: [12:59:24] WARNING:  (Metal compound)Disconnected:  Problems/mismatches: Mobile-H( Charge(s): Do not match)\n",
      "RDKit WARNING: [12:59:24] WARNING:  Problems/mismatches: Mobile-H( Hydrogens: Number; Mobile-H groups: Number; Charge(s): Do not match)\n",
      "RDKit WARNING: [12:59:24] WARNING:  Problems/mismatches: Mobile-H( Hydrogens: Number; Mobile-H groups: Number; Charge(s): Do not match)\n",
      "RDKit WARNING: [12:59:24] WARNING: not removing hydrogen atom without neighbors\n",
      "RDKit WARNING: [12:59:24] WARNING: not removing hydrogen atom without neighbors\n",
      " 52%|█████▏    | 19502/37360 [00:12<00:12, 1417.90it/s]RDKit ERROR: [12:59:24] ERROR: Explicit valence for atom # 48 N, 4, is greater than permitted\n",
      "RDKit ERROR: [12:59:24] Explicit valence for atom # 42 Ga, 7, is greater than permitted\n",
      " 55%|█████▍    | 20488/37360 [00:12<00:10, 1566.19it/s]RDKit ERROR: [12:59:24] ERROR: Explicit valence for atom # 42 Ga, 7, is greater than permitted\n",
      "RDKit ERROR: [12:59:25] Explicit valence for atom # 18 C, 5, is greater than permitted\n",
      " 55%|█████▌    | 20647/37360 [00:13<00:10, 1526.46it/s]RDKit ERROR: [12:59:25] ERROR: Explicit valence for atom # 18 C, 5, is greater than permitted\n",
      "RDKit ERROR: [12:59:25] Explicit valence for atom # 34 Mg, 6, is greater than permitted\n",
      " 56%|█████▌    | 20801/37360 [00:13<00:11, 1488.00it/s]RDKit WARNING: [12:59:24] WARNING:  Problems/mismatches: Mobile-H( Hydrogens: Number; Mobile-H groups: Number; Charge(s): Do not match)\n",
      "RDKit WARNING: [12:59:24] WARNING:  Problems/mismatches: Mobile-H( Hydrogens: Number; Mobile-H groups: Number; Charge(s): Do not match)\n",
      "RDKit WARNING: [12:59:25] WARNING:  Problems/mismatches: Mobile-H( Hydrogens: Number; Mobile-H groups: Number; Charge(s): Do not match)\n",
      "RDKit WARNING: [12:59:25] WARNING:  (Metal compound)Disconnected:  Problems/mismatches: Mobile-H( Hydrogens: Number; Mobile-H groups: Number; Charge(s): Do not match; Proton balance: Does not match; Stereobonds/cumulenes: Wrong parity) Fixed-H( Charge(s): Do not match; Stereobonds/cumulenes: Wrong parity)\n",
      "RDKit WARNING: [12:59:25] WARNING:  (Metal compound)Disconnected:  Problems/mismatches: Mobile-H( Charge(s): Do not match)\n",
      "RDKit WARNING: [12:59:25] WARNING:  (Metal compound)Disconnected:  Problems/mismatches: Mobile-H( Charge(s): Do not match)\n",
      "RDKit WARNING: [12:59:25] WARNING:  (Metal compound) Problems/mismatches: Mobile-H( Hydrogens: Locations or number, Number; Charge(s): Do not match; Proton balance: Does not match); Disconnected:  Mobile-H( Charge(s): Do not match)\n",
      "RDKit WARNING: [12:59:25] WARNING:  (Metal compound)Disconnected:  Problems/mismatches: Mobile-H( Hydrogens: Number; Mobile-H groups: Multiple instead of one, Attachment points, Number; Charge(s): Do not match; Proton balance: Does not match; Stereobonds/cumulenes: Missing known) Fixed-H( Charge(s): Do not match; Stereobonds/cumulenes: Missing known)\n",
      "RDKit WARNING: [12:59:25] WARNING:  (Metal compound)Disconnected:  Problems/mismatches: Mobile-H( Hydrogens: Number; Mobile-H groups: Multiple instead of one, Attachment points, Number; Charge(s): Do not match; Proton balance: Does not match; Stereobonds/cumulenes: Missing known) Fixed-H( Charge(s): Do not match; Stereobonds/cumulenes: Missing known)\n",
      "RDKit WARNING: [12:59:25] WARNING:  (Metal compound)Disconnected:  Problems/mismatches: Mobile-H( Hydrogens: Number; Mobile-H groups: Multiple instead of one, Attachment points, Number; Charge(s): Do not match; Proton balance: Does not match; Stereobonds/cumulenes: Missing known) Fixed-H( Charge(s): Do not match; Stereobonds/cumulenes: Missing known)\n",
      "RDKit WARNING: [12:59:25] WARNING:  (Metal compound)Disconnected:  Problems/mismatches: Mobile-H( Charge(s): Do not match)\n",
      "RDKit WARNING: [12:59:25] WARNING:  (Metal compound)Disconnected:  Problems/mismatches: Mobile-H( Charge(s): Do not match)\n",
      "RDKit WARNING: [12:59:25] WARNING:  (Metal compound)Disconnected:  Problems/mismatches: Mobile-H( Hydrogens: Number; Mobile-H groups: Number; Charge(s): Do not match; Proton balance: Does not match) Fixed-H( Charge(s): Do not match; Stereobonds/cumulenes: Missing known)\n",
      "RDKit WARNING: [12:59:25] WARNING:  (Metal compound)Disconnected:  Problems/mismatches: Mobile-H( Mobile-H groups: Attachment points, Number; Charge(s): Do not match) Fixed-H( Charge(s): Do not match; Stereobonds/cumulenes: Missing known)\n",
      "RDKit WARNING: [12:59:25] Cannot assign bond directions!\n",
      " 56%|█████▌    | 20976/37360 [00:13<00:10, 1562.31it/s]RDKit WARNING: [12:59:25] WARNING:  (Metal compound)Disconnected:  Problems/mismatches: Mobile-H( Hydrogens: Number; Mobile-H groups: Multiple instead of one, Attachment points, Number; Charge(s): Do not match; Proton balance: Does not match; Stereobonds/cumulenes: Missing known) Fixed-H( Charge(s): Do not match; Stereobonds/cumulenes: Missing known)\n",
      "RDKit WARNING: [12:59:25] Cannot assign bond directions!\n",
      " 58%|█████▊    | 21686/37360 [00:13<00:09, 1731.99it/s]RDKit WARNING: [12:59:26] WARNING:  Problems/mismatches: Mobile-H( Isotopic: Atoms do not match; Exchangeable isotopic H: Do not match)\n",
      "RDKit WARNING: [12:59:26] WARNING: not removing hydrogen atom without neighbors\n",
      "RDKit ERROR: [12:59:25] ERROR: Explicit valence for atom # 34 Mg, 6, is greater than permitted\n",
      "RDKit ERROR: [12:59:26] Explicit valence for atom # 20 N, 4, is greater than permitted\n",
      " 59%|█████▊    | 21865/37360 [00:13<00:08, 1748.15it/s]RDKit ERROR: [12:59:26] ERROR: Explicit valence for atom # 20 N, 4, is greater than permitted\n",
      "RDKit ERROR: [12:59:26] Explicit valence for atom # 1 N, 5, is greater than permitted\n",
      " 59%|█████▉    | 22050/37360 [00:13<00:08, 1777.49it/s]RDKit ERROR: [12:59:26] ERROR: Explicit valence for atom # 1 N, 5, is greater than permitted\n",
      "RDKit ERROR: [12:59:26] Explicit valence for atom # 8 N, 4, is greater than permitted\n",
      " 62%|██████▏   | 23276/37360 [00:14<00:08, 1640.13it/s]RDKit ERROR: [12:59:26] ERROR: Explicit valence for atom # 8 N, 4, is greater than permitted\n",
      "RDKit ERROR: [12:59:27] Explicit valence for atom # 24 N, 4, is greater than permitted\n",
      " 63%|██████▎   | 23441/37360 [00:14<00:08, 1554.73it/s]RDKit ERROR: [12:59:27] ERROR: Explicit valence for atom # 24 N, 4, is greater than permitted\n",
      "RDKit ERROR: [12:59:27] Explicit valence for atom # 36 O, 4, is greater than permitted\n",
      " 63%|██████▎   | 23598/37360 [00:14<00:09, 1497.63it/s]RDKit ERROR: [12:59:27] ERROR: Explicit valence for atom # 36 O, 4, is greater than permitted\n",
      "RDKit ERROR: [12:59:27] Explicit valence for atom # 3 Mg, 4, is greater than permitted\n",
      " 64%|██████▎   | 23771/37360 [00:15<00:08, 1561.32it/s]RDKit ERROR: [12:59:27] ERROR: Explicit valence for atom # 3 Mg, 4, is greater than permitted\n",
      "RDKit ERROR: [12:59:27] Explicit valence for atom # 25 S, 8, is greater than permitted\n",
      " 66%|██████▋   | 24813/37360 [00:15<00:07, 1683.14it/s]RDKit ERROR: [12:59:27] ERROR: Explicit valence for atom # 25 S, 8, is greater than permitted\n",
      "RDKit ERROR: [12:59:27] ERROR: *Conversion failed on component(s) 1(C26H32N2O5)\n",
      "RDKit ERROR: [12:59:28] Explicit valence for atom # 68 Na, 6, is greater than permitted\n",
      " 67%|██████▋   | 25171/37360 [00:15<00:07, 1709.98it/s]RDKit ERROR: [12:59:28] ERROR: Explicit valence for atom # 68 Na, 6, is greater than permitted\n",
      "RDKit ERROR: [12:59:28] Explicit valence for atom # 25 C, 5, is greater than permitted\n",
      " 69%|██████▉   | 25688/37360 [00:16<00:06, 1704.67it/s]RDKit ERROR: [12:59:28] ERROR: Explicit valence for atom # 25 C, 5, is greater than permitted\n",
      "RDKit ERROR: [12:59:28] Explicit valence for atom # 30 N, 5, is greater than permitted\n",
      "RDKit ERROR: [12:59:28] ERROR: Explicit valence for atom # 30 N, 5, is greater than permitted\n",
      "RDKit ERROR: [12:59:28] Explicit valence for atom # 34 N, 5, is greater than permitted\n",
      "RDKit ERROR: [12:59:28] ERROR: Explicit valence for atom # 34 N, 5, is greater than permitted\n",
      "RDKit ERROR: [12:59:28] Explicit valence for atom # 21 Be, 3, is greater than permitted\n",
      " 70%|██████▉   | 26034/37360 [00:16<00:06, 1716.77it/s]RDKit ERROR: [12:59:28] ERROR: Explicit valence for atom # 21 Be, 3, is greater than permitted\n",
      "RDKit ERROR: [12:59:28] Explicit valence for atom # 8 B, 6, is greater than permitted\n",
      " 70%|███████   | 26206/37360 [00:16<00:06, 1707.50it/s]RDKit ERROR: [12:59:28] ERROR: Explicit valence for atom # 8 B, 6, is greater than permitted\n",
      "RDKit ERROR: [12:59:28] Explicit valence for atom # 19 B, 7, is greater than permitted\n",
      " 71%|███████   | 26545/37360 [00:16<00:06, 1647.64it/s]RDKit WARNING: [12:59:26] WARNING:  Problems/mismatches: Mobile-H( Stereo centers/allenes: Extra undefined)\n",
      "RDKit WARNING: [12:59:27] WARNING:  Problems/mismatches: Mobile-H( Hydrogens: Locations or number; Mobile-H groups: Attachment points, Number)\n",
      "RDKit WARNING: [12:59:28] WARNING:  Problems/mismatches: Mobile-H( Hydrogens: Locations or number; Mobile-H groups: Missing, Attachment points)\n",
      "RDKit WARNING: [12:59:28] WARNING:  (Metal compound) Problems/mismatches: Mobile-H( Hydrogens: Locations or number, Number; Charge(s): Do not match; Proton balance: Does not match)\n",
      "RDKit WARNING: [12:59:28] WARNING:  (Metal compound) Problems/mismatches: Mobile-H( Hydrogens: Number; Mobile-H groups: Falsely present, Attachment points; Charge(s): Do not match; Proton balance: Does not match); Disconnected:  Mobile-H( Hydrogens: Number; Mobile-H groups: Multiple instead of one, Attachment points, Number; Charge(s): Do not match; Proton balance: Does not match; Stereobonds/cumulenes: Missing known) Fixed-H( Charge(s): Do not match; Stereobonds/cumulenes: Missing known)\n",
      "RDKit WARNING: [12:59:28] WARNING:  (Metal compound) Problems/mismatches: Mobile-H( Hydrogens: Locations or number, Number; Charge(s): Do not match; Proton balance: Does not match)\n",
      "RDKit WARNING: [12:59:28] WARNING:  (Metal compound)Disconnected:  Problems/mismatches: Mobile-H( Stereobonds/cumulenes: Missing known) Fixed-H( Stereobonds/cumulenes: Missing known)\n",
      "RDKit WARNING: [12:59:28] WARNING:  (Metal compound) Problems/mismatches: Mobile-H( Hydrogens: Locations or number, Number; Charge(s): Do not match; Proton balance: Does not match)\n",
      "RDKit WARNING: [12:59:29] WARNING:  Problems/mismatches: Mobile-H( Hydrogens: Locations or number, Number; Mobile-H groups: Attachment points, Number; Charge(s): Do not match; Proton balance: Does not match)\n",
      "RDKit WARNING: [12:59:29] Allene-style stereochemistry is not supported yet and will be ignored.\n",
      " 72%|███████▏  | 26873/37360 [00:16<00:06, 1621.65it/s]RDKit ERROR: [12:59:28] ERROR: Explicit valence for atom # 19 B, 7, is greater than permitted\n",
      "RDKit ERROR: [12:59:29] Explicit valence for atom # 22 Be, 3, is greater than permitted\n",
      "RDKit ERROR: [12:59:29] ERROR: Explicit valence for atom # 22 Be, 3, is greater than permitted\n",
      "RDKit ERROR: [12:59:29] Explicit valence for atom # 25 S, 8, is greater than permitted\n",
      "RDKit ERROR: [12:59:29] ERROR: Explicit valence for atom # 25 S, 8, is greater than permitted\n",
      "RDKit ERROR: [12:59:29] Explicit valence for atom # 25 S, 8, is greater than permitted\n",
      " 72%|███████▏  | 27059/37360 [00:16<00:06, 1690.97it/s]RDKit ERROR: [12:59:29] ERROR: Explicit valence for atom # 25 S, 8, is greater than permitted\n",
      "RDKit ERROR: [12:59:29] Explicit valence for atom # 0 N, 5, is greater than permitted\n",
      "RDKit WARNING: [12:59:29] WARNING:  (Metal compound)Disconnected:  Problems/mismatches: Mobile-H( Charge(s): Do not match)\n",
      "RDKit WARNING: [12:59:29] WARNING:  (Metal compound) Problems/mismatches: Mobile-H( Hydrogens: Locations or number, Number; Charge(s): Do not match; Proton balance: Does not match)\n",
      "RDKit WARNING: [12:59:29] WARNING: not removing hydrogen atom without neighbors\n",
      "RDKit WARNING: [12:59:29] WARNING: not removing hydrogen atom without neighbors\n",
      " 73%|███████▎  | 27229/37360 [00:17<00:06, 1660.38it/s]RDKit ERROR: [12:59:29] ERROR: Explicit valence for atom # 0 N, 5, is greater than permitted\n",
      "RDKit ERROR: [12:59:29] Explicit valence for atom # 19 N, 5, is greater than permitted\n",
      " 74%|███████▍  | 27575/37360 [00:17<00:05, 1660.47it/s]RDKit ERROR: [12:59:29] ERROR: Explicit valence for atom # 19 N, 5, is greater than permitted\n",
      "RDKit ERROR: [12:59:29] Explicit valence for atom # 8 O, 4, is greater than permitted\n",
      "RDKit WARNING: [12:59:29] WARNING:  (Metal compound) Problems/mismatches: Mobile-H( Hydrogens: Locations or number, Number; Charge(s): Do not match; Proton balance: Does not match)\n",
      "RDKit WARNING: [12:59:29] WARNING:  (Metal compound) Problems/mismatches: Mobile-H( Hydrogens: Locations or number, Number; Charge(s): Do not match; Proton balance: Does not match)\n",
      "RDKit WARNING: [12:59:29] WARNING: not removing hydrogen atom without neighbors\n",
      " 74%|███████▍  | 27742/37360 [00:17<00:06, 1601.45it/s]RDKit ERROR: [12:59:29] ERROR: Explicit valence for atom # 8 O, 4, is greater than permitted\n",
      "RDKit ERROR: [12:59:29] Explicit valence for atom # 25 N, 4, is greater than permitted\n",
      "RDKit ERROR: [12:59:29] ERROR: Explicit valence for atom # 25 N, 4, is greater than permitted\n",
      "RDKit ERROR: [12:59:29] Explicit valence for atom # 21 Be, 3, is greater than permitted\n",
      " 75%|███████▍  | 27903/37360 [00:17<00:05, 1582.36it/s]RDKit ERROR: [12:59:29] ERROR: Explicit valence for atom # 21 Be, 3, is greater than permitted\n",
      "RDKit ERROR: [12:59:30] Explicit valence for atom # 8 B, 6, is greater than permitted\n",
      "RDKit ERROR: [12:59:30] ERROR: Explicit valence for atom # 8 B, 6, is greater than permitted\n",
      "RDKit ERROR: [12:59:30] Explicit valence for atom # 19 N, 5, is greater than permitted\n",
      " 75%|███████▌  | 28062/37360 [00:17<00:05, 1572.50it/s]RDKit ERROR: [12:59:30] ERROR: Explicit valence for atom # 19 N, 5, is greater than permitted\n",
      "RDKit ERROR: [12:59:30] Explicit valence for atom # 8 B, 4, is greater than permitted\n",
      "RDKit ERROR: [12:59:30] ERROR: Explicit valence for atom # 8 B, 4, is greater than permitted\n",
      "RDKit ERROR: [12:59:30] Explicit valence for atom # 7 B, 6, is greater than permitted\n",
      "RDKit ERROR: [12:59:30] ERROR: Explicit valence for atom # 7 B, 6, is greater than permitted\n",
      "RDKit ERROR: [12:59:30] Explicit valence for atom # 7 B, 6, is greater than permitted\n",
      " 76%|███████▌  | 28220/37360 [00:17<00:05, 1535.24it/s]RDKit ERROR: [12:59:30] ERROR: Explicit valence for atom # 7 B, 6, is greater than permitted\n",
      "RDKit ERROR: [12:59:30] Explicit valence for atom # 8 B, 6, is greater than permitted\n",
      " 76%|███████▌  | 28392/37360 [00:17<00:05, 1586.68it/s]RDKit ERROR: [12:59:30] ERROR: Explicit valence for atom # 8 B, 6, is greater than permitted\n",
      "RDKit ERROR: [12:59:30] Explicit valence for atom # 5 B, 4, is greater than permitted\n",
      "RDKit ERROR: [12:59:30] ERROR: Explicit valence for atom # 5 B, 4, is greater than permitted\n",
      "RDKit ERROR: [12:59:30] Explicit valence for atom # 6 C, 6, is greater than permitted\n",
      "RDKit ERROR: [12:59:30] ERROR: Explicit valence for atom # 6 C, 6, is greater than permitted\n",
      "RDKit ERROR: [12:59:30] Explicit valence for atom # 6 C, 6, is greater than permitted\n",
      "RDKit ERROR: [12:59:30] ERROR: Explicit valence for atom # 6 C, 6, is greater than permitted\n",
      "RDKit ERROR: [12:59:30] Explicit valence for atom # 6 C, 6, is greater than permitted\n",
      "RDKit ERROR: [12:59:30] ERROR: Explicit valence for atom # 6 C, 6, is greater than permitted\n",
      "RDKit ERROR: [12:59:30] Explicit valence for atom # 3 C, 5, is greater than permitted\n",
      " 77%|███████▋  | 28729/37360 [00:18<00:05, 1634.54it/s]RDKit ERROR: [12:59:30] ERROR: Explicit valence for atom # 3 C, 5, is greater than permitted\n",
      "RDKit ERROR: [12:59:30] Explicit valence for atom # 21 O, 3, is greater than permitted\n",
      "RDKit WARNING: [12:59:29] WARNING:  Problems/mismatches: Mobile-H( Hydrogens: Locations or number, Number; Charge(s): Do not match)\n",
      "RDKit WARNING: [12:59:29] WARNING:  (Metal compound)Disconnected:  Problems/mismatches: Mobile-H( Charge(s): Do not match)\n",
      "RDKit WARNING: [12:59:30] WARNING:  Problems/mismatches: Mobile-H( Hydrogens: Locations or number; Mobile-H groups: Falsely present, Attachment points)\n",
      "RDKit WARNING: [12:59:30] WARNING:  (Metal compound) Problems/mismatches: Mobile-H( Hydrogens: Locations or number, Number; Charge(s): Do not match; Proton balance: Does not match) Fixed-H( Hydrogens: Fixed-H); Disconnected:  Mobile-H( Charge(s): Do not match)\n",
      "RDKit WARNING: [12:59:30] Allene-style stereochemistry is not supported yet and will be ignored.\n",
      " 77%|███████▋  | 28893/37360 [00:18<00:05, 1634.59it/s]RDKit ERROR: [12:59:30] ERROR: Explicit valence for atom # 21 O, 3, is greater than permitted\n",
      "RDKit ERROR: [12:59:30] Explicit valence for atom # 35 Mg, 6, is greater than permitted\n",
      "RDKit ERROR: [12:59:30] ERROR: Explicit valence for atom # 35 Mg, 6, is greater than permitted\n",
      "RDKit ERROR: [12:59:30] Explicit valence for atom # 21 Be, 4, is greater than permitted\n",
      " 78%|███████▊  | 29057/37360 [00:18<00:05, 1629.42it/s]RDKit ERROR: [12:59:30] ERROR: Explicit valence for atom # 21 Be, 4, is greater than permitted\n",
      "RDKit ERROR: [12:59:30] Explicit valence for atom # 19 N, 4, is greater than permitted\n",
      "RDKit ERROR: [12:59:30] ERROR: Explicit valence for atom # 19 N, 4, is greater than permitted\n",
      "RDKit ERROR: [12:59:30] Explicit valence for atom # 0 N, 5, is greater than permitted\n",
      " 79%|███████▉  | 29422/37360 [00:18<00:04, 1730.34it/s]RDKit ERROR: [12:59:30] ERROR: Explicit valence for atom # 0 N, 5, is greater than permitted\n",
      "RDKit ERROR: [12:59:30] Explicit valence for atom # 2 C, 5, is greater than permitted\n",
      "RDKit ERROR: [12:59:30] ERROR: Explicit valence for atom # 2 C, 5, is greater than permitted\n",
      "RDKit ERROR: [12:59:30] Explicit valence for atom # 10 B, 6, is greater than permitted\n",
      "RDKit ERROR: [12:59:30] ERROR: Explicit valence for atom # 10 B, 6, is greater than permitted\n",
      "RDKit ERROR: [12:59:30] Explicit valence for atom # 3 C, 5, is greater than permitted\n",
      "RDKit ERROR: [12:59:30] ERROR: Explicit valence for atom # 3 C, 5, is greater than permitted\n",
      "RDKit ERROR: [12:59:30] Explicit valence for atom # 11 B, 6, is greater than permitted\n",
      "RDKit ERROR: [12:59:30] ERROR: Explicit valence for atom # 11 B, 6, is greater than permitted\n",
      "RDKit ERROR: [12:59:30] Explicit valence for atom # 6 C, 5, is greater than permitted\n",
      "RDKit ERROR: [12:59:30] ERROR: Explicit valence for atom # 6 C, 5, is greater than permitted\n",
      "RDKit ERROR: [12:59:30] Explicit valence for atom # 5 C, 5, is greater than permitted\n",
      "RDKit ERROR: [12:59:30] ERROR: Explicit valence for atom # 5 C, 5, is greater than permitted\n",
      "RDKit ERROR: [12:59:30] Explicit valence for atom # 4 C, 5, is greater than permitted\n",
      "RDKit ERROR: [12:59:30] ERROR: Explicit valence for atom # 4 C, 5, is greater than permitted\n",
      "RDKit ERROR: [12:59:30] Explicit valence for atom # 1 C, 5, is greater than permitted\n",
      "RDKit ERROR: [12:59:30] ERROR: Explicit valence for atom # 1 C, 5, is greater than permitted\n",
      "RDKit ERROR: [12:59:30] Explicit valence for atom # 9 B, 6, is greater than permitted\n",
      "RDKit ERROR: [12:59:30] ERROR: Explicit valence for atom # 9 B, 6, is greater than permitted\n",
      "RDKit ERROR: [12:59:30] Explicit valence for atom # 10 B, 6, is greater than permitted\n",
      " 81%|████████  | 30104/37360 [00:18<00:04, 1651.09it/s]RDKit ERROR: [12:59:30] ERROR: Explicit valence for atom # 10 B, 6, is greater than permitted\n",
      "RDKit ERROR: [12:59:31] Explicit valence for atom # 19 N, 5, is greater than permitted\n",
      " 81%|████████▏ | 30444/37360 [00:19<00:04, 1588.50it/s]RDKit ERROR: [12:59:31] ERROR: Explicit valence for atom # 19 N, 5, is greater than permitted\n",
      "RDKit ERROR: [12:59:31] Explicit valence for atom # 26 N, 4, is greater than permitted\n",
      " 82%|████████▏ | 30626/37360 [00:19<00:04, 1653.04it/s]RDKit ERROR: [12:59:31] ERROR: Explicit valence for atom # 26 N, 4, is greater than permitted\n",
      "RDKit ERROR: [12:59:31] Explicit valence for atom # 0 N, 5, is greater than permitted\n",
      " 87%|████████▋ | 32411/37360 [00:20<00:02, 1794.86it/s]RDKit WARNING: [12:59:30] WARNING:  (Metal compound)Disconnected:  Problems/mismatches: Mobile-H( Charge(s): Do not match; Stereobonds/cumulenes: Missing known)\n",
      "RDKit WARNING: [12:59:30] WARNING:  Problems/mismatches: Mobile-H( Hydrogens: Locations or number; Mobile-H groups: Missing, Attachment points)\n",
      "RDKit WARNING: [12:59:31] WARNING:  (Metal compound)Disconnected:  Problems/mismatches: Mobile-H( Charge(s): Do not match)\n",
      "RDKit WARNING: [12:59:31] WARNING:  (Metal compound)Disconnected:  Problems/mismatches: Mobile-H( Charge(s): Do not match)\n",
      "RDKit WARNING: [12:59:32] WARNING:  (Metal compound)Disconnected:  Problems/mismatches: Mobile-H( Charge(s): Do not match)\n",
      "RDKit WARNING: [12:59:32] WARNING:  (Metal compound)Disconnected:  Problems/mismatches: Mobile-H( Charge(s): Do not match)\n",
      "RDKit WARNING: [12:59:32] WARNING: not removing hydrogen atom without neighbors\n",
      " 87%|████████▋ | 32591/37360 [00:20<00:02, 1752.09it/s]RDKit WARNING: [12:59:32] WARNING: not removing hydrogen atom without neighbors\n",
      " 90%|████████▉ | 33505/37360 [00:20<00:02, 1801.52it/s]RDKit ERROR: [12:59:31] ERROR: Explicit valence for atom # 0 N, 5, is greater than permitted\n",
      "RDKit ERROR: [12:59:33] Explicit valence for atom # 15 N, 5, is greater than permitted\n",
      " 90%|█████████ | 33686/37360 [00:20<00:02, 1749.21it/s]RDKit ERROR: [12:59:33] ERROR: Explicit valence for atom # 15 N, 5, is greater than permitted\n",
      "RDKit ERROR: [12:59:33] Explicit valence for atom # 35 N, 5, is greater than permitted\n",
      " 91%|█████████ | 34029/37360 [00:21<00:02, 1649.16it/s]RDKit ERROR: [12:59:33] ERROR: Explicit valence for atom # 35 N, 5, is greater than permitted\n",
      "RDKit ERROR: [12:59:33] Explicit valence for atom # 21 B, 5, is greater than permitted\n",
      " 94%|█████████▍| 35279/37360 [00:21<00:01, 1742.53it/s]RDKit ERROR: [12:59:33] ERROR: Explicit valence for atom # 21 B, 5, is greater than permitted\n",
      "RDKit ERROR: [12:59:34] Explicit valence for atom # 60 O, 4, is greater than permitted\n",
      " 95%|█████████▍| 35468/37360 [00:21<00:01, 1785.65it/s]RDKit ERROR: [12:59:34] ERROR: Explicit valence for atom # 60 O, 4, is greater than permitted\n",
      "RDKit ERROR: [12:59:34] Explicit valence for atom # 4 C, 5, is greater than permitted\n",
      "RDKit ERROR: [12:59:34] ERROR: Explicit valence for atom # 4 C, 5, is greater than permitted\n",
      "RDKit ERROR: [12:59:34] Explicit valence for atom # 25 N, 4, is greater than permitted\n",
      " 95%|█████████▌| 35648/37360 [00:22<00:00, 1726.74it/s]RDKit ERROR: [12:59:34] ERROR: Explicit valence for atom # 25 N, 4, is greater than permitted\n",
      "RDKit ERROR: [12:59:34] Explicit valence for atom # 18 N, 4, is greater than permitted\n",
      " 97%|█████████▋| 36367/37360 [00:22<00:00, 1716.68it/s]RDKit ERROR: [12:59:34] ERROR: Explicit valence for atom # 18 N, 4, is greater than permitted\n",
      "RDKit ERROR: [12:59:35] Explicit valence for atom # 8 N, 5, is greater than permitted\n",
      "100%|█████████▉| 37216/37360 [00:23<00:00, 1559.86it/s]RDKit ERROR: [12:59:35] ERROR: Explicit valence for atom # 8 N, 5, is greater than permitted\n",
      "RDKit ERROR: [12:59:35] Explicit valence for atom # 19 C, 5, is greater than permitted\n",
      "100%|██████████| 37360/37360 [00:23<00:00, 1615.45it/s]\n"
     ]
    }
   ],
   "source": [
    "### GET INTERESTING LIGANDS\n",
    "\n",
    "###../data/PDB and LIGAND_PDB mapping --> https://www.ebi.ac.uk/thornton-srv/databases/pdbsum/data/lig_pairs.lst\n",
    "###  2. PDB and HET_PDB mapping --> https://www.ebi.ac.uk/thornton-srv/databases/pdbsum/data/het_pairs.lst\n",
    "###  3. Mapping 3-letter PDB code with inchi --> http://ligand-expo.rcsb.org/ld-download.html\n",
    "\n",
    "pdbcode_to_inchi = pd.read_csv(\"../data/PDB/mapping/Components-inchi.ich.txt\", sep=\"\\t\", header=None, names=['inchi', 'PDB', 'name'], usecols=[0,1])  \n",
    "# From df to dict's  // PDB-LIGs\n",
    "d = {}\n",
    "for i,j in zip(pdbcode_to_inchi['inchi'], pdbcode_to_inchi['PDB']):\n",
    "    if str(j) == 'nan': j = \"NA\"\n",
    "    d[str(j)] = i\n",
    "pdbcode_to_inchi = d; del d\n",
    "\n",
    "interesting_ligands = set()\n",
    "\n",
    "for lig in tqdm.tqdm(sorted(pdbcode_to_inchi)):\n",
    "    inchi = pdbcode_to_inchi[lig]\n",
    "    if \"-\" not in lig and lig not in maestro_blacklist and lig not in nat_aa and good_ligand(inchi) is True:\n",
    "        interesting_ligands.add(lig)"
   ]
  },
  {
   "cell_type": "code",
   "execution_count": 4,
   "id": "dd7889b5-fd06-4f77-baa9-60f2ba301766",
   "metadata": {
    "tags": []
   },
   "outputs": [],
   "source": [
    "### FIND INTERESTING PDBS\n",
    "\n",
    "pdbs_intlig = {}  # Interesting ligands\n",
    "pdbs_lig = {}  # Non interesting ligands\n",
    "pdbs_het = {}  # Other (e.g. non std residues)\n",
    "\n",
    "with open(\"../data/PDB/mapping/lig_pairs.lst.txt\", \"r\") as f:\n",
    "    for l in f:\n",
    "        pdb = l.split(\":\")[0].strip()\n",
    "        ligs = [i.strip().strip(\"_\") for i in l.split(\":\")[1].split(\";\")[:-1]]\n",
    "        intligs = [i for i in ligs if i in interesting_ligands]\n",
    "        ligs = [j for i in ligs for j in i.split(\"-\") if j not in intligs]\n",
    "        if len(ligs) > 0:\n",
    "            pdbs_lig[pdb] = ligs\n",
    "        if len(intligs) > 0:\n",
    "            pdbs_intlig[pdb] = intligs\n",
    "            \n",
    "with open(\"../data/PDB/mapping/het_pairs.lst.txt\", \"r\") as f:\n",
    "    for l in f:\n",
    "        pdb = l.split(\":\")[0].strip()\n",
    "        hets = [i.strip() for i in l.split(\":\")[1].split(\";\")[:-1]]\n",
    "        if len(hets) > 0:\n",
    "            pdbs_het[pdb] = hets\n",
    "            \n",
    "ligands = [j for i in sorted(pdbs_intlig) for j in pdbs_intlig[i]]"
   ]
  },
  {
   "cell_type": "code",
   "execution_count": 5,
   "id": "1307b057-2047-41cf-94ac-e488dcf384c7",
   "metadata": {},
   "outputs": [],
   "source": [
    "### PREPARE THE DATAFRAME"
   ]
  },
  {
   "cell_type": "code",
   "execution_count": 6,
   "id": "740ad32d-1dd1-499a-9cdf-efb29772ef37",
   "metadata": {},
   "outputs": [],
   "source": [
    "# File obtained from https://ftp.ebi.ac.uk/pub/databases/pdb/derived_data/pdb_entry_type.txt\n",
    "pdb_to_entrytype = pd.read_csv(\"../data/PDB/mapping/pdb_entry_type.txt\", sep=\"\\t\", header=None, names=['PDB', 'type', 'method'])\n",
    "pdb_to_entrytype = {i: j for i,j in zip(pdb_to_entrytype['PDB'], pdb_to_entrytype['type'])}"
   ]
  },
  {
   "cell_type": "code",
   "execution_count": 7,
   "id": "e7b9cbbf-7d12-4344-a936-0aeebeb7fd83",
   "metadata": {},
   "outputs": [
    {
     "name": "stdout",
     "output_type": "stream",
     "text": [
      "581541\n",
      "575729\n"
     ]
    }
   ],
   "source": [
    "pdb_chain_to_uniprot = {}\n",
    "df = pd.read_csv(\"/aloy/home/acomajuncosa/Other_Datasets/Mappings/pdb_chain_uniprot.tsv\", skiprows=1, sep='\\t')\n",
    "for i, j, k in zip(df['PDB'], df['CHAIN'], df['SP_PRIMARY']):  ## realment volem la info de cath?\n",
    "    if str(i) + \"_\" + str(j) not in pdb_chain_to_uniprot:\n",
    "        pdb_chain_to_uniprot[str(i) + \"_\" + str(j)] = []\n",
    "    pdb_chain_to_uniprot[str(i) + \"_\" + str(j)].append(k)\n",
    "    \n",
    "for i in pdb_chain_to_uniprot:\n",
    "    pdb_chain_to_uniprot[i] = sorted(set(pdb_chain_to_uniprot[i]))\n",
    "\n",
    "print(len(pdb_chain_to_uniprot))\n",
    "for i in sorted(pdb_chain_to_uniprot):\n",
    "    if len(pdb_chain_to_uniprot[i]) != 1:\n",
    "        del pdb_chain_to_uniprot[i]\n",
    "print(len(pdb_chain_to_uniprot))"
   ]
  },
  {
   "cell_type": "code",
   "execution_count": 8,
   "id": "1b297bf9-f115-419b-9090-f39f413fead3",
   "metadata": {},
   "outputs": [],
   "source": [
    "data = []\n",
    "\n",
    "for pdb in sorted(pdbs_intlig):\n",
    "    # Interesting ligands\n",
    "    for intlig in pdbs_intlig[pdb]:\n",
    "        # Non interesting ligands\n",
    "        lig = []\n",
    "        if pdb in pdbs_lig:\n",
    "            lig.extend(pdbs_lig[pdb])\n",
    "        if pdb in pdbs_intlig:\n",
    "            lig.extend([i for i in pdbs_intlig[pdb] if i != intlig])\n",
    "        if len(lig) == 0:\n",
    "            lig = np.nan\n",
    "        else:\n",
    "            lig = \",\".join(lig)\n",
    "        # Hetatms\n",
    "        try:\n",
    "            het = pdbs_het[pdb]\n",
    "            het = [i for i in het if i not in pdbs_intlig[pdb]]\n",
    "            if pdb in pdbs_lig:\n",
    "                het = [i for i in het if i not in pdbs_lig[pdb]]\n",
    "            if len(het) == 0:\n",
    "                het = np.nan\n",
    "            else:\n",
    "                het = \",\".join(het)\n",
    "        except:\n",
    "            het = np.nan\n",
    "            \n",
    "        if pdb in pdb_to_entrytype:\n",
    "            data.append([pdb.upper(), intlig, lig, het, pdb_to_entrytype[pdb]])\n",
    "        else:\n",
    "            data.append([pdb.upper(), intlig, lig, het, 'Undefined'])\n",
    "    \n",
    "data = pd.DataFrame(data, columns=['PDB', 'INT_LIG', 'LIG', 'HET', 'type'])\n",
    "data = data.loc[data['type'] == 'prot'].reset_index()\n",
    "del data['index']"
   ]
  },
  {
   "cell_type": "code",
   "execution_count": 9,
   "id": "231d5621-89b1-4196-b3d5-df0f8e722781",
   "metadata": {},
   "outputs": [
    {
     "name": "stdout",
     "output_type": "stream",
     "text": [
      "Number of PDBs: 67582\n",
      "Number of ligands: 86110 (caution, each lig is considered once in each st)\n",
      "Number of ligands [unique]: 28937\n"
     ]
    }
   ],
   "source": [
    "print(\"Number of PDBs: \" + str(len(set(data['PDB']))))\n",
    "print(\"Number of ligands: \" + str(len(data['INT_LIG'])) + \" (caution, each lig is considered once in each st)\")\n",
    "print(\"Number of ligands [unique]: \" + str(len(set(data['INT_LIG']))))"
   ]
  },
  {
   "cell_type": "code",
   "execution_count": 10,
   "id": "0a002573-5f91-4bc4-a9c8-f7aec59104d5",
   "metadata": {},
   "outputs": [],
   "source": [
    "elements = []\n",
    "for i, j, k, l in zip(data['PDB'], data['INT_LIG'], data['LIG'], data['HET']):\n",
    "    if type(k) == str and type(l) == str:\n",
    "        elements.append([i, j, k.split(\",\"), l.split(\",\")])\n",
    "    if type(k) != str and type(l) != str:\n",
    "        elements.append([i, j, np.nan, np.nan])\n",
    "    if type(k) == str and type(l) != str:\n",
    "        elements.append([i, j, k.split(\",\"), np.nan])\n",
    "    if type(k) != str and type(l) == str:\n",
    "        elements.append([i, j, np.nan, l.split(\",\")])\n",
    "\n",
    "elements = np.array_split(np.array(elements, dtype='object'), 3000)"
   ]
  },
  {
   "cell_type": "code",
   "execution_count": 261,
   "id": "cd4f7654-056e-41f6-9a9b-6594c74469e9",
   "metadata": {},
   "outputs": [
    {
     "name": "stderr",
     "output_type": "stream",
     "text": [
      "2022-06-08 11:49:45,107 hpc.HPC      [DEBUG   ] HPC system to use: sge\n",
      "2022-06-08 11:49:45,108 hpc.HPC      [DEBUG   ] initializing object sge\n"
     ]
    }
   ],
   "source": [
    "import sys\n",
    "sys.path.insert(0, '/aloy/home/acomajuncosa/programs/hpc') #CHANGE THIS PATH TO YOUR HPC PATH!\n",
    "from hpc import HPC\n",
    "from sbnb_config import config as cluster_config\n",
    "\n",
    "scratch_path = \"/aloy/scratch/acomajuncosa/MurD/PDB/prep1\" \n",
    "script_path = \"/aloy/home/acomajuncosa/MurD/GitHub/osa-murd/pocketvec/PDB/scripts/prepare_sts_PDB_LIG.py\"\n",
    "\n",
    "cluster_config['queue'] = 'all.q@pac-one301'\n",
    "\n",
    "ncpus = 2\n",
    "cluster = HPC(**cluster_config)\n",
    "njobs = len(elements)\n",
    "\n",
    "cluster_params = {}\n",
    "cluster_params['job_name'] = 'murd_pdb1'\n",
    "cluster_params[\"jobdir\"] = scratch_path\n",
    "cluster_params[\"memory\"] = ncpus\n",
    "cluster_params['cpu'] = ncpus\n",
    "cluster_params[\"wait\"] = False\n",
    "cluster_params[\"elements\"] = elements\n",
    "cluster_params[\"num_jobs\"] = len(elements)\n",
    "\n",
    "\n",
    "singularity_image = \"/aloy/home/acomajuncosa/images/image_2021_09_stprep.simg\"\n",
    "command = \"singularity exec {} python {} <TASK_ID> <FILE>\".format(\n",
    "singularity_image,\n",
    "script_path)\n",
    "\n",
    "cluster.submitMultiJob(command, **cluster_params)"
   ]
  },
  {
   "cell_type": "code",
   "execution_count": 22,
   "id": "7c919543-fd96-4306-9f29-f11719dfff61",
   "metadata": {
    "tags": []
   },
   "outputs": [
    {
     "name": "stderr",
     "output_type": "stream",
     "text": [
      "100%|██████████| 3008/3008 [00:58<00:00, 51.14it/s] \n"
     ]
    }
   ],
   "source": [
    "path = \"/aloy/scratch/acomajuncosa/MurD/PDB/prep1\"\n",
    "error = set()\n",
    "\n",
    "for file in tqdm.tqdm(sorted(os.listdir(path))):\n",
    "    if '.o' in file:\n",
    "        with open(os.path.join(path, file), \"r\") as f:\n",
    "            for l in f:\n",
    "                if \"error\" in l.lower() and \"error_status = f_fix(opts, data_to_fix)\" not in l:\n",
    "                    print(file)\n",
    "                    print(l)\n",
    "                    error.add(file)\n",
    "                    break"
   ]
  },
  {
   "cell_type": "code",
   "execution_count": 23,
   "id": "2f8a031b-fa22-4016-8af1-855c42b3907a",
   "metadata": {},
   "outputs": [
    {
     "name": "stderr",
     "output_type": "stream",
     "text": [
      "100%|██████████| 2998/2998 [00:23<00:00, 125.42it/s]\n"
     ]
    }
   ],
   "source": [
    "path = \"/aloy/home/acomajuncosa/MurD/GitHub/summary\"\n",
    "results = []\n",
    "\n",
    "for summary in tqdm.tqdm(sorted(os.listdir(path))):\n",
    "    df = pd.read_csv(os.path.join(path, summary), sep='\\t', names=['PDB', 'INT LIG', 'count', 'chain', 'free', 'bound', 'acc'])\n",
    "    results.append(df)\n",
    "\n",
    "results = pd.concat(results, axis=0, ignore_index=True)\n",
    "# results_accessible = results.loc[(results['Accessibility'] != \"-\") & (results['Accessibility'].isnull() == False)]\n",
    "# results_accessible = results_accessible.astype({\"Accessibility\": float})\n",
    "results['pdb_chain'] = [\"_\".join([i.lower(),j]) for i,j in zip(results['PDB'], results['chain'])]\n",
    "results['uniprot'] = [pdb_chain_to_uniprot[i][0] if i in pdb_chain_to_uniprot and len(pdb_chain_to_uniprot[i]) == 1 else \"-\" for i in results['pdb_chain']]"
   ]
  },
  {
   "cell_type": "code",
   "execution_count": 24,
   "id": "761bf003-772e-4aab-9cf4-cb465d6961f3",
   "metadata": {},
   "outputs": [
    {
     "data": {
      "text/html": [
       "<div>\n",
       "<style scoped>\n",
       "    .dataframe tbody tr th:only-of-type {\n",
       "        vertical-align: middle;\n",
       "    }\n",
       "\n",
       "    .dataframe tbody tr th {\n",
       "        vertical-align: top;\n",
       "    }\n",
       "\n",
       "    .dataframe thead th {\n",
       "        text-align: right;\n",
       "    }\n",
       "</style>\n",
       "<table border=\"1\" class=\"dataframe\">\n",
       "  <thead>\n",
       "    <tr style=\"text-align: right;\">\n",
       "      <th></th>\n",
       "      <th>PDB</th>\n",
       "      <th>INT LIG</th>\n",
       "      <th>count</th>\n",
       "      <th>chain</th>\n",
       "      <th>free</th>\n",
       "      <th>bound</th>\n",
       "      <th>acc</th>\n",
       "      <th>pdb_chain</th>\n",
       "      <th>uniprot</th>\n",
       "    </tr>\n",
       "  </thead>\n",
       "  <tbody>\n",
       "    <tr>\n",
       "      <th>0</th>\n",
       "      <td>10GS</td>\n",
       "      <td>VWW</td>\n",
       "      <td>0</td>\n",
       "      <td>A</td>\n",
       "      <td>691.513</td>\n",
       "      <td>183.685</td>\n",
       "      <td>0.266</td>\n",
       "      <td>10gs_A</td>\n",
       "      <td>P09211</td>\n",
       "    </tr>\n",
       "    <tr>\n",
       "      <th>1</th>\n",
       "      <td>10GS</td>\n",
       "      <td>VWW</td>\n",
       "      <td>1</td>\n",
       "      <td>B</td>\n",
       "      <td>691.303</td>\n",
       "      <td>182.659</td>\n",
       "      <td>0.264</td>\n",
       "      <td>10gs_B</td>\n",
       "      <td>P09211</td>\n",
       "    </tr>\n",
       "    <tr>\n",
       "      <th>2</th>\n",
       "      <td>11BA</td>\n",
       "      <td>UPA</td>\n",
       "      <td>0</td>\n",
       "      <td>A</td>\n",
       "      <td>730.93</td>\n",
       "      <td>260.606</td>\n",
       "      <td>0.357</td>\n",
       "      <td>11ba_A</td>\n",
       "      <td>P00669</td>\n",
       "    </tr>\n",
       "    <tr>\n",
       "      <th>3</th>\n",
       "      <td>11BA</td>\n",
       "      <td>UPA</td>\n",
       "      <td>1</td>\n",
       "      <td>B</td>\n",
       "      <td>735.787</td>\n",
       "      <td>251.835</td>\n",
       "      <td>0.342</td>\n",
       "      <td>11ba_B</td>\n",
       "      <td>P00669</td>\n",
       "    </tr>\n",
       "    <tr>\n",
       "      <th>4</th>\n",
       "      <td>11BG</td>\n",
       "      <td>U2G</td>\n",
       "      <td>0</td>\n",
       "      <td>A</td>\n",
       "      <td>NaN</td>\n",
       "      <td>NaN</td>\n",
       "      <td>NaN</td>\n",
       "      <td>11bg_A</td>\n",
       "      <td>P00669</td>\n",
       "    </tr>\n",
       "    <tr>\n",
       "      <th>...</th>\n",
       "      <td>...</td>\n",
       "      <td>...</td>\n",
       "      <td>...</td>\n",
       "      <td>...</td>\n",
       "      <td>...</td>\n",
       "      <td>...</td>\n",
       "      <td>...</td>\n",
       "      <td>...</td>\n",
       "      <td>...</td>\n",
       "    </tr>\n",
       "    <tr>\n",
       "      <th>223211</th>\n",
       "      <td>3TJZ</td>\n",
       "      <td>GNP</td>\n",
       "      <td>1</td>\n",
       "      <td>D</td>\n",
       "      <td>656.971</td>\n",
       "      <td>114.049</td>\n",
       "      <td>0.174</td>\n",
       "      <td>3tjz_D</td>\n",
       "      <td>P11076</td>\n",
       "    </tr>\n",
       "    <tr>\n",
       "      <th>223212</th>\n",
       "      <td>3TK0</td>\n",
       "      <td>FAD</td>\n",
       "      <td>0</td>\n",
       "      <td>A</td>\n",
       "      <td>964.381</td>\n",
       "      <td>138.293</td>\n",
       "      <td>0.143</td>\n",
       "      <td>3tk0_A</td>\n",
       "      <td>P55789</td>\n",
       "    </tr>\n",
       "    <tr>\n",
       "      <th>223213</th>\n",
       "      <td>3TK1</td>\n",
       "      <td>GDP</td>\n",
       "      <td>0</td>\n",
       "      <td>A</td>\n",
       "      <td>585.389</td>\n",
       "      <td>211.223</td>\n",
       "      <td>0.361</td>\n",
       "      <td>3tk1_A</td>\n",
       "      <td>G7CAR0</td>\n",
       "    </tr>\n",
       "    <tr>\n",
       "      <th>223214</th>\n",
       "      <td>3TK1</td>\n",
       "      <td>GDP</td>\n",
       "      <td>1</td>\n",
       "      <td>B</td>\n",
       "      <td>581.093</td>\n",
       "      <td>199.644</td>\n",
       "      <td>0.344</td>\n",
       "      <td>3tk1_B</td>\n",
       "      <td>G7CAR0</td>\n",
       "    </tr>\n",
       "    <tr>\n",
       "      <th>223215</th>\n",
       "      <td>3TK5</td>\n",
       "      <td>D1Q</td>\n",
       "      <td>0</td>\n",
       "      <td>A</td>\n",
       "      <td>801.442</td>\n",
       "      <td>182.275</td>\n",
       "      <td>0.227</td>\n",
       "      <td>3tk5_A</td>\n",
       "      <td>P00742</td>\n",
       "    </tr>\n",
       "  </tbody>\n",
       "</table>\n",
       "<p>223216 rows × 9 columns</p>\n",
       "</div>"
      ],
      "text/plain": [
       "         PDB INT LIG count chain     free    bound    acc pdb_chain uniprot\n",
       "0       10GS     VWW     0     A  691.513  183.685  0.266    10gs_A  P09211\n",
       "1       10GS     VWW     1     B  691.303  182.659  0.264    10gs_B  P09211\n",
       "2       11BA     UPA     0     A   730.93  260.606  0.357    11ba_A  P00669\n",
       "3       11BA     UPA     1     B  735.787  251.835  0.342    11ba_B  P00669\n",
       "4       11BG     U2G     0     A      NaN      NaN    NaN    11bg_A  P00669\n",
       "...      ...     ...   ...   ...      ...      ...    ...       ...     ...\n",
       "223211  3TJZ     GNP     1     D  656.971  114.049  0.174    3tjz_D  P11076\n",
       "223212  3TK0     FAD     0     A  964.381  138.293  0.143    3tk0_A  P55789\n",
       "223213  3TK1     GDP     0     A  585.389  211.223  0.361    3tk1_A  G7CAR0\n",
       "223214  3TK1     GDP     1     B  581.093  199.644  0.344    3tk1_B  G7CAR0\n",
       "223215  3TK5     D1Q     0     A  801.442  182.275  0.227    3tk5_A  P00742\n",
       "\n",
       "[223216 rows x 9 columns]"
      ]
     },
     "execution_count": 24,
     "metadata": {},
     "output_type": "execute_result"
    }
   ],
   "source": [
    "results"
   ]
  },
  {
   "cell_type": "code",
   "execution_count": 25,
   "id": "372c0857-1945-45d8-aad9-f729c18e1902",
   "metadata": {},
   "outputs": [
    {
     "name": "stdout",
     "output_type": "stream",
     "text": [
      "Number of processed PDB-LIG entities: 223216\n",
      "% of entities that failed at ligand representation: 12.29%\n",
      "% of entities that failed at SASA calculation: 15.13%\n",
      "% of entities that failed at first steps: 0.25%\n"
     ]
    }
   ],
   "source": [
    "print(\"Number of processed PDB-LIG entities: \" + str(len(results)))\n",
    "print(\"% of entities that failed at ligand representation: \" + str(round(len(results.loc[results['acc'] == 'failed2']) / len(results) * 100, 2)) + \"%\") \n",
    "print(\"% of entities that failed at SASA calculation: \" + str(round(len(results.loc[results['acc'].isna() == True]) / len(results) * 100, 2)) + \"%\")\n",
    "print(\"% of entities that failed at first steps: \" + str(round(len(results.loc[results['acc'] == 'failed1']) / len(results) * 100, 2)) + \"%\") "
   ]
  },
  {
   "cell_type": "code",
   "execution_count": 26,
   "id": "5f149904-8efe-4f02-bbbd-c2ec006a37d8",
   "metadata": {},
   "outputs": [
    {
     "name": "stdout",
     "output_type": "stream",
     "text": [
      "Number of PDB-LIG entities without errors: 161441\n"
     ]
    }
   ],
   "source": [
    "results = results.loc[results['count'] != '-']\n",
    "results = results.loc[(results['acc'] != 'failed1') & (results['acc'] != 'failed2') & (results['acc'].isna() == False)]\n",
    "results['acc'] = [float(i) for i in results['acc']]\n",
    "print(\"Number of PDB-LIG entities without errors: \" + str(len(results)))"
   ]
  },
  {
   "cell_type": "code",
   "execution_count": null,
   "id": "c51df8bb-1134-47fe-be8b-2e87188dbc2e",
   "metadata": {},
   "outputs": [],
   "source": []
  },
  {
   "cell_type": "code",
   "execution_count": null,
   "id": "36ba6582-0fdd-4a59-bef9-7860058f5eba",
   "metadata": {},
   "outputs": [],
   "source": []
  },
  {
   "cell_type": "code",
   "execution_count": null,
   "id": "b8eda56a-72ee-43b0-8a01-c507ed864ad1",
   "metadata": {},
   "outputs": [],
   "source": []
  },
  {
   "cell_type": "code",
   "execution_count": 27,
   "id": "268f1f1c-29ad-4df7-8a87-f9fb4149f627",
   "metadata": {},
   "outputs": [
    {
     "data": {
      "image/png": "[encoded data removed]",
      "text/plain": [
       "<Figure size 432x288 with 1 Axes>"
      ]
     },
     "metadata": {
      "needs_background": "light"
     },
     "output_type": "display_data"
    }
   ],
   "source": [
    "acc_results = results['acc']\n",
    "\n",
    "plt.hist(acc_results, ec='black', color='orange', bins=[i for i in np.arange(0, 1.001, 0.05)], zorder=2)\n",
    "plt.grid(linestyle='--')\n",
    "plt.xlabel(\"Accessibility\")\n",
    "plt.ylabel(\"Number of PDB-LIG entities\")\n",
    "plt.title(\"Total nº of PDB-LIG entities: \" + str(len(acc_results)), pad=12)\n",
    "plt.tight_layout()\n",
    "plt.savefig(\"/aloy/home/acomajuncosa/MurD/GitHub/osa-murd/pocketvec/PDB/images/accessibility.png\", dpi=300)\n",
    "plt.show()"
   ]
  },
  {
   "cell_type": "code",
   "execution_count": 28,
   "id": "87fb8ce2-ad2b-4ee7-8f60-93e4aa231a71",
   "metadata": {},
   "outputs": [],
   "source": [
    "results = results.loc[results['acc'] < 0.4].sort_values(by='acc').reset_index(drop=True)"
   ]
  },
  {
   "cell_type": "code",
   "execution_count": 29,
   "id": "97f869d5-d755-4b84-a1da-fea1d3304d17",
   "metadata": {},
   "outputs": [
    {
     "name": "stdout",
     "output_type": "stream",
     "text": [
      "130865\n",
      "24887\n"
     ]
    }
   ],
   "source": [
    "print(len(results))\n",
    "print(len(set(results['INT LIG'])))"
   ]
  },
  {
   "cell_type": "code",
   "execution_count": 30,
   "id": "f75ccde2-2d16-4cef-b288-c49c2a351501",
   "metadata": {},
   "outputs": [],
   "source": [
    "count_ligands = Counter(results['INT LIG'])\n",
    "sorted_ligands = sorted(count_ligands, key=lambda x: count_ligands[x])[::-1]\n",
    "top = 20\n",
    "a = np.sum([count_ligands[i] for i in sorted_ligands[:top]])\n",
    "b = np.sum([count_ligands[i] for i in sorted_ligands])"
   ]
  },
  {
   "cell_type": "code",
   "execution_count": 31,
   "id": "8c593fb4-275f-4795-9606-ddfb2f8bcac5",
   "metadata": {},
   "outputs": [
    {
     "data": {
      "image/png": "[encoded data removed]",
      "text/plain": [
       "<Figure size 432x288 with 1 Axes>"
      ]
     },
     "metadata": {
      "needs_background": "light"
     },
     "output_type": "display_data"
    }
   ],
   "source": [
    "%matplotlib inline\n",
    "plt.figure(figsize=(6, 4))\n",
    "plt.grid(linestyle='--', zorder=-2)\n",
    "\n",
    "for c, i in enumerate(sorted_ligands[:top]):\n",
    "    \n",
    "    plt.bar([c], count_ligands[i], color='darkorchid', zorder=2)\n",
    "\n",
    "plt.xticks([i for i in range(top)], [i for i in sorted_ligands[:top]], rotation=90)\n",
    "plt.ylabel(\"Number of ligands\")\n",
    "plt.title(\"TOP-\" + str(top) + \" ligands\\n\" + str(round(a/b*100, 1)) + \" % of ligand space\", pad=12)\n",
    "plt.tight_layout()\n",
    "plt.savefig(\"/aloy/home/acomajuncosa/MurD/GitHub/osa-murd/pocketvec/PDB/images/top_\" + str(top) + \"_ligands_bar.png\", dpi=300)\n",
    "plt.show()\n",
    "\n",
    "mols = [Chem.MolFromInchi(pdbcode_to_inchi[i]) for i in sorted_ligands[:top]]\n",
    "labs = [i for i in sorted_ligands[:top]]\n",
    "\n",
    "img=Chem.Draw.MolsToGridImage(mols,molsPerRow=5,subImgSize=(200,200),legends=labs)    \n",
    "img.save('/aloy/home/acomajuncosa/MurD/GitHub/osa-murd/pocketvec/PDB/images/top_' + str(top) + '_ligands.png')"
   ]
  },
  {
   "cell_type": "code",
   "execution_count": null,
   "id": "860317c0-3722-4b15-80f8-c6ead967ce99",
   "metadata": {},
   "outputs": [],
   "source": []
  },
  {
   "cell_type": "code",
   "execution_count": 35,
   "id": "68d8b1ef-a1b4-42b9-bf5a-4ccb35395b0c",
   "metadata": {},
   "outputs": [],
   "source": [
    "results['redundancy'] = [i + \"_\" + j if i != \"-\" else \"-\" for i, j in zip(results['uniprot'], results['INT LIG'])]"
   ]
  },
  {
   "cell_type": "code",
   "execution_count": 37,
   "id": "471619f8-a087-4872-95a7-dad5663f656e",
   "metadata": {},
   "outputs": [
    {
     "data": {
      "text/plain": [
       "6039"
      ]
     },
     "execution_count": 37,
     "metadata": {},
     "output_type": "execute_result"
    }
   ],
   "source": [
    "len(results.loc[results['redundancy'] == '-'])"
   ]
  },
  {
   "cell_type": "code",
   "execution_count": 41,
   "id": "2caa00ba-02b2-4287-9026-688096ab5ad4",
   "metadata": {},
   "outputs": [
    {
     "data": {
      "text/plain": [
       "47802"
      ]
     },
     "execution_count": 41,
     "metadata": {},
     "output_type": "execute_result"
    }
   ],
   "source": [
    "len(set(results['redundancy'])) - 1 + 6039"
   ]
  },
  {
   "cell_type": "code",
   "execution_count": null,
   "id": "10fb299c-c755-4032-a8fe-944c4e6c91a5",
   "metadata": {},
   "outputs": [],
   "source": []
  },
  {
   "cell_type": "code",
   "execution_count": null,
   "id": "c469a452-e078-40ad-876d-55d733bd7878",
   "metadata": {},
   "outputs": [],
   "source": []
  },
  {
   "cell_type": "code",
   "execution_count": null,
   "id": "55f7a7dc-2b3d-4da6-a0e1-510950fbffe5",
   "metadata": {},
   "outputs": [],
   "source": []
  },
  {
   "cell_type": "code",
   "execution_count": null,
   "id": "d4b56fbf-ab00-40c3-b844-1650c1d58105",
   "metadata": {},
   "outputs": [],
   "source": []
  },
  {
   "cell_type": "code",
   "execution_count": null,
   "id": "c209babb-bc45-4091-9119-388ec4d555f1",
   "metadata": {},
   "outputs": [],
   "source": []
  },
  {
   "cell_type": "code",
   "execution_count": null,
   "id": "883489e1-83ef-4faf-a683-aa319a60164f",
   "metadata": {},
   "outputs": [],
   "source": []
  },
  {
   "cell_type": "code",
   "execution_count": null,
   "id": "6b175ff4-efbe-4d6c-8952-4feca15b40f6",
   "metadata": {},
   "outputs": [],
   "source": []
  },
  {
   "cell_type": "code",
   "execution_count": null,
   "id": "33571aa2-652c-42e5-b904-e8cf2b3ec8e1",
   "metadata": {},
   "outputs": [],
   "source": []
  },
  {
   "cell_type": "code",
   "execution_count": null,
   "id": "3ff788f8-f079-4be6-8c04-2fc8792c25b4",
   "metadata": {},
   "outputs": [],
   "source": []
  },
  {
   "cell_type": "code",
   "execution_count": null,
   "id": "3f72c9a2-4716-47f7-a6d5-ec995a01c722",
   "metadata": {},
   "outputs": [],
   "source": []
  },
  {
   "cell_type": "code",
   "execution_count": null,
   "id": "35f31430-3d40-48ad-89c6-b3f152b5a9a4",
   "metadata": {},
   "outputs": [],
   "source": []
  },
  {
   "cell_type": "code",
   "execution_count": null,
   "id": "1c345ab2-816b-490e-b8a6-53c1dea595f8",
   "metadata": {},
   "outputs": [],
   "source": []
  },
  {
   "cell_type": "code",
   "execution_count": 102,
   "id": "fdda260b-599f-4f03-b899-bfec67af5734",
   "metadata": {},
   "outputs": [
    {
     "name": "stdout",
     "output_type": "stream",
     "text": [
      "503596\n",
      "501214\n"
     ]
    }
   ],
   "source": []
  },
  {
   "cell_type": "code",
   "execution_count": null,
   "id": "e804bac5-f570-4759-9042-f1d8ff2feb50",
   "metadata": {},
   "outputs": [],
   "source": []
  },
  {
   "cell_type": "code",
   "execution_count": 102,
   "id": "96555952-f337-4f1d-abf4-5f030ad6f899",
   "metadata": {},
   "outputs": [],
   "source": [
    "# task_id = 0 \n",
    "\n",
    "# path_to_summary = os.path.join(\"/aloy/home/acomajuncosa/MurD/GitHub/osa-murd/pocketvec/PDB/summary\", \"summary_\" + str(task_id) + \".tsv\")"
   ]
  },
  {
   "cell_type": "code",
   "execution_count": 156,
   "id": "38a277a1-dd5d-4ca3-8f5e-0f950f93ce2e",
   "metadata": {},
   "outputs": [],
   "source": [
    "pdb = \"4D34\"\n",
    "int_lig = 'E2Z'\n",
    "lig = ['SO4']\n",
    "het = ['EFC']\n",
    "\n",
    "path = os.path.join(\"/aloy/home/acomajuncosa/MurD/GitHub/osa-murd/pocketvec/PDB/structures\", pdb[1:3], pdb + \"_\" + int_lig)\n",
    "if os.path.exists(path) is False: os.makedirs(path)"
   ]
  },
  {
   "cell_type": "code",
   "execution_count": 157,
   "id": "b2131b11-9aa7-4c0c-81c9-ef9a13064847",
   "metadata": {},
   "outputs": [],
   "source": [
    "os.chdir(os.path.join(path))\n",
    "\n",
    "### 1. Create directory & download pdb structure\n",
    "with gzip.open('/aloy/home/acomajuncosa/programs/localpdb/mirror/pdb/' + pdb[1:3].lower() + '/pdb' + pdb.lower() + '.ent.gz', 'rb') as f_in:\n",
    "    with open(os.path.join(path, pdb + \".pdb\"), 'wb') as f_out:\n",
    "        shutil.copyfileobj(f_in, f_out)"
   ]
  },
  {
   "cell_type": "code",
   "execution_count": 158,
   "id": "16420b78-53de-4118-ba46-e2edcb35c491",
   "metadata": {},
   "outputs": [],
   "source": [
    "ligands_to_remove = ['W']\n",
    "ligands_to_remove.append(\"H_\" + \" \"*(3-len(int_lig)) + int_lig)\n",
    "ligands_to_remove.append(\"H_\" + int_lig + \" \"*(3-len(int_lig)))\n",
    "if type(lig) == list:\n",
    "    for l in lig:\n",
    "        ligands_to_remove.append(\"H_\" + \" \"*(3-len(l)) + l)\n",
    "        ligands_to_remove.append(\"H_\" + l + \" \"*(3-len(l)))\n",
    "    ligands_to_remove = set(ligands_to_remove)"
   ]
  },
  {
   "cell_type": "code",
   "execution_count": 159,
   "id": "15db0180-1d9d-40e0-838b-2cbbb41829b3",
   "metadata": {
    "collapsed": true,
    "jupyter": {
     "outputs_hidden": true
    },
    "tags": []
   },
   "outputs": [
    {
     "name": "stderr",
     "output_type": "stream",
     "text": [
      "===============================================================================\n",
      "=                   BioBB structure checking utility v3.0.3                   =\n",
      "=                 A. Hospital, P. Andrio, J.L. Gelpi 2018-20                  =\n",
      "===============================================================================\n",
      "\n",
      "Warning: sequence features only available in mmCIF format or with external fasta input\n",
      "Structure /aloy/home/acomajuncosa/MurD/GitHub/osa-murd/pocketvec/PDB/structures/AJ/1AJ2_2PH/1AJ2_st.pdb loaded\n",
      " Title: \n",
      " Experimental method: unknown\n",
      " Resolution: 0.0 A\n",
      "\n",
      " Num. models: 1\n",
      " Num. chains: 1 (A: Protein)\n",
      " Num. residues:  282\n",
      " Num. residues with ins. codes:  0\n",
      " Num. HETATM residues:  0\n",
      " Num. ligands or modified residues:  0\n",
      " Num. water mol.:  0\n",
      " Num. atoms:  2147\n",
      "\n",
      "Running rem_hydrogen. Options: --remove Yes\n",
      "No residues with Hydrogen atoms found\n",
      "Structure not modified, saving due to --force_save option\n",
      "Final Num. models: 1\n",
      "Final Num. chains: 1 (A: Protein)\n",
      "Final Num. residues:  282\n",
      "Final Num. residues with ins. codes:  0\n",
      "Final Num. HETATM residues:  0\n",
      "Final Num. ligands or modified residues:  0\n",
      "Final Num. water mol.:  0\n",
      "Final Num. atoms:  2147\n",
      "Structure saved on /aloy/home/acomajuncosa/MurD/GitHub/osa-murd/pocketvec/PDB/structures/AJ/1AJ2_2PH/1AJ2_hydrogens.pdb\n",
      "\n",
      "\n",
      "===============================================================================\n",
      "=                   BioBB structure checking utility v3.0.3                   =\n",
      "=                 A. Hospital, P. Andrio, J.L. Gelpi 2018-20                  =\n",
      "===============================================================================\n",
      "\n",
      "Warning: sequence features only available in mmCIF format or with external fasta input\n",
      "Structure /aloy/home/acomajuncosa/MurD/GitHub/osa-murd/pocketvec/PDB/structures/AJ/1AJ2_2PH/1AJ2_hydrogens.pdb loaded\n",
      " Title: \n",
      " Experimental method: unknown\n",
      " Resolution: 0.0 A\n",
      "\n",
      " Num. models: 1\n",
      " Num. chains: 1 (A: Protein)\n",
      " Num. residues:  282\n",
      " Num. residues with ins. codes:  0\n",
      " Num. HETATM residues:  0\n",
      " Num. ligands or modified residues:  0\n",
      " Num. water mol.:  0\n",
      " Num. atoms:  2147\n",
      "\n",
      "Running altloc. Options: --select occupancy\n",
      "No residues with alternative location labels detected\n",
      "Structure not modified, saving due to --force_save option\n",
      "Final Num. models: 1\n",
      "Final Num. chains: 1 (A: Protein)\n",
      "Final Num. residues:  282\n",
      "Final Num. residues with ins. codes:  0\n",
      "Final Num. HETATM residues:  0\n",
      "Final Num. ligands or modified residues:  0\n",
      "Final Num. water mol.:  0\n",
      "Final Num. atoms:  2147\n",
      "Structure saved on /aloy/home/acomajuncosa/MurD/GitHub/osa-murd/pocketvec/PDB/structures/AJ/1AJ2_2PH/1AJ2_altloc.pdb\n",
      "\n",
      "\n"
     ]
    },
    {
     "data": {
      "text/plain": [
       "'/aloy/home/acomajuncosa/MurD/GitHub/osa-murd/pocketvec/PDB/structures/AJ/1AJ2_2PH/1AJ2_2PH.pdb'"
      ]
     },
     "execution_count": 159,
     "metadata": {},
     "output_type": "execute_result"
    }
   ],
   "source": [
    "# 2. Remove water molecules and ligands // but not non std residues!\n",
    "parser = PDBParser()\n",
    "path_in = os.path.join(path, pdb + \".pdb\")\n",
    "path_out = path\n",
    "structure = parser.get_structure(\"st\", path_in)\n",
    "\n",
    "class remove_ligs(Select):\n",
    "    def accept_residue(self, residue):\n",
    "        if residue.get_id()[0] not in ligands_to_remove:\n",
    "            return 1\n",
    "        else:\n",
    "            return 0\n",
    "\n",
    "io = PDBIO()\n",
    "io.set_structure(structure)\n",
    "io.save(os.path.join(path, pdb + \"_st.pdb\"), remove_ligs())\n",
    "\n",
    "# 3. Remove hydrogens\n",
    "command = 'python /aloy/home/acomajuncosa/programs/structureChecking/bin/check_structure -i ' + os.path.join(path_out , pdb + '_st.pdb') + ' -o ' + os.path.join(path_out , pdb + '_hydrogens.pdb') + ' --force_save --non_interactive rem_hydrogen --remove Yes'\n",
    "o = os.popen(command).read()\n",
    "sys.stderr.write(o + \"\\n\\n\")\n",
    "sys.stderr.flush()\n",
    "\n",
    "# 4. Select occupancies\n",
    "command = 'python /aloy/home/acomajuncosa/programs/structureChecking/bin/check_structure -i ' + os.path.join(path_out , pdb + '_hydrogens.pdb') + ' -o ' + os.path.join(path_out , pdb + '_altloc.pdb') + ' --force_save --non_interactive altloc --select occupancy'\n",
    "o = os.popen(command).read()\n",
    "sys.stderr.write(o + \"\\n\\n\")\n",
    "sys.stderr.flush()\n",
    "\n",
    "shutil.copyfile(os.path.join(path_out , pdb + '_altloc.pdb'), os.path.join(path_out , pdb + '_' + int_lig + '.pdb'))"
   ]
  },
  {
   "cell_type": "code",
   "execution_count": 160,
   "id": "28505ada-d713-4027-8417-d49eaf7fd278",
   "metadata": {},
   "outputs": [],
   "source": [
    "def get_centroid(infile, outfile):\n",
    "    \n",
    "    parser = PDBParser()\n",
    "    structure = parser.get_structure(\"lig\", infile)\n",
    "\n",
    "    res = [i for i in structure.get_residues()][0]\n",
    "    ligatoms = [at.coord for at in res.get_atoms()]\n",
    "    x = np.mean(np.array(ligatoms)[:,0])\n",
    "    y = np.mean(np.array(ligatoms)[:,1])\n",
    "    z = np.mean(np.array(ligatoms)[:,2])\n",
    "    center = np.array([x, y, z], dtype=np.float32)\n",
    "\n",
    "    x, y, z = str(round(x, 3)), str(round(y, 3)), str(round(z, 3))\n",
    "    ctr = \" \"*(8-len(x)) + x + \" \"*(8-len(y)) + y + \" \"*(8-len(z)) + z\n",
    "    text = \"\"\"HEADER\\nHETATM    1   C  CTR A   1    \"\"\" + ctr + \"\"\"  1.00  1.00           C\\nEND\"\"\"\n",
    "\n",
    "    with open(outfile, \"w\") as f:\n",
    "        f.write(text)"
   ]
  },
  {
   "cell_type": "code",
   "execution_count": 161,
   "id": "7946c613-05ab-44a9-a952-cc35caba9774",
   "metadata": {
    "tags": []
   },
   "outputs": [],
   "source": [
    "parser = PDBParser()\n",
    "structure = parser.get_structure(\"st\", os.path.join(path, pdb + \".pdb\"))\n",
    "interesting_ligands = [i for i in structure.get_residues() if i.get_resname() == int_lig]\n",
    "\n",
    "\n",
    "for c, interesting_ligand in enumerate(interesting_ligands):\n",
    "    \n",
    "    # 5. Select ligand and save it separately\n",
    "    class LigSelect(Select):\n",
    "        def accept_residue(self, residue):\n",
    "            if residue == interesting_ligand:\n",
    "                return 1\n",
    "            else:\n",
    "                return 0\n",
    "            \n",
    "    io = PDBIO()\n",
    "    io.set_structure(structure)\n",
    "    io.save(os.path.join(path, int_lig + \"_\" + str(c) + \".pdb\"), LigSelect())\n",
    "    # command = 'obabel ' + os.path.join(path, int_lig + \"_\" + str(c) + \".pdb\") + \" -O \" + os.path.join(path, int_lig + \"_\" + str(c) + \".sd\")\n",
    "    # os.system(command)\n",
    "    \n",
    "    # Get centroid\n",
    "    get_centroid(os.path.join(path, int_lig + \"_\" + str(c) + \".pdb\"), os.path.join(path, int_lig + \"_\" + str(c) + \"_centroid.pdb\"))\n",
    "    command = 'obabel ' + os.path.join(path, int_lig + \"_\" + str(c) + \"_centroid.pdb\") + \" -O \" + os.path.join(path, int_lig + \"_\" + str(c) + \"_centroid.sd\")\n",
    "    os.system(command)"
   ]
  },
  {
   "cell_type": "code",
   "execution_count": 184,
   "id": "7da86bbc-0ff4-4fdc-be9d-c4d1072df578",
   "metadata": {},
   "outputs": [],
   "source": [
    "def SASA(prot, lig): \n",
    "    \n",
    "    #compute ligand SASA\n",
    "    # lig_h = Chem.rdmolops.AddHs(lig, addCoords=True, explicitOnly=True)\n",
    "    lig_h = lig\n",
    "    # Get Van der Waals radii (angstrom)\n",
    "    ptable = Chem.GetPeriodicTable()\n",
    "    radii = [ptable.GetRvdw(atom.GetAtomicNum()) for atom in lig_h.GetAtoms()]\n",
    "    # Compute solvent accessible surface area\n",
    "    lig_sasa = rdFreeSASA.CalcSASA(lig_h, radii)\n",
    "\n",
    "    # Join protein & ligand\n",
    "    comp = Chem.CombineMols(prot, lig)\n",
    "    # comp_h = Chem.AddHs(comp, addCoords=True)\n",
    "    comp_h = comp\n",
    "    # Get Van der Waals radii (angstrom)\n",
    "    ptable = Chem.GetPeriodicTable()\n",
    "    radii = [ptable.GetRvdw(atom.GetAtomicNum()) for atom in comp_h.GetAtoms()]\n",
    "    # Compute solvent accessible surface area\n",
    "    comp_sasa = rdFreeSASA.CalcSASA(comp_h, radii)\n",
    "    comp_lig = Chem.GetMolFrags(comp_h, asMols=True,  sanitizeFrags=True)\n",
    "    comp_lig = [i for i in comp_lig if lig_h.GetNumHeavyAtoms() == i.GetNumHeavyAtoms()][0]\n",
    "    \n",
    "    lig_sasa_free = 0\n",
    "    for a in lig_h.GetAtoms():\n",
    "        lig_sasa_free += float(a.GetProp(\"SASA\"))\n",
    "\n",
    "    lig_sasa_bound = 0\n",
    "    for a in comp_lig.GetAtoms():\n",
    "        lig_sasa_bound += float(a.GetProp(\"SASA\"))\n",
    "        \n",
    "    return round(lig_sasa_free, 3), round(lig_sasa_bound, 3)"
   ]
  },
  {
   "cell_type": "code",
   "execution_count": 185,
   "id": "1d92ad71-1d2d-4fb4-b6d9-e677aaf04133",
   "metadata": {},
   "outputs": [],
   "source": [
    "# Get SASA\n",
    "prot = Chem.MolFromPDBFile(os.path.join(path, pdb + \"_\" + int_lig + \".pdb\"))\n",
    "lig = Chem.MolFromPDBFile(os.path.join(path, int_lig + \"_\" + str(c) + \".pdb\"))\n",
    "# template = Chem.MolFromInchi(pdbcode_to_inchi[int_lig])\n",
    "# lig = [i for i in lig][0]\n",
    "\n",
    "if lig.GetNumHeavyAtoms() == Chem.MolFromInchi(pdbcode_to_inchi[int_lig]).GetNumHeavyAtoms():\n",
    "    \n",
    "    lig_sasa_free, lig_sasa_bound = SASA(prot, lig)\n",
    "\n",
    "else:\n",
    "    \n",
    "    lig_sasa_free, lig_sasa_bound = np.nan, np.nan\n",
    "    \n",
    "acc = round(lig_sasa_bound / lig_sasa_free, 3)  "
   ]
  },
  {
   "cell_type": "code",
   "execution_count": 188,
   "id": "27049ee4-6530-4bf0-b4a8-a273061e80a2",
   "metadata": {},
   "outputs": [
    {
     "data": {
      "text/plain": [
       "31.343"
      ]
     },
     "execution_count": 188,
     "metadata": {},
     "output_type": "execute_result"
    }
   ],
   "source": [
    "lig_sasa_bound"
   ]
  },
  {
   "cell_type": "code",
   "execution_count": null,
   "id": "786439e1-9a83-4528-b24f-28f07d5b8ccf",
   "metadata": {},
   "outputs": [],
   "source": []
  },
  {
   "cell_type": "code",
   "execution_count": null,
   "id": "cf315063-f8b0-4837-8674-6eadefc80cc0",
   "metadata": {},
   "outputs": [],
   "source": []
  },
  {
   "cell_type": "code",
   "execution_count": null,
   "id": "d8cdcdda-d25b-4ed0-a3a1-4d17772c7324",
   "metadata": {},
   "outputs": [],
   "source": []
  },
  {
   "cell_type": "code",
   "execution_count": 25,
   "id": "be535512-0acf-4108-96ac-4b71740ba187",
   "metadata": {},
   "outputs": [],
   "source": [
    "with open(path_to_summary, \"w\") as outfile:\n",
    "    outfile.write(\"\\t\".join([pdb, int_lig, str(c), str(lig_sasa_free), str(lig_sasa_bound), str(acc)]) + \"\\n\")"
   ]
  },
  {
   "cell_type": "code",
   "execution_count": 26,
   "id": "f8bcaacc-27b7-428c-846d-ff9a1786ff16",
   "metadata": {},
   "outputs": [],
   "source": [
    "path = os.path.join(\"/aloy/home/acomajuncosa/MurD/GitHub/osa-murd/pocketvec/PDB/structures\", pdb[1:3])\n",
    "os.chdir(path)   \n",
    "tar = tarfile.open(pdb + \"_\" + int_lig + \".tar.gz\", \"w:gz\")\n",
    "tar.add(pdb + \"_\" + int_lig)\n",
    "shutil.rmtree(pdb + \"_\" + int_lig)\n",
    "tar.close()"
   ]
  },
  {
   "cell_type": "code",
   "execution_count": 180,
   "id": "a41112e7-3ee2-4d89-b090-0978960e1376",
   "metadata": {},
   "outputs": [
    {
     "data": {
      "text/plain": [
       "'/aloy/home/acomajuncosa/MurD/GitHub/osa-murd/pocketvec/PDB/structures/1A3T_THP'"
      ]
     },
     "execution_count": 180,
     "metadata": {},
     "output_type": "execute_result"
    }
   ],
   "source": [
    "path"
   ]
  },
  {
   "cell_type": "code",
   "execution_count": null,
   "id": "47fd61a1-4ea5-430f-b4f2-a1a52e1bf34c",
   "metadata": {},
   "outputs": [],
   "source": []
  },
  {
   "cell_type": "code",
   "execution_count": null,
   "id": "adc2850f-371b-476e-b21b-0bac8fb0e6e2",
   "metadata": {},
   "outputs": [],
   "source": []
  },
  {
   "cell_type": "code",
   "execution_count": null,
   "id": "e8498b4f-39f7-4668-9084-a36a12b75c4c",
   "metadata": {},
   "outputs": [],
   "source": []
  }
 ],
 "metadata": {
  "kernelspec": {
   "display_name": "Python 3",
   "language": "python",
   "name": "python3"
  },
  "language_info": {
   "codemirror_mode": {
    "name": "ipython",
    "version": 3
   },
   "file_extension": ".py",
   "mimetype": "text/x-python",
   "name": "python",
   "nbconvert_exporter": "python",
   "pygments_lexer": "ipython3",
   "version": "3.7.10"
  }
 },
 "nbformat": 4,
 "nbformat_minor": 5
}
