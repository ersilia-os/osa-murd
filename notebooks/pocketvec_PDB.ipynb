{
 "cells": [
  {
   "cell_type": "code",
   "execution_count": 120,
   "id": "3cb29230-362f-4ae4-9310-405ea9975cb8",
   "metadata": {},
   "outputs": [],
   "source": [
    "from collections import Counter\n",
    "import pandas as pd\n",
    "import numpy as np\n",
    "import tqdm\n",
    "import pickle\n",
    "import matplotlib.pyplot as plt\n",
    "from Bio.PDB import *\n",
    "from rdkit import Chem\n",
    "import os\n",
    "import time\n",
    "import shutil\n",
    "from Bio.SeqUtils import seq1\n",
    "import gzip\n",
    "import tarfile\n",
    "import sys\n",
    "import random\n",
    "from rdkit.Chem import rdFreeSASA\n",
    "from rdkit import Chem\n",
    "from rdkit.Chem.Descriptors import MolWt"
   ]
  },
  {
   "cell_type": "code",
   "execution_count": 121,
   "id": "d234cdaa-c0ec-4793-ba01-dc4e418bf85c",
   "metadata": {},
   "outputs": [],
   "source": [
    "def good_ligand(inchi):\n",
    "    try:\n",
    "        m = Chem.MolFromInchi(inchi)\n",
    "        count_carbons = 0\n",
    "        for i in m.GetAtoms():\n",
    "            if int(i.GetAtomicNum()) == 6:\n",
    "                count_carbons += 1\n",
    "            if count_carbons >= 7:\n",
    "                break\n",
    "        return count_carbons >= 7\n",
    "    except:\n",
    "        return False\n",
    "    \n",
    "\n",
    "# Natural amino acids\n",
    "nat_aa = {'ALA', 'ARG', 'ASN', 'ASP', 'CYS', 'GLN', 'GLU', 'GLY', 'HIS', 'ILE', 'LEU', 'LYS', 'MET', 'PHE', 'PRO', 'SER', 'THR', 'TRP', 'TYR', 'VAL'}\n",
    "maestro_blacklist = set([i.strip() for i in pd.read_csv(\"/aloy/home/acomajuncosa/PocketVec_v2/kinase/PDB/LIG/preprocess/maestro_blacklist.csv\")[' Residue']])\n",
    "# uninteresting_ligands = pickle.load(open(\"/aloy/home/acomajuncosa/Apps_PocketVec/HT/PDB/uninteresting_ligands.pkl\", \"rb\")) ## Not using it, for the moment\n",
    "original_wd = os.getcwd()"
   ]
  },
  {
   "cell_type": "code",
   "execution_count": 122,
   "id": "aafc3fc6-0927-42ce-a3a1-a02afb456645",
   "metadata": {
    "collapsed": true,
    "jupyter": {
     "outputs_hidden": true
    },
    "tags": []
   },
   "outputs": [
    {
     "name": "stderr",
     "output_type": "stream",
     "text": [
      "  0%|          | 181/37360 [00:00<00:20, 1798.36it/s]RDKit ERROR: [18:04:24] ERROR: Explicit valence for atom # 19 C, 5, is greater than permitted\n",
      "RDKit ERROR: [19:32:28] Explicit valence for atom # 27 Be, 4, is greater than permitted\n",
      "  3%|▎         | 1026/37360 [00:00<00:22, 1630.73it/s]RDKit ERROR: [19:32:28] ERROR: Explicit valence for atom # 27 Be, 4, is greater than permitted\n",
      "RDKit ERROR: [19:32:28] Explicit valence for atom # 15 C, 6, is greater than permitted\n",
      "RDKit ERROR: [19:32:28] ERROR: Explicit valence for atom # 15 C, 6, is greater than permitted\n",
      "RDKit ERROR: [19:32:28] Explicit valence for atom # 15 C, 6, is greater than permitted\n",
      "  4%|▎         | 1372/37360 [00:00<00:21, 1662.27it/s]RDKit ERROR: [19:32:28] ERROR: Explicit valence for atom # 15 C, 6, is greater than permitted\n",
      "RDKit ERROR: [19:32:28] Explicit valence for atom # 16 N, 5, is greater than permitted\n",
      "  5%|▍         | 1704/37360 [00:01<00:21, 1636.90it/s]RDKit ERROR: [19:32:28] ERROR: Explicit valence for atom # 16 N, 5, is greater than permitted\n",
      "RDKit ERROR: [19:32:29] Explicit valence for atom # 0 C, 5, is greater than permitted\n",
      "  6%|▋         | 2379/37360 [00:01<00:21, 1663.30it/s]RDKit ERROR: [19:32:29] ERROR: Explicit valence for atom # 0 C, 5, is greater than permitted\n",
      "RDKit ERROR: [19:32:29] Explicit valence for atom # 1 C, 5, is greater than permitted\n",
      "RDKit ERROR: [19:32:29] ERROR: Explicit valence for atom # 1 C, 5, is greater than permitted\n",
      "RDKit ERROR: [19:32:29] Explicit valence for atom # 1 C, 5, is greater than permitted\n",
      "RDKit ERROR: [19:32:29] ERROR: Explicit valence for atom # 1 C, 5, is greater than permitted\n",
      "RDKit ERROR: [19:32:29] Explicit valence for atom # 6 B, 6, is greater than permitted\n",
      "  7%|▋         | 2754/37360 [00:01<00:19, 1777.11it/s]RDKit WARNING: [18:04:22] WARNING:  Problems/mismatches: Mobile-H( Hydrogens: Locations or number; Mobile-H groups: Attachment points, Number)\n",
      "RDKit WARNING: [18:04:23] WARNING:  Problems/mismatches: Mobile-H( Hydrogens: Locations or number; Mobile-H groups: One instead of multiple, Attachment points, Number)\n",
      "RDKit WARNING: [18:04:23] WARNING:  (Metal compound)Disconnected:  Problems/mismatches: Mobile-H( Charge(s): Do not match)\n",
      "RDKit WARNING: [18:04:23] WARNING:  Problems/mismatches: Mobile-H( Stereobonds/cumulenes: Missing known)\n",
      "RDKit WARNING: [18:04:23] WARNING:  Problems/mismatches: Mobile-H( Stereobonds/cumulenes: Missing known)\n",
      "RDKit WARNING: [18:04:23] WARNING:  (Metal compound)Disconnected:  Problems/mismatches: Mobile-H( Mobile-H groups: Number; Charge(s): Do not match; Stereobonds/cumulenes: Missing known) Fixed-H( Charge(s): Do not match; Stereobonds/cumulenes: Missing known)\n",
      "RDKit WARNING: [18:04:23] WARNING:  (Metal compound)Disconnected:  Problems/mismatches: Mobile-H( Charge(s): Do not match)\n",
      "RDKit WARNING: [18:04:23] WARNING:  Problems/mismatches: Mobile-H( Hydrogens: Locations or number, Number; Charge(s): Do not match)\n",
      "RDKit WARNING: [18:04:23] WARNING:  (Metal compound)Disconnected:  Problems/mismatches: Mobile-H( Charge(s): Do not match)\n",
      "RDKit WARNING: [18:04:23] WARNING:  Problems/mismatches: Mobile-H( Stereobonds/cumulenes: Missing known)\n",
      "RDKit WARNING: [18:04:23] WARNING:  (Metal compound)Disconnected:  Problems/mismatches: Mobile-H( Charge(s): Do not match)\n",
      "RDKit WARNING: [18:04:24] WARNING:  (Metal compound)Disconnected:  Problems/mismatches: Mobile-H( Hydrogens: Locations or number, Number; Mobile-H groups: Multiple instead of one, Attachment points, Number; Charge(s): Do not match; Proton balance: Does not match; Stereobonds/cumulenes: Missing known) Fixed-H( Hydrogens: Fixed-H; Charge(s): Do not match; Stereobonds/cumulenes: Missing known)\n",
      "RDKit WARNING: [18:04:24] WARNING:  (Metal compound)Disconnected:  Problems/mismatches: Mobile-H( Hydrogens: Number; Mobile-H groups: Multiple instead of one, Attachment points, Number; Charge(s): Do not match; Proton balance: Does not match; Stereobonds/cumulenes: Missing known) Fixed-H( Charge(s): Do not match; Stereobonds/cumulenes: Missing known)\n",
      "RDKit WARNING: [18:04:24] WARNING:  (Metal compound) Problems/mismatches: Mobile-H( Hydrogens: Locations or number, Number; Charge(s): Do not match; Proton balance: Does not match)\n",
      "RDKit WARNING: [18:52:28] WARNING:  Problems/mismatches: Mobile-H( Hydrogens: Number; Mobile-H groups: Number; Charge(s): Do not match)\n",
      "RDKit WARNING: [19:32:28] WARNING:  Problems/mismatches: Mobile-H( Hydrogens: Number; Mobile-H groups: Number; Charge(s): Do not match)\n",
      "RDKit WARNING: [19:32:28] WARNING:  Problems/mismatches: Mobile-H( Hydrogens: Locations or number; Mobile-H groups: Number)\n",
      "RDKit WARNING: [19:32:29] WARNING:  (Metal compound)Disconnected:  Problems/mismatches: Mobile-H( Hydrogens: Number; Mobile-H groups: Multiple instead of one, Attachment points, Number; Charge(s): Do not match; Proton balance: Does not match) Fixed-H( Charge(s): Do not match; Stereobonds/cumulenes: Missing known)\n",
      "RDKit WARNING: [19:32:29] WARNING: not removing hydrogen atom without neighbors\n",
      " 10%|▉         | 3639/37360 [00:02<00:19, 1695.39it/s]RDKit ERROR: [19:32:29] ERROR: Explicit valence for atom # 6 B, 6, is greater than permitted\n",
      "RDKit ERROR: [19:32:30] Explicit valence for atom # 6 C, 6, is greater than permitted\n",
      " 10%|█         | 3809/37360 [00:02<00:19, 1686.13it/s]RDKit ERROR: [19:32:30] ERROR: Explicit valence for atom # 6 C, 6, is greater than permitted\n",
      "RDKit ERROR: [19:32:30] Explicit valence for atom # 10 B, 5, is greater than permitted\n",
      "RDKit ERROR: [19:32:30] ERROR: Explicit valence for atom # 10 B, 5, is greater than permitted\n",
      "RDKit ERROR: [19:32:30] Explicit valence for atom # 10 B, 5, is greater than permitted\n",
      " 14%|█▍        | 5399/37360 [00:03<00:18, 1764.79it/s]RDKit ERROR: [19:32:30] ERROR: Explicit valence for atom # 10 B, 5, is greater than permitted\n",
      "RDKit ERROR: [19:32:30] ERROR: \n",
      "RDKit ERROR: [19:32:31] Explicit valence for atom # 19 B, 7, is greater than permitted\n",
      " 20%|██        | 7515/37360 [00:04<00:17, 1709.16it/s]RDKit ERROR: [19:32:31] ERROR: Explicit valence for atom # 19 B, 7, is greater than permitted\n",
      "RDKit ERROR: [19:32:32] Explicit valence for atom # 20 N, 4, is greater than permitted\n",
      " 21%|██        | 7856/37360 [00:04<00:17, 1668.82it/s]RDKit ERROR: [19:32:32] ERROR: Explicit valence for atom # 20 N, 4, is greater than permitted\n",
      "RDKit ERROR: [19:32:32] Explicit valence for atom # 8 N, 5, is greater than permitted\n",
      " 26%|██▋       | 9897/37360 [00:05<00:15, 1750.96it/s]RDKit WARNING: [19:32:29] WARNING:  Problems/mismatches: Mobile-H( Hydrogens: Locations or number, Number; Charge(s): Do not match)\n",
      "RDKit WARNING: [19:32:29] WARNING:  (Metal compound) Problems/mismatches: Mobile-H( Hydrogens: Locations or number, Number; Charge(s): Do not match; Proton balance: Does not match)\n",
      "RDKit WARNING: [19:32:32] WARNING:  Problems/mismatches: Mobile-H( Hydrogens: Number; Mobile-H groups: Number; Charge(s): Do not match)\n",
      "RDKit WARNING: [19:32:34] WARNING: not removing hydrogen atom without neighbors\n",
      "RDKit WARNING: [19:32:34] WARNING: not removing hydrogen atom without neighbors\n",
      "RDKit WARNING: [19:32:34] WARNING: not removing hydrogen atom without neighbors\n",
      " 27%|██▋       | 10073/37360 [00:05<00:15, 1745.13it/s]RDKit ERROR: [19:32:32] ERROR: Explicit valence for atom # 8 N, 5, is greater than permitted\n",
      "RDKit ERROR: [19:32:34] Explicit valence for atom # 11 N, 4, is greater than permitted\n",
      " 27%|██▋       | 10251/37360 [00:06<00:15, 1752.88it/s]RDKit ERROR: [19:32:34] ERROR: Explicit valence for atom # 11 N, 4, is greater than permitted\n",
      "RDKit ERROR: [19:32:34] Explicit valence for atom # 15 N, 4, is greater than permitted\n",
      " 31%|███       | 11480/37360 [00:06<00:16, 1612.98it/s]RDKit ERROR: [19:32:34] ERROR: Explicit valence for atom # 15 N, 4, is greater than permitted\n",
      "RDKit ERROR: [19:32:34] Explicit valence for atom # 8 B, 6, is greater than permitted\n",
      "RDKit WARNING: [19:32:34] WARNING:  Problems/mismatches: Mobile-H( Hydrogens: Number; Mobile-H groups: Number; Charge(s): Do not match)\n",
      "RDKit WARNING: [19:32:34] WARNING:  Problems/mismatches: Mobile-H( Stereo centers/allenes: Extra undefined)\n",
      "RDKit WARNING: [19:32:34] WARNING:  Problems/mismatches: Mobile-H( Stereo centers/allenes: Extra undefined)\n",
      "RDKit WARNING: [19:32:34] WARNING:  Problems/mismatches: Mobile-H( Hydrogens: Number; Mobile-H groups: One instead of multiple, Number; Charge(s): Do not match; Proton balance: Does not match)\n",
      "RDKit WARNING: [19:32:34] WARNING: not removing hydrogen atom without neighbors\n",
      "RDKit WARNING: [19:32:34] WARNING: not removing hydrogen atom without neighbors\n",
      "RDKit WARNING: [19:32:34] WARNING: not removing hydrogen atom without neighbors\n",
      "RDKit WARNING: [19:32:34] WARNING: not removing hydrogen atom without neighbors\n",
      " 32%|███▏      | 11830/37360 [00:06<00:15, 1672.08it/s]RDKit ERROR: [19:32:34] ERROR: Explicit valence for atom # 8 B, 6, is greater than permitted\n",
      "RDKit ERROR: [19:32:35] Explicit valence for atom # 7 N, 5, is greater than permitted\n",
      "RDKit ERROR: [19:32:35] ERROR: Explicit valence for atom # 7 N, 5, is greater than permitted\n",
      "RDKit ERROR: [19:32:35] Explicit valence for atom # 12 N, 5, is greater than permitted\n",
      "RDKit WARNING: [19:32:35] Allene-style stereochemistry is not supported yet and will be ignored.\n",
      " 35%|███▍      | 13071/37360 [00:07<00:14, 1677.73it/s]RDKit ERROR: [19:32:35] ERROR: Explicit valence for atom # 12 N, 5, is greater than permitted\n",
      "RDKit ERROR: [19:32:35] Explicit valence for atom # 3 C, 5, is greater than permitted\n",
      " 35%|███▌      | 13240/37360 [00:07<00:14, 1678.96it/s]RDKit ERROR: [19:32:35] ERROR: Explicit valence for atom # 3 C, 5, is greater than permitted\n",
      "RDKit ERROR: [19:32:35] Explicit valence for atom # 55 Mg, 6, is greater than permitted\n",
      "RDKit ERROR: [19:32:35] ERROR: Explicit valence for atom # 55 Mg, 6, is greater than permitted\n",
      "RDKit ERROR: [19:32:35] Explicit valence for atom # 55 Mg, 4, is greater than permitted\n",
      " 36%|███▋      | 13575/37360 [00:08<00:14, 1631.53it/s]RDKit ERROR: [19:32:35] ERROR: Explicit valence for atom # 55 Mg, 4, is greater than permitted\n",
      "RDKit ERROR: [19:32:36] Explicit valence for atom # 21 S, 8, is greater than permitted\n",
      " 37%|███▋      | 13739/37360 [00:08<00:14, 1597.57it/s]RDKit ERROR: [19:32:36] ERROR: Explicit valence for atom # 21 S, 8, is greater than permitted\n",
      "RDKit ERROR: [19:32:36] Explicit valence for atom # 6 N, 5, is greater than permitted\n",
      " 37%|███▋      | 13930/37360 [00:08<00:13, 1687.12it/s]RDKit WARNING: [19:32:35] WARNING:  (Metal compound)Disconnected:  Problems/mismatches: Mobile-H( Stereobonds/cumulenes: Missing known) Fixed-H( Stereobonds/cumulenes: Missing known)\n",
      "RDKit WARNING: [19:32:35] WARNING:  Problems/mismatches: Mobile-H( Hydrogens: Number; Mobile-H groups: Number; Charge(s): Do not match)\n",
      "RDKit WARNING: [19:32:35] WARNING:  (Metal compound) Problems/mismatches: Mobile-H( Hydrogens: Locations or number; Mobile-H groups: Attachment points, Number) Fixed-H( Hydrogens: Fixed-H); Disconnected:  Mobile-H( Hydrogens: Locations or number, Number; Mobile-H groups: One instead of multiple, Attachment points, Number; Charge(s): Do not match; Proton balance: Does not match; Stereobonds/cumulenes: Missing known) Fixed-H( Hydrogens: Fixed-H; Stereobonds/cumulenes: Missing known)\n",
      "RDKit WARNING: [19:32:35] WARNING:  (Metal compound) Problems/mismatches: Mobile-H( Hydrogens: Locations or number, Number; Charge(s): Do not match; Proton balance: Does not match) Fixed-H( Hydrogens: Fixed-H); Disconnected:  Mobile-H( Hydrogens: Number; Mobile-H groups: One instead of multiple, Number; Charge(s): Do not match; Proton balance: Does not match)\n",
      "RDKit WARNING: [19:32:35] WARNING:  Problems/mismatches: Mobile-H( Stereo centers/allenes: Extra undefined)\n",
      "RDKit WARNING: [19:32:36] WARNING:  (Metal compound) Problems/mismatches: Mobile-H( Hydrogens: Locations or number, Number; Charge(s): Do not match; Proton balance: Does not match)\n",
      "RDKit WARNING: [19:32:36] WARNING:  (Metal compound)Disconnected:  Problems/mismatches: Mobile-H( Charge(s): Do not match) Fixed-H( Charge(s): Do not match)\n",
      "RDKit WARNING: [19:32:36] Cannot assign bond directions!\n",
      " 38%|███▊      | 14100/37360 [00:08<00:14, 1595.38it/s]RDKit WARNING: [19:32:36] WARNING: not removing hydrogen atom without neighbors\n",
      "RDKit ERROR: [19:32:36] ERROR: Explicit valence for atom # 6 N, 5, is greater than permitted\n",
      "RDKit ERROR: [19:32:36] Explicit valence for atom # 0 Cl, 3, is greater than permitted\n",
      " 39%|███▊      | 14443/37360 [00:08<00:14, 1623.30it/s]RDKit ERROR: [19:32:36] ERROR: Explicit valence for atom # 0 Cl, 3, is greater than permitted\n",
      "RDKit ERROR: [19:32:36] Explicit valence for atom # 0 C, 5, is greater than permitted\n",
      " 40%|███▉      | 14768/37360 [00:08<00:14, 1573.72it/s]RDKit ERROR: [19:32:36] ERROR: Explicit valence for atom # 0 C, 5, is greater than permitted\n",
      "RDKit ERROR: [19:32:36] Explicit valence for atom # 65 Mg, 4, is greater than permitted\n",
      "RDKit ERROR: [19:32:36] ERROR: Explicit valence for atom # 65 Mg, 4, is greater than permitted\n",
      "RDKit ERROR: [19:32:36] Explicit valence for atom # 64 Mg, 4, is greater than permitted\n",
      "RDKit ERROR: [19:32:36] ERROR: Explicit valence for atom # 64 Mg, 4, is greater than permitted\n",
      "RDKit ERROR: [19:32:36] Explicit valence for atom # 64 Mg, 4, is greater than permitted\n",
      "RDKit ERROR: [19:32:36] ERROR: Explicit valence for atom # 64 Mg, 4, is greater than permitted\n",
      "RDKit ERROR: [19:32:36] Explicit valence for atom # 64 Mg, 4, is greater than permitted\n",
      "RDKit ERROR: [19:32:36] ERROR: Explicit valence for atom # 64 Mg, 4, is greater than permitted\n",
      "RDKit ERROR: [19:32:36] Explicit valence for atom # 64 Mg, 4, is greater than permitted\n",
      "RDKit ERROR: [19:32:36] ERROR: Explicit valence for atom # 64 Mg, 4, is greater than permitted\n",
      "RDKit ERROR: [19:32:36] Explicit valence for atom # 8 Cl, 5, is greater than permitted\n",
      " 40%|███▉      | 14927/37360 [00:08<00:14, 1567.84it/s]RDKit ERROR: [19:32:36] ERROR: Explicit valence for atom # 8 Cl, 5, is greater than permitted\n",
      "RDKit ERROR: [19:32:37] Explicit valence for atom # 1 N, 5, is greater than permitted\n",
      " 40%|████      | 15085/37360 [00:08<00:15, 1469.57it/s]RDKit WARNING: [19:32:36] WARNING:  (Metal compound)Disconnected:  Problems/mismatches: Mobile-H( Mobile-H groups: Attachment points, Number; Charge(s): Do not match) Fixed-H( Charge(s): Do not match; Stereobonds/cumulenes: Missing known)\n",
      "RDKit WARNING: [19:32:36] WARNING:  (Metal compound)Disconnected:  Problems/mismatches: Mobile-H( Hydrogens: Number; Mobile-H groups: Number; Charge(s): Do not match; Proton balance: Does not match; Stereobonds/cumulenes: Missing known) Fixed-H( Charge(s): Do not match; Stereobonds/cumulenes: Missing known)\n",
      "RDKit WARNING: [19:32:36] WARNING:  (Metal compound)Disconnected:  Problems/mismatches: Mobile-H( Charge(s): Do not match)\n",
      "RDKit WARNING: [19:32:36] WARNING:  Problems/mismatches: Mobile-H( Hydrogens: Number; Mobile-H groups: Number; Charge(s): Do not match)\n",
      "RDKit WARNING: [19:32:36] WARNING:  (Metal compound)Disconnected:  Problems/mismatches: Mobile-H( Charge(s): Do not match)\n",
      "RDKit WARNING: [19:32:36] WARNING:  (Metal compound)Disconnected:  Problems/mismatches: Mobile-H( Hydrogens: Number; Mobile-H groups: Multiple instead of one, Attachment points, Number; Charge(s): Do not match; Proton balance: Does not match) Fixed-H( Charge(s): Do not match; Stereobonds/cumulenes: Missing known)\n",
      "RDKit WARNING: [19:32:36] WARNING:  (Metal compound)Disconnected:  Problems/mismatches: Mobile-H( Charge(s): Do not match)\n",
      "RDKit WARNING: [19:32:36] WARNING:  (Metal compound)Disconnected:  Problems/mismatches: Mobile-H( Charge(s): Do not match)\n",
      "RDKit WARNING: [19:32:37] WARNING:  (Metal compound)Disconnected:  Problems/mismatches: Mobile-H( Charge(s): Do not match)\n",
      "RDKit WARNING: [19:32:37] WARNING:  (Metal compound)Disconnected:  Problems/mismatches: Mobile-H( Hydrogens: Number; Mobile-H groups: Multiple instead of one, Attachment points, Number; Charge(s): Do not match; Proton balance: Does not match; Stereobonds/cumulenes: Missing known) Fixed-H( Charge(s): Do not match; Stereobonds/cumulenes: Missing known)\n",
      "RDKit WARNING: [19:32:37] WARNING:  (Metal compound)Disconnected:  Problems/mismatches: Mobile-H( Stereobonds/cumulenes: Missing known) Fixed-H( Stereobonds/cumulenes: Missing known)\n",
      "RDKit WARNING: [19:32:37] WARNING: not removing hydrogen atom without neighbors\n",
      "RDKit WARNING: [19:32:37] WARNING: not removing hydrogen atom without neighbors\n",
      "RDKit WARNING: [19:32:37] WARNING: not removing hydrogen atom without neighbors\n",
      " 42%|████▏     | 15589/37360 [00:09<00:13, 1601.75it/s]RDKit WARNING: [19:32:37] WARNING:  Problems/mismatches: Mobile-H( Hydrogens: Locations or number, Number; Charge(s): Do not match)\n",
      "RDKit WARNING: [19:32:37] WARNING:  (Metal compound)Disconnected:  Problems/mismatches: Mobile-H( Stereobonds/cumulenes: Missing known) Fixed-H( Stereobonds/cumulenes: Missing known)\n",
      "RDKit WARNING: [19:32:37] WARNING:  (Metal compound)Disconnected:  Problems/mismatches: Mobile-H( Stereobonds/cumulenes: Missing known) Fixed-H( Stereobonds/cumulenes: Missing known)\n",
      "RDKit WARNING: [19:32:37] WARNING: not removing hydrogen atom without neighbors\n",
      " 42%|████▏     | 15761/37360 [00:09<00:13, 1634.57it/s]RDKit ERROR: [19:32:37] ERROR: Explicit valence for atom # 1 N, 5, is greater than permitted\n",
      "RDKit ERROR: [19:32:37] Explicit valence for atom # 24 Be, 3, is greater than permitted\n",
      "RDKit ERROR: [19:32:37] ERROR: Explicit valence for atom # 24 Be, 3, is greater than permitted\n",
      "RDKit ERROR: [19:32:37] Explicit valence for atom # 25 Be, 4, is greater than permitted\n",
      "RDKit ERROR: [19:32:37] ERROR: Explicit valence for atom # 25 Be, 4, is greater than permitted\n",
      "RDKit ERROR: [19:32:37] Explicit valence for atom # 20 N, 4, is greater than permitted\n",
      "RDKit ERROR: [19:32:37] ERROR: Explicit valence for atom # 20 N, 4, is greater than permitted\n",
      "RDKit ERROR: [19:32:37] Explicit valence for atom # 38 O, 3, is greater than permitted\n",
      " 43%|████▎     | 15936/37360 [00:09<00:12, 1667.43it/s]RDKit ERROR: [19:32:37] ERROR: Explicit valence for atom # 38 O, 3, is greater than permitted\n",
      "RDKit ERROR: [19:32:37] Explicit valence for atom # 23 N, 4, is greater than permitted\n",
      "RDKit ERROR: [19:32:37] ERROR: Explicit valence for atom # 23 N, 4, is greater than permitted\n",
      "RDKit ERROR: [19:32:37] Explicit valence for atom # 13 C, 6, is greater than permitted\n",
      "RDKit ERROR: [19:32:37] ERROR: Explicit valence for atom # 13 C, 6, is greater than permitted\n",
      "RDKit ERROR: [19:32:37] Explicit valence for atom # 24 N, 4, is greater than permitted\n",
      " 49%|████▊     | 18207/37360 [00:10<00:11, 1637.01it/s]RDKit ERROR: [19:32:37] ERROR: Explicit valence for atom # 24 N, 4, is greater than permitted\n",
      "RDKit ERROR: [19:32:38] Explicit valence for atom # 26 O, 4, is greater than permitted\n",
      " 49%|████▉     | 18371/37360 [00:10<00:12, 1563.95it/s]RDKit ERROR: [19:32:38] ERROR: Explicit valence for atom # 26 O, 4, is greater than permitted\n",
      "RDKit ERROR: [19:32:39] Explicit valence for atom # 36 N, 4, is greater than permitted\n",
      " 50%|████▉     | 18539/37360 [00:11<00:11, 1584.71it/s]RDKit ERROR: [19:32:39] ERROR: Explicit valence for atom # 36 N, 4, is greater than permitted\n",
      "RDKit ERROR: [19:32:39] Explicit valence for atom # 48 N, 4, is greater than permitted\n",
      " 51%|█████▏    | 19196/37360 [00:11<00:11, 1567.44it/s]RDKit WARNING: [19:32:37] WARNING:  (Metal compound)Disconnected:  Problems/mismatches: Mobile-H( Hydrogens: Number; Mobile-H groups: Number; Charge(s): Do not match; Proton balance: Does not match; Stereobonds/cumulenes: Missing known) Fixed-H( Charge(s): Do not match; Stereobonds/cumulenes: Missing known)\n",
      "RDKit WARNING: [19:32:37] WARNING:  (Metal compound) Problems/mismatches: Mobile-H( Mobile-H groups: One instead of multiple, Attachment points, Number); Disconnected:  Mobile-H( Hydrogens: Number; Mobile-H groups: Number; Charge(s): Do not match; Proton balance: Does not match) Fixed-H( Charge(s): Do not match; Stereobonds/cumulenes: Missing known)\n",
      "RDKit WARNING: [19:32:38] WARNING:  Problems/mismatches: Mobile-H( Hydrogens: Locations or number; Mobile-H groups: Falsely present, Attachment points)\n",
      "RDKit WARNING: [19:32:38] WARNING:  Problems/mismatches: Mobile-H( Hydrogens: Number; Mobile-H groups: Number; Charge(s): Do not match)\n",
      "RDKit WARNING: [19:32:38] WARNING:  Problems/mismatches: Mobile-H( Hydrogens: Locations or number; Mobile-H groups: Attachment points, Number)\n",
      "RDKit WARNING: [19:32:38] WARNING:  Problems/mismatches: Mobile-H( Hydrogens: Locations or number; Mobile-H groups: Attachment points, Number)\n",
      "RDKit WARNING: [19:32:38] WARNING:  Problems/mismatches: Mobile-H( Hydrogens: Locations or number; Mobile-H groups: Attachment points, Number)\n",
      "RDKit WARNING: [19:32:38] WARNING:  (Metal compound)Disconnected:  Problems/mismatches: Mobile-H( Hydrogens: Number; Mobile-H groups: Multiple instead of one, Attachment points, Number; Charge(s): Do not match; Proton balance: Does not match; Stereobonds/cumulenes: Missing known) Fixed-H( Charge(s): Do not match; Stereobonds/cumulenes: Missing known)\n",
      "RDKit WARNING: [19:32:38] WARNING:  (Metal compound) Problems/mismatches: Mobile-H( Hydrogens: Locations or number, Number; Charge(s): Do not match; Proton balance: Does not match)\n",
      "RDKit WARNING: [19:32:38] WARNING:  (Metal compound) Problems/mismatches: Mobile-H( Stereo centers/allenes: Extra undefined)\n",
      "RDKit WARNING: [19:32:39] WARNING:  (Metal compound)Disconnected:  Problems/mismatches: Mobile-H( Charge(s): Do not match)\n",
      "RDKit WARNING: [19:32:39] WARNING:  Problems/mismatches: Mobile-H( Hydrogens: Number; Mobile-H groups: Number; Charge(s): Do not match)\n",
      "RDKit WARNING: [19:32:39] WARNING:  Problems/mismatches: Mobile-H( Hydrogens: Number; Mobile-H groups: Number; Charge(s): Do not match)\n",
      "RDKit WARNING: [19:32:39] WARNING: not removing hydrogen atom without neighbors\n",
      "RDKit WARNING: [19:32:39] WARNING: not removing hydrogen atom without neighbors\n",
      " 52%|█████▏    | 19528/37360 [00:11<00:11, 1613.43it/s]RDKit ERROR: [19:32:39] ERROR: Explicit valence for atom # 48 N, 4, is greater than permitted\n",
      "RDKit ERROR: [19:32:39] Explicit valence for atom # 42 Ga, 7, is greater than permitted\n",
      " 55%|█████▍    | 20389/37360 [00:12<00:10, 1634.14it/s]RDKit ERROR: [19:32:39] ERROR: Explicit valence for atom # 42 Ga, 7, is greater than permitted\n",
      "RDKit ERROR: [19:32:40] Explicit valence for atom # 18 C, 5, is greater than permitted\n",
      " 55%|█████▌    | 20554/37360 [00:12<00:10, 1609.05it/s]RDKit ERROR: [19:32:40] ERROR: Explicit valence for atom # 18 C, 5, is greater than permitted\n",
      "RDKit ERROR: [19:32:40] Explicit valence for atom # 34 Mg, 6, is greater than permitted\n",
      " 56%|█████▌    | 20895/37360 [00:12<00:10, 1585.48it/s]RDKit WARNING: [19:32:39] WARNING:  Problems/mismatches: Mobile-H( Hydrogens: Number; Mobile-H groups: Number; Charge(s): Do not match)\n",
      "RDKit WARNING: [19:32:39] WARNING:  Problems/mismatches: Mobile-H( Hydrogens: Number; Mobile-H groups: Number; Charge(s): Do not match)\n",
      "RDKit WARNING: [19:32:39] WARNING:  Problems/mismatches: Mobile-H( Hydrogens: Number; Mobile-H groups: Number; Charge(s): Do not match)\n",
      "RDKit WARNING: [19:32:40] WARNING:  (Metal compound)Disconnected:  Problems/mismatches: Mobile-H( Hydrogens: Number; Mobile-H groups: Number; Charge(s): Do not match; Proton balance: Does not match; Stereobonds/cumulenes: Wrong parity) Fixed-H( Charge(s): Do not match; Stereobonds/cumulenes: Wrong parity)\n",
      "RDKit WARNING: [19:32:40] WARNING:  (Metal compound)Disconnected:  Problems/mismatches: Mobile-H( Charge(s): Do not match)\n",
      "RDKit WARNING: [19:32:40] WARNING:  (Metal compound)Disconnected:  Problems/mismatches: Mobile-H( Charge(s): Do not match)\n",
      "RDKit WARNING: [19:32:40] WARNING:  (Metal compound) Problems/mismatches: Mobile-H( Hydrogens: Locations or number, Number; Charge(s): Do not match; Proton balance: Does not match); Disconnected:  Mobile-H( Charge(s): Do not match)\n",
      "RDKit WARNING: [19:32:40] WARNING:  (Metal compound)Disconnected:  Problems/mismatches: Mobile-H( Hydrogens: Number; Mobile-H groups: Multiple instead of one, Attachment points, Number; Charge(s): Do not match; Proton balance: Does not match; Stereobonds/cumulenes: Missing known) Fixed-H( Charge(s): Do not match; Stereobonds/cumulenes: Missing known)\n",
      "RDKit WARNING: [19:32:40] WARNING:  (Metal compound)Disconnected:  Problems/mismatches: Mobile-H( Hydrogens: Number; Mobile-H groups: Multiple instead of one, Attachment points, Number; Charge(s): Do not match; Proton balance: Does not match; Stereobonds/cumulenes: Missing known) Fixed-H( Charge(s): Do not match; Stereobonds/cumulenes: Missing known)\n",
      "RDKit WARNING: [19:32:40] WARNING:  (Metal compound)Disconnected:  Problems/mismatches: Mobile-H( Hydrogens: Number; Mobile-H groups: Multiple instead of one, Attachment points, Number; Charge(s): Do not match; Proton balance: Does not match; Stereobonds/cumulenes: Missing known) Fixed-H( Charge(s): Do not match; Stereobonds/cumulenes: Missing known)\n",
      "RDKit WARNING: [19:32:40] WARNING:  (Metal compound)Disconnected:  Problems/mismatches: Mobile-H( Charge(s): Do not match)\n",
      "RDKit WARNING: [19:32:40] WARNING:  (Metal compound)Disconnected:  Problems/mismatches: Mobile-H( Charge(s): Do not match)\n",
      "RDKit WARNING: [19:32:40] WARNING:  (Metal compound)Disconnected:  Problems/mismatches: Mobile-H( Hydrogens: Number; Mobile-H groups: Number; Charge(s): Do not match; Proton balance: Does not match) Fixed-H( Charge(s): Do not match; Stereobonds/cumulenes: Missing known)\n",
      "RDKit WARNING: [19:32:40] WARNING:  (Metal compound)Disconnected:  Problems/mismatches: Mobile-H( Mobile-H groups: Attachment points, Number; Charge(s): Do not match) Fixed-H( Charge(s): Do not match; Stereobonds/cumulenes: Missing known)\n",
      "RDKit WARNING: [19:32:40] Cannot assign bond directions!\n",
      "RDKit WARNING: [19:32:40] WARNING:  (Metal compound)Disconnected:  Problems/mismatches: Mobile-H( Hydrogens: Number; Mobile-H groups: Multiple instead of one, Attachment points, Number; Charge(s): Do not match; Proton balance: Does not match; Stereobonds/cumulenes: Missing known) Fixed-H( Charge(s): Do not match; Stereobonds/cumulenes: Missing known)\n",
      "RDKit WARNING: [19:32:40] Cannot assign bond directions!\n",
      " 58%|█████▊    | 21621/37360 [00:12<00:09, 1732.62it/s]RDKit WARNING: [19:32:40] WARNING:  Problems/mismatches: Mobile-H( Isotopic: Atoms do not match; Exchangeable isotopic H: Do not match)\n",
      "RDKit WARNING: [19:32:41] WARNING: not removing hydrogen atom without neighbors\n",
      " 58%|█████▊    | 21816/37360 [00:13<00:08, 1796.26it/s]RDKit ERROR: [19:32:40] ERROR: Explicit valence for atom # 34 Mg, 6, is greater than permitted\n",
      "RDKit ERROR: [19:32:41] Explicit valence for atom # 20 N, 4, is greater than permitted\n",
      "RDKit ERROR: [19:32:41] ERROR: Explicit valence for atom # 20 N, 4, is greater than permitted\n",
      "RDKit ERROR: [19:32:41] Explicit valence for atom # 1 N, 5, is greater than permitted\n",
      " 59%|█████▉    | 22005/37360 [00:13<00:08, 1823.26it/s]RDKit ERROR: [19:32:41] ERROR: Explicit valence for atom # 1 N, 5, is greater than permitted\n",
      "RDKit ERROR: [19:32:41] Explicit valence for atom # 8 N, 4, is greater than permitted\n",
      " 62%|██████▏   | 23255/37360 [00:13<00:08, 1691.03it/s]RDKit ERROR: [19:32:41] ERROR: Explicit valence for atom # 8 N, 4, is greater than permitted\n",
      "RDKit ERROR: [19:32:41] Explicit valence for atom # 24 N, 4, is greater than permitted\n",
      " 63%|██████▎   | 23425/37360 [00:13<00:08, 1688.85it/s]RDKit ERROR: [19:32:41] ERROR: Explicit valence for atom # 24 N, 4, is greater than permitted\n",
      "RDKit ERROR: [19:32:42] Explicit valence for atom # 36 O, 4, is greater than permitted\n",
      " 63%|██████▎   | 23595/37360 [00:14<00:08, 1605.89it/s]RDKit ERROR: [19:32:42] ERROR: Explicit valence for atom # 36 O, 4, is greater than permitted\n",
      "RDKit ERROR: [19:32:42] Explicit valence for atom # 3 Mg, 4, is greater than permitted\n",
      " 64%|██████▎   | 23769/37360 [00:14<00:08, 1641.09it/s]RDKit ERROR: [19:32:42] ERROR: Explicit valence for atom # 3 Mg, 4, is greater than permitted\n",
      "RDKit ERROR: [19:32:42] Explicit valence for atom # 25 S, 8, is greater than permitted\n",
      " 66%|██████▋   | 24820/37360 [00:14<00:07, 1688.04it/s]RDKit ERROR: [19:32:42] ERROR: Explicit valence for atom # 25 S, 8, is greater than permitted\n",
      "RDKit ERROR: [19:32:42] ERROR: *Conversion failed on component(s) 1(C26H32N2O5)\n",
      "RDKit ERROR: [19:32:43] Explicit valence for atom # 68 Na, 6, is greater than permitted\n",
      " 67%|██████▋   | 25180/37360 [00:15<00:07, 1718.21it/s]RDKit ERROR: [19:32:43] ERROR: Explicit valence for atom # 68 Na, 6, is greater than permitted\n",
      "RDKit ERROR: [19:32:43] Explicit valence for atom # 25 C, 5, is greater than permitted\n",
      " 69%|██████▉   | 25699/37360 [00:15<00:06, 1709.64it/s]RDKit ERROR: [19:32:43] ERROR: Explicit valence for atom # 25 C, 5, is greater than permitted\n",
      "RDKit ERROR: [19:32:43] Explicit valence for atom # 30 N, 5, is greater than permitted\n",
      "RDKit ERROR: [19:32:43] ERROR: Explicit valence for atom # 30 N, 5, is greater than permitted\n",
      "RDKit ERROR: [19:32:43] Explicit valence for atom # 34 N, 5, is greater than permitted\n",
      "RDKit ERROR: [19:32:43] ERROR: Explicit valence for atom # 34 N, 5, is greater than permitted\n",
      "RDKit ERROR: [19:32:43] Explicit valence for atom # 21 Be, 3, is greater than permitted\n",
      " 70%|██████▉   | 26051/37360 [00:15<00:06, 1717.37it/s]RDKit ERROR: [19:32:43] ERROR: Explicit valence for atom # 21 Be, 3, is greater than permitted\n",
      "RDKit ERROR: [19:32:43] Explicit valence for atom # 8 B, 6, is greater than permitted\n",
      " 70%|███████   | 26227/37360 [00:15<00:06, 1721.18it/s]RDKit ERROR: [19:32:43] ERROR: Explicit valence for atom # 8 B, 6, is greater than permitted\n",
      "RDKit ERROR: [19:32:43] Explicit valence for atom # 19 B, 7, is greater than permitted\n",
      " 71%|███████   | 26570/37360 [00:15<00:06, 1660.42it/s]RDKit WARNING: [19:32:41] WARNING:  Problems/mismatches: Mobile-H( Stereo centers/allenes: Extra undefined)\n",
      "RDKit WARNING: [19:32:41] WARNING:  Problems/mismatches: Mobile-H( Hydrogens: Locations or number; Mobile-H groups: Attachment points, Number)\n",
      "RDKit WARNING: [19:32:42] WARNING:  Problems/mismatches: Mobile-H( Hydrogens: Locations or number; Mobile-H groups: Missing, Attachment points)\n",
      "RDKit WARNING: [19:32:42] WARNING:  (Metal compound) Problems/mismatches: Mobile-H( Hydrogens: Locations or number, Number; Charge(s): Do not match; Proton balance: Does not match)\n",
      "RDKit WARNING: [19:32:43] WARNING:  (Metal compound) Problems/mismatches: Mobile-H( Hydrogens: Number; Mobile-H groups: Falsely present, Attachment points; Charge(s): Do not match; Proton balance: Does not match); Disconnected:  Mobile-H( Hydrogens: Number; Mobile-H groups: Multiple instead of one, Attachment points, Number; Charge(s): Do not match; Proton balance: Does not match; Stereobonds/cumulenes: Missing known) Fixed-H( Charge(s): Do not match; Stereobonds/cumulenes: Missing known)\n",
      "RDKit WARNING: [19:32:43] WARNING:  (Metal compound) Problems/mismatches: Mobile-H( Hydrogens: Locations or number, Number; Charge(s): Do not match; Proton balance: Does not match)\n",
      "RDKit WARNING: [19:32:43] WARNING:  (Metal compound)Disconnected:  Problems/mismatches: Mobile-H( Stereobonds/cumulenes: Missing known) Fixed-H( Stereobonds/cumulenes: Missing known)\n",
      "RDKit WARNING: [19:32:43] WARNING:  (Metal compound) Problems/mismatches: Mobile-H( Hydrogens: Locations or number, Number; Charge(s): Do not match; Proton balance: Does not match)\n",
      "RDKit WARNING: [19:32:43] WARNING:  Problems/mismatches: Mobile-H( Hydrogens: Locations or number, Number; Mobile-H groups: Attachment points, Number; Charge(s): Do not match; Proton balance: Does not match)\n",
      "RDKit WARNING: [19:32:44] Allene-style stereochemistry is not supported yet and will be ignored.\n",
      " 72%|███████▏  | 26737/37360 [00:15<00:06, 1639.88it/s]RDKit ERROR: [19:32:43] ERROR: Explicit valence for atom # 19 B, 7, is greater than permitted\n",
      "RDKit ERROR: [19:32:44] Explicit valence for atom # 22 Be, 3, is greater than permitted\n",
      " 72%|███████▏  | 26902/37360 [00:16<00:06, 1640.46it/s]RDKit ERROR: [19:32:44] ERROR: Explicit valence for atom # 22 Be, 3, is greater than permitted\n",
      "RDKit ERROR: [19:32:44] Explicit valence for atom # 25 S, 8, is greater than permitted\n",
      "RDKit ERROR: [19:32:44] ERROR: Explicit valence for atom # 25 S, 8, is greater than permitted\n",
      "RDKit ERROR: [19:32:44] Explicit valence for atom # 25 S, 8, is greater than permitted\n",
      "RDKit ERROR: [19:32:44] ERROR: Explicit valence for atom # 25 S, 8, is greater than permitted\n",
      "RDKit ERROR: [19:32:44] Explicit valence for atom # 0 N, 5, is greater than permitted\n",
      "RDKit WARNING: [19:32:44] WARNING:  (Metal compound)Disconnected:  Problems/mismatches: Mobile-H( Charge(s): Do not match)\n",
      "RDKit WARNING: [19:32:44] WARNING:  (Metal compound) Problems/mismatches: Mobile-H( Hydrogens: Locations or number, Number; Charge(s): Do not match; Proton balance: Does not match)\n",
      "RDKit WARNING: [19:32:44] WARNING: not removing hydrogen atom without neighbors\n",
      " 73%|███████▎  | 27092/37360 [00:16<00:06, 1709.18it/s]RDKit WARNING: [19:32:44] WARNING: not removing hydrogen atom without neighbors\n",
      " 73%|███████▎  | 27264/37360 [00:16<00:05, 1707.22it/s]RDKit ERROR: [19:32:44] ERROR: Explicit valence for atom # 0 N, 5, is greater than permitted\n",
      "RDKit ERROR: [19:32:44] Explicit valence for atom # 19 N, 5, is greater than permitted\n",
      " 74%|███████▍  | 27611/37360 [00:16<00:06, 1623.64it/s]RDKit ERROR: [19:32:44] ERROR: Explicit valence for atom # 19 N, 5, is greater than permitted\n",
      "RDKit ERROR: [19:32:44] Explicit valence for atom # 8 O, 4, is greater than permitted\n",
      "RDKit WARNING: [19:32:44] WARNING:  (Metal compound) Problems/mismatches: Mobile-H( Hydrogens: Locations or number, Number; Charge(s): Do not match; Proton balance: Does not match)\n",
      "RDKit WARNING: [19:32:44] WARNING:  (Metal compound) Problems/mismatches: Mobile-H( Hydrogens: Locations or number, Number; Charge(s): Do not match; Proton balance: Does not match)\n",
      "RDKit WARNING: [19:32:44] WARNING: not removing hydrogen atom without neighbors\n",
      " 74%|███████▍  | 27783/37360 [00:16<00:05, 1648.54it/s]RDKit ERROR: [19:32:44] ERROR: Explicit valence for atom # 8 O, 4, is greater than permitted\n",
      "RDKit ERROR: [19:32:44] Explicit valence for atom # 25 N, 4, is greater than permitted\n",
      "RDKit ERROR: [19:32:44] ERROR: Explicit valence for atom # 25 N, 4, is greater than permitted\n",
      "RDKit ERROR: [19:32:44] Explicit valence for atom # 21 Be, 3, is greater than permitted\n",
      " 75%|███████▍  | 27949/37360 [00:16<00:05, 1600.80it/s]RDKit ERROR: [19:32:44] ERROR: Explicit valence for atom # 21 Be, 3, is greater than permitted\n",
      "RDKit ERROR: [19:32:44] Explicit valence for atom # 8 B, 6, is greater than permitted\n",
      "RDKit ERROR: [19:32:44] ERROR: Explicit valence for atom # 8 B, 6, is greater than permitted\n",
      "RDKit ERROR: [19:32:44] Explicit valence for atom # 19 N, 5, is greater than permitted\n",
      "RDKit ERROR: [19:32:44] ERROR: Explicit valence for atom # 19 N, 5, is greater than permitted\n",
      "RDKit ERROR: [19:32:44] Explicit valence for atom # 8 B, 4, is greater than permitted\n",
      " 75%|███████▌  | 28120/37360 [00:16<00:05, 1629.79it/s]RDKit ERROR: [19:32:44] ERROR: Explicit valence for atom # 8 B, 4, is greater than permitted\n",
      "RDKit ERROR: [19:32:44] Explicit valence for atom # 7 B, 6, is greater than permitted\n",
      "RDKit ERROR: [19:32:44] ERROR: Explicit valence for atom # 7 B, 6, is greater than permitted\n",
      "RDKit ERROR: [19:32:44] Explicit valence for atom # 7 B, 6, is greater than permitted\n",
      " 76%|███████▌  | 28284/37360 [00:16<00:05, 1617.46it/s]RDKit ERROR: [19:32:44] ERROR: Explicit valence for atom # 7 B, 6, is greater than permitted\n",
      "RDKit ERROR: [19:32:45] Explicit valence for atom # 8 B, 6, is greater than permitted\n",
      "RDKit ERROR: [19:32:45] ERROR: Explicit valence for atom # 8 B, 6, is greater than permitted\n",
      "RDKit ERROR: [19:32:45] Explicit valence for atom # 5 B, 4, is greater than permitted\n",
      "RDKit ERROR: [19:32:45] ERROR: Explicit valence for atom # 5 B, 4, is greater than permitted\n",
      "RDKit ERROR: [19:32:45] Explicit valence for atom # 6 C, 6, is greater than permitted\n",
      "RDKit ERROR: [19:32:45] ERROR: Explicit valence for atom # 6 C, 6, is greater than permitted\n",
      "RDKit ERROR: [19:32:45] Explicit valence for atom # 6 C, 6, is greater than permitted\n",
      " 76%|███████▌  | 28450/37360 [00:17<00:05, 1629.34it/s]RDKit ERROR: [19:32:45] ERROR: Explicit valence for atom # 6 C, 6, is greater than permitted\n",
      "RDKit ERROR: [19:32:45] Explicit valence for atom # 6 C, 6, is greater than permitted\n",
      "RDKit ERROR: [19:32:45] ERROR: Explicit valence for atom # 6 C, 6, is greater than permitted\n",
      "RDKit ERROR: [19:32:45] Explicit valence for atom # 3 C, 5, is greater than permitted\n",
      " 77%|███████▋  | 28614/37360 [00:17<00:05, 1628.10it/s]RDKit ERROR: [19:32:45] ERROR: Explicit valence for atom # 3 C, 5, is greater than permitted\n",
      "RDKit ERROR: [19:32:45] Explicit valence for atom # 21 O, 3, is greater than permitted\n",
      " 77%|███████▋  | 28795/37360 [00:17<00:05, 1678.11it/s]RDKit WARNING: [19:32:44] WARNING:  Problems/mismatches: Mobile-H( Hydrogens: Locations or number, Number; Charge(s): Do not match)\n",
      "RDKit WARNING: [19:32:44] WARNING:  (Metal compound)Disconnected:  Problems/mismatches: Mobile-H( Charge(s): Do not match)\n",
      "RDKit WARNING: [19:32:44] WARNING:  Problems/mismatches: Mobile-H( Hydrogens: Locations or number; Mobile-H groups: Falsely present, Attachment points)\n",
      "RDKit WARNING: [19:32:45] WARNING:  (Metal compound) Problems/mismatches: Mobile-H( Hydrogens: Locations or number, Number; Charge(s): Do not match; Proton balance: Does not match) Fixed-H( Hydrogens: Fixed-H); Disconnected:  Mobile-H( Charge(s): Do not match)\n",
      "RDKit WARNING: [19:32:45] Allene-style stereochemistry is not supported yet and will be ignored.\n",
      "RDKit ERROR: [19:32:45] ERROR: Explicit valence for atom # 21 O, 3, is greater than permitted\n",
      "RDKit ERROR: [19:32:45] Explicit valence for atom # 35 Mg, 6, is greater than permitted\n",
      " 78%|███████▊  | 28964/37360 [00:17<00:05, 1671.89it/s]RDKit ERROR: [19:32:45] ERROR: Explicit valence for atom # 35 Mg, 6, is greater than permitted\n",
      "RDKit ERROR: [19:32:45] Explicit valence for atom # 21 Be, 4, is greater than permitted\n",
      "RDKit ERROR: [19:32:45] ERROR: Explicit valence for atom # 21 Be, 4, is greater than permitted\n",
      "RDKit ERROR: [19:32:45] Explicit valence for atom # 19 N, 4, is greater than permitted\n",
      " 78%|███████▊  | 29146/37360 [00:17<00:04, 1712.58it/s]RDKit ERROR: [19:32:45] ERROR: Explicit valence for atom # 19 N, 4, is greater than permitted\n",
      "RDKit ERROR: [19:32:45] Explicit valence for atom # 0 N, 5, is greater than permitted\n",
      " 78%|███████▊  | 29318/37360 [00:17<00:04, 1709.63it/s]RDKit ERROR: [19:32:45] ERROR: Explicit valence for atom # 0 N, 5, is greater than permitted\n",
      "RDKit ERROR: [19:32:45] Explicit valence for atom # 2 C, 5, is greater than permitted\n",
      "RDKit ERROR: [19:32:45] ERROR: Explicit valence for atom # 2 C, 5, is greater than permitted\n",
      "RDKit ERROR: [19:32:45] Explicit valence for atom # 10 B, 6, is greater than permitted\n",
      "RDKit ERROR: [19:32:45] ERROR: Explicit valence for atom # 10 B, 6, is greater than permitted\n",
      "RDKit ERROR: [19:32:45] Explicit valence for atom # 3 C, 5, is greater than permitted\n",
      "RDKit ERROR: [19:32:45] ERROR: Explicit valence for atom # 3 C, 5, is greater than permitted\n",
      "RDKit ERROR: [19:32:45] Explicit valence for atom # 11 B, 6, is greater than permitted\n",
      "RDKit ERROR: [19:32:45] ERROR: Explicit valence for atom # 11 B, 6, is greater than permitted\n",
      "RDKit ERROR: [19:32:45] Explicit valence for atom # 6 C, 5, is greater than permitted\n",
      "RDKit ERROR: [19:32:45] ERROR: Explicit valence for atom # 6 C, 5, is greater than permitted\n",
      "RDKit ERROR: [19:32:45] Explicit valence for atom # 5 C, 5, is greater than permitted\n",
      "RDKit ERROR: [19:32:45] ERROR: Explicit valence for atom # 5 C, 5, is greater than permitted\n",
      "RDKit ERROR: [19:32:45] Explicit valence for atom # 4 C, 5, is greater than permitted\n",
      "RDKit ERROR: [19:32:45] ERROR: Explicit valence for atom # 4 C, 5, is greater than permitted\n",
      "RDKit ERROR: [19:32:45] Explicit valence for atom # 1 C, 5, is greater than permitted\n",
      "RDKit ERROR: [19:32:45] ERROR: Explicit valence for atom # 1 C, 5, is greater than permitted\n",
      "RDKit ERROR: [19:32:45] Explicit valence for atom # 9 B, 6, is greater than permitted\n",
      "RDKit ERROR: [19:32:45] ERROR: Explicit valence for atom # 9 B, 6, is greater than permitted\n",
      "RDKit ERROR: [19:32:45] Explicit valence for atom # 10 B, 6, is greater than permitted\n",
      " 81%|████████  | 30182/37360 [00:18<00:04, 1634.77it/s]RDKit ERROR: [19:32:45] ERROR: Explicit valence for atom # 10 B, 6, is greater than permitted\n",
      "RDKit ERROR: [19:32:46] Explicit valence for atom # 19 N, 5, is greater than permitted\n",
      " 82%|████████▏ | 30510/37360 [00:18<00:04, 1616.54it/s]RDKit ERROR: [19:32:46] ERROR: Explicit valence for atom # 19 N, 5, is greater than permitted\n",
      "RDKit ERROR: [19:32:46] Explicit valence for atom # 26 N, 4, is greater than permitted\n",
      " 82%|████████▏ | 30672/37360 [00:18<00:04, 1608.14it/s]RDKit ERROR: [19:32:46] ERROR: Explicit valence for atom # 26 N, 4, is greater than permitted\n",
      "RDKit ERROR: [19:32:46] Explicit valence for atom # 0 N, 5, is greater than permitted\n",
      " 87%|████████▋ | 32465/37360 [00:19<00:02, 1779.82it/s]RDKit WARNING: [19:32:45] WARNING:  (Metal compound)Disconnected:  Problems/mismatches: Mobile-H( Charge(s): Do not match; Stereobonds/cumulenes: Missing known)\n",
      "RDKit WARNING: [19:32:45] WARNING:  Problems/mismatches: Mobile-H( Hydrogens: Locations or number; Mobile-H groups: Missing, Attachment points)\n",
      "RDKit WARNING: [19:32:46] WARNING:  (Metal compound)Disconnected:  Problems/mismatches: Mobile-H( Charge(s): Do not match)\n",
      "RDKit WARNING: [19:32:46] WARNING:  (Metal compound)Disconnected:  Problems/mismatches: Mobile-H( Charge(s): Do not match)\n",
      "RDKit WARNING: [19:32:46] WARNING:  (Metal compound)Disconnected:  Problems/mismatches: Mobile-H( Charge(s): Do not match)\n",
      "RDKit WARNING: [19:32:46] WARNING:  (Metal compound)Disconnected:  Problems/mismatches: Mobile-H( Charge(s): Do not match)\n",
      "RDKit WARNING: [19:32:47] WARNING: not removing hydrogen atom without neighbors\n",
      "RDKit WARNING: [19:32:47] WARNING: not removing hydrogen atom without neighbors\n",
      " 90%|████████▉ | 33559/37360 [00:19<00:02, 1790.22it/s]RDKit ERROR: [19:32:46] ERROR: Explicit valence for atom # 0 N, 5, is greater than permitted\n",
      "RDKit ERROR: [19:32:48] Explicit valence for atom # 15 N, 5, is greater than permitted\n",
      " 90%|█████████ | 33739/37360 [00:20<00:02, 1708.29it/s]RDKit ERROR: [19:32:48] ERROR: Explicit valence for atom # 15 N, 5, is greater than permitted\n",
      "RDKit ERROR: [19:32:48] Explicit valence for atom # 35 N, 5, is greater than permitted\n",
      " 91%|█████████ | 34080/37360 [00:20<00:01, 1672.27it/s]RDKit ERROR: [19:32:48] ERROR: Explicit valence for atom # 35 N, 5, is greater than permitted\n",
      "RDKit ERROR: [19:32:48] Explicit valence for atom # 21 B, 5, is greater than permitted\n",
      " 95%|█████████▍| 35343/37360 [00:21<00:01, 1801.97it/s]RDKit ERROR: [19:32:48] ERROR: Explicit valence for atom # 21 B, 5, is greater than permitted\n",
      "RDKit ERROR: [19:32:49] Explicit valence for atom # 60 O, 4, is greater than permitted\n",
      " 95%|█████████▌| 35524/37360 [00:21<00:01, 1758.40it/s]RDKit ERROR: [19:32:49] ERROR: Explicit valence for atom # 60 O, 4, is greater than permitted\n",
      "RDKit ERROR: [19:32:49] Explicit valence for atom # 4 C, 5, is greater than permitted\n",
      "RDKit ERROR: [19:32:49] ERROR: Explicit valence for atom # 4 C, 5, is greater than permitted\n",
      "RDKit ERROR: [19:32:49] Explicit valence for atom # 25 N, 4, is greater than permitted\n",
      "RDKit ERROR: [19:32:49] ERROR: Explicit valence for atom # 25 N, 4, is greater than permitted\n",
      "RDKit ERROR: [19:32:49] Explicit valence for atom # 18 N, 4, is greater than permitted\n",
      " 97%|█████████▋| 36401/37360 [00:21<00:00, 1702.27it/s]RDKit ERROR: [19:32:49] ERROR: Explicit valence for atom # 18 N, 4, is greater than permitted\n",
      "RDKit ERROR: [19:32:49] Explicit valence for atom # 8 N, 5, is greater than permitted\n",
      "100%|█████████▉| 37242/37360 [00:22<00:00, 1568.02it/s]RDKit ERROR: [19:32:49] ERROR: Explicit valence for atom # 8 N, 5, is greater than permitted\n",
      "RDKit ERROR: [19:32:50] Explicit valence for atom # 19 C, 5, is greater than permitted\n",
      "100%|██████████| 37360/37360 [00:22<00:00, 1678.47it/s]\n"
     ]
    }
   ],
   "source": [
    "### GET INTERESTING LIGANDS\n",
    "\n",
    "###../data/PDB and LIGAND_PDB mapping --> https://www.ebi.ac.uk/thornton-srv/databases/pdbsum/data/lig_pairs.lst\n",
    "###  2. PDB and HET_PDB mapping --> https://www.ebi.ac.uk/thornton-srv/databases/pdbsum/data/het_pairs.lst\n",
    "###  3. Mapping 3-letter PDB code with inchi --> http://ligand-expo.rcsb.org/ld-download.html\n",
    "\n",
    "pdbcode_to_inchi = pd.read_csv(\"../data/PDB/mapping/Components-inchi.ich.txt\", sep=\"\\t\", header=None, names=['inchi', 'PDB', 'name'], usecols=[0,1])  \n",
    "# From df to dict's  // PDB-LIGs\n",
    "d = {}\n",
    "for i,j in zip(pdbcode_to_inchi['inchi'], pdbcode_to_inchi['PDB']):\n",
    "    if str(j) == 'nan': j = \"NA\"\n",
    "    d[str(j)] = i\n",
    "pdbcode_to_inchi = d; del d\n",
    "\n",
    "interesting_ligands = set()\n",
    "\n",
    "for lig in tqdm.tqdm(sorted(pdbcode_to_inchi)):\n",
    "    inchi = pdbcode_to_inchi[lig]\n",
    "    if \"-\" not in lig and lig not in maestro_blacklist and lig not in nat_aa and good_ligand(inchi) is True:\n",
    "        interesting_ligands.add(lig)"
   ]
  },
  {
   "cell_type": "code",
   "execution_count": 123,
   "id": "dd7889b5-fd06-4f77-baa9-60f2ba301766",
   "metadata": {
    "tags": []
   },
   "outputs": [],
   "source": [
    "### FIND INTERESTING PDBS\n",
    "\n",
    "pdbs_intlig = {}  # Interesting ligands\n",
    "pdbs_lig = {}  # Non interesting ligands\n",
    "pdbs_het = {}  # Other (e.g. non std residues)\n",
    "\n",
    "with open(\"../data/PDB/mapping/lig_pairs.lst.txt\", \"r\") as f:\n",
    "    for l in f:\n",
    "        pdb = l.split(\":\")[0].strip()\n",
    "        ligs = [i.strip().strip(\"_\") for i in l.split(\":\")[1].split(\";\")[:-1]]\n",
    "        intligs = [i for i in ligs if i in interesting_ligands]\n",
    "        ligs = [j for i in ligs for j in i.split(\"-\") if j not in intligs]\n",
    "        if len(ligs) > 0:\n",
    "            pdbs_lig[pdb] = ligs\n",
    "        if len(intligs) > 0:\n",
    "            pdbs_intlig[pdb] = intligs\n",
    "            \n",
    "with open(\"../data/PDB/mapping/het_pairs.lst.txt\", \"r\") as f:\n",
    "    for l in f:\n",
    "        pdb = l.split(\":\")[0].strip()\n",
    "        hets = [i.strip() for i in l.split(\":\")[1].split(\";\")[:-1]]\n",
    "        if len(hets) > 0:\n",
    "            pdbs_het[pdb] = hets\n",
    "            \n",
    "ligands = [j for i in sorted(pdbs_intlig) for j in pdbs_intlig[i]]"
   ]
  },
  {
   "cell_type": "code",
   "execution_count": 124,
   "id": "1307b057-2047-41cf-94ac-e488dcf384c7",
   "metadata": {},
   "outputs": [],
   "source": [
    "### PREPARE THE DATAFRAME"
   ]
  },
  {
   "cell_type": "code",
   "execution_count": 125,
   "id": "740ad32d-1dd1-499a-9cdf-efb29772ef37",
   "metadata": {},
   "outputs": [],
   "source": [
    "# File obtained from https://ftp.ebi.ac.uk/pub/databases/pdb/derived_data/pdb_entry_type.txt\n",
    "pdb_to_entrytype = pd.read_csv(\"../data/PDB/mapping/pdb_entry_type.txt\", sep=\"\\t\", header=None, names=['PDB', 'type', 'method'])\n",
    "pdb_to_entrytype = {i: j for i,j in zip(pdb_to_entrytype['PDB'], pdb_to_entrytype['type'])}"
   ]
  },
  {
   "cell_type": "code",
   "execution_count": 169,
   "id": "1b297bf9-f115-419b-9090-f39f413fead3",
   "metadata": {},
   "outputs": [],
   "source": [
    "data = []\n",
    "\n",
    "for pdb in sorted(pdbs_intlig):\n",
    "    # Interesting ligands\n",
    "    for intlig in pdbs_intlig[pdb]:\n",
    "        # Non interesting ligands\n",
    "        lig = []\n",
    "        if pdb in pdbs_lig:\n",
    "            lig.extend(pdbs_lig[pdb])\n",
    "        if pdb in pdbs_intlig:\n",
    "            lig.extend([i for i in pdbs_intlig[pdb] if i != intlig])\n",
    "        if len(lig) == 0:\n",
    "            lig = np.nan\n",
    "        else:\n",
    "            lig = \",\".join(lig)\n",
    "        # Hetatms\n",
    "        try:\n",
    "            het = pdbs_het[pdb]\n",
    "            het = [i for i in het if i not in pdbs_intlig[pdb]]\n",
    "            if pdb in pdbs_lig:\n",
    "                het = [i for i in het if i not in pdbs_lig[pdb]]\n",
    "            if len(het) == 0:\n",
    "                het = np.nan\n",
    "            else:\n",
    "                het = \",\".join(het)\n",
    "        except:\n",
    "            het = np.nan\n",
    "            \n",
    "        if pdb in pdb_to_entrytype:\n",
    "            data.append([pdb.upper(), intlig, lig, het, pdb_to_entrytype[pdb]])\n",
    "        else:\n",
    "            data.append([pdb.upper(), intlig, lig, het, 'Undefined'])\n",
    "    \n",
    "data = pd.DataFrame(data, columns=['PDB', 'INT_LIG', 'LIG', 'HET', 'type'])\n",
    "data = data.loc[data['type'] == 'prot'].reset_index()\n",
    "del data['index']"
   ]
  },
  {
   "cell_type": "code",
   "execution_count": 170,
   "id": "231d5621-89b1-4196-b3d5-df0f8e722781",
   "metadata": {},
   "outputs": [
    {
     "name": "stdout",
     "output_type": "stream",
     "text": [
      "Number of PDBs: 67582\n",
      "Number of ligands: 86110 (caution, each lig is considered once in each st)\n",
      "Number of ligands [unique]: 28937\n"
     ]
    }
   ],
   "source": [
    "print(\"Number of PDBs: \" + str(len(set(data['PDB']))))\n",
    "print(\"Number of ligands: \" + str(len(data['INT_LIG'])) + \" (caution, each lig is considered once in each st)\")\n",
    "print(\"Number of ligands [unique]: \" + str(len(set(data['INT_LIG']))))"
   ]
  },
  {
   "cell_type": "code",
   "execution_count": 174,
   "id": "0a002573-5f91-4bc4-a9c8-f7aec59104d5",
   "metadata": {},
   "outputs": [],
   "source": [
    "elements = []\n",
    "for i, j, k, l in zip(data['PDB'], data['INT_LIG'], data['LIG'], data['HET']):\n",
    "    if type(k) == str and type(l) == str:\n",
    "        elements.append([i, j, k.split(\",\"), l.split(\",\")])\n",
    "    if type(k) != str and type(l) != str:\n",
    "        elements.append([i, j, np.nan, np.nan])\n",
    "    if type(k) == str and type(l) != str:\n",
    "        elements.append([i, j, k.split(\",\"), np.nan])\n",
    "    if type(k) != str and type(l) == str:\n",
    "        elements.append([i, j, np.nan, l.split(\",\")])\n",
    "\n",
    "elements = np.array_split(np.array(elements, dtype='object'), 2500)"
   ]
  },
  {
   "cell_type": "code",
   "execution_count": 175,
   "id": "cd4f7654-056e-41f6-9a9b-6594c74469e9",
   "metadata": {},
   "outputs": [
    {
     "name": "stderr",
     "output_type": "stream",
     "text": [
      "2022-06-06 20:24:18,729 hpc.HPC      [DEBUG   ] HPC system to use: sge\n",
      "2022-06-06 20:24:18,730 hpc.HPC      [DEBUG   ] initializing object sge\n",
      "/home/acomajuncosa/programs/anaconda3/lib/python3.7/site-packages/numpy/core/_asarray.py:102: VisibleDeprecationWarning: Creating an ndarray from ragged nested sequences (which is a list-or-tuple of lists-or-tuples-or ndarrays with different lengths or shapes) is deprecated. If you meant to do this, you must specify 'dtype=object' when creating the ndarray.\n",
      "  return array(a, dtype, copy=False, order=order)\n"
     ]
    }
   ],
   "source": [
    "import sys\n",
    "sys.path.insert(0, '/aloy/home/acomajuncosa/programs/hpc') #CHANGE THIS PATH TO YOUR HPC PATH!\n",
    "from hpc import HPC\n",
    "from sbnb_config import config as cluster_config\n",
    "\n",
    "scratch_path = \"/aloy/scratch/acomajuncosa/MurD/PDB/prep1\" \n",
    "script_path = \"/aloy/home/acomajuncosa/MurD/GitHub/osa-murd/pocketvec/PDB/scripts/prepare_sts_PDB_LIG.py\"\n",
    "\n",
    "ncpus = 1\n",
    "cluster = HPC(**cluster_config)\n",
    "njobs = len(elements)\n",
    "\n",
    "cluster_params = {}\n",
    "cluster_params['job_name'] = 'murd_pdb1'\n",
    "cluster_params[\"jobdir\"] = scratch_path\n",
    "cluster_params[\"memory\"] = ncpus\n",
    "cluster_params['cpu'] = ncpus\n",
    "cluster_params[\"wait\"] = False\n",
    "cluster_params[\"elements\"] = elements\n",
    "cluster_params[\"num_jobs\"] = len(elements)\n",
    "\n",
    "\n",
    "singularity_image = \"/aloy/home/acomajuncosa/images/image_2021_09_stprep.simg\"\n",
    "command = \"singularity exec {} python {} <TASK_ID> <FILE>\".format(\n",
    "singularity_image,\n",
    "script_path)\n",
    "\n",
    "cluster.submitMultiJob(command, **cluster_params)"
   ]
  },
  {
   "cell_type": "code",
   "execution_count": 197,
   "id": "7c919543-fd96-4306-9f29-f11719dfff61",
   "metadata": {},
   "outputs": [
    {
     "name": "stderr",
     "output_type": "stream",
     "text": [
      " 61%|██████▏   | 216/352 [00:05<00:04, 30.74it/s]"
     ]
    },
    {
     "name": "stdout",
     "output_type": "stream",
     "text": [
      "murd_pdb1.o765143.287\n"
     ]
    },
    {
     "name": "stderr",
     "output_type": "stream",
     "text": [
      "100%|██████████| 352/352 [00:08<00:00, 42.21it/s]\n"
     ]
    }
   ],
   "source": [
    "path = \"/aloy/scratch/acomajuncosa/MurD/PDB/prep1\"\n",
    "\n",
    "for file in tqdm.tqdm(sorted(os.listdir(path))):\n",
    "    if '.o' in file:\n",
    "        with open(os.path.join(path, file), \"r\") as f:\n",
    "            for l in f:\n",
    "                if \"memoryerror\" in l.lower():\n",
    "                    print(file)\n",
    "                    break"
   ]
  },
  {
   "cell_type": "code",
   "execution_count": 198,
   "id": "2f8a031b-fa22-4016-8af1-855c42b3907a",
   "metadata": {},
   "outputs": [
    {
     "name": "stderr",
     "output_type": "stream",
     "text": [
      "100%|██████████| 349/349 [00:05<00:00, 68.31it/s]\n"
     ]
    }
   ],
   "source": [
    "path = \"/aloy/home/acomajuncosa/MurD/GitHub/summary\"\n",
    "results = []\n",
    "\n",
    "for summary in tqdm.tqdm(sorted(os.listdir(path))):\n",
    "    df = pd.read_csv(os.path.join(path, summary), sep='\\t', names=['PDB', 'INT LIG', 'count', 'free', 'bound', 'acc'])\n",
    "    results.append(df)\n",
    "\n",
    "results = pd.concat(results, axis=0, ignore_index=True)\n",
    "# results_accessible = results.loc[(results['Accessibility'] != \"-\") & (results['Accessibility'].isnull() == False)]\n",
    "# results_accessible = results_accessible.astype({\"Accessibility\": float})"
   ]
  },
  {
   "cell_type": "code",
   "execution_count": 200,
   "id": "372c0857-1945-45d8-aad9-f729c18e1902",
   "metadata": {},
   "outputs": [
    {
     "name": "stdout",
     "output_type": "stream",
     "text": [
      "Number of processed PDB-LIG entities: 27238\n",
      "% of entities that failed at ligand representation: 8.18%\n",
      "% of entities that failed at SASA calculation: 12.19%\n",
      "% of entities that failed at first steps: 0.01%\n"
     ]
    }
   ],
   "source": [
    "print(\"Number of processed PDB-LIG entities: \" + str(len(results)))\n",
    "print(\"% of entities that failed at ligand representation: \" + str(round(len(results.loc[results['acc'] == 'failed2']) / len(results) * 100, 2)) + \"%\") \n",
    "print(\"% of entities that failed at SASA calculation: \" + str(round(len(results.loc[results['acc'].isna() == True]) / len(results) * 100, 2)) + \"%\")\n",
    "print(\"% of entities that failed at first steps: \" + str(round(len(results.loc[results['acc'] == 'failed1']) / len(results) * 100, 2)) + \"%\") "
   ]
  },
  {
   "cell_type": "code",
   "execution_count": 201,
   "id": "5f149904-8efe-4f02-bbbd-c2ec006a37d8",
   "metadata": {},
   "outputs": [
    {
     "name": "stdout",
     "output_type": "stream",
     "text": [
      "Number of PDB-LIG entities without errors: 21688\n"
     ]
    }
   ],
   "source": [
    "results = results.loc[(results['acc'] != 'failed1') & (results['acc'] != 'failed2') & (results['acc'].isna() == False)]\n",
    "results['acc'] = [float(i) for i in results['acc']]\n",
    "print(\"Number of PDB-LIG entities without errors: \" + str(len(results)))"
   ]
  },
  {
   "cell_type": "code",
   "execution_count": 202,
   "id": "268f1f1c-29ad-4df7-8a87-f9fb4149f627",
   "metadata": {},
   "outputs": [
    {
     "data": {
      "image/png": "[encoded data removed]",
      "text/plain": [
       "<Figure size 432x288 with 1 Axes>"
      ]
     },
     "metadata": {
      "needs_background": "light"
     },
     "output_type": "display_data"
    }
   ],
   "source": [
    "acc_results = results['acc']\n",
    "\n",
    "plt.hist(acc_results, ec='black', color='orange', bins=[i for i in np.arange(0, 1.001, 0.05)])\n",
    "plt.grid(linestyle='--')\n",
    "plt.xlabel(\"Accessibility\")\n",
    "plt.ylabel(\"Number of PDB-LIG entities\")\n",
    "plt.title(\"Total nº of PDB-LIG entities: \" + str(len(acc_results)), pad=12)\n",
    "plt.tight_layout()\n",
    "plt.savefig(\"/aloy/home/acomajuncosa/MurD/GitHub/osa-murd/pocketvec/PDB/images/accessibility.png\", dpi=300)\n",
    "plt.show()"
   ]
  },
  {
   "cell_type": "code",
   "execution_count": 203,
   "id": "87fb8ce2-ad2b-4ee7-8f60-93e4aa231a71",
   "metadata": {},
   "outputs": [],
   "source": [
    "results = results.loc[results['acc'] < 0.4].sort_values(by='acc').reset_index(drop=True)"
   ]
  },
  {
   "cell_type": "code",
   "execution_count": 204,
   "id": "97f869d5-d755-4b84-a1da-fea1d3304d17",
   "metadata": {},
   "outputs": [
    {
     "name": "stdout",
     "output_type": "stream",
     "text": [
      "19171\n",
      "3478\n"
     ]
    }
   ],
   "source": [
    "print(len(results))\n",
    "print(len(set(results['INT LIG'])))"
   ]
  },
  {
   "cell_type": "code",
   "execution_count": 193,
   "id": "f75ccde2-2d16-4cef-b288-c49c2a351501",
   "metadata": {},
   "outputs": [],
   "source": [
    "count_ligands = Counter(results['INT LIG'])\n",
    "sorted_ligands = sorted(count_ligands, key=lambda x: count_ligands[x])[::-1]\n",
    "top = 20\n",
    "a = np.sum([count_ligands[i] for i in sorted_ligands[:top]])\n",
    "b = np.sum([count_ligands[i] for i in sorted_ligands])"
   ]
  },
  {
   "cell_type": "code",
   "execution_count": 205,
   "id": "8c593fb4-275f-4795-9606-ddfb2f8bcac5",
   "metadata": {},
   "outputs": [
    {
     "data": {
      "image/png": "[encoded data removed]",
      "text/plain": [
       "<Figure size 432x288 with 1 Axes>"
      ]
     },
     "metadata": {
      "needs_background": "light"
     },
     "output_type": "display_data"
    }
   ],
   "source": [
    "%matplotlib inline\n",
    "plt.figure(figsize=(6, 4))\n",
    "plt.grid(linestyle='--', zorder=-2)\n",
    "\n",
    "for c, i in enumerate(sorted_ligands[:top]):\n",
    "    \n",
    "    plt.bar([c], count_ligands[i], color='darkorchid', zorder=2)\n",
    "\n",
    "plt.xticks([i for i in range(top)], [i for i in sorted_ligands[:top]], rotation=90)\n",
    "plt.ylabel(\"Number of ligands\")\n",
    "plt.title(\"TOP-\" + str(top) + \" ligands\\n\" + str(round(a/b*100, 1)) + \" % of ligand space\", pad=12)\n",
    "plt.tight_layout()\n",
    "plt.savefig(\"/aloy/home/acomajuncosa/MurD/GitHub/osa-murd/pocketvec/PDB/images/top_\" + str(top) + \"_ligands_bar.png\", dpi=300)\n",
    "plt.show()\n",
    "\n",
    "mols = [Chem.MolFromInchi(pdbcode_to_inchi[i]) for i in sorted_ligands[:top]]\n",
    "labs = [i for i in sorted_ligands[:top]]\n",
    "\n",
    "img=Chem.Draw.MolsToGridImage(mols,molsPerRow=5,subImgSize=(200,200),legends=labs)    \n",
    "img.save('/aloy/home/acomajuncosa/MurD/GitHub/osa-murd/pocketvec/PDB/images/top_' + str(top) + '_ligands.png')"
   ]
  },
  {
   "cell_type": "code",
   "execution_count": null,
   "id": "860317c0-3722-4b15-80f8-c6ead967ce99",
   "metadata": {},
   "outputs": [],
   "source": []
  },
  {
   "cell_type": "code",
   "execution_count": null,
   "id": "68d8b1ef-a1b4-42b9-bf5a-4ccb35395b0c",
   "metadata": {},
   "outputs": [],
   "source": []
  },
  {
   "cell_type": "code",
   "execution_count": null,
   "id": "3ff788f8-f079-4be6-8c04-2fc8792c25b4",
   "metadata": {},
   "outputs": [],
   "source": []
  },
  {
   "cell_type": "code",
   "execution_count": null,
   "id": "3f72c9a2-4716-47f7-a6d5-ec995a01c722",
   "metadata": {},
   "outputs": [],
   "source": []
  },
  {
   "cell_type": "code",
   "execution_count": null,
   "id": "35f31430-3d40-48ad-89c6-b3f152b5a9a4",
   "metadata": {},
   "outputs": [],
   "source": []
  },
  {
   "cell_type": "code",
   "execution_count": null,
   "id": "1c345ab2-816b-490e-b8a6-53c1dea595f8",
   "metadata": {},
   "outputs": [],
   "source": []
  },
  {
   "cell_type": "code",
   "execution_count": null,
   "id": "fdda260b-599f-4f03-b899-bfec67af5734",
   "metadata": {},
   "outputs": [],
   "source": []
  },
  {
   "cell_type": "code",
   "execution_count": 155,
   "id": "01aeeb37-23b3-4c58-8bff-a27fea2b78ab",
   "metadata": {},
   "outputs": [
    {
     "data": {
      "text/html": [
       "<div>\n",
       "<style scoped>\n",
       "    .dataframe tbody tr th:only-of-type {\n",
       "        vertical-align: middle;\n",
       "    }\n",
       "\n",
       "    .dataframe tbody tr th {\n",
       "        vertical-align: top;\n",
       "    }\n",
       "\n",
       "    .dataframe thead th {\n",
       "        text-align: right;\n",
       "    }\n",
       "</style>\n",
       "<table border=\"1\" class=\"dataframe\">\n",
       "  <thead>\n",
       "    <tr style=\"text-align: right;\">\n",
       "      <th></th>\n",
       "      <th>PDB</th>\n",
       "      <th>INT_LIG</th>\n",
       "      <th>LIG</th>\n",
       "      <th>HET</th>\n",
       "      <th>type</th>\n",
       "    </tr>\n",
       "  </thead>\n",
       "  <tbody>\n",
       "    <tr>\n",
       "      <th>200</th>\n",
       "      <td>1AJ2</td>\n",
       "      <td>2PH</td>\n",
       "      <td>SO4</td>\n",
       "      <td>NaN</td>\n",
       "      <td>prot</td>\n",
       "    </tr>\n",
       "  </tbody>\n",
       "</table>\n",
       "</div>"
      ],
      "text/plain": [
       "      PDB INT_LIG  LIG  HET  type\n",
       "200  1AJ2     2PH  SO4  NaN  prot"
      ]
     },
     "execution_count": 155,
     "metadata": {},
     "output_type": "execute_result"
    }
   ],
   "source": [
    "data.loc[data['PDB'] == \"1AJ2\"]"
   ]
  },
  {
   "cell_type": "code",
   "execution_count": null,
   "id": "e804bac5-f570-4759-9042-f1d8ff2feb50",
   "metadata": {},
   "outputs": [],
   "source": []
  },
  {
   "cell_type": "code",
   "execution_count": 102,
   "id": "96555952-f337-4f1d-abf4-5f030ad6f899",
   "metadata": {},
   "outputs": [],
   "source": [
    "# task_id = 0 \n",
    "\n",
    "# path_to_summary = os.path.join(\"/aloy/home/acomajuncosa/MurD/GitHub/osa-murd/pocketvec/PDB/summary\", \"summary_\" + str(task_id) + \".tsv\")"
   ]
  },
  {
   "cell_type": "code",
   "execution_count": 156,
   "id": "38a277a1-dd5d-4ca3-8f5e-0f950f93ce2e",
   "metadata": {},
   "outputs": [],
   "source": [
    "pdb = \"4D34\"\n",
    "int_lig = 'E2Z'\n",
    "lig = ['SO4']\n",
    "het = ['EFC']\n",
    "\n",
    "path = os.path.join(\"/aloy/home/acomajuncosa/MurD/GitHub/osa-murd/pocketvec/PDB/structures\", pdb[1:3], pdb + \"_\" + int_lig)\n",
    "if os.path.exists(path) is False: os.makedirs(path)"
   ]
  },
  {
   "cell_type": "code",
   "execution_count": 157,
   "id": "b2131b11-9aa7-4c0c-81c9-ef9a13064847",
   "metadata": {},
   "outputs": [],
   "source": [
    "os.chdir(os.path.join(path))\n",
    "\n",
    "### 1. Create directory & download pdb structure\n",
    "with gzip.open('/aloy/home/acomajuncosa/programs/localpdb/mirror/pdb/' + pdb[1:3].lower() + '/pdb' + pdb.lower() + '.ent.gz', 'rb') as f_in:\n",
    "    with open(os.path.join(path, pdb + \".pdb\"), 'wb') as f_out:\n",
    "        shutil.copyfileobj(f_in, f_out)"
   ]
  },
  {
   "cell_type": "code",
   "execution_count": 158,
   "id": "16420b78-53de-4118-ba46-e2edcb35c491",
   "metadata": {},
   "outputs": [],
   "source": [
    "ligands_to_remove = ['W']\n",
    "ligands_to_remove.append(\"H_\" + \" \"*(3-len(int_lig)) + int_lig)\n",
    "ligands_to_remove.append(\"H_\" + int_lig + \" \"*(3-len(int_lig)))\n",
    "if type(lig) == list:\n",
    "    for l in lig:\n",
    "        ligands_to_remove.append(\"H_\" + \" \"*(3-len(l)) + l)\n",
    "        ligands_to_remove.append(\"H_\" + l + \" \"*(3-len(l)))\n",
    "    ligands_to_remove = set(ligands_to_remove)"
   ]
  },
  {
   "cell_type": "code",
   "execution_count": 159,
   "id": "15db0180-1d9d-40e0-838b-2cbbb41829b3",
   "metadata": {
    "collapsed": true,
    "jupyter": {
     "outputs_hidden": true
    },
    "tags": []
   },
   "outputs": [
    {
     "name": "stderr",
     "output_type": "stream",
     "text": [
      "===============================================================================\n",
      "=                   BioBB structure checking utility v3.0.3                   =\n",
      "=                 A. Hospital, P. Andrio, J.L. Gelpi 2018-20                  =\n",
      "===============================================================================\n",
      "\n",
      "Warning: sequence features only available in mmCIF format or with external fasta input\n",
      "Structure /aloy/home/acomajuncosa/MurD/GitHub/osa-murd/pocketvec/PDB/structures/AJ/1AJ2_2PH/1AJ2_st.pdb loaded\n",
      " Title: \n",
      " Experimental method: unknown\n",
      " Resolution: 0.0 A\n",
      "\n",
      " Num. models: 1\n",
      " Num. chains: 1 (A: Protein)\n",
      " Num. residues:  282\n",
      " Num. residues with ins. codes:  0\n",
      " Num. HETATM residues:  0\n",
      " Num. ligands or modified residues:  0\n",
      " Num. water mol.:  0\n",
      " Num. atoms:  2147\n",
      "\n",
      "Running rem_hydrogen. Options: --remove Yes\n",
      "No residues with Hydrogen atoms found\n",
      "Structure not modified, saving due to --force_save option\n",
      "Final Num. models: 1\n",
      "Final Num. chains: 1 (A: Protein)\n",
      "Final Num. residues:  282\n",
      "Final Num. residues with ins. codes:  0\n",
      "Final Num. HETATM residues:  0\n",
      "Final Num. ligands or modified residues:  0\n",
      "Final Num. water mol.:  0\n",
      "Final Num. atoms:  2147\n",
      "Structure saved on /aloy/home/acomajuncosa/MurD/GitHub/osa-murd/pocketvec/PDB/structures/AJ/1AJ2_2PH/1AJ2_hydrogens.pdb\n",
      "\n",
      "\n",
      "===============================================================================\n",
      "=                   BioBB structure checking utility v3.0.3                   =\n",
      "=                 A. Hospital, P. Andrio, J.L. Gelpi 2018-20                  =\n",
      "===============================================================================\n",
      "\n",
      "Warning: sequence features only available in mmCIF format or with external fasta input\n",
      "Structure /aloy/home/acomajuncosa/MurD/GitHub/osa-murd/pocketvec/PDB/structures/AJ/1AJ2_2PH/1AJ2_hydrogens.pdb loaded\n",
      " Title: \n",
      " Experimental method: unknown\n",
      " Resolution: 0.0 A\n",
      "\n",
      " Num. models: 1\n",
      " Num. chains: 1 (A: Protein)\n",
      " Num. residues:  282\n",
      " Num. residues with ins. codes:  0\n",
      " Num. HETATM residues:  0\n",
      " Num. ligands or modified residues:  0\n",
      " Num. water mol.:  0\n",
      " Num. atoms:  2147\n",
      "\n",
      "Running altloc. Options: --select occupancy\n",
      "No residues with alternative location labels detected\n",
      "Structure not modified, saving due to --force_save option\n",
      "Final Num. models: 1\n",
      "Final Num. chains: 1 (A: Protein)\n",
      "Final Num. residues:  282\n",
      "Final Num. residues with ins. codes:  0\n",
      "Final Num. HETATM residues:  0\n",
      "Final Num. ligands or modified residues:  0\n",
      "Final Num. water mol.:  0\n",
      "Final Num. atoms:  2147\n",
      "Structure saved on /aloy/home/acomajuncosa/MurD/GitHub/osa-murd/pocketvec/PDB/structures/AJ/1AJ2_2PH/1AJ2_altloc.pdb\n",
      "\n",
      "\n"
     ]
    },
    {
     "data": {
      "text/plain": [
       "'/aloy/home/acomajuncosa/MurD/GitHub/osa-murd/pocketvec/PDB/structures/AJ/1AJ2_2PH/1AJ2_2PH.pdb'"
      ]
     },
     "execution_count": 159,
     "metadata": {},
     "output_type": "execute_result"
    }
   ],
   "source": [
    "# 2. Remove water molecules and ligands // but not non std residues!\n",
    "parser = PDBParser()\n",
    "path_in = os.path.join(path, pdb + \".pdb\")\n",
    "path_out = path\n",
    "structure = parser.get_structure(\"st\", path_in)\n",
    "\n",
    "class remove_ligs(Select):\n",
    "    def accept_residue(self, residue):\n",
    "        if residue.get_id()[0] not in ligands_to_remove:\n",
    "            return 1\n",
    "        else:\n",
    "            return 0\n",
    "\n",
    "io = PDBIO()\n",
    "io.set_structure(structure)\n",
    "io.save(os.path.join(path, pdb + \"_st.pdb\"), remove_ligs())\n",
    "\n",
    "# 3. Remove hydrogens\n",
    "command = 'python /aloy/home/acomajuncosa/programs/structureChecking/bin/check_structure -i ' + os.path.join(path_out , pdb + '_st.pdb') + ' -o ' + os.path.join(path_out , pdb + '_hydrogens.pdb') + ' --force_save --non_interactive rem_hydrogen --remove Yes'\n",
    "o = os.popen(command).read()\n",
    "sys.stderr.write(o + \"\\n\\n\")\n",
    "sys.stderr.flush()\n",
    "\n",
    "# 4. Select occupancies\n",
    "command = 'python /aloy/home/acomajuncosa/programs/structureChecking/bin/check_structure -i ' + os.path.join(path_out , pdb + '_hydrogens.pdb') + ' -o ' + os.path.join(path_out , pdb + '_altloc.pdb') + ' --force_save --non_interactive altloc --select occupancy'\n",
    "o = os.popen(command).read()\n",
    "sys.stderr.write(o + \"\\n\\n\")\n",
    "sys.stderr.flush()\n",
    "\n",
    "shutil.copyfile(os.path.join(path_out , pdb + '_altloc.pdb'), os.path.join(path_out , pdb + '_' + int_lig + '.pdb'))"
   ]
  },
  {
   "cell_type": "code",
   "execution_count": 160,
   "id": "28505ada-d713-4027-8417-d49eaf7fd278",
   "metadata": {},
   "outputs": [],
   "source": [
    "def get_centroid(infile, outfile):\n",
    "    \n",
    "    parser = PDBParser()\n",
    "    structure = parser.get_structure(\"lig\", infile)\n",
    "\n",
    "    res = [i for i in structure.get_residues()][0]\n",
    "    ligatoms = [at.coord for at in res.get_atoms()]\n",
    "    x = np.mean(np.array(ligatoms)[:,0])\n",
    "    y = np.mean(np.array(ligatoms)[:,1])\n",
    "    z = np.mean(np.array(ligatoms)[:,2])\n",
    "    center = np.array([x, y, z], dtype=np.float32)\n",
    "\n",
    "    x, y, z = str(round(x, 3)), str(round(y, 3)), str(round(z, 3))\n",
    "    ctr = \" \"*(8-len(x)) + x + \" \"*(8-len(y)) + y + \" \"*(8-len(z)) + z\n",
    "    text = \"\"\"HEADER\\nHETATM    1   C  CTR A   1    \"\"\" + ctr + \"\"\"  1.00  1.00           C\\nEND\"\"\"\n",
    "\n",
    "    with open(outfile, \"w\") as f:\n",
    "        f.write(text)"
   ]
  },
  {
   "cell_type": "code",
   "execution_count": 161,
   "id": "7946c613-05ab-44a9-a952-cc35caba9774",
   "metadata": {
    "tags": []
   },
   "outputs": [],
   "source": [
    "parser = PDBParser()\n",
    "structure = parser.get_structure(\"st\", os.path.join(path, pdb + \".pdb\"))\n",
    "interesting_ligands = [i for i in structure.get_residues() if i.get_resname() == int_lig]\n",
    "\n",
    "\n",
    "for c, interesting_ligand in enumerate(interesting_ligands):\n",
    "    \n",
    "    # 5. Select ligand and save it separately\n",
    "    class LigSelect(Select):\n",
    "        def accept_residue(self, residue):\n",
    "            if residue == interesting_ligand:\n",
    "                return 1\n",
    "            else:\n",
    "                return 0\n",
    "            \n",
    "    io = PDBIO()\n",
    "    io.set_structure(structure)\n",
    "    io.save(os.path.join(path, int_lig + \"_\" + str(c) + \".pdb\"), LigSelect())\n",
    "    # command = 'obabel ' + os.path.join(path, int_lig + \"_\" + str(c) + \".pdb\") + \" -O \" + os.path.join(path, int_lig + \"_\" + str(c) + \".sd\")\n",
    "    # os.system(command)\n",
    "    \n",
    "    # Get centroid\n",
    "    get_centroid(os.path.join(path, int_lig + \"_\" + str(c) + \".pdb\"), os.path.join(path, int_lig + \"_\" + str(c) + \"_centroid.pdb\"))\n",
    "    command = 'obabel ' + os.path.join(path, int_lig + \"_\" + str(c) + \"_centroid.pdb\") + \" -O \" + os.path.join(path, int_lig + \"_\" + str(c) + \"_centroid.sd\")\n",
    "    os.system(command)"
   ]
  },
  {
   "cell_type": "code",
   "execution_count": 184,
   "id": "7da86bbc-0ff4-4fdc-be9d-c4d1072df578",
   "metadata": {},
   "outputs": [],
   "source": [
    "def SASA(prot, lig): \n",
    "    \n",
    "    #compute ligand SASA\n",
    "    # lig_h = Chem.rdmolops.AddHs(lig, addCoords=True, explicitOnly=True)\n",
    "    lig_h = lig\n",
    "    # Get Van der Waals radii (angstrom)\n",
    "    ptable = Chem.GetPeriodicTable()\n",
    "    radii = [ptable.GetRvdw(atom.GetAtomicNum()) for atom in lig_h.GetAtoms()]\n",
    "    # Compute solvent accessible surface area\n",
    "    lig_sasa = rdFreeSASA.CalcSASA(lig_h, radii)\n",
    "\n",
    "    # Join protein & ligand\n",
    "    comp = Chem.CombineMols(prot, lig)\n",
    "    # comp_h = Chem.AddHs(comp, addCoords=True)\n",
    "    comp_h = comp\n",
    "    # Get Van der Waals radii (angstrom)\n",
    "    ptable = Chem.GetPeriodicTable()\n",
    "    radii = [ptable.GetRvdw(atom.GetAtomicNum()) for atom in comp_h.GetAtoms()]\n",
    "    # Compute solvent accessible surface area\n",
    "    comp_sasa = rdFreeSASA.CalcSASA(comp_h, radii)\n",
    "    comp_lig = Chem.GetMolFrags(comp_h, asMols=True,  sanitizeFrags=True)\n",
    "    comp_lig = [i for i in comp_lig if lig_h.GetNumHeavyAtoms() == i.GetNumHeavyAtoms()][0]\n",
    "    \n",
    "    lig_sasa_free = 0\n",
    "    for a in lig_h.GetAtoms():\n",
    "        lig_sasa_free += float(a.GetProp(\"SASA\"))\n",
    "\n",
    "    lig_sasa_bound = 0\n",
    "    for a in comp_lig.GetAtoms():\n",
    "        lig_sasa_bound += float(a.GetProp(\"SASA\"))\n",
    "        \n",
    "    return round(lig_sasa_free, 3), round(lig_sasa_bound, 3)"
   ]
  },
  {
   "cell_type": "code",
   "execution_count": 185,
   "id": "1d92ad71-1d2d-4fb4-b6d9-e677aaf04133",
   "metadata": {},
   "outputs": [],
   "source": [
    "# Get SASA\n",
    "prot = Chem.MolFromPDBFile(os.path.join(path, pdb + \"_\" + int_lig + \".pdb\"))\n",
    "lig = Chem.MolFromPDBFile(os.path.join(path, int_lig + \"_\" + str(c) + \".pdb\"))\n",
    "# template = Chem.MolFromInchi(pdbcode_to_inchi[int_lig])\n",
    "# lig = [i for i in lig][0]\n",
    "\n",
    "if lig.GetNumHeavyAtoms() == Chem.MolFromInchi(pdbcode_to_inchi[int_lig]).GetNumHeavyAtoms():\n",
    "    \n",
    "    lig_sasa_free, lig_sasa_bound = SASA(prot, lig)\n",
    "\n",
    "else:\n",
    "    \n",
    "    lig_sasa_free, lig_sasa_bound = np.nan, np.nan\n",
    "    \n",
    "acc = round(lig_sasa_bound / lig_sasa_free, 3)  "
   ]
  },
  {
   "cell_type": "code",
   "execution_count": 188,
   "id": "27049ee4-6530-4bf0-b4a8-a273061e80a2",
   "metadata": {},
   "outputs": [
    {
     "data": {
      "text/plain": [
       "31.343"
      ]
     },
     "execution_count": 188,
     "metadata": {},
     "output_type": "execute_result"
    }
   ],
   "source": [
    "lig_sasa_bound"
   ]
  },
  {
   "cell_type": "code",
   "execution_count": null,
   "id": "786439e1-9a83-4528-b24f-28f07d5b8ccf",
   "metadata": {},
   "outputs": [],
   "source": []
  },
  {
   "cell_type": "code",
   "execution_count": null,
   "id": "cf315063-f8b0-4837-8674-6eadefc80cc0",
   "metadata": {},
   "outputs": [],
   "source": []
  },
  {
   "cell_type": "code",
   "execution_count": null,
   "id": "d8cdcdda-d25b-4ed0-a3a1-4d17772c7324",
   "metadata": {},
   "outputs": [],
   "source": []
  },
  {
   "cell_type": "code",
   "execution_count": 25,
   "id": "be535512-0acf-4108-96ac-4b71740ba187",
   "metadata": {},
   "outputs": [],
   "source": [
    "with open(path_to_summary, \"w\") as outfile:\n",
    "    outfile.write(\"\\t\".join([pdb, int_lig, str(c), str(lig_sasa_free), str(lig_sasa_bound), str(acc)]) + \"\\n\")"
   ]
  },
  {
   "cell_type": "code",
   "execution_count": 26,
   "id": "f8bcaacc-27b7-428c-846d-ff9a1786ff16",
   "metadata": {},
   "outputs": [],
   "source": [
    "path = os.path.join(\"/aloy/home/acomajuncosa/MurD/GitHub/osa-murd/pocketvec/PDB/structures\", pdb[1:3])\n",
    "os.chdir(path)   \n",
    "tar = tarfile.open(pdb + \"_\" + int_lig + \".tar.gz\", \"w:gz\")\n",
    "tar.add(pdb + \"_\" + int_lig)\n",
    "shutil.rmtree(pdb + \"_\" + int_lig)\n",
    "tar.close()"
   ]
  },
  {
   "cell_type": "code",
   "execution_count": 180,
   "id": "a41112e7-3ee2-4d89-b090-0978960e1376",
   "metadata": {},
   "outputs": [
    {
     "data": {
      "text/plain": [
       "'/aloy/home/acomajuncosa/MurD/GitHub/osa-murd/pocketvec/PDB/structures/1A3T_THP'"
      ]
     },
     "execution_count": 180,
     "metadata": {},
     "output_type": "execute_result"
    }
   ],
   "source": [
    "path"
   ]
  },
  {
   "cell_type": "code",
   "execution_count": null,
   "id": "47fd61a1-4ea5-430f-b4f2-a1a52e1bf34c",
   "metadata": {},
   "outputs": [],
   "source": []
  },
  {
   "cell_type": "code",
   "execution_count": null,
   "id": "adc2850f-371b-476e-b21b-0bac8fb0e6e2",
   "metadata": {},
   "outputs": [],
   "source": []
  },
  {
   "cell_type": "code",
   "execution_count": null,
   "id": "e8498b4f-39f7-4668-9084-a36a12b75c4c",
   "metadata": {},
   "outputs": [],
   "source": []
  }
 ],
 "metadata": {
  "kernelspec": {
   "display_name": "Python 3",
   "language": "python",
   "name": "python3"
  },
  "language_info": {
   "codemirror_mode": {
    "name": "ipython",
    "version": 3
   },
   "file_extension": ".py",
   "mimetype": "text/x-python",
   "name": "python",
   "nbconvert_exporter": "python",
   "pygments_lexer": "ipython3",
   "version": "3.7.10"
  }
 },
 "nbformat": 4,
 "nbformat_minor": 5
}
