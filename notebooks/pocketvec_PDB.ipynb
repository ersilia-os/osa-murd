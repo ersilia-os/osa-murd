{
 "cells": [
  {
   "cell_type": "code",
   "execution_count": 2,
   "id": "3cb29230-362f-4ae4-9310-405ea9975cb8",
   "metadata": {},
   "outputs": [],
   "source": [
    "from collections import Counter\n",
    "import pandas as pd\n",
    "import numpy as np\n",
    "import tqdm\n",
    "import pickle\n",
    "import matplotlib.pyplot as plt\n",
    "from Bio.PDB import *\n",
    "from rdkit import Chem\n",
    "import os\n",
    "import time\n",
    "import shutil\n",
    "from Bio.SeqUtils import seq1\n",
    "import gzip\n",
    "import tarfile\n",
    "import sys\n",
    "import random\n",
    "from rdkit.Chem import rdFreeSASA\n",
    "from rdkit import Chem\n",
    "from rdkit.Chem.Descriptors import MolWt\n",
    "import urllib\n",
    "from lxml import etree\n",
    "import requests as r\n",
    "from Bio import SeqIO\n",
    "from io import StringIO\n",
    "from sklearn.cluster import DBSCAN\n",
    "from scipy.spatial import distance"
   ]
  },
  {
   "cell_type": "code",
   "execution_count": 2,
   "id": "d234cdaa-c0ec-4793-ba01-dc4e418bf85c",
   "metadata": {},
   "outputs": [],
   "source": [
    "def good_ligand(inchi):\n",
    "    try:\n",
    "        m = Chem.MolFromInchi(inchi)\n",
    "        count_carbons = 0\n",
    "        for i in m.GetAtoms():\n",
    "            if int(i.GetAtomicNum()) == 6:\n",
    "                count_carbons += 1\n",
    "            if count_carbons >= 7:\n",
    "                break\n",
    "        return count_carbons >= 7\n",
    "    except:\n",
    "        return False\n",
    "    \n",
    "\n",
    "# Natural amino acids\n",
    "nat_aa = {'ALA', 'ARG', 'ASN', 'ASP', 'CYS', 'GLN', 'GLU', 'GLY', 'HIS', 'ILE', 'LEU', 'LYS', 'MET', 'PHE', 'PRO', 'SER', 'THR', 'TRP', 'TYR', 'VAL'}\n",
    "maestro_blacklist = set([i.strip() for i in pd.read_csv(\"/aloy/home/acomajuncosa/PocketVec_v2/kinase/PDB/LIG/preprocess/maestro_blacklist.csv\")[' Residue']])\n",
    "# uninteresting_ligands = pickle.load(open(\"/aloy/home/acomajuncosa/Apps_PocketVec/HT/PDB/uninteresting_ligands.pkl\", \"rb\")) ## Not using it, for the moment\n",
    "original_wd = os.getcwd()"
   ]
  },
  {
   "cell_type": "code",
   "execution_count": 3,
   "id": "aafc3fc6-0927-42ce-a3a1-a02afb456645",
   "metadata": {
    "tags": []
   },
   "outputs": [],
   "source": [
    "### GET INTERESTING LIGANDS\n",
    "\n",
    "###../data/PDB and LIGAND_PDB mapping --> https://www.ebi.ac.uk/thornton-srv/databases/pdbsum/data/lig_pairs.lst\n",
    "###  2. PDB and HET_PDB mapping --> https://www.ebi.ac.uk/thornton-srv/databases/pdbsum/data/het_pairs.lst\n",
    "###  3. Mapping 3-letter PDB code with inchi --> http://ligand-expo.rcsb.org/ld-download.html\n",
    "\n",
    "pdbcode_to_inchi = pd.read_csv(\"../data/PDB/mapping/Components-inchi.ich.txt\", sep=\"\\t\", header=None, names=['inchi', 'PDB', 'name'], usecols=[0,1])  \n",
    "# From df to dict's  // PDB-LIGs\n",
    "d = {}\n",
    "for i,j in zip(pdbcode_to_inchi['inchi'], pdbcode_to_inchi['PDB']):\n",
    "    if str(j) == 'nan': j = \"NA\"\n",
    "    d[str(j)] = i\n",
    "pdbcode_to_inchi = d; del d\n",
    "\n",
    "# interesting_ligands = set()\n",
    "\n",
    "# for lig in tqdm.tqdm(sorted(pdbcode_to_inchi)):\n",
    "#     inchi = pdbcode_to_inchi[lig]\n",
    "#     if \"-\" not in lig and lig not in maestro_blacklist and lig not in nat_aa and good_ligand(inchi) is True:\n",
    "#         interesting_ligands.add(lig)\n",
    "        \n",
    "# pickle.dump(interesting_ligands, open(\"../pocketvec/PDB/interesting_ligands.pkl\", \"wb\"))\n",
    "interesting_ligands = pickle.load(open(\"../pocketvec/PDB/interesting_ligands.pkl\", \"rb\"))"
   ]
  },
  {
   "cell_type": "code",
   "execution_count": 4,
   "id": "dd7889b5-fd06-4f77-baa9-60f2ba301766",
   "metadata": {
    "tags": []
   },
   "outputs": [],
   "source": [
    "### FIND INTERESTING PDBS\n",
    "\n",
    "pdbs_intlig = {}  # Interesting ligands\n",
    "pdbs_lig = {}  # Non interesting ligands\n",
    "pdbs_het = {}  # Other (e.g. non std residues)\n",
    "\n",
    "with open(\"../data/PDB/mapping/lig_pairs.lst.txt\", \"r\") as f:\n",
    "    for l in f:\n",
    "        pdb = l.split(\":\")[0].strip()\n",
    "        ligs = [i.strip().strip(\"_\") for i in l.split(\":\")[1].split(\";\")[:-1]]\n",
    "        intligs = [i for i in ligs if i in interesting_ligands]\n",
    "        ligs = [j for i in ligs for j in i.split(\"-\") if j not in intligs]\n",
    "        if len(ligs) > 0:\n",
    "            pdbs_lig[pdb] = ligs\n",
    "        if len(intligs) > 0:\n",
    "            pdbs_intlig[pdb] = intligs\n",
    "            \n",
    "with open(\"../data/PDB/mapping/het_pairs.lst.txt\", \"r\") as f:\n",
    "    for l in f:\n",
    "        pdb = l.split(\":\")[0].strip()\n",
    "        hets = [i.strip() for i in l.split(\":\")[1].split(\";\")[:-1]]\n",
    "        if len(hets) > 0:\n",
    "            pdbs_het[pdb] = hets\n",
    "            \n",
    "ligands = [j for i in sorted(pdbs_intlig) for j in pdbs_intlig[i]]"
   ]
  },
  {
   "cell_type": "code",
   "execution_count": 5,
   "id": "1307b057-2047-41cf-94ac-e488dcf384c7",
   "metadata": {},
   "outputs": [],
   "source": [
    "### PREPARE THE DATAFRAME"
   ]
  },
  {
   "cell_type": "code",
   "execution_count": 6,
   "id": "740ad32d-1dd1-499a-9cdf-efb29772ef37",
   "metadata": {},
   "outputs": [],
   "source": [
    "# File obtained from https://ftp.ebi.ac.uk/pub/databases/pdb/derived_data/pdb_entry_type.txt\n",
    "pdb_to_entrytype = pd.read_csv(\"../data/PDB/mapping/pdb_entry_type.txt\", sep=\"\\t\", header=None, names=['PDB', 'type', 'method'])\n",
    "pdb_to_entrytype = {i: j for i,j in zip(pdb_to_entrytype['PDB'], pdb_to_entrytype['type'])}"
   ]
  },
  {
   "cell_type": "code",
   "execution_count": 7,
   "id": "e7b9cbbf-7d12-4344-a936-0aeebeb7fd83",
   "metadata": {},
   "outputs": [
    {
     "name": "stdout",
     "output_type": "stream",
     "text": [
      "611876\n",
      "605628\n"
     ]
    }
   ],
   "source": [
    "pdb_chain_to_uniprot = {}\n",
    "pdb_to_chain = {}\n",
    "df = pd.read_csv(\"/aloy/home/acomajuncosa/Other_Datasets/Mappings/pdb_chain_uniprot.tsv\", skiprows=1, sep='\\t')\n",
    "#df = pd.read_csv(\"/aloy/home/acomajuncosa/Other_Datasets/Mappings/pdb_uniprot_chain_map.lst.2\", skiprows=0, sep=' ', names=['PDB', 'CHAIN', 'SP_PRIMARY'])\n",
    "for i, j, k in zip(df['PDB'], df['CHAIN'], df['SP_PRIMARY']):\n",
    "    if str(i) not in pdb_to_chain:\n",
    "        pdb_to_chain[str(i)] = set()\n",
    "    pdb_to_chain[str(i)].add(str(j))\n",
    "    if str(i) + \"_\" + str(j) not in pdb_chain_to_uniprot:\n",
    "        pdb_chain_to_uniprot[str(i) + \"_\" + str(j)] = []\n",
    "    pdb_chain_to_uniprot[str(i) + \"_\" + str(j)].append(k)\n",
    "    \n",
    "for i in sorted(pdb_chain_to_uniprot):\n",
    "    pdb_chain_to_uniprot[i] = sorted([j for j in set(pdb_chain_to_uniprot[i]) if str(j) != \"nan\"])\n",
    "\n",
    "print(len(pdb_chain_to_uniprot))\n",
    "for i in sorted(pdb_chain_to_uniprot):\n",
    "    if len(pdb_chain_to_uniprot[i]) != 1:  # Delete those having >1 uniprot in the pdb chain\n",
    "        del pdb_chain_to_uniprot[i]\n",
    "print(len(pdb_chain_to_uniprot))"
   ]
  },
  {
   "cell_type": "code",
   "execution_count": 8,
   "id": "1b297bf9-f115-419b-9090-f39f413fead3",
   "metadata": {},
   "outputs": [
    {
     "data": {
      "text/html": [
       "<div>\n",
       "<style scoped>\n",
       "    .dataframe tbody tr th:only-of-type {\n",
       "        vertical-align: middle;\n",
       "    }\n",
       "\n",
       "    .dataframe tbody tr th {\n",
       "        vertical-align: top;\n",
       "    }\n",
       "\n",
       "    .dataframe thead th {\n",
       "        text-align: right;\n",
       "    }\n",
       "</style>\n",
       "<table border=\"1\" class=\"dataframe\">\n",
       "  <thead>\n",
       "    <tr style=\"text-align: right;\">\n",
       "      <th></th>\n",
       "      <th>PDB</th>\n",
       "      <th>INT_LIG</th>\n",
       "      <th>LIG</th>\n",
       "      <th>HET</th>\n",
       "      <th>type</th>\n",
       "      <th>chain</th>\n",
       "      <th>uniprot</th>\n",
       "    </tr>\n",
       "  </thead>\n",
       "  <tbody>\n",
       "    <tr>\n",
       "      <th>0</th>\n",
       "      <td>10GS</td>\n",
       "      <td>VWW</td>\n",
       "      <td>MES</td>\n",
       "      <td>NaN</td>\n",
       "      <td>prot</td>\n",
       "      <td>A</td>\n",
       "      <td>P09211</td>\n",
       "    </tr>\n",
       "    <tr>\n",
       "      <th>1</th>\n",
       "      <td>10GS</td>\n",
       "      <td>VWW</td>\n",
       "      <td>MES</td>\n",
       "      <td>NaN</td>\n",
       "      <td>prot</td>\n",
       "      <td>B</td>\n",
       "      <td>P09211</td>\n",
       "    </tr>\n",
       "    <tr>\n",
       "      <th>2</th>\n",
       "      <td>11BA</td>\n",
       "      <td>UPA</td>\n",
       "      <td>SO4</td>\n",
       "      <td>NaN</td>\n",
       "      <td>prot</td>\n",
       "      <td>A</td>\n",
       "      <td>P00669</td>\n",
       "    </tr>\n",
       "    <tr>\n",
       "      <th>3</th>\n",
       "      <td>11BA</td>\n",
       "      <td>UPA</td>\n",
       "      <td>SO4</td>\n",
       "      <td>NaN</td>\n",
       "      <td>prot</td>\n",
       "      <td>B</td>\n",
       "      <td>P00669</td>\n",
       "    </tr>\n",
       "    <tr>\n",
       "      <th>4</th>\n",
       "      <td>11BG</td>\n",
       "      <td>U2G</td>\n",
       "      <td>SO4</td>\n",
       "      <td>NaN</td>\n",
       "      <td>prot</td>\n",
       "      <td>A</td>\n",
       "      <td>P00669</td>\n",
       "    </tr>\n",
       "    <tr>\n",
       "      <th>...</th>\n",
       "      <td>...</td>\n",
       "      <td>...</td>\n",
       "      <td>...</td>\n",
       "      <td>...</td>\n",
       "      <td>...</td>\n",
       "      <td>...</td>\n",
       "      <td>...</td>\n",
       "    </tr>\n",
       "    <tr>\n",
       "      <th>285082</th>\n",
       "      <td>9NSE</td>\n",
       "      <td>H4B</td>\n",
       "      <td>HEM,ZN,GOL,CAD,ACT,ISU</td>\n",
       "      <td>NaN</td>\n",
       "      <td>prot</td>\n",
       "      <td>A</td>\n",
       "      <td>P29473</td>\n",
       "    </tr>\n",
       "    <tr>\n",
       "      <th>285083</th>\n",
       "      <td>9NSE</td>\n",
       "      <td>H4B</td>\n",
       "      <td>HEM,ZN,GOL,CAD,ACT,ISU</td>\n",
       "      <td>NaN</td>\n",
       "      <td>prot</td>\n",
       "      <td>B</td>\n",
       "      <td>P29473</td>\n",
       "    </tr>\n",
       "    <tr>\n",
       "      <th>285084</th>\n",
       "      <td>9RSA</td>\n",
       "      <td>ADU</td>\n",
       "      <td>NaN</td>\n",
       "      <td>NaN</td>\n",
       "      <td>prot</td>\n",
       "      <td>A</td>\n",
       "      <td>P61823</td>\n",
       "    </tr>\n",
       "    <tr>\n",
       "      <th>285085</th>\n",
       "      <td>9RSA</td>\n",
       "      <td>ADU</td>\n",
       "      <td>NaN</td>\n",
       "      <td>NaN</td>\n",
       "      <td>prot</td>\n",
       "      <td>B</td>\n",
       "      <td>P61823</td>\n",
       "    </tr>\n",
       "    <tr>\n",
       "      <th>285086</th>\n",
       "      <td>9XIA</td>\n",
       "      <td>DFR</td>\n",
       "      <td>MN</td>\n",
       "      <td>NaN</td>\n",
       "      <td>prot</td>\n",
       "      <td>A</td>\n",
       "      <td>P24300</td>\n",
       "    </tr>\n",
       "  </tbody>\n",
       "</table>\n",
       "<p>285087 rows × 7 columns</p>\n",
       "</div>"
      ],
      "text/plain": [
       "         PDB INT_LIG                     LIG  HET  type chain uniprot\n",
       "0       10GS     VWW                     MES  NaN  prot     A  P09211\n",
       "1       10GS     VWW                     MES  NaN  prot     B  P09211\n",
       "2       11BA     UPA                     SO4  NaN  prot     A  P00669\n",
       "3       11BA     UPA                     SO4  NaN  prot     B  P00669\n",
       "4       11BG     U2G                     SO4  NaN  prot     A  P00669\n",
       "...      ...     ...                     ...  ...   ...   ...     ...\n",
       "285082  9NSE     H4B  HEM,ZN,GOL,CAD,ACT,ISU  NaN  prot     A  P29473\n",
       "285083  9NSE     H4B  HEM,ZN,GOL,CAD,ACT,ISU  NaN  prot     B  P29473\n",
       "285084  9RSA     ADU                     NaN  NaN  prot     A  P61823\n",
       "285085  9RSA     ADU                     NaN  NaN  prot     B  P61823\n",
       "285086  9XIA     DFR                      MN  NaN  prot     A  P24300\n",
       "\n",
       "[285087 rows x 7 columns]"
      ]
     },
     "execution_count": 8,
     "metadata": {},
     "output_type": "execute_result"
    }
   ],
   "source": [
    "data = []\n",
    "\n",
    "for pdb in sorted(pdbs_intlig):\n",
    "    # Interesting ligands\n",
    "    for intlig in pdbs_intlig[pdb]:\n",
    "        # Non interesting ligands\n",
    "        lig = []\n",
    "        if pdb in pdbs_lig:\n",
    "            lig.extend(pdbs_lig[pdb])\n",
    "        if pdb in pdbs_intlig:\n",
    "            lig.extend([i for i in pdbs_intlig[pdb] if i != intlig])\n",
    "        if len(lig) == 0:\n",
    "            lig = np.nan\n",
    "        else:\n",
    "            lig = \",\".join(set(lig))\n",
    "        # Hetatms\n",
    "        try:\n",
    "            het = pdbs_het[pdb]\n",
    "            het = [i for i in het if i not in pdbs_intlig[pdb]]\n",
    "            if pdb in pdbs_lig:\n",
    "                het = [i for i in het if i not in pdbs_lig[pdb]]\n",
    "            if len(het) == 0:\n",
    "                het = np.nan\n",
    "            else:\n",
    "                het = \",\".join(het)\n",
    "        except:\n",
    "            het = np.nan\n",
    "            \n",
    "        if pdb in pdb_to_entrytype and pdb_to_entrytype[pdb] == 'prot' and pdb in pdb_to_chain:\n",
    "            for chain in pdb_to_chain[pdb]:\n",
    "                if pdb + \"_\" + chain in pdb_chain_to_uniprot:\n",
    "                    uniprot = pdb_chain_to_uniprot[pdb + \"_\" + chain]\n",
    "                    data.append([pdb.upper(), intlig, lig, het, pdb_to_entrytype[pdb], chain, uniprot[0]])\n",
    "        # if pdb in pdb_to_entrytype:\n",
    "        #     data.append([pdb.upper(), intlig, lig, het, pdb_to_entrytype[pdb]])\n",
    "        # else:\n",
    "        #     data.append([pdb.upper(), intlig, lig, het, 'Undefined'])\n",
    "                \n",
    "data = pd.DataFrame(data, columns=['PDB', 'INT_LIG', 'LIG', 'HET', 'type', 'chain', 'uniprot'])\n",
    "# data = data.loc[data['type'] == 'prot'].reset_index()\n",
    "# del data['index']\n",
    "data"
   ]
  },
  {
   "cell_type": "code",
   "execution_count": 11,
   "id": "0a002573-5f91-4bc4-a9c8-f7aec59104d5",
   "metadata": {},
   "outputs": [],
   "source": [
    "elements = []\n",
    "for pdb, int_lig, lig, het, chain_id, uniprot in zip(data['PDB'], data['INT_LIG'], data['LIG'], data['HET'], data['chain'], data['uniprot']):\n",
    "    if type(lig) == str and type(het) == str:\n",
    "        elements.append([pdb, int_lig, lig.split(\",\"), het.split(\",\"), chain_id, uniprot])\n",
    "    if type(lig) != str and type(het) != str:\n",
    "        elements.append([pdb, int_lig, np.nan, np.nan, chain_id, uniprot])\n",
    "    if type(lig) == str and type(het) != str:\n",
    "        elements.append([pdb, int_lig, lig.split(\",\"), np.nan, chain_id, uniprot])\n",
    "    if type(lig) != str and type(het) == str:\n",
    "        elements.append([pdb, int_lig, np.nan, het.split(\",\"), chain_id, uniprot])\n",
    "\n",
    "elements = np.array_split(np.array(elements, dtype='object'), 5000)"
   ]
  },
  {
   "cell_type": "code",
   "execution_count": 174,
   "id": "cd4f7654-056e-41f6-9a9b-6594c74469e9",
   "metadata": {},
   "outputs": [
    {
     "name": "stderr",
     "output_type": "stream",
     "text": [
      "2022-06-12 15:04:37,260 chemicalchecker.util.config.config.Config [DEBUG   ] CC_CONFIG environment variable not set. Using default config file.\n",
      "2022-06-12 15:04:37,260 chemicalchecker.util.config.config.Config [DEBUG   ] Loading config from: /home/acomajuncosa/programs/anaconda3/lib/python3.7/site-packages/chemicalchecker/util/config/cc_config.json\n",
      "2022-06-12 15:04:37,994 hpc.HPC      [DEBUG   ] HPC system to use: sge\n",
      "2022-06-12 15:04:37,994 hpc.HPC      [DEBUG   ] initializing object sge\n"
     ]
    },
    {
     "name": "stdout",
     "output_type": "stream",
     "text": [
      "module 'matplotlib.font_manager' has no attribute '_rebuild'\n"
     ]
    },
    {
     "name": "stderr",
     "output_type": "stream",
     "text": [
      "/home/acomajuncosa/programs/anaconda3/lib/python3.7/site-packages/numpy/core/_asarray.py:102: VisibleDeprecationWarning: Creating an ndarray from ragged nested sequences (which is a list-or-tuple of lists-or-tuples-or ndarrays with different lengths or shapes) is deprecated. If you meant to do this, you must specify 'dtype=object' when creating the ndarray.\n",
      "  return array(a, dtype, copy=False, order=order)\n"
     ]
    }
   ],
   "source": [
    "import sys\n",
    "sys.path.insert(0, '/aloy/home/acomajuncosa/programs/hpc') #CHANGE THIS PATH TO YOUR HPC PATH!\n",
    "from hpc import HPC\n",
    "from sbnb_config import config as cluster_config\n",
    "\n",
    "scratch_path = \"/aloy/scratch/acomajuncosa/MurD/PDB/prep1\" \n",
    "script_path = \"/aloy/home/acomajuncosa/MurD/GitHub/osa-murd/pocketvec/PDB/scripts/prepare_sts_PDB_LIG.py\"\n",
    "\n",
    "cluster_config['queue'] = 'all.q'\n",
    "\n",
    "ncpus = 2\n",
    "cluster = HPC(**cluster_config)\n",
    "njobs = len(elements)\n",
    "\n",
    "cluster_params = {}\n",
    "cluster_params['job_name'] = 'pdb_parse'\n",
    "cluster_params[\"jobdir\"] = scratch_path\n",
    "cluster_params[\"memory\"] = ncpus\n",
    "cluster_params['cpu'] = ncpus\n",
    "cluster_params[\"wait\"] = False\n",
    "cluster_params[\"elements\"] = elements\n",
    "cluster_params[\"num_jobs\"] = len(elements)\n",
    "\n",
    "\n",
    "singularity_image = \"/aloy/home/acomajuncosa/images/image_2021_09_stprep.simg\"\n",
    "command = \"singularity exec {} python {} <TASK_ID> <FILE>\".format(\n",
    "singularity_image,\n",
    "script_path)\n",
    "\n",
    "cluster.submitMultiJob(command, **cluster_params)"
   ]
  },
  {
   "cell_type": "code",
   "execution_count": 239,
   "id": "7c919543-fd96-4306-9f29-f11719dfff61",
   "metadata": {
    "tags": []
   },
   "outputs": [
    {
     "name": "stderr",
     "output_type": "stream",
     "text": [
      "  6%|▌         | 290/5003 [00:01<00:20, 227.26it/s]"
     ]
    },
    {
     "name": "stdout",
     "output_type": "stream",
     "text": [
      "pdb_parse.o765434.1241\n",
      "fatal error: runtime: cannot allocate memory\n",
      "\n"
     ]
    },
    {
     "name": "stderr",
     "output_type": "stream",
     "text": [
      " 84%|████████▍ | 4204/5003 [00:16<00:04, 189.29it/s]"
     ]
    },
    {
     "name": "stdout",
     "output_type": "stream",
     "text": [
      "pdb_parse.o765434.4757\n",
      "fatal error: runtime: cannot allocate memory\n",
      "\n"
     ]
    },
    {
     "name": "stderr",
     "output_type": "stream",
     "text": [
      "100%|██████████| 5003/5003 [00:21<00:00, 227.85it/s]\n"
     ]
    }
   ],
   "source": [
    "path = \"/aloy/scratch/acomajuncosa/MurD/PDB/prep1\"\n",
    "error = set()\n",
    "\n",
    "for file in tqdm.tqdm(sorted(os.listdir(path))):\n",
    "    if '.o' in file:\n",
    "        with open(os.path.join(path, file), \"r\") as f:\n",
    "            for l in f:\n",
    "                if \"error\" in l.lower() and \"error_status = f_fix(opts, data_to_fix)\" not in l:\n",
    "                    print(file)\n",
    "                    print(l)\n",
    "                    error.add(file)\n",
    "                    break"
   ]
  },
  {
   "cell_type": "code",
   "execution_count": 240,
   "id": "2f8a031b-fa22-4016-8af1-855c42b3907a",
   "metadata": {},
   "outputs": [
    {
     "name": "stderr",
     "output_type": "stream",
     "text": [
      "100%|██████████| 4997/4997 [00:24<00:00, 206.34it/s]\n"
     ]
    }
   ],
   "source": [
    "path = \"/aloy/home/acomajuncosa/MurD/GitHub/summary\"\n",
    "results = []\n",
    "\n",
    "for summary in tqdm.tqdm(sorted(os.listdir(path))):\n",
    "    df = pd.read_csv(os.path.join(path, summary), sep='\\t', names=['PDB', 'chain', 'uniprot', 'INT_LIG', 'coverage', 'count', 'acc', 'comment'])\n",
    "    results.append(df)\n",
    "\n",
    "results = pd.concat(results, axis=0, ignore_index=True)\n",
    "# results_accessible = results.loc[(results['Accessibility'] != \"-\") & (results['Accessibility'].isnull() == False)]\n",
    "# results_accessible = results_accessible.astype({\"Accessibility\": float})\n",
    "# results['pdb_chain'] = [\"_\".join([i.lower(),j]) for i,j in zip(results['PDB'], results['chain'])]\n",
    "# results['uniprot'] = [pdb_chain_to_uniprot[i][0] if i in pdb_chain_to_uniprot and len(pdb_chain_to_uniprot[i]) == 1 else \"-\" for i in results['pdb_chain']]"
   ]
  },
  {
   "cell_type": "code",
   "execution_count": 222,
   "id": "f0b709cb-7337-4e1b-9690-344ec93e621e",
   "metadata": {},
   "outputs": [
    {
     "data": {
      "text/html": [
       "<div>\n",
       "<style scoped>\n",
       "    .dataframe tbody tr th:only-of-type {\n",
       "        vertical-align: middle;\n",
       "    }\n",
       "\n",
       "    .dataframe tbody tr th {\n",
       "        vertical-align: top;\n",
       "    }\n",
       "\n",
       "    .dataframe thead th {\n",
       "        text-align: right;\n",
       "    }\n",
       "</style>\n",
       "<table border=\"1\" class=\"dataframe\">\n",
       "  <thead>\n",
       "    <tr style=\"text-align: right;\">\n",
       "      <th></th>\n",
       "      <th>PDB</th>\n",
       "      <th>chain</th>\n",
       "      <th>uniprot</th>\n",
       "      <th>INT_LIG</th>\n",
       "      <th>coverage</th>\n",
       "      <th>count</th>\n",
       "      <th>acc</th>\n",
       "      <th>comment</th>\n",
       "    </tr>\n",
       "  </thead>\n",
       "  <tbody>\n",
       "    <tr>\n",
       "      <th>0</th>\n",
       "      <td>10GS</td>\n",
       "      <td>A</td>\n",
       "      <td>P09211</td>\n",
       "      <td>VWW</td>\n",
       "      <td>0.99</td>\n",
       "      <td>0</td>\n",
       "      <td>0.295</td>\n",
       "      <td>all good</td>\n",
       "    </tr>\n",
       "    <tr>\n",
       "      <th>1</th>\n",
       "      <td>10GS</td>\n",
       "      <td>B</td>\n",
       "      <td>P09211</td>\n",
       "      <td>VWW</td>\n",
       "      <td>0.99</td>\n",
       "      <td>0</td>\n",
       "      <td>0.294</td>\n",
       "      <td>all good</td>\n",
       "    </tr>\n",
       "    <tr>\n",
       "      <th>2</th>\n",
       "      <td>11BA</td>\n",
       "      <td>A</td>\n",
       "      <td>P00669</td>\n",
       "      <td>UPA</td>\n",
       "      <td>0.827</td>\n",
       "      <td>0</td>\n",
       "      <td>0.424</td>\n",
       "      <td>all good</td>\n",
       "    </tr>\n",
       "    <tr>\n",
       "      <th>3</th>\n",
       "      <td>11BA</td>\n",
       "      <td>B</td>\n",
       "      <td>P00669</td>\n",
       "      <td>UPA</td>\n",
       "      <td>0.827</td>\n",
       "      <td>0</td>\n",
       "      <td>0.411</td>\n",
       "      <td>all good</td>\n",
       "    </tr>\n",
       "    <tr>\n",
       "      <th>4</th>\n",
       "      <td>11BG</td>\n",
       "      <td>A</td>\n",
       "      <td>P00669</td>\n",
       "      <td>U2G</td>\n",
       "      <td>0.827</td>\n",
       "      <td>0</td>\n",
       "      <td>NaN</td>\n",
       "      <td>all good</td>\n",
       "    </tr>\n",
       "    <tr>\n",
       "      <th>...</th>\n",
       "      <td>...</td>\n",
       "      <td>...</td>\n",
       "      <td>...</td>\n",
       "      <td>...</td>\n",
       "      <td>...</td>\n",
       "      <td>...</td>\n",
       "      <td>...</td>\n",
       "      <td>...</td>\n",
       "    </tr>\n",
       "    <tr>\n",
       "      <th>322222</th>\n",
       "      <td>3G42</td>\n",
       "      <td>B</td>\n",
       "      <td>P78536</td>\n",
       "      <td>792</td>\n",
       "      <td>0.306</td>\n",
       "      <td>--</td>\n",
       "      <td>--</td>\n",
       "      <td>coverage &lt; 0.8</td>\n",
       "    </tr>\n",
       "    <tr>\n",
       "      <th>322223</th>\n",
       "      <td>3G45</td>\n",
       "      <td>A</td>\n",
       "      <td>Q07343</td>\n",
       "      <td>988</td>\n",
       "      <td>0.504</td>\n",
       "      <td>--</td>\n",
       "      <td>--</td>\n",
       "      <td>coverage &lt; 0.8</td>\n",
       "    </tr>\n",
       "    <tr>\n",
       "      <th>322224</th>\n",
       "      <td>3G45</td>\n",
       "      <td>B</td>\n",
       "      <td>Q07343</td>\n",
       "      <td>988</td>\n",
       "      <td>0.503</td>\n",
       "      <td>--</td>\n",
       "      <td>--</td>\n",
       "      <td>coverage &lt; 0.8</td>\n",
       "    </tr>\n",
       "    <tr>\n",
       "      <th>322225</th>\n",
       "      <td>3G49</td>\n",
       "      <td>A</td>\n",
       "      <td>Q6QLL4</td>\n",
       "      <td>NAP</td>\n",
       "      <td>0.877</td>\n",
       "      <td>0</td>\n",
       "      <td>0.081</td>\n",
       "      <td>all good</td>\n",
       "    </tr>\n",
       "    <tr>\n",
       "      <th>322226</th>\n",
       "      <td>3G49</td>\n",
       "      <td>C</td>\n",
       "      <td>Q6QLL4</td>\n",
       "      <td>NAP</td>\n",
       "      <td>0.877</td>\n",
       "      <td>0</td>\n",
       "      <td>0.083</td>\n",
       "      <td>all good</td>\n",
       "    </tr>\n",
       "  </tbody>\n",
       "</table>\n",
       "<p>322227 rows × 8 columns</p>\n",
       "</div>"
      ],
      "text/plain": [
       "         PDB chain uniprot INT_LIG coverage count    acc         comment\n",
       "0       10GS     A  P09211     VWW     0.99     0  0.295        all good\n",
       "1       10GS     B  P09211     VWW     0.99     0  0.294        all good\n",
       "2       11BA     A  P00669     UPA    0.827     0  0.424        all good\n",
       "3       11BA     B  P00669     UPA    0.827     0  0.411        all good\n",
       "4       11BG     A  P00669     U2G    0.827     0    NaN        all good\n",
       "...      ...   ...     ...     ...      ...   ...    ...             ...\n",
       "322222  3G42     B  P78536     792    0.306    --     --  coverage < 0.8\n",
       "322223  3G45     A  Q07343     988    0.504    --     --  coverage < 0.8\n",
       "322224  3G45     B  Q07343     988    0.503    --     --  coverage < 0.8\n",
       "322225  3G49     A  Q6QLL4     NAP    0.877     0  0.081        all good\n",
       "322226  3G49     C  Q6QLL4     NAP    0.877     0  0.083        all good\n",
       "\n",
       "[322227 rows x 8 columns]"
      ]
     },
     "execution_count": 222,
     "metadata": {},
     "output_type": "execute_result"
    }
   ],
   "source": [
    "results"
   ]
  },
  {
   "cell_type": "code",
   "execution_count": 223,
   "id": "044c196c-a95e-4f3b-809d-92ff9a4f2de3",
   "metadata": {},
   "outputs": [
    {
     "name": "stdout",
     "output_type": "stream",
     "text": [
      "Errors in first steps: 1903\n",
      "Ligand not in chain: 120125\n",
      "coverage < 0.8 or problems with coverage: 51236\n",
      "SASA calculation failed: 39190\n",
      "All good: 109773\n"
     ]
    }
   ],
   "source": [
    "print(\"Errors in first steps: \" + str(len(results.loc[results['comment'] == 'first steps error'])))\n",
    "print(\"Ligand not in chain: \" + str(len(results.loc[results['comment'] == 'ligand not in chain'])))\n",
    "print(\"coverage < 0.8 or problems with coverage: \" + str(len(results.loc[results['comment'] == 'coverage < 0.8'])))\n",
    "print(\"SASA calculation failed: \" + str(len(results.loc[results['comment'] == 'SASA calculation failed']) + len(results.loc[results['acc'].isnull() == True])))\n",
    "print(\"All good: \" + str(len(results.loc[results['comment'] == 'all good']) - len(results.loc[results['acc'].isnull() == True])))"
   ]
  },
  {
   "cell_type": "code",
   "execution_count": 224,
   "id": "99ca4606-f70a-4214-956d-749ec2c6af4e",
   "metadata": {},
   "outputs": [],
   "source": [
    "results = pd.DataFrame(results).loc[(results['acc'].isnull() == False) & (results['comment'] == 'all good')]\n",
    "results['acc'] = [float(i) for i in results['acc']]"
   ]
  },
  {
   "cell_type": "code",
   "execution_count": 226,
   "id": "4a9b75f5-331f-492c-9a2b-44307b98a2ab",
   "metadata": {},
   "outputs": [
    {
     "data": {
      "text/html": [
       "<div>\n",
       "<style scoped>\n",
       "    .dataframe tbody tr th:only-of-type {\n",
       "        vertical-align: middle;\n",
       "    }\n",
       "\n",
       "    .dataframe tbody tr th {\n",
       "        vertical-align: top;\n",
       "    }\n",
       "\n",
       "    .dataframe thead th {\n",
       "        text-align: right;\n",
       "    }\n",
       "</style>\n",
       "<table border=\"1\" class=\"dataframe\">\n",
       "  <thead>\n",
       "    <tr style=\"text-align: right;\">\n",
       "      <th></th>\n",
       "      <th>PDB</th>\n",
       "      <th>chain</th>\n",
       "      <th>uniprot</th>\n",
       "      <th>INT_LIG</th>\n",
       "      <th>coverage</th>\n",
       "      <th>count</th>\n",
       "      <th>acc</th>\n",
       "      <th>comment</th>\n",
       "    </tr>\n",
       "  </thead>\n",
       "  <tbody>\n",
       "    <tr>\n",
       "      <th>0</th>\n",
       "      <td>10GS</td>\n",
       "      <td>A</td>\n",
       "      <td>P09211</td>\n",
       "      <td>VWW</td>\n",
       "      <td>0.99</td>\n",
       "      <td>0</td>\n",
       "      <td>0.295</td>\n",
       "      <td>all good</td>\n",
       "    </tr>\n",
       "    <tr>\n",
       "      <th>1</th>\n",
       "      <td>10GS</td>\n",
       "      <td>B</td>\n",
       "      <td>P09211</td>\n",
       "      <td>VWW</td>\n",
       "      <td>0.99</td>\n",
       "      <td>0</td>\n",
       "      <td>0.294</td>\n",
       "      <td>all good</td>\n",
       "    </tr>\n",
       "    <tr>\n",
       "      <th>2</th>\n",
       "      <td>11BA</td>\n",
       "      <td>A</td>\n",
       "      <td>P00669</td>\n",
       "      <td>UPA</td>\n",
       "      <td>0.827</td>\n",
       "      <td>0</td>\n",
       "      <td>0.424</td>\n",
       "      <td>all good</td>\n",
       "    </tr>\n",
       "    <tr>\n",
       "      <th>3</th>\n",
       "      <td>11BA</td>\n",
       "      <td>B</td>\n",
       "      <td>P00669</td>\n",
       "      <td>UPA</td>\n",
       "      <td>0.827</td>\n",
       "      <td>0</td>\n",
       "      <td>0.411</td>\n",
       "      <td>all good</td>\n",
       "    </tr>\n",
       "    <tr>\n",
       "      <th>5</th>\n",
       "      <td>11BG</td>\n",
       "      <td>A</td>\n",
       "      <td>P00669</td>\n",
       "      <td>U2G</td>\n",
       "      <td>0.827</td>\n",
       "      <td>1</td>\n",
       "      <td>0.594</td>\n",
       "      <td>all good</td>\n",
       "    </tr>\n",
       "    <tr>\n",
       "      <th>...</th>\n",
       "      <td>...</td>\n",
       "      <td>...</td>\n",
       "      <td>...</td>\n",
       "      <td>...</td>\n",
       "      <td>...</td>\n",
       "      <td>...</td>\n",
       "      <td>...</td>\n",
       "      <td>...</td>\n",
       "    </tr>\n",
       "    <tr>\n",
       "      <th>322209</th>\n",
       "      <td>3G3E</td>\n",
       "      <td>C</td>\n",
       "      <td>P14920</td>\n",
       "      <td>G3E</td>\n",
       "      <td>0.98</td>\n",
       "      <td>0</td>\n",
       "      <td>0.133</td>\n",
       "      <td>all good</td>\n",
       "    </tr>\n",
       "    <tr>\n",
       "      <th>322210</th>\n",
       "      <td>3G3E</td>\n",
       "      <td>D</td>\n",
       "      <td>P14920</td>\n",
       "      <td>G3E</td>\n",
       "      <td>0.98</td>\n",
       "      <td>0</td>\n",
       "      <td>0.144</td>\n",
       "      <td>all good</td>\n",
       "    </tr>\n",
       "    <tr>\n",
       "      <th>322211</th>\n",
       "      <td>3G3E</td>\n",
       "      <td>B</td>\n",
       "      <td>P14920</td>\n",
       "      <td>G3E</td>\n",
       "      <td>0.98</td>\n",
       "      <td>0</td>\n",
       "      <td>0.142</td>\n",
       "      <td>all good</td>\n",
       "    </tr>\n",
       "    <tr>\n",
       "      <th>322225</th>\n",
       "      <td>3G49</td>\n",
       "      <td>A</td>\n",
       "      <td>Q6QLL4</td>\n",
       "      <td>NAP</td>\n",
       "      <td>0.877</td>\n",
       "      <td>0</td>\n",
       "      <td>0.081</td>\n",
       "      <td>all good</td>\n",
       "    </tr>\n",
       "    <tr>\n",
       "      <th>322226</th>\n",
       "      <td>3G49</td>\n",
       "      <td>C</td>\n",
       "      <td>Q6QLL4</td>\n",
       "      <td>NAP</td>\n",
       "      <td>0.877</td>\n",
       "      <td>0</td>\n",
       "      <td>0.083</td>\n",
       "      <td>all good</td>\n",
       "    </tr>\n",
       "  </tbody>\n",
       "</table>\n",
       "<p>109773 rows × 8 columns</p>\n",
       "</div>"
      ],
      "text/plain": [
       "         PDB chain uniprot INT_LIG coverage count    acc   comment\n",
       "0       10GS     A  P09211     VWW     0.99     0  0.295  all good\n",
       "1       10GS     B  P09211     VWW     0.99     0  0.294  all good\n",
       "2       11BA     A  P00669     UPA    0.827     0  0.424  all good\n",
       "3       11BA     B  P00669     UPA    0.827     0  0.411  all good\n",
       "5       11BG     A  P00669     U2G    0.827     1  0.594  all good\n",
       "...      ...   ...     ...     ...      ...   ...    ...       ...\n",
       "322209  3G3E     C  P14920     G3E     0.98     0  0.133  all good\n",
       "322210  3G3E     D  P14920     G3E     0.98     0  0.144  all good\n",
       "322211  3G3E     B  P14920     G3E     0.98     0  0.142  all good\n",
       "322225  3G49     A  Q6QLL4     NAP    0.877     0  0.081  all good\n",
       "322226  3G49     C  Q6QLL4     NAP    0.877     0  0.083  all good\n",
       "\n",
       "[109773 rows x 8 columns]"
      ]
     },
     "execution_count": 226,
     "metadata": {},
     "output_type": "execute_result"
    }
   ],
   "source": [
    "results"
   ]
  },
  {
   "cell_type": "code",
   "execution_count": 169,
   "id": "2e5400fc-9ed0-4521-9fef-9875a2d9692d",
   "metadata": {
    "collapsed": true,
    "jupyter": {
     "outputs_hidden": true
    },
    "tags": []
   },
   "outputs": [
    {
     "name": "stdout",
     "output_type": "stream",
     "text": [
      "Counter({True: 109773})\n",
      "False\n"
     ]
    },
    {
     "data": {
      "image/png": "[encoded data removed]",
      "text/plain": [
       "<Figure size 360x288 with 1 Axes>"
      ]
     },
     "metadata": {
      "needs_background": "light"
     },
     "output_type": "display_data"
    },
    {
     "name": "stdout",
     "output_type": "stream",
     "text": [
      "Counter({True: 62087, False: 47686})\n",
      "False\n"
     ]
    },
    {
     "data": {
      "image/png": "[encoded data removed]",
      "text/plain": [
       "<Figure size 360x288 with 1 Axes>"
      ]
     },
     "metadata": {
      "needs_background": "light"
     },
     "output_type": "display_data"
    },
    {
     "name": "stdout",
     "output_type": "stream",
     "text": [
      "Counter({False: 59343, True: 50430})\n",
      "False\n"
     ]
    },
    {
     "data": {
      "image/png": "[encoded data removed]",
      "text/plain": [
       "<Figure size 360x288 with 1 Axes>"
      ]
     },
     "metadata": {
      "needs_background": "light"
     },
     "output_type": "display_data"
    }
   ],
   "source": [
    "%matplotlib inline\n",
    "#### PRINT ACCESSIBILITIES FOR THOSE LIGANDS HAVING < N REPETITIONS\n",
    "for N in [5000, 300, 100]:#[5000, 500, 400, 300, 200, 100, 10, 1]:\n",
    "    count_ligands = Counter(results['INT_LIG'])\n",
    "    lesspop_ligands = {i for i in count_ligands if count_ligands[i] <= N}\n",
    "    results_ = pd.DataFrame(results).copy()\n",
    "\n",
    "    results_['less_pop'] = [i in lesspop_ligands for i in results_['INT_LIG']]\n",
    "    print(Counter(results_['less_pop']))\n",
    "    print('less_pop' in results)\n",
    "    acc_results = results_.loc[results_['less_pop'] == True]['acc']\n",
    "\n",
    "    plt.figure(figsize=(5,4))\n",
    "    plt.hist(acc_results, ec='black', color='orange', bins=[i for i in np.arange(0, 1.001, 0.05)], zorder=2)\n",
    "    plt.grid(linestyle='--')\n",
    "    plt.xlabel(\"Accessibility\")\n",
    "    plt.ylabel(\"Number of PDB-LIG entities\")\n",
    "    mean, median = str(round(np.mean(acc_results), 3)), str(round(np.median(acc_results), 3))\n",
    "    plt.title(\"Total nº of PDB-LIG entities: \" + str(len(acc_results)) + \"\\nN <= \" + str(N) + \"\\nMean: \" + mean + \", Median: \" + median, pad=12)\n",
    "    plt.tight_layout()\n",
    "    plt.savefig(\"/aloy/home/acomajuncosa/MurD/GitHub/osa-murd/pocketvec/PDB/images/accessibility_\" + str(N) + \".png\", dpi=300)\n",
    "    plt.show()"
   ]
  },
  {
   "cell_type": "code",
   "execution_count": 219,
   "id": "043ccc04-0551-41e3-86d2-b1be31c58689",
   "metadata": {
    "collapsed": true,
    "jupyter": {
     "outputs_hidden": true
    },
    "tags": []
   },
   "outputs": [
    {
     "data": {
      "image/png": "[encoded data removed]",
      "text/plain": [
       "<Figure size 360x288 with 1 Axes>"
      ]
     },
     "metadata": {
      "needs_background": "light"
     },
     "output_type": "display_data"
    },
    {
     "data": {
      "image/png": "[encoded data removed]",
      "text/plain": [
       "<Figure size 360x288 with 1 Axes>"
      ]
     },
     "metadata": {
      "needs_background": "light"
     },
     "output_type": "display_data"
    },
    {
     "data": {
      "image/png": "[encoded data removed]",
      "text/plain": [
       "<Figure size 360x288 with 1 Axes>"
      ]
     },
     "metadata": {
      "needs_background": "light"
     },
     "output_type": "display_data"
    },
    {
     "data": {
      "image/png": "[encoded data removed]",
      "text/plain": [
       "<Figure size 360x288 with 1 Axes>"
      ]
     },
     "metadata": {
      "needs_background": "light"
     },
     "output_type": "display_data"
    },
    {
     "data": {
      "image/png": "[encoded data removed]",
      "text/plain": [
       "<Figure size 360x288 with 1 Axes>"
      ]
     },
     "metadata": {
      "needs_background": "light"
     },
     "output_type": "display_data"
    },
    {
     "data": {
      "image/png": "[encoded data removed]",
      "text/plain": [
       "<Figure size 360x288 with 1 Axes>"
      ]
     },
     "metadata": {
      "needs_background": "light"
     },
     "output_type": "display_data"
    },
    {
     "data": {
      "image/png": "[encoded data removed]",
      "text/plain": [
       "<Figure size 360x288 with 1 Axes>"
      ]
     },
     "metadata": {
      "needs_background": "light"
     },
     "output_type": "display_data"
    }
   ],
   "source": [
    "### ACCESSIBILITY VALUES FOR SOME DRUGS\n",
    "\n",
    "pdb_ids = ['AIN', \"CEL\", \"CXX\", \"IBP\", \"NPS\", \"RFX\", \"SRE\"]\n",
    "\n",
    "for pdb_id in pdb_ids:\n",
    "\n",
    "    mol = [Chem.MolFromInchi(pdbcode_to_inchi[pdb_id])]\n",
    "    img=Chem.Draw.MolsToGridImage(mol,legends=[pdb_id])    \n",
    "    img.save('/aloy/home/acomajuncosa/MurD/GitHub/osa-murd/pocketvec/PDB/images/drugs/' + pdb_id + '.png', subImgSize=(200,200))\n",
    "\n",
    "\n",
    "    acc_results = results.loc[results['INT_LIG'] == pdb_id]['acc']\n",
    "    plt.figure(figsize=(5,4))\n",
    "    plt.hist(acc_results, ec='black', color='violet', bins=[i for i in np.arange(0, 1.001, 0.05)], zorder=2)\n",
    "    plt.grid(linestyle='--')\n",
    "    plt.xlabel(\"Accessibility\")\n",
    "    plt.ylabel(\"Number of PDB-LIG entities\")\n",
    "    plt.title(pdb_id + \"\\nTotal nº of PDB-LIG entities: \" + str(len(acc_results)), pad=12)\n",
    "    plt.tight_layout()\n",
    "    plt.savefig(\"/aloy/home/acomajuncosa/MurD/GitHub/osa-murd/pocketvec/PDB/images/drugs/\" + pdb_id + \"_bar.png\", dpi=300)\n",
    "    plt.show()"
   ]
  },
  {
   "cell_type": "code",
   "execution_count": null,
   "id": "59c299f3-749b-443d-a7f7-c12bb5ee2b60",
   "metadata": {},
   "outputs": [],
   "source": []
  },
  {
   "cell_type": "code",
   "execution_count": null,
   "id": "c68520dd-7f9c-48a8-85fb-ea75b54b8c8d",
   "metadata": {},
   "outputs": [],
   "source": []
  },
  {
   "cell_type": "code",
   "execution_count": 227,
   "id": "e3eb6d44-0bd1-4bcd-8c02-e9598014704f",
   "metadata": {},
   "outputs": [
    {
     "name": "stdout",
     "output_type": "stream",
     "text": [
      "Number of proteins: 10361\n"
     ]
    }
   ],
   "source": [
    "print(\"Number of proteins: \" + str(len(set(results['uniprot']))))"
   ]
  },
  {
   "cell_type": "code",
   "execution_count": 228,
   "id": "268f1f1c-29ad-4df7-8a87-f9fb4149f627",
   "metadata": {
    "tags": []
   },
   "outputs": [
    {
     "data": {
      "image/png": "[encoded data removed]",
      "text/plain": [
       "<Figure size 360x288 with 1 Axes>"
      ]
     },
     "metadata": {
      "needs_background": "light"
     },
     "output_type": "display_data"
    }
   ],
   "source": [
    "acc_results = results['acc']\n",
    "\n",
    "plt.figure(figsize=(5,4))\n",
    "plt.hist(acc_results, ec='black', color='orange', bins=[i for i in np.arange(0, 1.001, 0.05)], zorder=2)\n",
    "plt.grid(linestyle='--')\n",
    "plt.xlabel(\"Accessibility\")\n",
    "plt.ylabel(\"Number of PDB-LIG entities\")\n",
    "plt.title(\"Total nº of PDB-LIG entities: \" + str(len(acc_results)), pad=12)\n",
    "plt.tight_layout()\n",
    "# plt.savefig(\"/aloy/home/acomajuncosa/MurD/GitHub/osa-murd/pocketvec/PDB/images/accessibility.png\", dpi=300)\n",
    "plt.show()"
   ]
  },
  {
   "cell_type": "code",
   "execution_count": 229,
   "id": "87fb8ce2-ad2b-4ee7-8f60-93e4aa231a71",
   "metadata": {},
   "outputs": [],
   "source": [
    "results = results.loc[results['acc'] < 0.4].reset_index(drop=True)"
   ]
  },
  {
   "cell_type": "code",
   "execution_count": 230,
   "id": "97f869d5-d755-4b84-a1da-fea1d3304d17",
   "metadata": {},
   "outputs": [
    {
     "name": "stdout",
     "output_type": "stream",
     "text": [
      "Number of proteins: 8740\n",
      "Number of PDB·LIG complexes: 78915\n",
      "Number of unique ligands: 11866\n"
     ]
    }
   ],
   "source": [
    "print(\"Number of proteins: \" + str(len(set(results['uniprot']))))\n",
    "print(\"Number of PDB·LIG complexes: \" + str(len(results)))\n",
    "print(\"Number of unique ligands: \" + str(len(set(results['INT_LIG']))))"
   ]
  },
  {
   "cell_type": "code",
   "execution_count": 231,
   "id": "f75ccde2-2d16-4cef-b288-c49c2a351501",
   "metadata": {},
   "outputs": [],
   "source": [
    "count_ligands = Counter(results['INT_LIG'])\n",
    "sorted_ligands = sorted(count_ligands, key=lambda x: count_ligands[x])[::-1]\n",
    "top = 20\n",
    "a = np.sum([count_ligands[i] for i in sorted_ligands[:top]])\n",
    "b = np.sum([count_ligands[i] for i in sorted_ligands])"
   ]
  },
  {
   "cell_type": "code",
   "execution_count": 232,
   "id": "8c593fb4-275f-4795-9606-ddfb2f8bcac5",
   "metadata": {},
   "outputs": [
    {
     "data": {
      "image/png": "[encoded data removed]",
      "text/plain": [
       "<Figure size 360x288 with 1 Axes>"
      ]
     },
     "metadata": {
      "needs_background": "light"
     },
     "output_type": "display_data"
    }
   ],
   "source": [
    "%matplotlib inline\n",
    "plt.figure(figsize=(5, 4))\n",
    "plt.grid(linestyle='--', zorder=-2)\n",
    "\n",
    "for c, i in enumerate(sorted_ligands[:top]):\n",
    "    \n",
    "    plt.bar([c], count_ligands[i], color='darkorchid', zorder=2, ec='black')\n",
    "\n",
    "plt.xticks([i for i in range(top)], [i for i in sorted_ligands[:top]], rotation=90)\n",
    "plt.ylabel(\"Number of ligands\")\n",
    "plt.title(\"TOP-\" + str(top) + \" ligands\\n\" + str(round(a/b*100, 1)) + \" % of ligand space\", pad=12)\n",
    "plt.tight_layout()\n",
    "# plt.savefig(\"/aloy/home/acomajuncosa/MurD/GitHub/osa-murd/pocketvec/PDB/images/top_\" + str(top) + \"_ligands_bar.png\", dpi=300)\n",
    "plt.show()\n",
    "\n",
    "mols = [Chem.MolFromInchi(pdbcode_to_inchi[i]) for i in sorted_ligands[:top]]\n",
    "labs = [i for i in sorted_ligands[:top]]\n",
    "\n",
    "img=Chem.Draw.MolsToGridImage(mols,molsPerRow=5,subImgSize=(200,200),legends=labs)    \n",
    "# img.save('/aloy/home/acomajuncosa/MurD/GitHub/osa-murd/pocketvec/PDB/images/top_' + str(top) + '_ligands.png')"
   ]
  },
  {
   "cell_type": "code",
   "execution_count": 233,
   "id": "860317c0-3722-4b15-80f8-c6ead967ce99",
   "metadata": {},
   "outputs": [],
   "source": [
    "proteins = Counter(results['uniprot'])\n",
    "proteins = [proteins[i] for i in proteins]"
   ]
  },
  {
   "cell_type": "code",
   "execution_count": 234,
   "id": "10fb299c-c755-4032-a8fe-944c4e6c91a5",
   "metadata": {},
   "outputs": [
    {
     "data": {
      "image/png": "[encoded data removed]",
      "text/plain": [
       "<Figure size 432x288 with 1 Axes>"
      ]
     },
     "metadata": {
      "needs_background": "light"
     },
     "output_type": "display_data"
    }
   ],
   "source": [
    "plt.figure(figsize=(6, 4))\n",
    "plt.grid(linestyle='--', zorder=-2)\n",
    "plt.hist(proteins, zorder=2, ec='k', bins=[i for i in range(0, max(proteins), 2)], color='forestgreen')\n",
    "plt.ylabel(\"Number of PDB·LIG complexes\")\n",
    "plt.xlim([-1, 50])\n",
    "plt.tight_layout()\n",
    "plt.show()"
   ]
  },
  {
   "cell_type": "code",
   "execution_count": 235,
   "id": "4c5ed01a-2516-4c62-a147-bbc49f4d10ac",
   "metadata": {},
   "outputs": [
    {
     "data": {
      "text/html": [
       "<div>\n",
       "<style scoped>\n",
       "    .dataframe tbody tr th:only-of-type {\n",
       "        vertical-align: middle;\n",
       "    }\n",
       "\n",
       "    .dataframe tbody tr th {\n",
       "        vertical-align: top;\n",
       "    }\n",
       "\n",
       "    .dataframe thead th {\n",
       "        text-align: right;\n",
       "    }\n",
       "</style>\n",
       "<table border=\"1\" class=\"dataframe\">\n",
       "  <thead>\n",
       "    <tr style=\"text-align: right;\">\n",
       "      <th></th>\n",
       "      <th>PDB</th>\n",
       "      <th>chain</th>\n",
       "      <th>uniprot</th>\n",
       "      <th>INT_LIG</th>\n",
       "      <th>coverage</th>\n",
       "      <th>count</th>\n",
       "      <th>acc</th>\n",
       "      <th>comment</th>\n",
       "    </tr>\n",
       "  </thead>\n",
       "  <tbody>\n",
       "    <tr>\n",
       "      <th>0</th>\n",
       "      <td>10GS</td>\n",
       "      <td>A</td>\n",
       "      <td>P09211</td>\n",
       "      <td>VWW</td>\n",
       "      <td>0.99</td>\n",
       "      <td>0</td>\n",
       "      <td>0.295</td>\n",
       "      <td>all good</td>\n",
       "    </tr>\n",
       "    <tr>\n",
       "      <th>1</th>\n",
       "      <td>10GS</td>\n",
       "      <td>B</td>\n",
       "      <td>P09211</td>\n",
       "      <td>VWW</td>\n",
       "      <td>0.99</td>\n",
       "      <td>0</td>\n",
       "      <td>0.294</td>\n",
       "      <td>all good</td>\n",
       "    </tr>\n",
       "    <tr>\n",
       "      <th>2</th>\n",
       "      <td>121P</td>\n",
       "      <td>A</td>\n",
       "      <td>P01112</td>\n",
       "      <td>GCP</td>\n",
       "      <td>0.878</td>\n",
       "      <td>0</td>\n",
       "      <td>0.136</td>\n",
       "      <td>all good</td>\n",
       "    </tr>\n",
       "    <tr>\n",
       "      <th>3</th>\n",
       "      <td>12AS</td>\n",
       "      <td>A</td>\n",
       "      <td>P00963</td>\n",
       "      <td>AMP</td>\n",
       "      <td>0.985</td>\n",
       "      <td>0</td>\n",
       "      <td>0.127</td>\n",
       "      <td>all good</td>\n",
       "    </tr>\n",
       "    <tr>\n",
       "      <th>4</th>\n",
       "      <td>12AS</td>\n",
       "      <td>B</td>\n",
       "      <td>P00963</td>\n",
       "      <td>AMP</td>\n",
       "      <td>0.985</td>\n",
       "      <td>0</td>\n",
       "      <td>0.130</td>\n",
       "      <td>all good</td>\n",
       "    </tr>\n",
       "    <tr>\n",
       "      <th>...</th>\n",
       "      <td>...</td>\n",
       "      <td>...</td>\n",
       "      <td>...</td>\n",
       "      <td>...</td>\n",
       "      <td>...</td>\n",
       "      <td>...</td>\n",
       "      <td>...</td>\n",
       "      <td>...</td>\n",
       "    </tr>\n",
       "    <tr>\n",
       "      <th>78910</th>\n",
       "      <td>3G3E</td>\n",
       "      <td>C</td>\n",
       "      <td>P14920</td>\n",
       "      <td>G3E</td>\n",
       "      <td>0.98</td>\n",
       "      <td>0</td>\n",
       "      <td>0.133</td>\n",
       "      <td>all good</td>\n",
       "    </tr>\n",
       "    <tr>\n",
       "      <th>78911</th>\n",
       "      <td>3G3E</td>\n",
       "      <td>D</td>\n",
       "      <td>P14920</td>\n",
       "      <td>G3E</td>\n",
       "      <td>0.98</td>\n",
       "      <td>0</td>\n",
       "      <td>0.144</td>\n",
       "      <td>all good</td>\n",
       "    </tr>\n",
       "    <tr>\n",
       "      <th>78912</th>\n",
       "      <td>3G3E</td>\n",
       "      <td>B</td>\n",
       "      <td>P14920</td>\n",
       "      <td>G3E</td>\n",
       "      <td>0.98</td>\n",
       "      <td>0</td>\n",
       "      <td>0.142</td>\n",
       "      <td>all good</td>\n",
       "    </tr>\n",
       "    <tr>\n",
       "      <th>78913</th>\n",
       "      <td>3G49</td>\n",
       "      <td>A</td>\n",
       "      <td>Q6QLL4</td>\n",
       "      <td>NAP</td>\n",
       "      <td>0.877</td>\n",
       "      <td>0</td>\n",
       "      <td>0.081</td>\n",
       "      <td>all good</td>\n",
       "    </tr>\n",
       "    <tr>\n",
       "      <th>78914</th>\n",
       "      <td>3G49</td>\n",
       "      <td>C</td>\n",
       "      <td>Q6QLL4</td>\n",
       "      <td>NAP</td>\n",
       "      <td>0.877</td>\n",
       "      <td>0</td>\n",
       "      <td>0.083</td>\n",
       "      <td>all good</td>\n",
       "    </tr>\n",
       "  </tbody>\n",
       "</table>\n",
       "<p>78915 rows × 8 columns</p>\n",
       "</div>"
      ],
      "text/plain": [
       "        PDB chain uniprot INT_LIG coverage count    acc   comment\n",
       "0      10GS     A  P09211     VWW     0.99     0  0.295  all good\n",
       "1      10GS     B  P09211     VWW     0.99     0  0.294  all good\n",
       "2      121P     A  P01112     GCP    0.878     0  0.136  all good\n",
       "3      12AS     A  P00963     AMP    0.985     0  0.127  all good\n",
       "4      12AS     B  P00963     AMP    0.985     0  0.130  all good\n",
       "...     ...   ...     ...     ...      ...   ...    ...       ...\n",
       "78910  3G3E     C  P14920     G3E     0.98     0  0.133  all good\n",
       "78911  3G3E     D  P14920     G3E     0.98     0  0.144  all good\n",
       "78912  3G3E     B  P14920     G3E     0.98     0  0.142  all good\n",
       "78913  3G49     A  Q6QLL4     NAP    0.877     0  0.081  all good\n",
       "78914  3G49     C  Q6QLL4     NAP    0.877     0  0.083  all good\n",
       "\n",
       "[78915 rows x 8 columns]"
      ]
     },
     "execution_count": 235,
     "metadata": {},
     "output_type": "execute_result"
    }
   ],
   "source": [
    "results"
   ]
  },
  {
   "cell_type": "code",
   "execution_count": 237,
   "id": "55f7a7dc-2b3d-4da6-a0e1-510950fbffe5",
   "metadata": {},
   "outputs": [],
   "source": [
    "d = {}\n",
    "for pdb, chain, uniprot, int_lig, count in zip(results['PDB'], results['chain'], results['uniprot'], results['INT_LIG'], results['count']):\n",
    "    if uniprot not in d:\n",
    "        d[uniprot] = []\n",
    "    d[uniprot].append(\"_\".join([pdb, chain, int_lig, str(count)]))\n",
    "    \n",
    "proteins = []\n",
    "random.seed(42)\n",
    "\n",
    "for prot in sorted(d):\n",
    "    proteins.append([prot, \",\".join(d[prot]), len(d[prot]), random.sample(sorted(d[prot]), 1)[0]])\n",
    "    \n",
    "proteins = pd.DataFrame(proteins, columns=['uniprot', 'structures', 'number of structures', 'reference structure'])\n",
    "pickle.dump(proteins, open(\"/aloy/home/acomajuncosa/MurD/GitHub/alignment/proteins.pkl\", \"wb\"))"
   ]
  },
  {
   "cell_type": "code",
   "execution_count": 4,
   "id": "976d6d1c-4d5d-476c-8278-04a7d6460f57",
   "metadata": {},
   "outputs": [],
   "source": [
    "proteins = pickle.load(open(\"/aloy/home/acomajuncosa/MurD/GitHub/alignment/proteins.pkl\", \"rb\"))"
   ]
  },
  {
   "cell_type": "code",
   "execution_count": 5,
   "id": "2fcbde59-8ce4-49d0-811a-9c2896daf8cd",
   "metadata": {},
   "outputs": [
    {
     "data": {
      "text/html": [
       "<div>\n",
       "<style scoped>\n",
       "    .dataframe tbody tr th:only-of-type {\n",
       "        vertical-align: middle;\n",
       "    }\n",
       "\n",
       "    .dataframe tbody tr th {\n",
       "        vertical-align: top;\n",
       "    }\n",
       "\n",
       "    .dataframe thead th {\n",
       "        text-align: right;\n",
       "    }\n",
       "</style>\n",
       "<table border=\"1\" class=\"dataframe\">\n",
       "  <thead>\n",
       "    <tr style=\"text-align: right;\">\n",
       "      <th></th>\n",
       "      <th>uniprot</th>\n",
       "      <th>structures</th>\n",
       "      <th>number of structures</th>\n",
       "      <th>reference structure</th>\n",
       "    </tr>\n",
       "  </thead>\n",
       "  <tbody>\n",
       "    <tr>\n",
       "      <th>0</th>\n",
       "      <td>A0A003</td>\n",
       "      <td>6KV9_A_NAD_0,6KV9_A_UGA_0,6KVC_A_NAD_0,6KVC_A_...</td>\n",
       "      <td>4</td>\n",
       "      <td>6KV9_A_NAD_0</td>\n",
       "    </tr>\n",
       "    <tr>\n",
       "      <th>1</th>\n",
       "      <td>A0A010</td>\n",
       "      <td>5B00_A_GPP_0,5B00_C_GPP_0,5B00_B_GPP_0</td>\n",
       "      <td>3</td>\n",
       "      <td>5B00_A_GPP_0</td>\n",
       "    </tr>\n",
       "    <tr>\n",
       "      <th>2</th>\n",
       "      <td>A0A011</td>\n",
       "      <td>3VK5_A_FPQ_0,3VK5_B_FPQ_0,3VKA_A_FPQ_0,3VKB_A_...</td>\n",
       "      <td>9</td>\n",
       "      <td>3VKB_B_FPS_0</td>\n",
       "    </tr>\n",
       "    <tr>\n",
       "      <th>3</th>\n",
       "      <td>A0A022MQ12</td>\n",
       "      <td>6SJ2_A_3HA_0,6SJ2_B_3HA_0,6SJ3_A_3HB_0,6SJ3_B_...</td>\n",
       "      <td>6</td>\n",
       "      <td>6SJ2_B_3HA_0</td>\n",
       "    </tr>\n",
       "    <tr>\n",
       "      <th>4</th>\n",
       "      <td>A0A022MRT4</td>\n",
       "      <td>6SIW_A_AMP_0,6SIW_B_AMP_0,6SIX_A_ANP_0,6SIX_B_...</td>\n",
       "      <td>14</td>\n",
       "      <td>6SIX_B_ANP_0</td>\n",
       "    </tr>\n",
       "    <tr>\n",
       "      <th>...</th>\n",
       "      <td>...</td>\n",
       "      <td>...</td>\n",
       "      <td>...</td>\n",
       "      <td>...</td>\n",
       "    </tr>\n",
       "    <tr>\n",
       "      <th>8735</th>\n",
       "      <td>X5EJW5</td>\n",
       "      <td>6XJI_C_AGS_0,6XJI_D_AGS_0</td>\n",
       "      <td>2</td>\n",
       "      <td>6XJI_C_AGS_0</td>\n",
       "    </tr>\n",
       "    <tr>\n",
       "      <th>8736</th>\n",
       "      <td>X5I2D7</td>\n",
       "      <td>5H04_A_NAI_0,5WTZ_A_NAD_0,5WU0_A_NAI_0</td>\n",
       "      <td>3</td>\n",
       "      <td>5H04_A_NAI_0</td>\n",
       "    </tr>\n",
       "    <tr>\n",
       "      <th>8737</th>\n",
       "      <td>X5IYZ1</td>\n",
       "      <td>6J38_A_FAD_0,6J38_B_FAD_0,6J39_A_FAD_0,6J39_B_...</td>\n",
       "      <td>6</td>\n",
       "      <td>6J39_A_FAD_0</td>\n",
       "    </tr>\n",
       "    <tr>\n",
       "      <th>8738</th>\n",
       "      <td>X5MEI1</td>\n",
       "      <td>7MPO_A_A3P_0,7MPO_G_A3P_0,7MPO_B_A3P_0,7MPO_E_...</td>\n",
       "      <td>16</td>\n",
       "      <td>7MPO_G_A3P_0</td>\n",
       "    </tr>\n",
       "    <tr>\n",
       "      <th>8739</th>\n",
       "      <td>X7XQY2</td>\n",
       "      <td>7KXA_A_NAD_0</td>\n",
       "      <td>1</td>\n",
       "      <td>7KXA_A_NAD_0</td>\n",
       "    </tr>\n",
       "  </tbody>\n",
       "</table>\n",
       "<p>8740 rows × 4 columns</p>\n",
       "</div>"
      ],
      "text/plain": [
       "         uniprot                                         structures  \\\n",
       "0         A0A003  6KV9_A_NAD_0,6KV9_A_UGA_0,6KVC_A_NAD_0,6KVC_A_...   \n",
       "1         A0A010             5B00_A_GPP_0,5B00_C_GPP_0,5B00_B_GPP_0   \n",
       "2         A0A011  3VK5_A_FPQ_0,3VK5_B_FPQ_0,3VKA_A_FPQ_0,3VKB_A_...   \n",
       "3     A0A022MQ12  6SJ2_A_3HA_0,6SJ2_B_3HA_0,6SJ3_A_3HB_0,6SJ3_B_...   \n",
       "4     A0A022MRT4  6SIW_A_AMP_0,6SIW_B_AMP_0,6SIX_A_ANP_0,6SIX_B_...   \n",
       "...          ...                                                ...   \n",
       "8735      X5EJW5                          6XJI_C_AGS_0,6XJI_D_AGS_0   \n",
       "8736      X5I2D7             5H04_A_NAI_0,5WTZ_A_NAD_0,5WU0_A_NAI_0   \n",
       "8737      X5IYZ1  6J38_A_FAD_0,6J38_B_FAD_0,6J39_A_FAD_0,6J39_B_...   \n",
       "8738      X5MEI1  7MPO_A_A3P_0,7MPO_G_A3P_0,7MPO_B_A3P_0,7MPO_E_...   \n",
       "8739      X7XQY2                                       7KXA_A_NAD_0   \n",
       "\n",
       "      number of structures reference structure  \n",
       "0                        4        6KV9_A_NAD_0  \n",
       "1                        3        5B00_A_GPP_0  \n",
       "2                        9        3VKB_B_FPS_0  \n",
       "3                        6        6SJ2_B_3HA_0  \n",
       "4                       14        6SIX_B_ANP_0  \n",
       "...                    ...                 ...  \n",
       "8735                     2        6XJI_C_AGS_0  \n",
       "8736                     3        5H04_A_NAI_0  \n",
       "8737                     6        6J39_A_FAD_0  \n",
       "8738                    16        7MPO_G_A3P_0  \n",
       "8739                     1        7KXA_A_NAD_0  \n",
       "\n",
       "[8740 rows x 4 columns]"
      ]
     },
     "execution_count": 5,
     "metadata": {},
     "output_type": "execute_result"
    }
   ],
   "source": [
    "proteins"
   ]
  },
  {
   "cell_type": "code",
   "execution_count": 117,
   "id": "1c6bbfb2-5bae-4edd-a738-a7aa43506a42",
   "metadata": {},
   "outputs": [],
   "source": [
    "ref_pdbs = proteins['reference structure']\n",
    "ref_pdbs = sorted(set([i.split(\"_\")[0] for i in ref_pdbs]))"
   ]
  },
  {
   "cell_type": "code",
   "execution_count": 118,
   "id": "40d3b61e-d2e3-4c8d-894e-6c9cfc9c1d59",
   "metadata": {},
   "outputs": [],
   "source": [
    "# LOAD RESOLUTIONS\n",
    "\n",
    "res = pd.read_csv(\"/aloy/home/acomajuncosa/Other_Datasets/Mappings/resolu2.idx\", skiprows=6, names=['pdb', 'res'], sep='\\t;\\t', engine='python')\n",
    "c = Counter(res['pdb'])\n",
    "discard = set([i for i in c if c[i] != 1])\n",
    "res = {i: j for i, j in zip(res['pdb'], res['res']) if i not in discard}"
   ]
  },
  {
   "cell_type": "code",
   "execution_count": 119,
   "id": "cbf408dd-5d7b-4a81-a984-e4a7139ad43f",
   "metadata": {},
   "outputs": [
    {
     "data": {
      "text/plain": [
       "(8622, 8622)"
      ]
     },
     "execution_count": 119,
     "metadata": {},
     "output_type": "execute_result"
    }
   ],
   "source": [
    "len(ref_res), len(ref_pdbs)"
   ]
  },
  {
   "cell_type": "code",
   "execution_count": 120,
   "id": "864da5b0-be0c-4e43-8767-ba906469c21b",
   "metadata": {
    "tags": []
   },
   "outputs": [],
   "source": [
    "ref_res = [res[i] for i in ref_pdbs if i in res]"
   ]
  },
  {
   "cell_type": "code",
   "execution_count": 123,
   "id": "7a5ba49d-4e52-4603-b3a1-cb3b2462a253",
   "metadata": {},
   "outputs": [],
   "source": [
    "sts = [i.split(\",\") for i in proteins['structures']]\n",
    "sts_ = []\n",
    "\n",
    "for st in sts:\n",
    "    sts_.append(sorted(set([i.split(\"_\")[0] for i in st])))"
   ]
  },
  {
   "cell_type": "code",
   "execution_count": 124,
   "id": "475387c7-724c-46d3-be53-08eff8dd9d5a",
   "metadata": {},
   "outputs": [],
   "source": [
    "resolutions = []\n",
    "for st in sts_:\n",
    "    m = [res[i] for i in st if i in res and res[i] != -1]\n",
    "    if len(m) != 0:\n",
    "        resolutions.append(min(m))\n",
    "    else:\n",
    "        resolutions.append(min([res[i] for i in st]))"
   ]
  },
  {
   "cell_type": "code",
   "execution_count": 132,
   "id": "cfc30ba9-aa51-4044-8592-365d4062348e",
   "metadata": {},
   "outputs": [
    {
     "data": {
      "image/png": "[encoded data removed]",
      "text/plain": [
       "<Figure size 432x288 with 1 Axes>"
      ]
     },
     "metadata": {
      "needs_background": "light"
     },
     "output_type": "display_data"
    }
   ],
   "source": [
    "plt.grid(linestyle='--', zorder=-2)\n",
    "\n",
    "plt.hist(ref_res, bins=[i for i in np.arange(-1.2, 5, 0.1)], ec='k', zorder=2, label='random (' + str(len(ref_res)) + ')')\n",
    "plt.hist(resolutions, bins=[i for i in np.arange(-1.2, 5, 0.1)], ec='k', zorder=2, label='min res (' + str(len(ref_res)) + ')', alpha=0.5)\n",
    "plt.legend()\n",
    "plt.savefig(\"/aloy/home/acomajuncosa/MurD/GitHub/alignment/MSA/images/res.png\", dpi=600)\n",
    "plt.show()"
   ]
  },
  {
   "cell_type": "code",
   "execution_count": null,
   "id": "a8bbf3c9-992d-4a43-b96b-5cb22d2287f5",
   "metadata": {},
   "outputs": [],
   "source": []
  },
  {
   "cell_type": "code",
   "execution_count": null,
   "id": "0dea7cf5-0bcc-4f18-92ac-fcbabb4a2f84",
   "metadata": {},
   "outputs": [],
   "source": []
  },
  {
   "cell_type": "code",
   "execution_count": null,
   "id": "07e1f0de-2dd5-4743-95a3-50080cbdf28a",
   "metadata": {},
   "outputs": [],
   "source": []
  },
  {
   "cell_type": "code",
   "execution_count": null,
   "id": "d690ac49-00e1-4d7a-b1ba-13d02c259c17",
   "metadata": {},
   "outputs": [],
   "source": []
  },
  {
   "cell_type": "code",
   "execution_count": null,
   "id": "8a9c26e3-3598-4174-aa0b-b202693e0368",
   "metadata": {},
   "outputs": [],
   "source": []
  },
  {
   "cell_type": "code",
   "execution_count": null,
   "id": "13ef7f4f-201a-4871-9891-7e9d6cde82de",
   "metadata": {},
   "outputs": [],
   "source": []
  },
  {
   "cell_type": "code",
   "execution_count": null,
   "id": "bdf2169c-dce2-4be9-8d99-2d5393c0abd9",
   "metadata": {},
   "outputs": [],
   "source": []
  },
  {
   "cell_type": "code",
   "execution_count": null,
   "id": "c2702cd0-07aa-492d-afed-b4cacfc630b1",
   "metadata": {},
   "outputs": [],
   "source": []
  },
  {
   "cell_type": "code",
   "execution_count": null,
   "id": "3f086c1f-3099-4861-8fc2-dfc66e3ce00c",
   "metadata": {},
   "outputs": [],
   "source": []
  },
  {
   "cell_type": "code",
   "execution_count": 195,
   "id": "f0bbc375-86d7-4ed4-b3f1-e558306f730c",
   "metadata": {
    "collapsed": true,
    "jupyter": {
     "outputs_hidden": true
    },
    "tags": []
   },
   "outputs": [
    {
     "name": "stdout",
     "output_type": "stream",
     "text": [
      "Collecting package metadata (current_repodata.json): done\n",
      "Solving environment: failed with initial frozen solve. Retrying with flexible solve.\n",
      "Solving environment: done\n",
      "Collecting package metadata (repodata.json): done\n",
      "Solving environment: done\n",
      "\n",
      "\n",
      "==> WARNING: A newer version of conda exists. <==\n",
      "  current version: 4.12.0\n",
      "  latest version: 4.13.0\n",
      "\n",
      "Please update conda by running\n",
      "\n",
      "    $ conda update -n base conda\n",
      "\n",
      "\n",
      "\n",
      "## Package Plan ##\n",
      "\n",
      "  environment location: /home/acomajuncosa/programs/anaconda3\n",
      "\n",
      "  added / updated specs:\n",
      "    - pymol-open-source\n",
      "\n",
      "\n",
      "The following packages will be downloaded:\n",
      "\n",
      "    package                    |            build\n",
      "    ---------------------------|-----------------\n",
      "    certifi-2022.5.18.1        |   py37h89c1867_0         150 KB  conda-forge\n",
      "    flask-1.1.2                |     pyh9f0ad1d_0          70 KB  conda-forge\n",
      "    glm-0.9.9.4                |       hc9558a2_0         201 KB  conda-forge\n",
      "    jinja2-2.11.3              |     pyhd3eb1b0_0         101 KB\n",
      "    pymol-open-source-2.4.0    |   py37h84945d2_3         6.5 MB  conda-forge\n",
      "    python-jsonrpc-server-0.3.4|     pyh9f0ad1d_1          11 KB  conda-forge\n",
      "    ujson-1.35                 |py37h745909e_1003          28 KB  conda-forge\n",
      "    ------------------------------------------------------------\n",
      "                                           Total:         7.0 MB\n",
      "\n",
      "The following NEW packages will be INSTALLED:\n",
      "\n",
      "  glew               conda-forge/linux-64::glew-2.1.0-h9c3ff4c_2\n",
      "  glm                conda-forge/linux-64::glm-0.9.9.4-hc9558a2_0\n",
      "  libglu             conda-forge/linux-64::libglu-9.0.0-he1b5a44_1001\n",
      "  pymol-open-source  conda-forge/linux-64::pymol-open-source-2.4.0-py37h84945d2_3\n",
      "\n",
      "The following packages will be UPDATED:\n",
      "\n",
      "  ca-certificates                      2021.10.8-ha878542_0 --> 2022.5.18.1-ha878542_0\n",
      "  certifi                          2021.10.8-py37h89c1867_2 --> 2022.5.18.1-py37h89c1867_0\n",
      "  openssl                                 1.1.1n-h166bdaf_0 --> 1.1.1o-h166bdaf_0\n",
      "\n",
      "The following packages will be SUPERSEDED by a higher-priority channel:\n",
      "\n",
      "  jinja2             conda-forge::jinja2-3.0.3-pyhd8ed1ab_0 --> pkgs/main::jinja2-2.11.3-pyhd3eb1b0_0\n",
      "\n",
      "The following packages will be DOWNGRADED:\n",
      "\n",
      "  flask                                  2.0.2-pyhd8ed1ab_0 --> 1.1.2-pyh9f0ad1d_0\n",
      "  python-jsonrpc-se~                     0.4.0-pyh9f0ad1d_0 --> 0.3.4-pyh9f0ad1d_1\n",
      "  ujson                                4.2.0-py37hcd2ae1e_1 --> 1.35-py37h745909e_1003\n",
      "\n",
      "\n",
      "Proceed ([y]/n)? ^C\n",
      "\n",
      "CondaSystemExit: \n",
      "Operation aborted.  Exiting.\n",
      "\n"
     ]
    }
   ],
   "source": [
    "!conda install pymol-open-source"
   ]
  },
  {
   "cell_type": "code",
   "execution_count": null,
   "id": "3b6db2a8-6bf7-4014-ba80-ceb418b8b150",
   "metadata": {},
   "outputs": [],
   "source": []
  },
  {
   "cell_type": "code",
   "execution_count": null,
   "id": "42e6bf02-3775-43ec-9a3b-ef909627a5ce",
   "metadata": {},
   "outputs": [],
   "source": []
  },
  {
   "cell_type": "code",
   "execution_count": null,
   "id": "92e2d12c-e185-4347-9791-85f83f6a8cb3",
   "metadata": {},
   "outputs": [],
   "source": []
  },
  {
   "cell_type": "code",
   "execution_count": null,
   "id": "e45ccb0a-d094-4718-bb1f-a8e26a601c1b",
   "metadata": {},
   "outputs": [],
   "source": []
  },
  {
   "cell_type": "code",
   "execution_count": null,
   "id": "3ff788f8-f079-4be6-8c04-2fc8792c25b4",
   "metadata": {},
   "outputs": [],
   "source": []
  },
  {
   "cell_type": "code",
   "execution_count": null,
   "id": "3f72c9a2-4716-47f7-a6d5-ec995a01c722",
   "metadata": {},
   "outputs": [],
   "source": []
  },
  {
   "cell_type": "code",
   "execution_count": null,
   "id": "35f31430-3d40-48ad-89c6-b3f152b5a9a4",
   "metadata": {},
   "outputs": [],
   "source": []
  },
  {
   "cell_type": "code",
   "execution_count": null,
   "id": "3d7a7cbc-3292-4965-b2c7-ae4613f6cb18",
   "metadata": {},
   "outputs": [],
   "source": []
  },
  {
   "cell_type": "code",
   "execution_count": null,
   "id": "16fbcd96-2dc2-4889-963b-8188482db8dd",
   "metadata": {},
   "outputs": [],
   "source": []
  },
  {
   "cell_type": "code",
   "execution_count": null,
   "id": "f969cb0c-edf9-4b26-b9a7-da4031e6336e",
   "metadata": {},
   "outputs": [],
   "source": []
  },
  {
   "cell_type": "code",
   "execution_count": null,
   "id": "fc571a1a-ba14-408f-b563-726c5e9bbc99",
   "metadata": {},
   "outputs": [],
   "source": []
  },
  {
   "cell_type": "code",
   "execution_count": null,
   "id": "d4244f5f-5636-4551-8adb-64085bc3d6da",
   "metadata": {},
   "outputs": [],
   "source": []
  },
  {
   "cell_type": "code",
   "execution_count": null,
   "id": "170832ce-3206-4958-98ce-7df03bdbdd07",
   "metadata": {},
   "outputs": [],
   "source": []
  },
  {
   "cell_type": "code",
   "execution_count": null,
   "id": "67387326-d0e8-4733-b6aa-8b7edc386ab6",
   "metadata": {},
   "outputs": [],
   "source": []
  },
  {
   "cell_type": "code",
   "execution_count": null,
   "id": "d0889cbe-d55b-47e3-b42a-5252a222b0e3",
   "metadata": {},
   "outputs": [],
   "source": []
  },
  {
   "cell_type": "code",
   "execution_count": null,
   "id": "33d0973c-041b-4597-834e-c32225420159",
   "metadata": {},
   "outputs": [],
   "source": []
  },
  {
   "cell_type": "code",
   "execution_count": null,
   "id": "5d34f305-07a7-4b7c-91bf-614fa4c57c1d",
   "metadata": {},
   "outputs": [],
   "source": []
  },
  {
   "cell_type": "code",
   "execution_count": null,
   "id": "624a4416-0d1b-4ca0-a7d3-f5733a3ea9f7",
   "metadata": {},
   "outputs": [],
   "source": []
  },
  {
   "cell_type": "code",
   "execution_count": null,
   "id": "2edafc1d-4bda-4c1c-b82d-e84ed4c60527",
   "metadata": {},
   "outputs": [],
   "source": []
  },
  {
   "cell_type": "code",
   "execution_count": null,
   "id": "26bab4b5-47e7-4a26-b7eb-f254ea94fcee",
   "metadata": {},
   "outputs": [],
   "source": []
  },
  {
   "cell_type": "code",
   "execution_count": null,
   "id": "1c345ab2-816b-490e-b8a6-53c1dea595f8",
   "metadata": {},
   "outputs": [],
   "source": []
  },
  {
   "cell_type": "code",
   "execution_count": 9,
   "id": "e804bac5-f570-4759-9042-f1d8ff2feb50",
   "metadata": {
    "tags": []
   },
   "outputs": [],
   "source": [
    "def get_centroid(infile, outfile):\n",
    "    \n",
    "    parser = PDBParser()\n",
    "    structure = parser.get_structure(\"lig\", infile)\n",
    "\n",
    "    res = [i for i in structure.get_residues()][0]\n",
    "    ligatoms = [at.coord for at in res.get_atoms()]\n",
    "    x = np.mean(np.array(ligatoms)[:,0])\n",
    "    y = np.mean(np.array(ligatoms)[:,1])\n",
    "    z = np.mean(np.array(ligatoms)[:,2])\n",
    "    center = np.array([x, y, z], dtype=np.float32)\n",
    "\n",
    "    x, y, z = str(round(x, 3)), str(round(y, 3)), str(round(z, 3))\n",
    "    ctr = \" \"*(8-len(x)) + x + \" \"*(8-len(y)) + y + \" \"*(8-len(z)) + z\n",
    "    text = \"\"\"HEADER\\nHETATM    1   C  CTR A   1    \"\"\" + ctr + \"\"\"  1.00  1.00           C\\nEND\"\"\"\n",
    "\n",
    "    with open(outfile, \"w\") as f:\n",
    "        f.write(text)\n",
    "\n",
    "\n",
    "def SASA(prot, lig): \n",
    "\n",
    "    # Protonation gives too many issues. Avoid it\n",
    "    \n",
    "    #compute ligand SASA\n",
    "    #lig_h = Chem.rdmolops.AddHs(lig, addCoords=True, explicitOnly=True)\n",
    "    lig_h = lig\n",
    "    # Get Van der Waals radii (angstrom)\n",
    "    ptable = Chem.GetPeriodicTable()\n",
    "    radii = [ptable.GetRvdw(atom.GetAtomicNum()) for atom in lig_h.GetAtoms()]\n",
    "    # Compute solvent accessible surface area\n",
    "    lig_sasa = rdFreeSASA.CalcSASA(lig_h, radii)\n",
    "\n",
    "    # Join protein & ligand\n",
    "    comp = Chem.CombineMols(prot, lig)\n",
    "    comp_h = comp\n",
    "    #comp_h = Chem.AddHs(comp, addCoords=True)\n",
    "    # Get Van der Waals radii (angstrom)\n",
    "    ptable = Chem.GetPeriodicTable()\n",
    "    radii = [ptable.GetRvdw(atom.GetAtomicNum()) for atom in comp_h.GetAtoms()]\n",
    "    # Compute solvent accessible surface area\n",
    "    comp_sasa = rdFreeSASA.CalcSASA(comp_h, radii)\n",
    "    comp_lig = Chem.GetMolFrags(comp_h, asMols=True,  sanitizeFrags=True)\n",
    "    comp_lig = [i for i in comp_lig if lig_h.GetNumHeavyAtoms() == i.GetNumHeavyAtoms()][0]\n",
    "    \n",
    "    lig_sasa_free = 0\n",
    "    for a in lig_h.GetAtoms():\n",
    "        lig_sasa_free += float(a.GetProp(\"SASA\"))\n",
    "\n",
    "    lig_sasa_bound = 0\n",
    "    for a in comp_lig.GetAtoms():\n",
    "        lig_sasa_bound += float(a.GetProp(\"SASA\"))\n",
    "        \n",
    "    return round(lig_sasa_free, 3), round(lig_sasa_bound, 3)\n",
    "\n",
    "\n",
    "pdbcode_to_inchi = pd.read_csv(\"/aloy/home/acomajuncosa/MurD/GitHub/osa-murd/data/PDB/mapping/Components-inchi.ich.txt\", sep=\"\\t\", header=None, names=['inchi', 'PDB', 'name'], usecols=[0,1])  \n",
    "# From df to dict's  // PDB-LIGs\n",
    "d = {}\n",
    "for i,j in zip(pdbcode_to_inchi['inchi'], pdbcode_to_inchi['PDB']):\n",
    "    if str(j) == 'nan': j = \"NA\"\n",
    "    d[str(j)] = i\n",
    "pdbcode_to_inchi = d; del d\n",
    "\n",
    "\n",
    "def get_xml(pdb_id, path_to_xml='.', force_rerun=False):\n",
    "\n",
    "\t\"\"\"\n",
    "\tInspired in ssbio, def download_sifts_xml\n",
    "\n",
    "\t\"\"\"\n",
    "\t\n",
    "\tfilename = '{}.xml.gz'.format(pdb_id.lower())\n",
    "\turl = os.path.join('http://ftp.ebi.ac.uk/pub/databases/msd/sifts/xml/', filename)\n",
    "\toutfile = os.path.join(path_to_xml, pdb_id.lower() + '.xml.gz')\n",
    "\tout_xml = os.path.join(path_to_xml, pdb_id.lower() + '_' + str(task_id) + '.xml')\n",
    "\t\n",
    "\t# Download xml.gz\n",
    "\tif force_rerun is True or pdb_id.lower() + '.xml.gz' not in set(os.listdir(path_to_xml)):\n",
    "\t\turllib.request.urlretrieve(url, outfile)\n",
    "\t\t\n",
    "\t# Uncompress\n",
    "\twith gzip.open(outfile, 'rb') as f:\n",
    "\t\twith open(out_xml, \"wb\") as out:\n",
    "\t\t\tfile_content = f.read()\n",
    "\t\t\tout.write(file_content)\n",
    "\t\t\t\n",
    "\treturn out_xml"
   ]
  },
  {
   "cell_type": "code",
   "execution_count": null,
   "id": "96555952-f337-4f1d-abf4-5f030ad6f899",
   "metadata": {},
   "outputs": [],
   "source": [
    "# task_id = 0 \n",
    "\n",
    "# path_to_summary = os.path.join(\"/aloy/home/acomajuncosa/MurD/GitHub/osa-murd/pocketvec/PDB/summary\", \"summary_\" + str(task_id) + \".tsv\")"
   ]
  },
  {
   "cell_type": "code",
   "execution_count": null,
   "id": "40bf129b-4983-43c4-b740-41d446ee52c6",
   "metadata": {},
   "outputs": [],
   "source": [
    "1A0H\tE\tP00735\t0G6\t0.0\t--\t--\tcoverage < 0.8"
   ]
  },
  {
   "cell_type": "code",
   "execution_count": 224,
   "id": "048cb8e7-e239-4bc4-9bf4-a325f78563ed",
   "metadata": {},
   "outputs": [
    {
     "data": {
      "text/html": [
       "<div>\n",
       "<style scoped>\n",
       "    .dataframe tbody tr th:only-of-type {\n",
       "        vertical-align: middle;\n",
       "    }\n",
       "\n",
       "    .dataframe tbody tr th {\n",
       "        vertical-align: top;\n",
       "    }\n",
       "\n",
       "    .dataframe thead th {\n",
       "        text-align: right;\n",
       "    }\n",
       "</style>\n",
       "<table border=\"1\" class=\"dataframe\">\n",
       "  <thead>\n",
       "    <tr style=\"text-align: right;\">\n",
       "      <th></th>\n",
       "      <th>PDB</th>\n",
       "      <th>INT_LIG</th>\n",
       "      <th>LIG</th>\n",
       "      <th>HET</th>\n",
       "      <th>type</th>\n",
       "      <th>chain</th>\n",
       "      <th>uniprot</th>\n",
       "    </tr>\n",
       "  </thead>\n",
       "  <tbody>\n",
       "    <tr>\n",
       "      <th>50</th>\n",
       "      <td>1A0Q</td>\n",
       "      <td>HEP</td>\n",
       "      <td>ZN</td>\n",
       "      <td>NaN</td>\n",
       "      <td>prot</td>\n",
       "      <td>H</td>\n",
       "      <td>P01869</td>\n",
       "    </tr>\n",
       "    <tr>\n",
       "      <th>51</th>\n",
       "      <td>1A0Q</td>\n",
       "      <td>HEP</td>\n",
       "      <td>ZN</td>\n",
       "      <td>NaN</td>\n",
       "      <td>prot</td>\n",
       "      <td>L</td>\n",
       "      <td>P01837</td>\n",
       "    </tr>\n",
       "  </tbody>\n",
       "</table>\n",
       "</div>"
      ],
      "text/plain": [
       "     PDB INT_LIG LIG  HET  type chain uniprot\n",
       "50  1A0Q     HEP  ZN  NaN  prot     H  P01869\n",
       "51  1A0Q     HEP  ZN  NaN  prot     L  P01837"
      ]
     },
     "execution_count": 224,
     "metadata": {},
     "output_type": "execute_result"
    }
   ],
   "source": [
    "data.loc[data['PDB'] == \"1A0Q\"]"
   ]
  },
  {
   "cell_type": "code",
   "execution_count": 225,
   "id": "38a277a1-dd5d-4ca3-8f5e-0f950f93ce2e",
   "metadata": {},
   "outputs": [],
   "source": [
    "pdb = \"1A0Q\"\n",
    "int_lig = 'HEP'\n",
    "lig = ['ZN']\n",
    "het = np.nan\n",
    "chain_id = \"H\"\n",
    "uniprot = \"P01869\"\n",
    "\n",
    "path = os.path.join(\"/aloy/home/acomajuncosa/MurD/GitHub/structures\", pdb[1:3], pdb + \"_\" + chain_id + \"_\" + int_lig)\n",
    "if os.path.exists(path) is False: os.makedirs(path)\n",
    "os.chdir(os.path.join(path))"
   ]
  },
  {
   "cell_type": "code",
   "execution_count": 226,
   "id": "47fd61a1-4ea5-430f-b4f2-a1a52e1bf34c",
   "metadata": {},
   "outputs": [],
   "source": [
    "### 1. Create directory & download pdb structure\n",
    "with gzip.open('/aloy/home/acomajuncosa/programs/localpdb/mirror/pdb/' + pdb[1:3].lower() + '/pdb' + pdb.lower() + '.ent.gz', 'rb') as f_in:\n",
    "    with open(os.path.join(path, pdb + \".pdb\"), 'wb') as f_out:\n",
    "        shutil.copyfileobj(f_in, f_out)\n",
    "        \n",
    "ligands_to_remove = ['W']\n",
    "ligands_to_remove.append(\"H_\" + \" \"*(3-len(int_lig)) + int_lig)\n",
    "ligands_to_remove.append(\"H_\" + int_lig + \" \"*(3-len(int_lig)))\n",
    "\n",
    "if type(lig) == list:\n",
    "    for l in lig:\n",
    "        ligands_to_remove.append(\"H_\" + \" \"*(3-len(l)) + l)\n",
    "        ligands_to_remove.append(\"H_\" + l + \" \"*(3-len(l)))\n",
    "    ligands_to_remove = set(ligands_to_remove)"
   ]
  },
  {
   "cell_type": "code",
   "execution_count": 227,
   "id": "c808fca2-25f4-46d8-bb03-a5c814022987",
   "metadata": {
    "tags": []
   },
   "outputs": [
    {
     "name": "stderr",
     "output_type": "stream",
     "text": [
      "/home/acomajuncosa/programs/anaconda3/lib/python3.7/site-packages/Bio/PDB/StructureBuilder.py:92: PDBConstructionWarning: WARNING: Chain L is discontinuous at line 3747.\n",
      "  PDBConstructionWarning,\n",
      "/home/acomajuncosa/programs/anaconda3/lib/python3.7/site-packages/Bio/PDB/StructureBuilder.py:92: PDBConstructionWarning: WARNING: Chain H is discontinuous at line 3748.\n",
      "  PDBConstructionWarning,\n",
      "/home/acomajuncosa/programs/anaconda3/lib/python3.7/site-packages/Bio/PDB/StructureBuilder.py:92: PDBConstructionWarning: WARNING: Chain L is discontinuous at line 3773.\n",
      "  PDBConstructionWarning,\n",
      "/home/acomajuncosa/programs/anaconda3/lib/python3.7/site-packages/Bio/PDB/StructureBuilder.py:92: PDBConstructionWarning: WARNING: Chain H is discontinuous at line 3818.\n",
      "  PDBConstructionWarning,\n"
     ]
    }
   ],
   "source": [
    "### 2. Take only the first model\n",
    "parser = PDBParser()\n",
    "path_in = os.path.join(path, pdb + \".pdb\")\n",
    "path_out = path\n",
    "structure = parser.get_structure(\"st\", path_in) # Take only the first model. Trivial for X-ray, only 1st for NMR\n",
    "\n",
    "if len(structure) > 1:\n",
    "    structure = structure[0]\n",
    "\n",
    "io = PDBIO()\n",
    "io.set_structure(structure)\n",
    "io.save(os.path.join(path_out, pdb + \"_model.pdb\"))"
   ]
  },
  {
   "cell_type": "code",
   "execution_count": 228,
   "id": "c4d6de30-8167-4353-aace-e771262ac5ab",
   "metadata": {},
   "outputs": [
    {
     "data": {
      "text/plain": [
       "1"
      ]
     },
     "execution_count": 228,
     "metadata": {},
     "output_type": "execute_result"
    }
   ],
   "source": [
    "len(structure)"
   ]
  },
  {
   "cell_type": "code",
   "execution_count": 229,
   "id": "5b71e499-393d-4d43-ab9d-821578acb9ab",
   "metadata": {},
   "outputs": [],
   "source": [
    "### 3. Remove water molecules and ligands, but not nonstd residues, and select the studied chain\n",
    "parser = PDBParser()\n",
    "path_in = os.path.join(path, pdb + \"_model.pdb\")\n",
    "path_out = path\n",
    "structure = parser.get_structure(\"st\", path_in)\n",
    "\n",
    "class remove_ligs(Select):\n",
    "    def accept_residue(self, residue):\n",
    "        if residue.get_id()[0] not in ligands_to_remove and residue.get_parent().id == chain_id:\n",
    "            return 1\n",
    "        else:\n",
    "            return 0\n",
    "\n",
    "io = PDBIO()\n",
    "io.set_structure(structure)\n",
    "io.save(os.path.join(path, pdb + \"_\" + chain_id + \"_st.pdb\"), remove_ligs())"
   ]
  },
  {
   "cell_type": "code",
   "execution_count": 230,
   "id": "7567364a-a244-4a59-abca-8fdaf9abeef8",
   "metadata": {},
   "outputs": [],
   "source": [
    "### 4. Get the number of interesting ligands in the chain. If none, do not continue\n",
    "interesting_ligands = [i for i in structure.get_residues() if i.get_resname() == int_lig and i.get_parent().id == chain]"
   ]
  },
  {
   "cell_type": "code",
   "execution_count": 231,
   "id": "c8acb2a1-b5b8-4afb-9b2d-5e88c9cb4cf1",
   "metadata": {
    "collapsed": true,
    "jupyter": {
     "outputs_hidden": true
    },
    "tags": []
   },
   "outputs": [
    {
     "name": "stderr",
     "output_type": "stream",
     "text": [
      "===============================================================================\n",
      "=                   BioBB structure checking utility v3.0.3                   =\n",
      "=                 A. Hospital, P. Andrio, J.L. Gelpi 2018-20                  =\n",
      "===============================================================================\n",
      "\n",
      "Warning: sequence features only available in mmCIF format or with external fasta input\n",
      "Structure /aloy/home/acomajuncosa/MurD/GitHub/structures/A0/1A0Q_H_HEP/1A0Q_H_st.pdb loaded\n",
      " Title: \n",
      " Experimental method: unknown\n",
      " Resolution: 0.0 A\n",
      "\n",
      " Num. models: 1\n",
      " Num. chains: 1 (H: Protein)\n",
      " Num. residues:  205\n",
      " Num. residues with ins. codes:  5\n",
      " Num. HETATM residues:  0\n",
      " Num. ligands or modified residues:  0\n",
      " Num. water mol.:  0\n",
      " Num. atoms:  1540\n",
      "\n",
      "Running rem_hydrogen. Options: --remove Yes\n",
      "No residues with Hydrogen atoms found\n",
      "Structure not modified, saving due to --force_save option\n",
      "Final Num. models: 1\n",
      "Final Num. chains: 1 (H: Protein)\n",
      "Final Num. residues:  205\n",
      "Final Num. residues with ins. codes:  5\n",
      "Final Num. HETATM residues:  0\n",
      "Final Num. ligands or modified residues:  0\n",
      "Final Num. water mol.:  0\n",
      "Final Num. atoms:  1540\n",
      "Structure saved on /aloy/home/acomajuncosa/MurD/GitHub/structures/A0/1A0Q_H_HEP/1A0Q_H_hydrogens.pdb\n",
      "\n",
      "\n",
      "===============================================================================\n",
      "=                   BioBB structure checking utility v3.0.3                   =\n",
      "=                 A. Hospital, P. Andrio, J.L. Gelpi 2018-20                  =\n",
      "===============================================================================\n",
      "\n",
      "Warning: sequence features only available in mmCIF format or with external fasta input\n",
      "Structure /aloy/home/acomajuncosa/MurD/GitHub/structures/A0/1A0Q_H_HEP/1A0Q_H_hydrogens.pdb loaded\n",
      " Title: \n",
      " Experimental method: unknown\n",
      " Resolution: 0.0 A\n",
      "\n",
      " Num. models: 1\n",
      " Num. chains: 1 (H: Protein)\n",
      " Num. residues:  205\n",
      " Num. residues with ins. codes:  5\n",
      " Num. HETATM residues:  0\n",
      " Num. ligands or modified residues:  0\n",
      " Num. water mol.:  0\n",
      " Num. atoms:  1540\n",
      "\n",
      "Running altloc. Options: --select occupancy\n",
      "No residues with alternative location labels detected\n",
      "Structure not modified, saving due to --force_save option\n",
      "Final Num. models: 1\n",
      "Final Num. chains: 1 (H: Protein)\n",
      "Final Num. residues:  205\n",
      "Final Num. residues with ins. codes:  5\n",
      "Final Num. HETATM residues:  0\n",
      "Final Num. ligands or modified residues:  0\n",
      "Final Num. water mol.:  0\n",
      "Final Num. atoms:  1540\n",
      "Structure saved on /aloy/home/acomajuncosa/MurD/GitHub/structures/A0/1A0Q_H_HEP/1A0Q_H_altloc.pdb\n",
      "\n",
      "\n"
     ]
    },
    {
     "data": {
      "text/plain": [
       "'/aloy/home/acomajuncosa/MurD/GitHub/structures/A0/1A0Q_H_HEP/1A0Q_H_HEP.pdb'"
      ]
     },
     "execution_count": 231,
     "metadata": {},
     "output_type": "execute_result"
    }
   ],
   "source": [
    "### 5. Remove hydrogens\n",
    "command = 'python /aloy/home/acomajuncosa/programs/structureChecking/bin/check_structure -i ' + os.path.join(path_out , pdb + \"_\" + chain_id + '_st.pdb') + ' -o ' + os.path.join(path_out , pdb + \"_\" + chain_id + '_hydrogens.pdb') + ' --force_save --non_interactive rem_hydrogen --remove Yes'\n",
    "o = os.popen(command).read()\n",
    "sys.stderr.write(o + \"\\n\\n\")\n",
    "sys.stderr.flush()\n",
    "\n",
    "### 6. Select occupancies\n",
    "command = 'python /aloy/home/acomajuncosa/programs/structureChecking/bin/check_structure -i ' + os.path.join(path_out , pdb + \"_\" + chain_id + '_hydrogens.pdb') + ' -o ' + os.path.join(path_out , pdb + \"_\" + chain_id + '_altloc.pdb') + ' --force_save --non_interactive altloc --select occupancy'\n",
    "o = os.popen(command).read()\n",
    "sys.stderr.write(o + \"\\n\\n\")\n",
    "sys.stderr.flush()\n",
    "\n",
    "shutil.copyfile(os.path.join(path_out , pdb + \"_\" + chain_id + '_altloc.pdb'), os.path.join(path_out , pdb + \"_\" + chain_id + '_' + int_lig + '.pdb'))"
   ]
  },
  {
   "cell_type": "code",
   "execution_count": 192,
   "id": "682313b0-2add-4126-9b92-87cfdda33f21",
   "metadata": {},
   "outputs": [],
   "source": [
    "if len(interesting_ligands) == 0:\n",
    "    pass\n",
    "else:\n",
    "    print('yay')"
   ]
  },
  {
   "cell_type": "code",
   "execution_count": 232,
   "id": "bdc802fc-8ab6-4884-9001-3d9ffdcd7250",
   "metadata": {},
   "outputs": [],
   "source": [
    "### 5. Check coverage\n",
    "\n",
    "### 5.1. Get xml\n",
    "path_to_xml = \"/aloy/home/acomajuncosa/PocketVec_v2/HT/data/PDB/coverage/xml\"\n",
    "task_id = 0\n",
    "path_to_sifts = get_xml(pdb, path_to_xml, force_rerun=False)"
   ]
  },
  {
   "cell_type": "code",
   "execution_count": 254,
   "id": "4b7c64d1-26e9-4215-89f7-a02f9d5c7156",
   "metadata": {},
   "outputs": [],
   "source": [
    "def map_pdbres_to_uniprot(pdb_res, chain_id, sifts_file):\n",
    "    \n",
    "    \"\"\"\n",
    "    Given a pdb residue, a chain id and a sifts_file, map it with the corresponding\n",
    "    uniprot residue   \n",
    "    \n",
    "    \"\"\"\n",
    "\n",
    "    parser = etree.XMLParser(ns_clean=True)\n",
    "    tree = etree.parse(sifts_file, parser)\n",
    "    root = tree.getroot()\n",
    "\n",
    "    my_pdb_resnum = None\n",
    "\n",
    "    # TODO: \"Engineered_Mutation is also a possible annotation, need to figure out what to do with that\n",
    "    my_pdb_annotation = False\n",
    "\n",
    "    # Find the right chain (entities in the xml doc)\n",
    "    ent = './/{http://www.ebi.ac.uk/pdbe/docs/sifts/eFamily.xsd}entity'\n",
    "\n",
    "\n",
    "    for chain in root.findall(ent):\n",
    "        if True: #chain.attrib['entityId'] == chain_id: # this is not right (e.g. 1a0h, chain E in pdb is chain D in uniprot! check xml)\n",
    "            # Find the \"crossRefDb\" tag that has the attributes dbSource=\"PDB\" and  dbResNum=\"pdb_res\"\n",
    "            # Then match it to the crossRefDb dbResNum that has the attribute dbSource=\"PDBresnum\"\n",
    "            # Check if uniprot + resnum even exists in the sifts file (it won't if the pdb doesn't contain the residue)\n",
    "            ures = './/{http://www.ebi.ac.uk/pdbe/docs/sifts/eFamily.xsd}crossRefDb[@dbSource=\"PDB\"][@dbResNum=\"%s\"][@dbChainId=\"%s\"]' % (pdb_res, chain_id)\n",
    "            my_pdb_residue = chain.findall(ures)\n",
    "            \n",
    "            if len(my_pdb_residue) == 1:\n",
    "                # Get crossRefDb dbSource=\"PDB\"\n",
    "                parent = my_pdb_residue[0].getparent()\n",
    "                pres = './/{http://www.ebi.ac.uk/pdbe/docs/sifts/eFamily.xsd}crossRefDb[@dbSource=\"UniProt\"]'\n",
    "                my_pdb_residue = parent.findall(pres)\n",
    "                if len(my_pdb_residue) == 0 or my_pdb_residue[0].attrib['dbResNum'] == 'null':\n",
    "                    pass\n",
    "                else:\n",
    "                    my_pdb_resnum = int(my_pdb_residue[0].attrib['dbResNum'])\n",
    "\n",
    "\n",
    "                    # Get <residueDetail dbSource=\"PDBe\" property=\"Annotation\">\n",
    "                    # Will be Not_Observed if it is not seen in the PDB\n",
    "                    anno = './/{http://www.ebi.ac.uk/pdbe/docs/sifts/eFamily.xsd}residueDetail[@dbSource=\"PDBe\"][@property=\"Annotation\"]'\n",
    "                    my_pdb_annotation = parent.findall(anno)\n",
    "                    if len(my_pdb_annotation) == 1:\n",
    "                        my_pdb_annotation = my_pdb_annotation[0].text\n",
    "                        if my_pdb_annotation == 'Not_Observed':\n",
    "                            my_pdb_annotation = False\n",
    "                    else:\n",
    "                        my_pdb_annotation = True\n",
    "\n",
    "                    return pdb_res, my_pdb_resnum, my_pdb_annotation\n",
    "            else:\n",
    "                pass\n",
    "\n",
    "    return pdb_res, my_pdb_resnum, my_pdb_annotation"
   ]
  },
  {
   "cell_type": "code",
   "execution_count": 262,
   "id": "2c12c3da-bbc3-4995-aec7-760167bc98d4",
   "metadata": {},
   "outputs": [],
   "source": [
    "parser = PDBParser()\n",
    "structure = parser.get_structure(\"st\", os.path.join(path_out , pdb + '_' + chain_id + \"_\" + int_lig + '.pdb'))"
   ]
  },
  {
   "cell_type": "code",
   "execution_count": 263,
   "id": "690a23d3-cec7-455a-a88b-15a0403d11af",
   "metadata": {},
   "outputs": [],
   "source": [
    "# 5.2 Get uniprot sequence\n",
    "\n",
    "baseUrl = \"http://www.uniprot.org/uniprot/\"\n",
    "currentUrl = baseUrl + uniprot + \".fasta\"\n",
    "response = r.post(currentUrl)\n",
    "cData = ''.join(response.text)\n",
    "\n",
    "Seq=StringIO(cData)\n",
    "pSeq=list(SeqIO.parse(Seq,'fasta'))\n",
    "prot_sequence = str(pSeq[0].seq)"
   ]
  },
  {
   "cell_type": "code",
   "execution_count": 265,
   "id": "74c9596f-2a4a-4290-9947-db9f47ce96a7",
   "metadata": {
    "collapsed": true,
    "jupyter": {
     "outputs_hidden": true
    },
    "tags": []
   },
   "outputs": [
    {
     "data": {
      "text/plain": [
       "{'2': [None, False],\n",
       " '3': [None, False],\n",
       " '4': [None, False],\n",
       " '5': [None, False],\n",
       " '6': [None, False],\n",
       " '7': [None, False],\n",
       " '8': [None, False],\n",
       " '9': [None, False],\n",
       " '10': [None, False],\n",
       " '11': [None, False],\n",
       " '12': [None, False],\n",
       " '13': [None, False],\n",
       " '14': [None, False],\n",
       " '15': [None, False],\n",
       " '16': [None, False],\n",
       " '17': [None, False],\n",
       " '18': [None, False],\n",
       " '19': [None, False],\n",
       " '20': [None, False],\n",
       " '21': [None, False],\n",
       " '22': [None, False],\n",
       " '23': [None, False],\n",
       " '24': [None, False],\n",
       " '25': [None, False],\n",
       " '26': [None, False],\n",
       " '27': [None, False],\n",
       " '28': [None, False],\n",
       " '29': [None, False],\n",
       " '30': [None, False],\n",
       " '31': [None, False],\n",
       " '32': [None, False],\n",
       " '33': [None, False],\n",
       " '34': [None, False],\n",
       " '35': [None, False],\n",
       " '36': [None, False],\n",
       " '37': [None, False],\n",
       " '38': [None, False],\n",
       " '39': [None, False],\n",
       " '40': [None, False],\n",
       " '41': [None, False],\n",
       " '42': [None, False],\n",
       " '43': [None, False],\n",
       " '44': [None, False],\n",
       " '45': [None, False],\n",
       " '46': [None, False],\n",
       " '47': [None, False],\n",
       " '48': [None, False],\n",
       " '49': [None, False],\n",
       " '50': [None, False],\n",
       " '51': [None, False],\n",
       " '52': [None, False],\n",
       " '53': [None, False],\n",
       " '54': [None, False],\n",
       " '55': [None, False],\n",
       " '56': [None, False],\n",
       " '57': [None, False],\n",
       " '58': [None, False],\n",
       " '59': [None, False],\n",
       " '60': [None, False],\n",
       " '61': [None, False],\n",
       " '62': [None, False],\n",
       " '63': [None, False],\n",
       " '64': [None, False],\n",
       " '65': [None, False],\n",
       " '66': [None, False],\n",
       " '67': [None, False],\n",
       " '68': [None, False],\n",
       " '69': [None, False],\n",
       " '70': [None, False],\n",
       " '71': [None, False],\n",
       " '72': [None, False],\n",
       " '73': [None, False],\n",
       " '74': [None, False],\n",
       " '75': [None, False],\n",
       " '76': [None, False],\n",
       " '77': [None, False],\n",
       " '78': [None, False],\n",
       " '79': [None, False],\n",
       " '80': [None, False],\n",
       " '81': [None, False],\n",
       " '82': [None, False],\n",
       " '83': [None, False],\n",
       " '84': [None, False],\n",
       " '85': [None, False],\n",
       " '86': [None, False],\n",
       " '87': [None, False],\n",
       " '88': [None, False],\n",
       " '89': [None, False],\n",
       " '90': [None, False],\n",
       " '91': [None, False],\n",
       " '92': [None, False],\n",
       " '93': [None, False],\n",
       " '94': [None, False],\n",
       " '95': [None, False],\n",
       " '96': [None, False],\n",
       " '97': [None, False],\n",
       " '100': [None, False],\n",
       " '101': [None, False],\n",
       " '102': [None, False],\n",
       " '103': [None, False],\n",
       " '104': [None, False],\n",
       " '105': [None, False],\n",
       " '106': [None, False],\n",
       " '107': [None, False],\n",
       " '108': [None, False],\n",
       " '109': [None, False],\n",
       " '110': [None, False],\n",
       " '111': [None, False],\n",
       " '112': [None, False],\n",
       " '113': [None, False],\n",
       " '114': [1, True],\n",
       " '115': [2, True],\n",
       " '116': [3, True],\n",
       " '117': [4, True],\n",
       " '118': [5, True],\n",
       " '119': [6, True],\n",
       " '120': [7, True],\n",
       " '121': [8, True],\n",
       " '122': [9, True],\n",
       " '123': [10, True],\n",
       " '124': [11, True],\n",
       " '125': [12, True],\n",
       " '126': [13, True],\n",
       " '134': [21, True],\n",
       " '135': [22, True],\n",
       " '136': [23, True],\n",
       " '137': [24, True],\n",
       " '138': [25, True],\n",
       " '139': [26, True],\n",
       " '140': [27, True],\n",
       " '141': [28, True],\n",
       " '142': [29, True],\n",
       " '143': [30, True],\n",
       " '144': [31, True],\n",
       " '145': [32, True],\n",
       " '146': [33, True],\n",
       " '147': [34, True],\n",
       " '148': [35, True],\n",
       " '149': [36, True],\n",
       " '150': [37, True],\n",
       " '151': [38, True],\n",
       " '152': [39, True],\n",
       " '153': [40, True],\n",
       " '154': [41, True],\n",
       " '155': [42, True],\n",
       " '156': [43, True],\n",
       " '157': [44, True],\n",
       " '158': [45, True],\n",
       " '159': [46, True],\n",
       " '160': [47, True],\n",
       " '161': [48, True],\n",
       " '162': [49, True],\n",
       " '163': [50, True],\n",
       " '164': [51, True],\n",
       " '165': [52, True],\n",
       " '166': [53, True],\n",
       " '167': [54, True],\n",
       " '168': [55, True],\n",
       " '169': [56, True],\n",
       " '170': [57, True],\n",
       " '171': [58, True],\n",
       " '172': [59, True],\n",
       " '173': [60, True],\n",
       " '174': [61, True],\n",
       " '175': [62, True],\n",
       " '176': [63, True],\n",
       " '177': [64, True],\n",
       " '178': [65, True],\n",
       " '179': [66, True],\n",
       " '180': [67, True],\n",
       " '181': [68, True],\n",
       " '182': [69, True],\n",
       " '183': [70, True],\n",
       " '184': [71, True],\n",
       " '185': [72, True],\n",
       " '186': [73, True],\n",
       " '187': [74, 'Conflict'],\n",
       " '188': [75, 'Conflict'],\n",
       " '189': [76, True],\n",
       " '190': [77, True],\n",
       " '191': [78, True],\n",
       " '192': [79, True],\n",
       " '193': [80, True],\n",
       " '194': [81, True],\n",
       " '195': [82, True],\n",
       " '196': [83, True],\n",
       " '197': [84, True],\n",
       " '198': [85, True],\n",
       " '199': [86, True],\n",
       " '200': [87, True],\n",
       " '201': [88, True],\n",
       " '202': [89, True],\n",
       " '203': [90, True],\n",
       " '204': [91, True],\n",
       " '205': [92, True],\n",
       " '206': [93, True],\n",
       " '207': [94, True],\n",
       " '208': [95, True],\n",
       " '209': [96, True],\n",
       " '210': [97, True],\n",
       " '211': [None, False]}"
      ]
     },
     "execution_count": 265,
     "metadata": {},
     "output_type": "execute_result"
    }
   ],
   "source": [
    "# 5.3 Get coverage residue by residue\n",
    "cov = {}\n",
    "for i in structure.get_residues():\n",
    "    numb = str(i.get_id()[1])\n",
    "    a, b, c = map_pdbres_to_uniprot(numb, chain_id, path_to_sifts)\n",
    "    cov[a] = [b, c]\n",
    "cov"
   ]
  },
  {
   "cell_type": "code",
   "execution_count": 266,
   "id": "7c5200ec-6a06-4aee-a0f3-0c2880097fc3",
   "metadata": {},
   "outputs": [],
   "source": [
    "numb_covered = Counter([cov[i][1] for i in cov])[True]\n",
    "total_seq = len(prot_sequence)\n",
    "coverage = round(numb_covered/total_seq, 3)"
   ]
  },
  {
   "cell_type": "code",
   "execution_count": null,
   "id": "de29fb95-9e53-4b02-a8c9-07df31ad0cfa",
   "metadata": {},
   "outputs": [],
   "source": [
    "if coverage < 0.8:\n",
    "    pass\n",
    "else:\n",
    "    pass"
   ]
  },
  {
   "cell_type": "code",
   "execution_count": 147,
   "id": "def6df06-a9d6-4abf-b754-103838bbc6bb",
   "metadata": {},
   "outputs": [],
   "source": [
    "### 6. Save ligand independently and calculate SASA (free/bound)\n",
    "\n",
    "parser = PDBParser()\n",
    "structure = parser.get_structure(\"st\", os.path.join(path, pdb + \"_model.pdb\"))\n",
    "\n",
    "for c, interesting_ligand in enumerate(interesting_ligands):\n",
    "    \n",
    "    # 5. Select ligand and save it separately\n",
    "    class LigSelect(Select):\n",
    "        def accept_residue(self, residue):\n",
    "            if residue == interesting_ligand:\n",
    "                return 1\n",
    "            else:\n",
    "                return 0\n",
    "\n",
    "    io = PDBIO()\n",
    "    io.set_structure(structure)\n",
    "    io.save(os.path.join(path, int_lig + \"_\" + str(c) + \".pdb\"), LigSelect())\n",
    "    \n",
    "    # Get centroid\n",
    "    get_centroid(os.path.join(path, int_lig + \"_\" + str(c) + \".pdb\"), os.path.join(path, int_lig + \"_\" + str(c) + \"_centroid.pdb\"))\n",
    "    command = 'obabel ' + os.path.join(path, int_lig + \"_\" + str(c) + \"_centroid.pdb\") + \" -O \" + os.path.join(path, int_lig + \"_\" + str(c) + \"_centroid.sd\")\n",
    "    os.system(command)\n",
    "    \n",
    "    # Get SASA\n",
    "    prot = Chem.MolFromPDBFile(os.path.join(path, pdb + \"_\" + chain_id + \"_\" + int_lig + \".pdb\"))\n",
    "    lig = Chem.MolFromPDBFile(os.path.join(path, int_lig + \"_\" + str(c) + \".pdb\"))\n",
    "    if lig.GetNumHeavyAtoms() == Chem.MolFromInchi(pdbcode_to_inchi[int_lig]).GetNumHeavyAtoms():\n",
    "        lig_sasa_free, lig_sasa_bound = SASA(prot, lig)\n",
    "    else:\n",
    "        lig_sasa_free, lig_sasa_bound = np.nan, np.nan\n",
    "    acc = round(lig_sasa_bound / lig_sasa_free, 3)"
   ]
  },
  {
   "cell_type": "code",
   "execution_count": 149,
   "id": "bf4b1271-1934-437e-9b93-43630cf3f3e2",
   "metadata": {},
   "outputs": [],
   "source": [
    "path = os.path.join(\"/aloy/home/acomajuncosa/MurD/GitHub/structures\", pdb[1:3])\n",
    "os.chdir(path)   \n",
    "tar = tarfile.open(pdb + \"_\" + chain_id + \"_\" + int_lig + \".tar.gz\", \"w:gz\")\n",
    "tar.add(pdb + \"_\" + chain_id + \"_\" + int_lig)\n",
    "shutil.rmtree(pdb + \"_\" + chain_id + \"_\" + int_lig)\n",
    "tar.close()"
   ]
  },
  {
   "cell_type": "code",
   "execution_count": null,
   "id": "33daa594-c3da-4cfb-b64e-41feea5af956",
   "metadata": {},
   "outputs": [],
   "source": []
  }
 ],
 "metadata": {
  "kernelspec": {
   "display_name": "Python 3",
   "language": "python",
   "name": "python3"
  },
  "language_info": {
   "codemirror_mode": {
    "name": "ipython",
    "version": 3
   },
   "file_extension": ".py",
   "mimetype": "text/x-python",
   "name": "python",
   "nbconvert_exporter": "python",
   "pygments_lexer": "ipython3",
   "version": "3.7.10"
  }
 },
 "nbformat": 4,
 "nbformat_minor": 5
}
