{
 "cells": [
  {
   "cell_type": "code",
   "execution_count": 139,
   "id": "e8287120",
   "metadata": {},
   "outputs": [],
   "source": [
    "import os\n",
    "import pandas as pd\n",
    "from rdkit import Chem\n",
    "import csv\n",
    "\n",
    "DATA = os.path.abspath(\"../data\")\n",
    "OUTPUT_PATH = os.path.join(DATA, \"generated\", \"zairachem\")\n",
    "INPUT_PATH = os.path.join(DATA, \"generated\")\n",
    "\n",
    "def read_smiles(file_name):\n",
    "    with open(file_name, \"r\") as f:\n",
    "        reader = csv.reader(f)\n",
    "        smiles = []\n",
    "        for r in reader:\n",
    "            smiles += [r[0]]\n",
    "    return smiles\n",
    "\n",
    "def write_smiles(smiles, file_name):\n",
    "    new_mols = smiles\n",
    "    with open(os.path.join(OUTPUT_PATH, file_name), \"w\") as f:\n",
    "        writer = csv.writer(f)\n",
    "        for r in new_mols:\n",
    "            writer.writerow([r])"
   ]
  },
  {
   "cell_type": "code",
   "execution_count": 143,
   "id": "037f97c3",
   "metadata": {},
   "outputs": [],
   "source": [
    "from exmol import run_stoned\n",
    "from tqdm import tqdm\n",
    "import numpy as np\n",
    "import time\n",
    "import random\n",
    "from rdkit import DataStructs\n",
    "from rdkit.Chem import AllChem\n",
    "\n",
    "\n",
    "class StonedSampler(object):\n",
    "    def __init__(self, max_mutations=2, min_mutations=1):\n",
    "        self.max_mutations = max_mutations\n",
    "        self.min_mutations = min_mutations\n",
    "\n",
    "    def sample(self, smiles, n):\n",
    "        return run_stoned(\n",
    "            smiles,\n",
    "            num_samples=n,\n",
    "            max_mutations=self.max_mutations,\n",
    "            min_mutations=self.min_mutations,\n",
    "        )\n",
    "\n",
    "\n",
    "class StonedBatchSampler(object):\n",
    "\n",
    "    def __init__(self, min_similarity=0.6, max_similarity=0.9, scorer=None, inflation=2, time_budget_sec=60):\n",
    "        self.min_similarity = min_similarity\n",
    "        self.max_similarity = max_similarity\n",
    "        self.sampler = StonedSampler(max_mutations=5, min_mutations=1)\n",
    "        if scorer is None:\n",
    "            self.scorer = SybaClassifier()\n",
    "            self.scorer.fitDefaultScore()\n",
    "        else:\n",
    "            self.scorer = scorer\n",
    "        self.inflation = inflation\n",
    "        self.time_budget_sec = time_budget_sec\n",
    "        self.elapsed_time = 0\n",
    "        self.finished = False\n",
    "\n",
    "    def _sample(self, smiles_list, n):\n",
    "        random.shuffle(smiles_list)\n",
    "        n_individual = int(np.clip(self.inflation*n/len(smiles_list), 100, 1000))\n",
    "        available_time = int((self.time_budget_sec - self.elapsed_time)) + 1\n",
    "        samples_per_sec = 100\n",
    "        estimated_time = len(smiles_list)/samples_per_sec\n",
    "        if estimated_time > available_time:\n",
    "            n_individual = 10\n",
    "        sampled_smiles = []\n",
    "        sampled_sim = []\n",
    "        for smi in tqdm(smiles_list):\n",
    "            t0 = time.time()\n",
    "            sampled = self.sampler.sample(smi, n_individual)\n",
    "            sampled_smiles += sampled[0]\n",
    "            sampled_sim += sampled[1]\n",
    "            t1 = time.time()\n",
    "            dt = t1-t0\n",
    "            self.elapsed_time += dt\n",
    "            if self.elapsed_time > self.time_budget_sec:\n",
    "                self.finished = True\n",
    "                break\n",
    "        smiles = []\n",
    "        for smi, sim in zip(sampled_smiles, sampled_sim):\n",
    "            if sim < self.min_similarity or sim > self.max_similarity:\n",
    "                continue\n",
    "            smiles += [smi]\n",
    "        n = int(len(smiles)/self.inflation+1)\n",
    "        smiles = self._select_by_similarity(smiles)\n",
    "        smiles = self._select_by_score(smiles, n)\n",
    "        return set(smiles)\n",
    "    \n",
    "    def _select_by_score(self, smiles, n):\n",
    "        smiles = list(smiles)\n",
    "        scores = [self.scorer.predict(smi) for smi in tqdm(smiles)]\n",
    "        df = pd.DataFrame({\"smiles\": smiles, \"score\": scores})\n",
    "        return list(df.sort_values(by=\"score\").tail(n)[\"smiles\"])\n",
    "    \n",
    "    def _select_by_similarity(self, smiles):\n",
    "        sel_smiles = []\n",
    "        for smi in tqdm(smiles):\n",
    "            mol = Chem.MolFromSmiles(smi)\n",
    "            fp = AllChem.GetMorganFingerprintAsBitVect(mol, 2)\n",
    "            sims = DataStructs.BulkTanimotoSimilarity(fp, self.seed_fps)\n",
    "            sim = np.max(sims)\n",
    "            if sim < self.min_similarity or sim > self.max_similarity:\n",
    "                continue\n",
    "            sel_smiles += [smi]\n",
    "        return sel_smiles\n",
    "    \n",
    "    def sample(self, smiles_list, n):\n",
    "        self.seed_smiles = list(smiles_list)\n",
    "        self.seed_fps = [AllChem.GetMorganFingerprintAsBitVect(Chem.MolFromSmiles(smi), 2) for smi in self.seed_smiles]\n",
    "        smiles = set(smiles_list)\n",
    "        sampled_smiles = set()\n",
    "        for i in range(n):\n",
    "            new_smiles = self._sample(list(smiles), n)\n",
    "            sampled_smiles.update(new_smiles)\n",
    "            smiles.update(new_smiles)\n",
    "            if self.finished:\n",
    "                break\n",
    "        smiles = list(sampled_smiles)\n",
    "        smiles = self._select_by_similarity(smiles)\n",
    "        if len(smiles) > n:\n",
    "            smiles = self._select_by_score(smiles, n)\n",
    "        self.elapsed_time = 0\n",
    "        self.finished = False\n",
    "        return smiles"
   ]
  },
  {
   "cell_type": "code",
   "execution_count": 6,
   "id": "13275fc6",
   "metadata": {},
   "outputs": [],
   "source": [
    "from syba.syba import SybaClassifier\n",
    "syba = SybaClassifier()\n",
    "syba.fitDefaultScore()\n"
   ]
  },
  {
   "cell_type": "code",
   "execution_count": 144,
   "id": "be637e72",
   "metadata": {},
   "outputs": [],
   "source": [
    "smp = StonedBatchSampler(scorer=syba, time_budget_sec=60*5)"
   ]
  },
  {
   "cell_type": "code",
   "execution_count": 146,
   "id": "be3511df",
   "metadata": {},
   "outputs": [
    {
     "name": "stderr",
     "output_type": "stream",
     "text": [
      " 24%|█████████▏                            | 8227/34053 [05:02<15:50, 27.18it/s]\n",
      "100%|███████████████████████████████████████| 5417/5417 [00:57<00:00, 94.39it/s]\n",
      "100%|█████████████████████████████████████| 3826/3826 [00:01<00:00, 1983.57it/s]\n",
      "100%|███████████████████████████████████████| 2709/2709 [00:31<00:00, 85.03it/s]\n"
     ]
    }
   ],
   "source": [
    "smiles = read_smiles(os.path.join(INPUT_PATH, \"docking_hits.csv\"))\n",
    "sampled_smiles = smp.sample(smiles, 10000)\n",
    "write_smiles(sampled_smiles, \"stoned-docking.csv\")"
   ]
  },
  {
   "cell_type": "code",
   "execution_count": 147,
   "id": "33519f05",
   "metadata": {},
   "outputs": [
    {
     "name": "stderr",
     "output_type": "stream",
     "text": [
      "100%|█████████████████████████████████████████| 100/100 [01:18<00:00,  1.27it/s]\n",
      "100%|█████████████████████████████████████| 1387/1387 [00:00<00:00, 3008.80it/s]\n",
      "100%|███████████████████████████████████████| 953/953 [00:00<00:00, 1840.93it/s]\n",
      " 70%|████████████████████████████▌            | 554/794 [03:41<01:36,  2.50it/s]\n",
      "100%|█████████████████████████████████████| 4347/4347 [00:01<00:00, 2937.62it/s]\n",
      "100%|███████████████████████████████████████| 947/947 [00:00<00:00, 1836.91it/s]\n",
      "100%|█████████████████████████████████████| 1634/1634 [00:00<00:00, 2802.99it/s]\n"
     ]
    }
   ],
   "source": [
    "smiles = read_smiles(os.path.join(INPUT_PATH, \"docking_top100_hits.csv\"))\n",
    "sampled_smiles = smp.sample(smiles, 10000)\n",
    "write_smiles(sampled_smiles, \"stoned-docking_top100.csv\")"
   ]
  },
  {
   "cell_type": "code",
   "execution_count": 148,
   "id": "e4a65960",
   "metadata": {},
   "outputs": [
    {
     "name": "stderr",
     "output_type": "stream",
     "text": [
      " 79%|███████████████████████████████▊        | 794/1000 [05:01<01:18,  2.64it/s]\n",
      "100%|█████████████████████████████████████| 5427/5427 [00:04<00:00, 1137.72it/s]\n",
      "100%|█████████████████████████████████████| 3621/3621 [00:01<00:00, 1945.81it/s]\n",
      "100%|█████████████████████████████████████| 2713/2713 [00:02<00:00, 1128.64it/s]\n"
     ]
    }
   ],
   "source": [
    "smiles = read_smiles(os.path.join(INPUT_PATH, \"docking_top1000_hits.csv\"))\n",
    "sampled_smiles = smp.sample(smiles, 10000)\n",
    "write_smiles(sampled_smiles, \"stoned-docking_top1000.csv\")"
   ]
  },
  {
   "cell_type": "code",
   "execution_count": 149,
   "id": "3ef68f39",
   "metadata": {},
   "outputs": [
    {
     "name": "stderr",
     "output_type": "stream",
     "text": [
      "100%|███████████████████████████████████████████| 80/80 [00:35<00:00,  2.25it/s]\n",
      "100%|███████████████████████████████████████| 576/576 [00:00<00:00, 5141.24it/s]\n",
      "100%|███████████████████████████████████████| 342/342 [00:00<00:00, 4837.00it/s]\n",
      "100%|█████████████████████████████████████████| 366/366 [01:15<00:00,  4.86it/s]\n",
      "100%|█████████████████████████████████████| 1564/1564 [00:00<00:00, 5430.63it/s]\n",
      "100%|███████████████████████████████████████| 438/438 [00:00<00:00, 3333.72it/s]\n",
      "100%|█████████████████████████████████████████| 776/776 [02:50<00:00,  4.56it/s]\n",
      "100%|█████████████████████████████████████| 3622/3622 [00:00<00:00, 5113.28it/s]\n",
      "100%|███████████████████████████████████████| 865/865 [00:00<00:00, 3740.69it/s]\n",
      "  6%|██▎                                      | 87/1549 [00:20<05:44,  4.24it/s]\n",
      "100%|███████████████████████████████████████| 443/443 [00:00<00:00, 4693.82it/s]\n",
      "100%|█████████████████████████████████████████| 98/98 [00:00<00:00, 2698.68it/s]\n",
      "100%|█████████████████████████████████████| 1547/1547 [00:00<00:00, 5151.03it/s]\n"
     ]
    }
   ],
   "source": [
    "smiles = read_smiles(os.path.join(INPUT_PATH, \"pocketvec_hits.csv\"))\n",
    "sampled_smiles = smp.sample(smiles, 10000)\n",
    "write_smiles(sampled_smiles, \"stoned-pocketvec.csv\")"
   ]
  },
  {
   "cell_type": "code",
   "execution_count": 150,
   "id": "9ddb5e81",
   "metadata": {},
   "outputs": [
    {
     "name": "stderr",
     "output_type": "stream",
     "text": [
      "100%|███████████████████████████████████████████| 15/15 [00:40<00:00,  2.71s/it]\n",
      "100%|███████████████████████████████████████| 803/803 [00:00<00:00, 4536.04it/s]\n",
      "100%|███████████████████████████████████████| 569/569 [00:00<00:00, 3026.67it/s]\n",
      "100%|█████████████████████████████████████████| 409/409 [01:57<00:00,  3.48it/s]\n",
      "100%|█████████████████████████████████████| 2694/2694 [00:00<00:00, 4847.90it/s]\n",
      "100%|███████████████████████████████████████| 601/601 [00:00<00:00, 2812.21it/s]\n",
      " 50%|████████████████████▌                    | 484/965 [02:23<02:22,  3.38it/s]\n",
      "100%|█████████████████████████████████████| 3226/3226 [00:00<00:00, 4610.86it/s]\n",
      "100%|███████████████████████████████████████| 662/662 [00:00<00:00, 2921.90it/s]\n",
      "100%|█████████████████████████████████████| 1548/1548 [00:00<00:00, 4209.03it/s]\n"
     ]
    }
   ],
   "source": [
    "smiles = read_smiles(os.path.join(INPUT_PATH, \"pocketvec_mw250_hits.csv\"))\n",
    "sampled_smiles = smp.sample(smiles, 10000)\n",
    "write_smiles(sampled_smiles, \"stoned-pocketvec_mw250.csv\")"
   ]
  },
  {
   "cell_type": "code",
   "execution_count": 152,
   "id": "8520f0ac",
   "metadata": {},
   "outputs": [
    {
     "name": "stderr",
     "output_type": "stream",
     "text": [
      "100%|███████████████████████████████████████████| 16/16 [00:47<00:00,  2.95s/it]\n",
      "100%|███████████████████████████████████████| 775/775 [00:00<00:00, 4738.15it/s]\n",
      "100%|███████████████████████████████████████| 434/434 [00:00<00:00, 2920.32it/s]\n",
      "100%|█████████████████████████████████████████| 403/403 [02:02<00:00,  3.28it/s]\n",
      "100%|████████████████████████████████████████████████████████████████████████████████| 2242/2242 [00:00<00:00, 4444.11it/s]\n",
      "100%|██████████████████████████████████████████████████████████████████████████████████| 278/278 [00:00<00:00, 2957.11it/s]\n",
      " 64%|██████████████████████████████████████████████████████                              | 427/663 [02:10<01:12,  3.26it/s]\n",
      "100%|████████████████████████████████████████████████████████████████████████████████| 2565/2565 [00:00<00:00, 4409.32it/s]\n",
      "100%|██████████████████████████████████████████████████████████████████████████████████| 356/356 [00:00<00:00, 2732.15it/s]\n",
      "100%|██████████████████████████████████████████████████████████████████████████████████| 972/972 [00:00<00:00, 4459.03it/s]\n"
     ]
    }
   ],
   "source": [
    "smiles = read_smiles(os.path.join(INPUT_PATH, \"known_hits.csv\"))\n",
    "sampled_smiles = smp.sample(smiles, 10000)\n",
    "write_smiles(sampled_smiles, \"stoned-known.csv\")"
   ]
  },
  {
   "cell_type": "code",
   "execution_count": null,
   "id": "596d0206",
   "metadata": {},
   "outputs": [],
   "source": []
  }
 ],
 "metadata": {
  "kernelspec": {
   "display_name": "Python 3 (ipykernel)",
   "language": "python",
   "name": "python3"
  },
  "language_info": {
   "codemirror_mode": {
    "name": "ipython",
    "version": 3
   },
   "file_extension": ".py",
   "mimetype": "text/x-python",
   "name": "python",
   "nbconvert_exporter": "python",
   "pygments_lexer": "ipython3",
   "version": "3.7.12"
  }
 },
 "nbformat": 4,
 "nbformat_minor": 5
}
