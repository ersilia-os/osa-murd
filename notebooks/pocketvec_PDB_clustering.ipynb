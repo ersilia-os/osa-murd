{
 "cells": [
  {
   "cell_type": "code",
   "execution_count": 1,
   "id": "b88624d2-353e-4d5c-873e-d5258960bac5",
   "metadata": {},
   "outputs": [],
   "source": [
    "from collections import Counter\n",
    "import pandas as pd\n",
    "import numpy as np\n",
    "import tqdm\n",
    "import pickle\n",
    "import matplotlib.pyplot as plt\n",
    "from Bio.PDB import *\n",
    "from rdkit import Chem\n",
    "import os\n",
    "import time\n",
    "import shutil\n",
    "from Bio.SeqUtils import seq1\n",
    "import gzip\n",
    "import tarfile\n",
    "import sys\n",
    "import random\n",
    "from rdkit.Chem import rdFreeSASA\n",
    "from rdkit import Chem\n",
    "from rdkit.Chem.Descriptors import MolWt\n",
    "import urllib\n",
    "from lxml import etree\n",
    "import requests as r\n",
    "from Bio import SeqIO\n",
    "from io import StringIO\n",
    "from sklearn.cluster import DBSCAN\n",
    "from scipy.spatial import distance\n",
    "from sklearn.metrics import pairwise_distances"
   ]
  },
  {
   "cell_type": "code",
   "execution_count": 2,
   "id": "2e3cb484-a35e-4c98-94a0-4155fb8f67f6",
   "metadata": {},
   "outputs": [
    {
     "data": {
      "text/html": [
       "<div>\n",
       "<style scoped>\n",
       "    .dataframe tbody tr th:only-of-type {\n",
       "        vertical-align: middle;\n",
       "    }\n",
       "\n",
       "    .dataframe tbody tr th {\n",
       "        vertical-align: top;\n",
       "    }\n",
       "\n",
       "    .dataframe thead th {\n",
       "        text-align: right;\n",
       "    }\n",
       "</style>\n",
       "<table border=\"1\" class=\"dataframe\">\n",
       "  <thead>\n",
       "    <tr style=\"text-align: right;\">\n",
       "      <th></th>\n",
       "      <th>uniprot</th>\n",
       "      <th>structures</th>\n",
       "      <th>number of structures</th>\n",
       "      <th>reference structure</th>\n",
       "    </tr>\n",
       "  </thead>\n",
       "  <tbody>\n",
       "    <tr>\n",
       "      <th>0</th>\n",
       "      <td>A0A003</td>\n",
       "      <td>6KV9_A_NAD_0,6KV9_A_UGA_0,6KVC_A_NAD_0,6KVC_A_...</td>\n",
       "      <td>4</td>\n",
       "      <td>6KV9_A_NAD_0</td>\n",
       "    </tr>\n",
       "    <tr>\n",
       "      <th>1</th>\n",
       "      <td>A0A010</td>\n",
       "      <td>5B00_A_GPP_0,5B00_C_GPP_0,5B00_B_GPP_0</td>\n",
       "      <td>3</td>\n",
       "      <td>5B00_A_GPP_0</td>\n",
       "    </tr>\n",
       "    <tr>\n",
       "      <th>2</th>\n",
       "      <td>A0A011</td>\n",
       "      <td>3VK5_A_FPQ_0,3VK5_B_FPQ_0,3VKA_A_FPQ_0,3VKB_A_...</td>\n",
       "      <td>9</td>\n",
       "      <td>3VKB_B_FPS_0</td>\n",
       "    </tr>\n",
       "    <tr>\n",
       "      <th>3</th>\n",
       "      <td>A0A022MQ12</td>\n",
       "      <td>6SJ2_A_3HA_0,6SJ2_B_3HA_0,6SJ3_A_3HB_0,6SJ3_B_...</td>\n",
       "      <td>6</td>\n",
       "      <td>6SJ2_B_3HA_0</td>\n",
       "    </tr>\n",
       "    <tr>\n",
       "      <th>4</th>\n",
       "      <td>A0A022MRT4</td>\n",
       "      <td>6SIW_A_AMP_0,6SIW_B_AMP_0,6SIX_A_ANP_0,6SIX_B_...</td>\n",
       "      <td>14</td>\n",
       "      <td>6SIX_B_ANP_0</td>\n",
       "    </tr>\n",
       "    <tr>\n",
       "      <th>...</th>\n",
       "      <td>...</td>\n",
       "      <td>...</td>\n",
       "      <td>...</td>\n",
       "      <td>...</td>\n",
       "    </tr>\n",
       "    <tr>\n",
       "      <th>8735</th>\n",
       "      <td>X5EJW5</td>\n",
       "      <td>6XJI_C_AGS_0,6XJI_D_AGS_0</td>\n",
       "      <td>2</td>\n",
       "      <td>6XJI_C_AGS_0</td>\n",
       "    </tr>\n",
       "    <tr>\n",
       "      <th>8736</th>\n",
       "      <td>X5I2D7</td>\n",
       "      <td>5H04_A_NAI_0,5WTZ_A_NAD_0,5WU0_A_NAI_0</td>\n",
       "      <td>3</td>\n",
       "      <td>5H04_A_NAI_0</td>\n",
       "    </tr>\n",
       "    <tr>\n",
       "      <th>8737</th>\n",
       "      <td>X5IYZ1</td>\n",
       "      <td>6J38_A_FAD_0,6J38_B_FAD_0,6J39_A_FAD_0,6J39_B_...</td>\n",
       "      <td>6</td>\n",
       "      <td>6J39_A_FAD_0</td>\n",
       "    </tr>\n",
       "    <tr>\n",
       "      <th>8738</th>\n",
       "      <td>X5MEI1</td>\n",
       "      <td>7MPO_A_A3P_0,7MPO_G_A3P_0,7MPO_B_A3P_0,7MPO_E_...</td>\n",
       "      <td>16</td>\n",
       "      <td>7MPO_G_A3P_0</td>\n",
       "    </tr>\n",
       "    <tr>\n",
       "      <th>8739</th>\n",
       "      <td>X7XQY2</td>\n",
       "      <td>7KXA_A_NAD_0</td>\n",
       "      <td>1</td>\n",
       "      <td>7KXA_A_NAD_0</td>\n",
       "    </tr>\n",
       "  </tbody>\n",
       "</table>\n",
       "<p>8740 rows × 4 columns</p>\n",
       "</div>"
      ],
      "text/plain": [
       "         uniprot                                         structures  \\\n",
       "0         A0A003  6KV9_A_NAD_0,6KV9_A_UGA_0,6KVC_A_NAD_0,6KVC_A_...   \n",
       "1         A0A010             5B00_A_GPP_0,5B00_C_GPP_0,5B00_B_GPP_0   \n",
       "2         A0A011  3VK5_A_FPQ_0,3VK5_B_FPQ_0,3VKA_A_FPQ_0,3VKB_A_...   \n",
       "3     A0A022MQ12  6SJ2_A_3HA_0,6SJ2_B_3HA_0,6SJ3_A_3HB_0,6SJ3_B_...   \n",
       "4     A0A022MRT4  6SIW_A_AMP_0,6SIW_B_AMP_0,6SIX_A_ANP_0,6SIX_B_...   \n",
       "...          ...                                                ...   \n",
       "8735      X5EJW5                          6XJI_C_AGS_0,6XJI_D_AGS_0   \n",
       "8736      X5I2D7             5H04_A_NAI_0,5WTZ_A_NAD_0,5WU0_A_NAI_0   \n",
       "8737      X5IYZ1  6J38_A_FAD_0,6J38_B_FAD_0,6J39_A_FAD_0,6J39_B_...   \n",
       "8738      X5MEI1  7MPO_A_A3P_0,7MPO_G_A3P_0,7MPO_B_A3P_0,7MPO_E_...   \n",
       "8739      X7XQY2                                       7KXA_A_NAD_0   \n",
       "\n",
       "      number of structures reference structure  \n",
       "0                        4        6KV9_A_NAD_0  \n",
       "1                        3        5B00_A_GPP_0  \n",
       "2                        9        3VKB_B_FPS_0  \n",
       "3                        6        6SJ2_B_3HA_0  \n",
       "4                       14        6SIX_B_ANP_0  \n",
       "...                    ...                 ...  \n",
       "8735                     2        6XJI_C_AGS_0  \n",
       "8736                     3        5H04_A_NAI_0  \n",
       "8737                     6        6J39_A_FAD_0  \n",
       "8738                    16        7MPO_G_A3P_0  \n",
       "8739                     1        7KXA_A_NAD_0  \n",
       "\n",
       "[8740 rows x 4 columns]"
      ]
     },
     "execution_count": 2,
     "metadata": {},
     "output_type": "execute_result"
    }
   ],
   "source": [
    "proteins = pickle.load(open(\"/aloy/home/acomajuncosa/MurD/GitHub/alignment/proteins.pkl\", \"rb\"))\n",
    "proteins"
   ]
  },
  {
   "cell_type": "code",
   "execution_count": 3,
   "id": "c18e7fd7-e3ad-4676-86ab-ebebfc7717fe",
   "metadata": {},
   "outputs": [],
   "source": [
    "elements = [[uniprot, sts.split(\",\"), \"_\".join(ref.split(\"_\")[:-1])] for uniprot, sts, ref in zip(proteins['uniprot'], proteins['structures'], proteins['reference structure'])]"
   ]
  },
  {
   "cell_type": "code",
   "execution_count": 3,
   "id": "5513b338-7591-4f5e-b1ec-10a4f7b4ab85",
   "metadata": {},
   "outputs": [],
   "source": [
    "# # elements = [i for i in elements if i[0] == 'P02768']\n",
    "# elements = random.sample(elements, 900)"
   ]
  },
  {
   "cell_type": "code",
   "execution_count": 7,
   "id": "2863e60a-6960-4789-90bb-4b16a21ccc15",
   "metadata": {},
   "outputs": [
    {
     "name": "stderr",
     "output_type": "stream",
     "text": [
      "2022-06-16 15:25:04,642 chemicalchecker.util.config.config.Config [DEBUG   ] CC_CONFIG environment variable not set. Using default config file.\n",
      "2022-06-16 15:25:04,643 chemicalchecker.util.config.config.Config [DEBUG   ] Loading config from: /home/acomajuncosa/programs/anaconda3/lib/python3.7/site-packages/chemicalchecker/util/config/cc_config.json\n",
      "2022-06-16 15:25:04,776 hpc.HPC      [DEBUG   ] HPC system to use: sge\n",
      "2022-06-16 15:25:04,777 hpc.HPC      [DEBUG   ] initializing object sge\n"
     ]
    },
    {
     "name": "stdout",
     "output_type": "stream",
     "text": [
      "module 'matplotlib.font_manager' has no attribute '_rebuild'\n"
     ]
    },
    {
     "name": "stderr",
     "output_type": "stream",
     "text": [
      "/home/acomajuncosa/programs/anaconda3/lib/python3.7/site-packages/numpy/core/_asarray.py:102: VisibleDeprecationWarning: Creating an ndarray from ragged nested sequences (which is a list-or-tuple of lists-or-tuples-or ndarrays with different lengths or shapes) is deprecated. If you meant to do this, you must specify 'dtype=object' when creating the ndarray.\n",
      "  return array(a, dtype, copy=False, order=order)\n"
     ]
    }
   ],
   "source": [
    "import sys\n",
    "sys.path.insert(0, '/aloy/home/acomajuncosa/programs/hpc') #CHANGE THIS PATH TO YOUR HPC PATH!\n",
    "from hpc import HPC\n",
    "from sbnb_config import config as cluster_config\n",
    "\n",
    "scratch_path = \"/aloy/scratch/acomajuncosa/MurD/PDB/st_sup\" \n",
    "script_path = \"/aloy/home/acomajuncosa/MurD/GitHub/osa-murd/pocketvec/PDB/scripts/superpose_sts_PDB_LIG.py\"\n",
    "\n",
    "cluster_config['queue'] = 'all.q@pac-one104,all.q@pac-one106,all.q@pac-one107,all.q@pac-one108,all.q@pac-one109,all.q@pac-one301,all.q@pac-one401'\n",
    "\n",
    "ncpus = 2\n",
    "cluster = HPC(**cluster_config)\n",
    "njobs = len(elements)\n",
    "\n",
    "cluster_params = {}\n",
    "cluster_params['job_name'] = 'st_sup'\n",
    "cluster_params[\"jobdir\"] = scratch_path\n",
    "cluster_params[\"memory\"] = ncpus\n",
    "cluster_params['cpu'] = ncpus\n",
    "cluster_params[\"wait\"] = False\n",
    "cluster_params[\"elements\"] = elements\n",
    "cluster_params[\"num_jobs\"] = len(elements)\n",
    "\n",
    "\n",
    "singularity_image = \"/aloy/home/acomajuncosa/images/2022_06.simg\"\n",
    "command = \"singularity exec {} python {} <TASK_ID> <FILE>\".format(\n",
    "singularity_image,\n",
    "script_path)\n",
    "\n",
    "cluster.submitMultiJob(command, **cluster_params)"
   ]
  },
  {
   "cell_type": "code",
   "execution_count": 73,
   "id": "8e0351b6-958e-452f-b122-2ef1a7413e2c",
   "metadata": {},
   "outputs": [
    {
     "name": "stderr",
     "output_type": "stream",
     "text": [
      "  7%|▋         | 639/8743 [00:00<00:12, 673.48it/s]"
     ]
    },
    {
     "name": "stdout",
     "output_type": "stream",
     "text": [
      "st_sup.o765646.1489\n",
      "/opt/miniconda3/envs/py37/lib/python3.7/site-packages/Bio/PDB/StructureBuilder.py:249: PDBConstructionWarning: WARNING: disordered atom found with blank altloc before line 1128.\n",
      "\n"
     ]
    },
    {
     "name": "stderr",
     "output_type": "stream",
     "text": [
      " 40%|████      | 3525/8743 [00:07<00:09, 528.98it/s]"
     ]
    },
    {
     "name": "stdout",
     "output_type": "stream",
     "text": [
      "st_sup.o765646.4082\n",
      "/opt/miniconda3/envs/py37/lib/python3.7/site-packages/Bio/PDB/PDBParser.py:211: PDBConstructionWarning: Negative occupancy in one or more atoms\n",
      "\n"
     ]
    },
    {
     "name": "stderr",
     "output_type": "stream",
     "text": [
      " 56%|█████▌    | 4876/8743 [00:10<00:08, 467.82it/s]"
     ]
    },
    {
     "name": "stdout",
     "output_type": "stream",
     "text": [
      "st_sup.o765646.5302\n",
      "/opt/miniconda3/envs/py37/lib/python3.7/site-packages/Bio/PDB/PDBParser.py:211: PDBConstructionWarning: Negative occupancy in one or more atoms\n",
      "\n"
     ]
    },
    {
     "name": "stderr",
     "output_type": "stream",
     "text": [
      "100%|██████████| 8743/8743 [00:17<00:00, 512.33it/s]\n"
     ]
    }
   ],
   "source": [
    "path = \"/aloy/scratch/acomajuncosa/MurD/PDB/st_sup\"\n",
    "error = set()\n",
    "\n",
    "for file in tqdm.tqdm(sorted(os.listdir(path))):\n",
    "    if '.o' in file:\n",
    "        with open(os.path.join(path, file), \"r\") as f:\n",
    "            for l in f:\n",
    "                if \"error\" in l.lower() or \"warning\" in l.lower():\n",
    "                    print(file)\n",
    "                    print(l)\n",
    "                    error.add(file)\n",
    "                    break"
   ]
  },
  {
   "cell_type": "code",
   "execution_count": 4,
   "id": "4f344e36-9daf-4ab5-b513-a795b6cc8aaf",
   "metadata": {},
   "outputs": [
    {
     "name": "stdout",
     "output_type": "stream",
     "text": [
      "C5GC63\n"
     ]
    }
   ],
   "source": [
    "### GET CLUSTERING INFORMATION\n",
    "path = '/aloy/home/acomajuncosa/MurD/GitHub/alignment/MSA/reports'\n",
    "clustering = []\n",
    "clustering_per_cluster = []\n",
    "\n",
    "for protein in sorted(os.listdir(path)):\n",
    "    try:\n",
    "        clusters = pickle.load(open(os.path.join(path, protein, protein + '.pkl'), \"rb\"))\n",
    "        clustering.append([protein, len(set([clusters[i] for i in clusters])), len([clusters[i] for i in clusters])])\n",
    "        clus_per_clu = Counter([clusters[i] for i in clusters])\n",
    "        for i in clus_per_clu:\n",
    "            clustering_per_cluster.append([protein, i, clus_per_clu[i]])\n",
    "    except:\n",
    "        print(protein)\n",
    "clustering = pd.DataFrame(clustering, columns=['protein', 'n of clusters', 'n of structures'])\n",
    "clustering_per_cluster = pd.DataFrame(clustering_per_cluster, columns=['protein', 'cluster', 'n of structures'])"
   ]
  },
  {
   "cell_type": "code",
   "execution_count": 5,
   "id": "d33fa712-e828-4f03-8d49-ec76402aecb7",
   "metadata": {},
   "outputs": [
    {
     "data": {
      "text/html": [
       "<div>\n",
       "<style scoped>\n",
       "    .dataframe tbody tr th:only-of-type {\n",
       "        vertical-align: middle;\n",
       "    }\n",
       "\n",
       "    .dataframe tbody tr th {\n",
       "        vertical-align: top;\n",
       "    }\n",
       "\n",
       "    .dataframe thead th {\n",
       "        text-align: right;\n",
       "    }\n",
       "</style>\n",
       "<table border=\"1\" class=\"dataframe\">\n",
       "  <thead>\n",
       "    <tr style=\"text-align: right;\">\n",
       "      <th></th>\n",
       "      <th>protein</th>\n",
       "      <th>n of clusters</th>\n",
       "      <th>n of structures</th>\n",
       "    </tr>\n",
       "  </thead>\n",
       "  <tbody>\n",
       "    <tr>\n",
       "      <th>0</th>\n",
       "      <td>A0A003</td>\n",
       "      <td>2</td>\n",
       "      <td>4</td>\n",
       "    </tr>\n",
       "    <tr>\n",
       "      <th>1</th>\n",
       "      <td>A0A010</td>\n",
       "      <td>1</td>\n",
       "      <td>3</td>\n",
       "    </tr>\n",
       "    <tr>\n",
       "      <th>2</th>\n",
       "      <td>A0A011</td>\n",
       "      <td>1</td>\n",
       "      <td>9</td>\n",
       "    </tr>\n",
       "    <tr>\n",
       "      <th>3</th>\n",
       "      <td>A0A022MQ12</td>\n",
       "      <td>1</td>\n",
       "      <td>6</td>\n",
       "    </tr>\n",
       "    <tr>\n",
       "      <th>4</th>\n",
       "      <td>A0A022MRT4</td>\n",
       "      <td>3</td>\n",
       "      <td>14</td>\n",
       "    </tr>\n",
       "    <tr>\n",
       "      <th>...</th>\n",
       "      <td>...</td>\n",
       "      <td>...</td>\n",
       "      <td>...</td>\n",
       "    </tr>\n",
       "    <tr>\n",
       "      <th>8734</th>\n",
       "      <td>X5EJW5</td>\n",
       "      <td>1</td>\n",
       "      <td>2</td>\n",
       "    </tr>\n",
       "    <tr>\n",
       "      <th>8735</th>\n",
       "      <td>X5I2D7</td>\n",
       "      <td>1</td>\n",
       "      <td>3</td>\n",
       "    </tr>\n",
       "    <tr>\n",
       "      <th>8736</th>\n",
       "      <td>X5IYZ1</td>\n",
       "      <td>2</td>\n",
       "      <td>6</td>\n",
       "    </tr>\n",
       "    <tr>\n",
       "      <th>8737</th>\n",
       "      <td>X5MEI1</td>\n",
       "      <td>2</td>\n",
       "      <td>16</td>\n",
       "    </tr>\n",
       "    <tr>\n",
       "      <th>8738</th>\n",
       "      <td>X7XQY2</td>\n",
       "      <td>1</td>\n",
       "      <td>1</td>\n",
       "    </tr>\n",
       "  </tbody>\n",
       "</table>\n",
       "<p>8739 rows × 3 columns</p>\n",
       "</div>"
      ],
      "text/plain": [
       "         protein  n of clusters  n of structures\n",
       "0         A0A003              2                4\n",
       "1         A0A010              1                3\n",
       "2         A0A011              1                9\n",
       "3     A0A022MQ12              1                6\n",
       "4     A0A022MRT4              3               14\n",
       "...          ...            ...              ...\n",
       "8734      X5EJW5              1                2\n",
       "8735      X5I2D7              1                3\n",
       "8736      X5IYZ1              2                6\n",
       "8737      X5MEI1              2               16\n",
       "8738      X7XQY2              1                1\n",
       "\n",
       "[8739 rows x 3 columns]"
      ]
     },
     "execution_count": 5,
     "metadata": {},
     "output_type": "execute_result"
    }
   ],
   "source": [
    "clustering"
   ]
  },
  {
   "cell_type": "code",
   "execution_count": 92,
   "id": "7e0cd43d-65ab-4ecd-bb11-6f566ef9f11e",
   "metadata": {},
   "outputs": [
    {
     "data": {
      "image/png": "[encoded data removed]",
      "text/plain": [
       "<Figure size 432x288 with 1 Axes>"
      ]
     },
     "metadata": {
      "needs_background": "light"
     },
     "output_type": "display_data"
    }
   ],
   "source": [
    "%matplotlib inline\n",
    "plt.figure(figsize=(6, 4))\n",
    "plt.grid(linestyle='--', zorder=-2)\n",
    "plt.hist(clustering['n of clusters'], zorder=2, ec='k', bins=[i for i in range(0, 20, 1)], color='gold')\n",
    "plt.ylabel(\"Number of proteins\")\n",
    "plt.xlabel(\"Number of clusters\")\n",
    "plt.xticks([i+0.5 for i in range(0, 17, 1)], [str(i) for i in range(0, 17, 1)])\n",
    "plt.xlim([0.6, max(clustering['n of clusters']) + 1.4])\n",
    "plt.yscale('log')\n",
    "plt.title(\"Number of clusters per protein\\nTotal number of proteins: \" + str(len(clustering)), pad=12)\n",
    "plt.tight_layout()\n",
    "# plt.savefig(\"/aloy/home/acomajuncosa/MurD/GitHub/osa-murd/pocketvec/PDB/images/clustering/clusters_per_protein.png\", dpi=300)\n",
    "plt.show()"
   ]
  },
  {
   "cell_type": "code",
   "execution_count": 145,
   "id": "d07a18dc-b772-48cb-ba6d-6d0ca79fcd91",
   "metadata": {},
   "outputs": [],
   "source": [
    "### PREPARE PROTEINS FOR DOCKING! ###"
   ]
  },
  {
   "cell_type": "code",
   "execution_count": 18,
   "id": "79681f4d-46da-430b-bfde-ed74a65bf82a",
   "metadata": {},
   "outputs": [],
   "source": [
    "path_in = \"/aloy/home/acomajuncosa/MurD/GitHub/alignment/MSA/visualization\"\n",
    "path_out = \"/aloy/home/acomajuncosa/MurD/GitHub/alignment/MSA/preparation\"\n",
    "elements = []\n",
    "\n",
    "for uniprot in tqdm.tqdm(proteins['uniprot']):\n",
    "# for uniprot in failed:\n",
    "    \n",
    "    # if os.path.exists(os.path.join(path_out, uniprot)) is False: os.makedirs(os.path.join(path_out, uniprot))\n",
    "    # shutil.copyfile(os.path.join(path_in, uniprot, \"cluster_REFERENCE.pdb\"), os.path.join(path_out, uniprot, \"cluster_REFERENCE_\" + uniprot + \".pdb\"))\n",
    "    \n",
    "    inflie = os.path.join(path_out, uniprot,  \"cluster_REFERENCE_\" + uniprot + \".pdb\")\n",
    "    prepared_prot = os.path.join(path_out, uniprot,  \"cluster_REFERENCE_\" + uniprot + \"_prep.mol2\")\n",
    "    logfile = os.path.join(path_out, uniprot,  \"cluster_REFERENCE_\" + uniprot + \"_log.log\")\n",
    "    \n",
    "    elements.append([inflie, prepared_prot, logfile])"
   ]
  },
  {
   "cell_type": "code",
   "execution_count": 24,
   "id": "9f69a2f9-7129-4051-a993-10488f03fc3e",
   "metadata": {},
   "outputs": [
    {
     "name": "stderr",
     "output_type": "stream",
     "text": [
      "2022-06-17 18:12:40,881 hpc.HPC      [DEBUG   ] HPC system to use: sge\n",
      "2022-06-17 18:12:40,883 hpc.HPC      [DEBUG   ] initializing object sge\n"
     ]
    }
   ],
   "source": [
    "import sys\n",
    "sys.path.insert(0, '/aloy/home/acomajuncosa/programs/hpc') #CHANGE THIS PATH TO YOUR HPC PATH!\n",
    "from hpc import HPC\n",
    "from sbnb_config import config as cluster_config\n",
    "\n",
    "scratch_path = \"/aloy/scratch/acomajuncosa/MurD/PDB/prep2_/\" \n",
    "script_path = \"/aloy/home/acomajuncosa/MurD/GitHub/osa-murd/pocketvec/PDB/scripts/structure_preparation_docking.py\"\n",
    "\n",
    "ncpus = 2\n",
    "cluster = HPC(**cluster_config)\n",
    "njobs = len(elements)\n",
    "\n",
    "cluster_params = {}\n",
    "cluster_params['job_name'] = 'stprep'\n",
    "cluster_params[\"jobdir\"] = scratch_path\n",
    "cluster_params[\"memory\"] = ncpus\n",
    "cluster_params['cpu'] = ncpus\n",
    "cluster_params[\"wait\"] = False\n",
    "cluster_params[\"elements\"] = elements\n",
    "cluster_params[\"num_jobs\"] = len(elements)\n",
    "\n",
    "\n",
    "singularity_image = \"/aloy/home/acomajuncosa/images/image_2021_09_stprep.simg\"\n",
    "command = \"singularity exec {} python {} <TASK_ID> <FILE>\".format(\n",
    "singularity_image,\n",
    "script_path)\n",
    "\n",
    "cluster.submitMultiJob(command, **cluster_params)"
   ]
  },
  {
   "cell_type": "code",
   "execution_count": 21,
   "id": "e02ef6d4-b98c-4e9d-83e2-fdda6c5f6a8c",
   "metadata": {
    "collapsed": true,
    "jupyter": {
     "outputs_hidden": true
    },
    "tags": []
   },
   "outputs": [
    {
     "name": "stderr",
     "output_type": "stream",
     "text": [
      "  4%|▍         | 354/8780 [00:00<00:04, 1694.29it/s]"
     ]
    },
    {
     "name": "stdout",
     "output_type": "stream",
     "text": [
      "stprep.o765674.1062\n",
      "stprep.o765674.117\n"
     ]
    },
    {
     "name": "stderr",
     "output_type": "stream",
     "text": [
      " 12%|█▏        | 1021/8780 [00:00<00:05, 1365.42it/s]"
     ]
    },
    {
     "name": "stdout",
     "output_type": "stream",
     "text": [
      "stprep.o765674.1769\n",
      "stprep.o765674.1805\n"
     ]
    },
    {
     "name": "stderr",
     "output_type": "stream",
     "text": [
      " 23%|██▎       | 2005/8780 [00:01<00:05, 1205.14it/s]"
     ]
    },
    {
     "name": "stdout",
     "output_type": "stream",
     "text": [
      "stprep.o765674.2686\n"
     ]
    },
    {
     "name": "stderr",
     "output_type": "stream",
     "text": [
      " 35%|███▍      | 3043/8780 [00:02<00:05, 1075.67it/s]"
     ]
    },
    {
     "name": "stdout",
     "output_type": "stream",
     "text": [
      "stprep.o765674.362\n"
     ]
    },
    {
     "name": "stderr",
     "output_type": "stream",
     "text": [
      " 40%|████      | 3540/8780 [00:02<00:03, 1397.03it/s]"
     ]
    },
    {
     "name": "stdout",
     "output_type": "stream",
     "text": [
      "stprep.o765674.3914\n",
      "stprep.o765674.3915\n",
      "stprep.o765674.401\n",
      "stprep.o765674.4063\n",
      "stprep.o765674.407\n"
     ]
    },
    {
     "name": "stderr",
     "output_type": "stream",
     "text": [
      " 45%|████▌     | 3990/8780 [00:03<00:03, 1380.27it/s]"
     ]
    },
    {
     "name": "stdout",
     "output_type": "stream",
     "text": [
      "stprep.o765674.4350\n"
     ]
    },
    {
     "name": "stderr",
     "output_type": "stream",
     "text": [
      " 49%|████▉     | 4290/8780 [00:03<00:03, 1318.59it/s]"
     ]
    },
    {
     "name": "stdout",
     "output_type": "stream",
     "text": [
      "stprep.o765674.4699\n",
      "stprep.o765674.478\n"
     ]
    },
    {
     "name": "stderr",
     "output_type": "stream",
     "text": [
      " 57%|█████▋    | 5017/8780 [00:04<00:03, 1029.14it/s]"
     ]
    },
    {
     "name": "stdout",
     "output_type": "stream",
     "text": [
      "stprep.o765674.5428\n",
      "stprep.o765674.5452\n"
     ]
    },
    {
     "name": "stderr",
     "output_type": "stream",
     "text": [
      " 64%|██████▍   | 5618/8780 [00:04<00:02, 1199.26it/s]"
     ]
    },
    {
     "name": "stdout",
     "output_type": "stream",
     "text": [
      "stprep.o765674.5912\n"
     ]
    },
    {
     "name": "stderr",
     "output_type": "stream",
     "text": [
      " 67%|██████▋   | 5906/8780 [00:04<00:02, 1307.98it/s]"
     ]
    },
    {
     "name": "stdout",
     "output_type": "stream",
     "text": [
      "stprep.o765674.6151\n"
     ]
    },
    {
     "name": "stderr",
     "output_type": "stream",
     "text": [
      " 71%|███████   | 6194/8780 [00:04<00:01, 1337.66it/s]"
     ]
    },
    {
     "name": "stdout",
     "output_type": "stream",
     "text": [
      "stprep.o765674.6497\n"
     ]
    },
    {
     "name": "stderr",
     "output_type": "stream",
     "text": [
      " 91%|█████████ | 7998/8780 [00:06<00:00, 936.45it/s] "
     ]
    },
    {
     "name": "stdout",
     "output_type": "stream",
     "text": [
      "stprep.o765674.8049\n"
     ]
    },
    {
     "name": "stderr",
     "output_type": "stream",
     "text": [
      "100%|██████████| 8780/8780 [00:07<00:00, 1141.62it/s]"
     ]
    },
    {
     "name": "stdout",
     "output_type": "stream",
     "text": [
      "stprep.o765674.899\n"
     ]
    },
    {
     "name": "stderr",
     "output_type": "stream",
     "text": [
      "\n"
     ]
    }
   ],
   "source": [
    "path = \"/aloy/scratch/acomajuncosa/MurD/PDB/prep2\"\n",
    "fail = []\n",
    "\n",
    "for file in tqdm.tqdm(sorted(os.listdir(path))):\n",
    "    if '.o' in file:\n",
    "        with open(os.path.join(path, file), \"r\") as f:\n",
    "            for l in f:\n",
    "                if \"error\" in l.lower() or \"warning\" in l.lower() or \"protein\" in l.lower():\n",
    "                    print(file)\n",
    "                    fail.append(file.split(\".\")[-1])\n",
    "                    break"
   ]
  },
  {
   "cell_type": "code",
   "execution_count": 3,
   "id": "30790958-0c60-4292-aaf9-c36ec5757a20",
   "metadata": {
    "collapsed": true,
    "jupyter": {
     "outputs_hidden": true
    },
    "tags": []
   },
   "outputs": [
    {
     "name": "stderr",
     "output_type": "stream",
     "text": [
      "100%|██████████| 39/39 [00:00<00:00, 1543.87it/s]"
     ]
    },
    {
     "name": "stdout",
     "output_type": "stream",
     "text": [
      "stprep.o765694.1\n",
      "stprep.o765694.11\n",
      "stprep.o765694.12\n",
      "stprep.o765694.13\n",
      "stprep.o765694.14\n",
      "stprep.o765694.15\n",
      "stprep.o765694.16\n",
      "stprep.o765694.17\n",
      "stprep.o765694.18\n",
      "stprep.o765694.20\n",
      "stprep.o765694.21\n",
      "stprep.o765694.22\n",
      "stprep.o765694.25\n",
      "stprep.o765694.26\n",
      "stprep.o765694.28\n",
      "stprep.o765694.29\n",
      "stprep.o765694.3\n",
      "stprep.o765694.31\n",
      "stprep.o765694.32\n",
      "stprep.o765694.33\n",
      "stprep.o765694.4\n",
      "stprep.o765694.5\n",
      "stprep.o765694.6\n",
      "stprep.o765694.8\n"
     ]
    },
    {
     "name": "stderr",
     "output_type": "stream",
     "text": [
      "\n"
     ]
    }
   ],
   "source": [
    "path = \"/aloy/scratch/acomajuncosa/MurD/PDB/prep2_/\"\n",
    "fail = []\n",
    "\n",
    "for file in tqdm.tqdm(sorted(os.listdir(path))):\n",
    "    if '.o' in file:\n",
    "        with open(os.path.join(path, file), \"r\") as f:\n",
    "            for l in f:\n",
    "                if \"error\" in l.lower() or \"warning\" in l.lower() or \"protein\" in l.lower():\n",
    "                    print(file)\n",
    "                    fail.append(file.split(\".\")[-1])\n",
    "                    break"
   ]
  },
  {
   "cell_type": "code",
   "execution_count": 8,
   "id": "e5aaaff6-796f-46f0-978e-b43df2c4c23f",
   "metadata": {},
   "outputs": [],
   "source": [
    "failing_proteins = ['Q58439', 'Q9HZC0']"
   ]
  },
  {
   "cell_type": "code",
   "execution_count": 9,
   "id": "7c1de3e6-711a-4481-ab5b-d738abe341e5",
   "metadata": {},
   "outputs": [
    {
     "name": "stdout",
     "output_type": "stream",
     "text": [
      "8739 11275\n",
      "8737 11275\n"
     ]
    }
   ],
   "source": [
    "print(len(clustering), len(clustering_per_cluster))\n",
    "\n",
    "for out in failing_proteins:\n",
    "    clustering = clustering.loc[clustering['protein'] != out].reset_index()\n",
    "    clustering_per_cluster.loc[clustering_per_cluster['protein'] != out].reset_index()\n",
    "print(len(clustering), len(clustering_per_cluster))"
   ]
  },
  {
   "cell_type": "code",
   "execution_count": 10,
   "id": "43a19da9-cf54-41b2-9f50-ed082ee8f76b",
   "metadata": {},
   "outputs": [],
   "source": [
    "### GET CLUSTER/POCKET INFO FOR EACH PROTEIN\n",
    "\n",
    "all_clusters = {}\n",
    "clusters = {}\n",
    "\n",
    "for i, j, k in zip(clustering_per_cluster['protein'], clustering_per_cluster['cluster'], clustering_per_cluster['n of structures']):\n",
    "    if i not in all_clusters:\n",
    "        all_clusters[i] = {}\n",
    "    all_clusters[i][j] = k\n",
    "    \n",
    "for uni in sorted(all_clusters):\n",
    "    order = sorted(all_clusters[uni], key=lambda x: all_clusters[uni][x])[::-1][:3]\n",
    "    clusters[uni] = {}\n",
    "    for o in order[:3]:\n",
    "        # if all_clusters[uni][o] > 1:\n",
    "        clusters[uni][o] = all_clusters[uni][o]"
   ]
  },
  {
   "cell_type": "code",
   "execution_count": 11,
   "id": "bd7c027d-3f5b-48a8-8d98-8c6d60772df0",
   "metadata": {
    "tags": []
   },
   "outputs": [
    {
     "data": {
      "text/plain": [
       "11275"
      ]
     },
     "execution_count": 11,
     "metadata": {},
     "output_type": "execute_result"
    }
   ],
   "source": [
    "len([i for i in all_clusters for j in all_clusters[i]])"
   ]
  },
  {
   "cell_type": "code",
   "execution_count": 12,
   "id": "b3553832-81ce-469d-8aa4-d46c48d552ee",
   "metadata": {},
   "outputs": [
    {
     "data": {
      "text/plain": [
       "11003"
      ]
     },
     "execution_count": 12,
     "metadata": {},
     "output_type": "execute_result"
    }
   ],
   "source": [
    "len([i for i in clusters for j in clusters[i]])"
   ]
  },
  {
   "cell_type": "code",
   "execution_count": 13,
   "id": "b2883668-c200-49c6-b0c5-93b4542c6b1e",
   "metadata": {},
   "outputs": [],
   "source": [
    "pickle.dump(clusters, open(\"/aloy/home/acomajuncosa/MurD/GitHub/alignment/MSA/clusters.pkl\", \"wb\"))"
   ]
  },
  {
   "cell_type": "code",
   "execution_count": 14,
   "id": "06095286-8598-41d0-9735-ac5558095565",
   "metadata": {},
   "outputs": [],
   "source": [
    "def calculate_centroid(arr):\n",
    "    arr = np.array(arr)\n",
    "    length = arr.shape[0]\n",
    "    sum_x = np.sum(arr[:, 0])\n",
    "    sum_y = np.sum(arr[:, 1])\n",
    "    sum_z = np.sum(arr[:, 2])\n",
    "    return np.array([round(sum_x/length, 3), round(sum_y/length, 3), round(sum_z/length, 3)])\n",
    "\n",
    "# Get 3D points from ligand centroid\n",
    "def get_3d_points(file):\n",
    "    point = PDBParser(QUIET=True).get_structure(\"point\", file)[0]\n",
    "    return [at.get_coord() for at in point.get_atoms()][0]"
   ]
  },
  {
   "cell_type": "code",
   "execution_count": 15,
   "id": "27925532-0f0a-410a-9a37-b7449d1075ed",
   "metadata": {
    "tags": []
   },
   "outputs": [
    {
     "name": "stderr",
     "output_type": "stream",
     "text": [
      "100%|██████████| 8739/8739 [37:18<00:00,  3.90it/s]  \n"
     ]
    }
   ],
   "source": [
    "### GENERATE CENTROIDS FOR DOCKING\n",
    "\n",
    "path_to_vis = \"/aloy/home/acomajuncosa/MurD/GitHub/alignment/MSA/visualization\"\n",
    "path_to_reports = \"/aloy/home/acomajuncosa/MurD/GitHub/alignment/MSA/reports\"\n",
    "path_to_prep = \"/aloy/home/acomajuncosa/MurD/GitHub/alignment/MSA/preparation\"\n",
    "\n",
    "for protein in tqdm.tqdm(sorted(clusters)):\n",
    "    \n",
    "    # Get report\n",
    "    report = pickle.load(open(os.path.join(path_to_reports, protein, protein + \".pkl\"), \"rb\"))\n",
    "    \n",
    "    # Calculate centroid for each cluster\n",
    "    for clust_numb in clusters[protein]:\n",
    "        ctrs = [i for i in report if report[i] == clust_numb]\n",
    "        ctrs = np.array([get_3d_points(os.path.join(path_to_vis, protein, i)) for i in ctrs])\n",
    "        x, y, z = calculate_centroid(ctrs)\n",
    "        x, y, z = str(x), str(y), str(z)\n",
    "        \n",
    "        # Write\n",
    "        centroid = \" \"*(8-len(x)) + x + \" \"*(8-len(y)) + y + \" \"*(8-len(z)) + z\n",
    "        text = \"\"\"HEADER\\nHETATM    1   C  CTR A   1    \"\"\" + centroid + \"\"\"  1.00  1.00           C\\nEND\"\"\"\n",
    "        \n",
    "        outfile = os.path.join(path_to_prep, protein, \"centroid_\" + str(clust_numb) + \".pdb\")\n",
    "        with open(outfile, \"w\") as f:\n",
    "            f.write(text)\n",
    "            \n",
    "        command = 'obabel ' + outfile + \" -O \" + os.path.join(path_to_prep, protein, \"centroid_\" + str(clust_numb) + \".sd\")\n",
    "        os.system(command)"
   ]
  },
  {
   "cell_type": "code",
   "execution_count": null,
   "id": "60312d99-3087-4c06-aa34-ead1953c1d15",
   "metadata": {},
   "outputs": [],
   "source": []
  },
  {
   "cell_type": "code",
   "execution_count": null,
   "id": "98e6c523-5c28-4cd5-8b5d-2a0f8ee7d140",
   "metadata": {},
   "outputs": [],
   "source": []
  },
  {
   "cell_type": "code",
   "execution_count": null,
   "id": "357491b2-f8c2-4fcb-af6b-c0a369033853",
   "metadata": {},
   "outputs": [],
   "source": []
  },
  {
   "cell_type": "code",
   "execution_count": null,
   "id": "faa138d1-6330-44ec-b121-6fe3ff661cb5",
   "metadata": {},
   "outputs": [],
   "source": []
  },
  {
   "cell_type": "code",
   "execution_count": null,
   "id": "71f4ef69-a3e9-4148-8705-0c67f20eeae4",
   "metadata": {},
   "outputs": [],
   "source": []
  },
  {
   "cell_type": "code",
   "execution_count": null,
   "id": "9aa170f9-1bfe-47df-81fe-f2e973125f9d",
   "metadata": {},
   "outputs": [],
   "source": []
  },
  {
   "cell_type": "code",
   "execution_count": null,
   "id": "c543643b-e5bd-47aa-b107-9910162bcffd",
   "metadata": {},
   "outputs": [],
   "source": []
  },
  {
   "cell_type": "code",
   "execution_count": null,
   "id": "37d0d5be-f989-4fd4-9c45-2552eea30137",
   "metadata": {},
   "outputs": [],
   "source": []
  },
  {
   "cell_type": "code",
   "execution_count": null,
   "id": "f732bb07-a31e-4002-8a0c-a8b55e2f9b63",
   "metadata": {},
   "outputs": [],
   "source": []
  },
  {
   "cell_type": "code",
   "execution_count": null,
   "id": "f5473eec-9a3b-4ab4-a06b-f0da445691c2",
   "metadata": {},
   "outputs": [],
   "source": []
  },
  {
   "cell_type": "code",
   "execution_count": null,
   "id": "28f8e93f-de4d-4e49-9ad2-6390642cc866",
   "metadata": {},
   "outputs": [],
   "source": []
  },
  {
   "cell_type": "code",
   "execution_count": null,
   "id": "d0afe7f4-8da4-4044-8297-c499dcb248c5",
   "metadata": {},
   "outputs": [],
   "source": []
  },
  {
   "cell_type": "code",
   "execution_count": null,
   "id": "60d9fdc5-3c30-467c-800f-e2002fea7c39",
   "metadata": {},
   "outputs": [],
   "source": []
  },
  {
   "cell_type": "code",
   "execution_count": null,
   "id": "a26a7fcf-1d99-4114-b616-6cb6ab70e0bc",
   "metadata": {},
   "outputs": [],
   "source": []
  },
  {
   "cell_type": "code",
   "execution_count": null,
   "id": "486e669c-d124-483f-bbe8-d407d8513b1e",
   "metadata": {},
   "outputs": [],
   "source": []
  },
  {
   "cell_type": "code",
   "execution_count": null,
   "id": "c1b1a3f8-d1f9-4d4d-b11e-dc97a4da0a0d",
   "metadata": {},
   "outputs": [],
   "source": []
  },
  {
   "cell_type": "code",
   "execution_count": 118,
   "id": "c84d7064-f79c-41d0-8d10-e92f82dc3d3c",
   "metadata": {},
   "outputs": [],
   "source": [
    "### CHECK STRUCTURAL CLASHES"
   ]
  },
  {
   "cell_type": "code",
   "execution_count": 42,
   "id": "be5db2f8-c64e-44c5-b473-cbbb475518ea",
   "metadata": {
    "collapsed": true,
    "jupyter": {
     "outputs_hidden": true
    },
    "tags": []
   },
   "outputs": [
    {
     "name": "stderr",
     "output_type": "stream",
     "text": [
      "/home/acomajuncosa/programs/anaconda3/lib/python3.7/site-packages/Bio/PDB/PDBParser.py:399: PDBConstructionWarning: Ignoring unrecognized record 'END' at line 3\n",
      "  PDBConstructionWarning,\n",
      "/home/acomajuncosa/programs/anaconda3/lib/python3.7/site-packages/Bio/PDB/PDBParser.py:399: PDBConstructionWarning: Ignoring unrecognized record 'END' at line 3\n",
      "  PDBConstructionWarning,\n",
      "/home/acomajuncosa/programs/anaconda3/lib/python3.7/site-packages/Bio/PDB/PDBParser.py:399: PDBConstructionWarning: Ignoring unrecognized record 'END' at line 3\n",
      "  PDBConstructionWarning,\n",
      "/home/acomajuncosa/programs/anaconda3/lib/python3.7/site-packages/Bio/PDB/PDBParser.py:399: PDBConstructionWarning: Ignoring unrecognized record 'END' at line 3\n",
      "  PDBConstructionWarning,\n",
      "/home/acomajuncosa/programs/anaconda3/lib/python3.7/site-packages/Bio/PDB/PDBParser.py:399: PDBConstructionWarning: Ignoring unrecognized record 'END' at line 3\n",
      "  PDBConstructionWarning,\n",
      "/home/acomajuncosa/programs/anaconda3/lib/python3.7/site-packages/Bio/PDB/PDBParser.py:399: PDBConstructionWarning: Ignoring unrecognized record 'END' at line 3\n",
      "  PDBConstructionWarning,\n",
      "/home/acomajuncosa/programs/anaconda3/lib/python3.7/site-packages/Bio/PDB/PDBParser.py:399: PDBConstructionWarning: Ignoring unrecognized record 'END' at line 3\n",
      "  PDBConstructionWarning,\n",
      "/home/acomajuncosa/programs/anaconda3/lib/python3.7/site-packages/Bio/PDB/PDBParser.py:399: PDBConstructionWarning: Ignoring unrecognized record 'END' at line 3\n",
      "  PDBConstructionWarning,\n",
      "/home/acomajuncosa/programs/anaconda3/lib/python3.7/site-packages/Bio/PDB/PDBParser.py:399: PDBConstructionWarning: Ignoring unrecognized record 'END' at line 3\n",
      "  PDBConstructionWarning,\n",
      "/home/acomajuncosa/programs/anaconda3/lib/python3.7/site-packages/Bio/PDB/PDBParser.py:399: PDBConstructionWarning: Ignoring unrecognized record 'END' at line 3\n",
      "  PDBConstructionWarning,\n",
      "/home/acomajuncosa/programs/anaconda3/lib/python3.7/site-packages/Bio/PDB/PDBParser.py:399: PDBConstructionWarning: Ignoring unrecognized record 'END' at line 3\n",
      "  PDBConstructionWarning,\n",
      "/home/acomajuncosa/programs/anaconda3/lib/python3.7/site-packages/Bio/PDB/PDBParser.py:399: PDBConstructionWarning: Ignoring unrecognized record 'END' at line 3\n",
      "  PDBConstructionWarning,\n",
      "/home/acomajuncosa/programs/anaconda3/lib/python3.7/site-packages/Bio/PDB/PDBParser.py:399: PDBConstructionWarning: Ignoring unrecognized record 'END' at line 3\n",
      "  PDBConstructionWarning,\n",
      "/home/acomajuncosa/programs/anaconda3/lib/python3.7/site-packages/Bio/PDB/PDBParser.py:399: PDBConstructionWarning: Ignoring unrecognized record 'END' at line 3\n",
      "  PDBConstructionWarning,\n",
      "/home/acomajuncosa/programs/anaconda3/lib/python3.7/site-packages/Bio/PDB/PDBParser.py:399: PDBConstructionWarning: Ignoring unrecognized record 'END' at line 3\n",
      "  PDBConstructionWarning,\n",
      "/home/acomajuncosa/programs/anaconda3/lib/python3.7/site-packages/Bio/PDB/PDBParser.py:399: PDBConstructionWarning: Ignoring unrecognized record 'END' at line 3\n",
      "  PDBConstructionWarning,\n",
      "/home/acomajuncosa/programs/anaconda3/lib/python3.7/site-packages/Bio/PDB/PDBParser.py:399: PDBConstructionWarning: Ignoring unrecognized record 'END' at line 3\n",
      "  PDBConstructionWarning,\n",
      "/home/acomajuncosa/programs/anaconda3/lib/python3.7/site-packages/Bio/PDB/PDBParser.py:399: PDBConstructionWarning: Ignoring unrecognized record 'END' at line 3\n",
      "  PDBConstructionWarning,\n",
      "/home/acomajuncosa/programs/anaconda3/lib/python3.7/site-packages/Bio/PDB/PDBParser.py:399: PDBConstructionWarning: Ignoring unrecognized record 'END' at line 3\n",
      "  PDBConstructionWarning,\n",
      "/home/acomajuncosa/programs/anaconda3/lib/python3.7/site-packages/Bio/PDB/PDBParser.py:399: PDBConstructionWarning: Ignoring unrecognized record 'END' at line 3\n",
      "  PDBConstructionWarning,\n",
      "/home/acomajuncosa/programs/anaconda3/lib/python3.7/site-packages/Bio/PDB/PDBParser.py:399: PDBConstructionWarning: Ignoring unrecognized record 'END' at line 3\n",
      "  PDBConstructionWarning,\n",
      "/home/acomajuncosa/programs/anaconda3/lib/python3.7/site-packages/Bio/PDB/PDBParser.py:399: PDBConstructionWarning: Ignoring unrecognized record 'END' at line 3\n",
      "  PDBConstructionWarning,\n",
      "/home/acomajuncosa/programs/anaconda3/lib/python3.7/site-packages/Bio/PDB/PDBParser.py:399: PDBConstructionWarning: Ignoring unrecognized record 'END' at line 3\n",
      "  PDBConstructionWarning,\n",
      "/home/acomajuncosa/programs/anaconda3/lib/python3.7/site-packages/Bio/PDB/PDBParser.py:399: PDBConstructionWarning: Ignoring unrecognized record 'END' at line 3\n",
      "  PDBConstructionWarning,\n",
      "/home/acomajuncosa/programs/anaconda3/lib/python3.7/site-packages/Bio/PDB/PDBParser.py:399: PDBConstructionWarning: Ignoring unrecognized record 'END' at line 3\n",
      "  PDBConstructionWarning,\n",
      "/home/acomajuncosa/programs/anaconda3/lib/python3.7/site-packages/Bio/PDB/PDBParser.py:399: PDBConstructionWarning: Ignoring unrecognized record 'END' at line 3\n",
      "  PDBConstructionWarning,\n",
      "/home/acomajuncosa/programs/anaconda3/lib/python3.7/site-packages/Bio/PDB/PDBParser.py:399: PDBConstructionWarning: Ignoring unrecognized record 'END' at line 3\n",
      "  PDBConstructionWarning,\n",
      "/home/acomajuncosa/programs/anaconda3/lib/python3.7/site-packages/Bio/PDB/PDBParser.py:399: PDBConstructionWarning: Ignoring unrecognized record 'END' at line 3\n",
      "  PDBConstructionWarning,\n",
      "/home/acomajuncosa/programs/anaconda3/lib/python3.7/site-packages/Bio/PDB/PDBParser.py:399: PDBConstructionWarning: Ignoring unrecognized record 'END' at line 3\n",
      "  PDBConstructionWarning,\n"
     ]
    },
    {
     "name": "stdout",
     "output_type": "stream",
     "text": [
      "CTR_5XDC_C_IND_0_centroid.pdb CTR_5XDG_A_83U_0_centroid.pdb\n",
      "0 True\n"
     ]
    }
   ],
   "source": [
    "\n",
    "# pickle.load(open(\"/aloy/home/acomajuncosa/MurD/GitHub/alignment/MSA/reports/P00178/P00178_conflicts.pkl\", \"rb\"))\n",
    "# path = '/aloy/home/acomajuncosa/MurD/GitHub/alignment/MSA/reports'\n",
    "# protein = 'Q9LBX2'\n",
    "# clusters = pickle.load(open(os.path.join(path, protein, protein + '.pkl'), \"rb\"))\n",
    "# numb_clusters = sorted(set([clusters[i] for i in clusters]))\n",
    "# vis_path = os.path.join(\"/aloy/home/acomajuncosa/MurD/GitHub/alignment/MSA/visualization\", protein)\n",
    "\n",
    "# # Get 3D points from ligand centroid\n",
    "# def get_3d_points(file):\n",
    "#     point = PDBParser().get_structure(\"point\", file)[0]\n",
    "#     return [at.get_coord() for at in point.get_atoms()][0]\n",
    "\n",
    "# # Get the nonredundant set of pairs ==> (A, B, C, D): (A,B), (A,C), (A,D), (B,C), (B,D), (C,D)\n",
    "# def get_nonredundant_pairs(ctr):\n",
    "#     pairs = []\n",
    "#     for i in ctrs:\n",
    "#         for j in ctrs:\n",
    "#             if i != j and \" \".join([i, j]) not in pairs and \" \".join([j, i]) not in pairs:\n",
    "#                 pairs.append(\" \".join([i, j]))\n",
    "#     return pairs\n",
    "\n",
    "\n",
    "\n",
    "# for numb_cluster in numb_clusters:\n",
    "#     ctrs, loc = [], {} \n",
    "    \n",
    "#     # Get how many centroids are clustered in numb_clustered\n",
    "#     for ctr in clusters:\n",
    "#         if clusters[ctr] == numb_cluster:\n",
    "#             ctrs.append(ctr)\n",
    "            \n",
    "#     # Get all pairs of distances\n",
    "#     pairs = get_nonredundant_pairs(ctr)\n",
    "#     for ctr in ctrs:\n",
    "#         loc[ctr] = get_3d_points(os.path.join(vis_path, ctr))\n",
    "        \n",
    "#     # Check conflicts for all pairs of centroids\n",
    "#     c = False\n",
    "#     for pair in pairs:\n",
    "#         ctr1, ctr2 = loc[pair.split()[0]], loc[pair.split()[1]]\n",
    "#         conflict = check_conflict(ctr1, ctr2, os.path.join(vis_path, \"cluster_REFERENCE.pdb\"))\n",
    "#         if conflict is True:\n",
    "#             c = True\n",
    "#             print(pair)\n",
    "#             break\n",
    "#     print(numb_cluster, c)\n",
    "    \n",
    "    \n",
    "# def check_clash(points, locations, minimum=2):\n",
    "#     dists = np.array([min(i) for i in pairwise_distances(points, locations, metric='euclidean')])\n",
    "#     if min(dists) < minimum:\n",
    "#         return True\n",
    "#     else:\n",
    "#         return False\n",
    "    \n",
    "    \n",
    "# def check_conflict(loc1, loc2, path_to_st):\n",
    "    \n",
    "#     # Load loc from all atoms in st\n",
    "#     st = PDBParser().get_structure(\"st\", path_to_st)\n",
    "#     atoms_prot = [i.coord for i in st.get_atoms()]\n",
    "    \n",
    "#     # Calculate points to check\n",
    "#     thr = 1  # point every 1 A\n",
    "#     incr = np.linalg.norm(loc1-loc2)\n",
    "#     n_spaces = int(incr/thr) + 2\n",
    "#     points_to_check = np.linspace(loc1, loc2, n_spaces)\n",
    "    \n",
    "#     # Check clashes with points\n",
    "#     conflict = check_clash(points_to_check, atoms_prot)\n",
    "    \n",
    "#     return conflict"
   ]
  },
  {
   "cell_type": "code",
   "execution_count": 39,
   "id": "eee181b8-a382-4308-ba58-fb6b2a77fc22",
   "metadata": {},
   "outputs": [],
   "source": []
  },
  {
   "cell_type": "code",
   "execution_count": 40,
   "id": "3227e440-0639-4e7b-a431-1d4bc0bf8f99",
   "metadata": {
    "tags": []
   },
   "outputs": [],
   "source": []
  },
  {
   "cell_type": "code",
   "execution_count": 233,
   "id": "9d3affbf-b699-4693-96e3-06c72f33da84",
   "metadata": {},
   "outputs": [],
   "source": []
  },
  {
   "cell_type": "code",
   "execution_count": null,
   "id": "d3e59cc9-fac3-4ebd-a6ca-dc3de0359714",
   "metadata": {},
   "outputs": [],
   "source": []
  },
  {
   "cell_type": "code",
   "execution_count": null,
   "id": "9f189e6d-db63-4061-9fc3-7a98e83a2292",
   "metadata": {},
   "outputs": [],
   "source": []
  },
  {
   "cell_type": "code",
   "execution_count": 363,
   "id": "68034756-3c35-483e-b975-3520f313399b",
   "metadata": {},
   "outputs": [],
   "source": [
    "uniprot = elements[0][0]  # uniprot\n",
    "structures = elements[0][1]  # associated structures\n",
    "ref_structure = elements[0][2]  # ref structure to make superpositions\n",
    "\n",
    "# Some functions\n",
    "\n",
    "# Read trans/rot matrix for alignment (TM-align)\n",
    "def read_mtx(file):\n",
    "    f = open(file, \"r\").readlines()[2:5]\n",
    "    f = np.array([i.split()[1:] for i in f], dtype='float32')\n",
    "    t = np.array(f[:,0])\n",
    "    u = np.array([f[0][1:], f[1][1:], f[2][1:]])\n",
    "    return t, u\n",
    "\n",
    "# Get 3D points from ligand centroid\n",
    "def get_3d_points(file):\n",
    "    point = PDBParser().get_structure(\"point\", file)[0]\n",
    "    return [at.get_coord() for at in point.get_atoms()][0]\n",
    "\n",
    "# Get line to merge pdbs\n",
    "def get_line_point(file):\n",
    "    f = open(file, \"r\").readlines()\n",
    "    return f[0]"
   ]
  },
  {
   "cell_type": "code",
   "execution_count": 364,
   "id": "48288e10-6de3-4a85-b279-464fa3c59dc4",
   "metadata": {},
   "outputs": [
    {
     "data": {
      "text/plain": [
       "'6A7P_B_9SC'"
      ]
     },
     "execution_count": 364,
     "metadata": {},
     "output_type": "execute_result"
    }
   ],
   "source": [
    "ref_structure"
   ]
  },
  {
   "cell_type": "code",
   "execution_count": 365,
   "id": "08f5112f-0ace-49f5-aef0-69f153c9ab30",
   "metadata": {},
   "outputs": [
    {
     "data": {
      "text/plain": [
       "'/aloy/home/acomajuncosa/MurD/GitHub/alignment/MSA/visualization/P02768/cluster_REFERENCE.pdb'"
      ]
     },
     "execution_count": 365,
     "metadata": {},
     "output_type": "execute_result"
    }
   ],
   "source": [
    "### 1. CREATE DIRECTORIES\n",
    "\n",
    "path = os.path.join(\"/aloy/home/acomajuncosa/MurD/GitHub/structures\")\n",
    "\n",
    "\n",
    "mtx_path = os.path.join(\"/aloy/home/acomajuncosa/MurD/GitHub/alignment/MSA/mtx\", uniprot)\n",
    "outpath = os.path.join('/aloy/home/acomajuncosa/MurD/GitHub/alignment/pockets', uniprot)\n",
    "vis_path = os.path.join(\"/aloy/home/acomajuncosa/MurD/GitHub/alignment/MSA/visualization\", uniprot)\n",
    "path_to_aligned_sts = os.path.join(\"/aloy/home/acomajuncosa/MurD/GitHub/alignment/MSA/aligned_structures/\", uniprot)\n",
    "path_to_reports = os.path.join(\"/aloy/home/acomajuncosa/MurD/GitHub/alignment/MSA/reports/\", uniprot)\n",
    "\n",
    "if os.path.exists(mtx_path) is False: os.makedirs(mtx_path)\n",
    "if os.path.exists(outpath) is False: os.makedirs(outpath)\n",
    "if os.path.exists(vis_path) is False: os.makedirs(vis_path)\n",
    "if os.path.exists(path_to_aligned_sts) is False: os.makedirs(path_to_aligned_sts)\n",
    "if os.path.exists(path_to_reports) is False: os.makedirs(path_to_reports)\n",
    "\n",
    "\n",
    "\n",
    "### 2. EXTRACT & ORGANIZE THE DATA\n",
    "\n",
    "# Extract the data (st, lig, ctr)\n",
    "for structure in structures:\n",
    "    \n",
    "    pdb = structure.split(\"_\")[0]\n",
    "    chain = structure.split(\"_\")[1]\n",
    "    ligand = structure.split(\"_\")[2]\n",
    "    count = structure.split(\"_\")[3]\n",
    "\n",
    "\n",
    "    label = \"_\".join([pdb, chain, ligand])\n",
    "    \n",
    "    \n",
    "    st = label + \"/\" + label + \".pdb\"\n",
    "    lig = label + \"/\" + ligand + \"_\" + count + \".pdb\"\n",
    "    ctr = label + \"/\" + ligand + \"_\" + count + \"_centroid.pdb\"\n",
    "\n",
    "    tar = tarfile.open(os.path.join(path, pdb[1:3], label + \".tar.gz\"), \"r\")\n",
    "    tar.extract(st, path=os.path.join(outpath))\n",
    "    tar.extract(lig, path=os.path.join(outpath))\n",
    "    tar.extract(ctr, path=os.path.join(outpath))\n",
    "    tar.close()\n",
    "    \n",
    "# Select one st as reference (st2)\n",
    "shutil.copyfile(os.path.join(outpath, ref_structure, ref_structure + \".pdb\"), os.path.join(vis_path, \"cluster_REFERENCE.pdb\"))"
   ]
  },
  {
   "cell_type": "code",
   "execution_count": 366,
   "id": "8a9c3893-55e6-4b68-829a-5e8d2880934d",
   "metadata": {
    "collapsed": true,
    "jupyter": {
     "outputs_hidden": true
    },
    "tags": []
   },
   "outputs": [
    {
     "name": "stderr",
     "output_type": "stream",
     "text": [
      "/home/acomajuncosa/programs/anaconda3/lib/python3.7/site-packages/Bio/PDB/PDBParser.py:399: PDBConstructionWarning: Ignoring unrecognized record 'END' at line 3\n",
      "  PDBConstructionWarning,\n",
      "/home/acomajuncosa/programs/anaconda3/lib/python3.7/site-packages/Bio/PDB/PDBParser.py:399: PDBConstructionWarning: Ignoring unrecognized record 'END' at line 3\n",
      "  PDBConstructionWarning,\n",
      "/home/acomajuncosa/programs/anaconda3/lib/python3.7/site-packages/Bio/PDB/PDBParser.py:399: PDBConstructionWarning: Ignoring unrecognized record 'END' at line 3\n",
      "  PDBConstructionWarning,\n",
      "/home/acomajuncosa/programs/anaconda3/lib/python3.7/site-packages/Bio/PDB/PDBParser.py:399: PDBConstructionWarning: Ignoring unrecognized record 'END' at line 3\n",
      "  PDBConstructionWarning,\n",
      "/home/acomajuncosa/programs/anaconda3/lib/python3.7/site-packages/Bio/PDB/PDBParser.py:399: PDBConstructionWarning: Ignoring unrecognized record 'END' at line 3\n",
      "  PDBConstructionWarning,\n",
      "/home/acomajuncosa/programs/anaconda3/lib/python3.7/site-packages/Bio/PDB/PDBParser.py:399: PDBConstructionWarning: Ignoring unrecognized record 'END' at line 3\n",
      "  PDBConstructionWarning,\n",
      "/home/acomajuncosa/programs/anaconda3/lib/python3.7/site-packages/Bio/PDB/PDBParser.py:399: PDBConstructionWarning: Ignoring unrecognized record 'END' at line 3\n",
      "  PDBConstructionWarning,\n",
      "/home/acomajuncosa/programs/anaconda3/lib/python3.7/site-packages/Bio/PDB/PDBParser.py:399: PDBConstructionWarning: Ignoring unrecognized record 'END' at line 3\n",
      "  PDBConstructionWarning,\n",
      "/home/acomajuncosa/programs/anaconda3/lib/python3.7/site-packages/Bio/PDB/PDBParser.py:399: PDBConstructionWarning: Ignoring unrecognized record 'END' at line 3\n",
      "  PDBConstructionWarning,\n",
      "/home/acomajuncosa/programs/anaconda3/lib/python3.7/site-packages/Bio/PDB/PDBParser.py:399: PDBConstructionWarning: Ignoring unrecognized record 'END' at line 3\n",
      "  PDBConstructionWarning,\n",
      "/home/acomajuncosa/programs/anaconda3/lib/python3.7/site-packages/Bio/PDB/PDBParser.py:399: PDBConstructionWarning: Ignoring unrecognized record 'END' at line 3\n",
      "  PDBConstructionWarning,\n",
      "/home/acomajuncosa/programs/anaconda3/lib/python3.7/site-packages/Bio/PDB/PDBParser.py:399: PDBConstructionWarning: Ignoring unrecognized record 'END' at line 3\n",
      "  PDBConstructionWarning,\n",
      "/home/acomajuncosa/programs/anaconda3/lib/python3.7/site-packages/Bio/PDB/PDBParser.py:399: PDBConstructionWarning: Ignoring unrecognized record 'END' at line 3\n",
      "  PDBConstructionWarning,\n",
      "/home/acomajuncosa/programs/anaconda3/lib/python3.7/site-packages/Bio/PDB/PDBParser.py:399: PDBConstructionWarning: Ignoring unrecognized record 'END' at line 3\n",
      "  PDBConstructionWarning,\n",
      "/home/acomajuncosa/programs/anaconda3/lib/python3.7/site-packages/Bio/PDB/PDBParser.py:399: PDBConstructionWarning: Ignoring unrecognized record 'END' at line 3\n",
      "  PDBConstructionWarning,\n",
      "/home/acomajuncosa/programs/anaconda3/lib/python3.7/site-packages/Bio/PDB/PDBParser.py:399: PDBConstructionWarning: Ignoring unrecognized record 'END' at line 3\n",
      "  PDBConstructionWarning,\n",
      "/home/acomajuncosa/programs/anaconda3/lib/python3.7/site-packages/Bio/PDB/PDBParser.py:399: PDBConstructionWarning: Ignoring unrecognized record 'END' at line 3\n",
      "  PDBConstructionWarning,\n",
      "/home/acomajuncosa/programs/anaconda3/lib/python3.7/site-packages/Bio/PDB/PDBParser.py:399: PDBConstructionWarning: Ignoring unrecognized record 'END' at line 3\n",
      "  PDBConstructionWarning,\n",
      "/home/acomajuncosa/programs/anaconda3/lib/python3.7/site-packages/Bio/PDB/PDBParser.py:399: PDBConstructionWarning: Ignoring unrecognized record 'END' at line 3\n",
      "  PDBConstructionWarning,\n",
      "/home/acomajuncosa/programs/anaconda3/lib/python3.7/site-packages/Bio/PDB/PDBParser.py:399: PDBConstructionWarning: Ignoring unrecognized record 'END' at line 3\n",
      "  PDBConstructionWarning,\n",
      "/home/acomajuncosa/programs/anaconda3/lib/python3.7/site-packages/Bio/PDB/PDBParser.py:399: PDBConstructionWarning: Ignoring unrecognized record 'END' at line 3\n",
      "  PDBConstructionWarning,\n",
      "/home/acomajuncosa/programs/anaconda3/lib/python3.7/site-packages/Bio/PDB/PDBParser.py:399: PDBConstructionWarning: Ignoring unrecognized record 'END' at line 3\n",
      "  PDBConstructionWarning,\n",
      "/home/acomajuncosa/programs/anaconda3/lib/python3.7/site-packages/Bio/PDB/PDBParser.py:399: PDBConstructionWarning: Ignoring unrecognized record 'END' at line 3\n",
      "  PDBConstructionWarning,\n",
      "/home/acomajuncosa/programs/anaconda3/lib/python3.7/site-packages/Bio/PDB/PDBParser.py:399: PDBConstructionWarning: Ignoring unrecognized record 'END' at line 3\n",
      "  PDBConstructionWarning,\n",
      "/home/acomajuncosa/programs/anaconda3/lib/python3.7/site-packages/Bio/PDB/PDBParser.py:399: PDBConstructionWarning: Ignoring unrecognized record 'END' at line 3\n",
      "  PDBConstructionWarning,\n",
      "/home/acomajuncosa/programs/anaconda3/lib/python3.7/site-packages/Bio/PDB/PDBParser.py:399: PDBConstructionWarning: Ignoring unrecognized record 'END' at line 3\n",
      "  PDBConstructionWarning,\n",
      "/home/acomajuncosa/programs/anaconda3/lib/python3.7/site-packages/Bio/PDB/PDBParser.py:399: PDBConstructionWarning: Ignoring unrecognized record 'END' at line 3\n",
      "  PDBConstructionWarning,\n",
      "/home/acomajuncosa/programs/anaconda3/lib/python3.7/site-packages/Bio/PDB/PDBParser.py:399: PDBConstructionWarning: Ignoring unrecognized record 'END' at line 3\n",
      "  PDBConstructionWarning,\n",
      "/home/acomajuncosa/programs/anaconda3/lib/python3.7/site-packages/Bio/PDB/PDBParser.py:399: PDBConstructionWarning: Ignoring unrecognized record 'END' at line 3\n",
      "  PDBConstructionWarning,\n",
      "/home/acomajuncosa/programs/anaconda3/lib/python3.7/site-packages/Bio/PDB/PDBParser.py:399: PDBConstructionWarning: Ignoring unrecognized record 'END' at line 3\n",
      "  PDBConstructionWarning,\n",
      "/home/acomajuncosa/programs/anaconda3/lib/python3.7/site-packages/Bio/PDB/PDBParser.py:399: PDBConstructionWarning: Ignoring unrecognized record 'END' at line 3\n",
      "  PDBConstructionWarning,\n",
      "/home/acomajuncosa/programs/anaconda3/lib/python3.7/site-packages/Bio/PDB/PDBParser.py:399: PDBConstructionWarning: Ignoring unrecognized record 'END' at line 3\n",
      "  PDBConstructionWarning,\n",
      "/home/acomajuncosa/programs/anaconda3/lib/python3.7/site-packages/Bio/PDB/PDBParser.py:399: PDBConstructionWarning: Ignoring unrecognized record 'END' at line 3\n",
      "  PDBConstructionWarning,\n",
      "/home/acomajuncosa/programs/anaconda3/lib/python3.7/site-packages/Bio/PDB/PDBParser.py:399: PDBConstructionWarning: Ignoring unrecognized record 'END' at line 3\n",
      "  PDBConstructionWarning,\n",
      "/home/acomajuncosa/programs/anaconda3/lib/python3.7/site-packages/Bio/PDB/PDBParser.py:399: PDBConstructionWarning: Ignoring unrecognized record 'END' at line 3\n",
      "  PDBConstructionWarning,\n",
      "/home/acomajuncosa/programs/anaconda3/lib/python3.7/site-packages/Bio/PDB/PDBParser.py:399: PDBConstructionWarning: Ignoring unrecognized record 'END' at line 3\n",
      "  PDBConstructionWarning,\n",
      "/home/acomajuncosa/programs/anaconda3/lib/python3.7/site-packages/Bio/PDB/PDBParser.py:399: PDBConstructionWarning: Ignoring unrecognized record 'END' at line 3\n",
      "  PDBConstructionWarning,\n",
      "/home/acomajuncosa/programs/anaconda3/lib/python3.7/site-packages/Bio/PDB/PDBParser.py:399: PDBConstructionWarning: Ignoring unrecognized record 'END' at line 3\n",
      "  PDBConstructionWarning,\n",
      "/home/acomajuncosa/programs/anaconda3/lib/python3.7/site-packages/Bio/PDB/PDBParser.py:399: PDBConstructionWarning: Ignoring unrecognized record 'END' at line 3\n",
      "  PDBConstructionWarning,\n",
      "/home/acomajuncosa/programs/anaconda3/lib/python3.7/site-packages/Bio/PDB/PDBParser.py:399: PDBConstructionWarning: Ignoring unrecognized record 'END' at line 3\n",
      "  PDBConstructionWarning,\n",
      "/home/acomajuncosa/programs/anaconda3/lib/python3.7/site-packages/Bio/PDB/PDBParser.py:399: PDBConstructionWarning: Ignoring unrecognized record 'END' at line 3\n",
      "  PDBConstructionWarning,\n",
      "/home/acomajuncosa/programs/anaconda3/lib/python3.7/site-packages/Bio/PDB/PDBParser.py:399: PDBConstructionWarning: Ignoring unrecognized record 'END' at line 3\n",
      "  PDBConstructionWarning,\n",
      "/home/acomajuncosa/programs/anaconda3/lib/python3.7/site-packages/Bio/PDB/PDBParser.py:399: PDBConstructionWarning: Ignoring unrecognized record 'END' at line 3\n",
      "  PDBConstructionWarning,\n",
      "/home/acomajuncosa/programs/anaconda3/lib/python3.7/site-packages/Bio/PDB/PDBParser.py:399: PDBConstructionWarning: Ignoring unrecognized record 'END' at line 3\n",
      "  PDBConstructionWarning,\n",
      "/home/acomajuncosa/programs/anaconda3/lib/python3.7/site-packages/Bio/PDB/PDBParser.py:399: PDBConstructionWarning: Ignoring unrecognized record 'END' at line 3\n",
      "  PDBConstructionWarning,\n",
      "/home/acomajuncosa/programs/anaconda3/lib/python3.7/site-packages/Bio/PDB/PDBParser.py:399: PDBConstructionWarning: Ignoring unrecognized record 'END' at line 3\n",
      "  PDBConstructionWarning,\n",
      "/home/acomajuncosa/programs/anaconda3/lib/python3.7/site-packages/Bio/PDB/PDBParser.py:399: PDBConstructionWarning: Ignoring unrecognized record 'END' at line 3\n",
      "  PDBConstructionWarning,\n",
      "/home/acomajuncosa/programs/anaconda3/lib/python3.7/site-packages/Bio/PDB/PDBParser.py:399: PDBConstructionWarning: Ignoring unrecognized record 'END' at line 3\n",
      "  PDBConstructionWarning,\n",
      "/home/acomajuncosa/programs/anaconda3/lib/python3.7/site-packages/Bio/PDB/PDBParser.py:399: PDBConstructionWarning: Ignoring unrecognized record 'END' at line 3\n",
      "  PDBConstructionWarning,\n",
      "/home/acomajuncosa/programs/anaconda3/lib/python3.7/site-packages/Bio/PDB/PDBParser.py:399: PDBConstructionWarning: Ignoring unrecognized record 'END' at line 3\n",
      "  PDBConstructionWarning,\n",
      "/home/acomajuncosa/programs/anaconda3/lib/python3.7/site-packages/Bio/PDB/PDBParser.py:399: PDBConstructionWarning: Ignoring unrecognized record 'END' at line 3\n",
      "  PDBConstructionWarning,\n",
      "/home/acomajuncosa/programs/anaconda3/lib/python3.7/site-packages/Bio/PDB/PDBParser.py:399: PDBConstructionWarning: Ignoring unrecognized record 'END' at line 3\n",
      "  PDBConstructionWarning,\n",
      "/home/acomajuncosa/programs/anaconda3/lib/python3.7/site-packages/Bio/PDB/PDBParser.py:399: PDBConstructionWarning: Ignoring unrecognized record 'END' at line 3\n",
      "  PDBConstructionWarning,\n",
      "/home/acomajuncosa/programs/anaconda3/lib/python3.7/site-packages/Bio/PDB/PDBParser.py:399: PDBConstructionWarning: Ignoring unrecognized record 'END' at line 3\n",
      "  PDBConstructionWarning,\n",
      "/home/acomajuncosa/programs/anaconda3/lib/python3.7/site-packages/Bio/PDB/PDBParser.py:399: PDBConstructionWarning: Ignoring unrecognized record 'END' at line 3\n",
      "  PDBConstructionWarning,\n",
      "/home/acomajuncosa/programs/anaconda3/lib/python3.7/site-packages/Bio/PDB/PDBParser.py:399: PDBConstructionWarning: Ignoring unrecognized record 'END' at line 3\n",
      "  PDBConstructionWarning,\n",
      "/home/acomajuncosa/programs/anaconda3/lib/python3.7/site-packages/Bio/PDB/PDBParser.py:399: PDBConstructionWarning: Ignoring unrecognized record 'END' at line 3\n",
      "  PDBConstructionWarning,\n",
      "/home/acomajuncosa/programs/anaconda3/lib/python3.7/site-packages/Bio/PDB/PDBParser.py:399: PDBConstructionWarning: Ignoring unrecognized record 'END' at line 3\n",
      "  PDBConstructionWarning,\n",
      "/home/acomajuncosa/programs/anaconda3/lib/python3.7/site-packages/Bio/PDB/PDBParser.py:399: PDBConstructionWarning: Ignoring unrecognized record 'END' at line 3\n",
      "  PDBConstructionWarning,\n",
      "/home/acomajuncosa/programs/anaconda3/lib/python3.7/site-packages/Bio/PDB/PDBParser.py:399: PDBConstructionWarning: Ignoring unrecognized record 'END' at line 3\n",
      "  PDBConstructionWarning,\n",
      "/home/acomajuncosa/programs/anaconda3/lib/python3.7/site-packages/Bio/PDB/PDBParser.py:399: PDBConstructionWarning: Ignoring unrecognized record 'END' at line 3\n",
      "  PDBConstructionWarning,\n",
      "/home/acomajuncosa/programs/anaconda3/lib/python3.7/site-packages/Bio/PDB/PDBParser.py:399: PDBConstructionWarning: Ignoring unrecognized record 'END' at line 3\n",
      "  PDBConstructionWarning,\n",
      "/home/acomajuncosa/programs/anaconda3/lib/python3.7/site-packages/Bio/PDB/PDBParser.py:399: PDBConstructionWarning: Ignoring unrecognized record 'END' at line 3\n",
      "  PDBConstructionWarning,\n",
      "/home/acomajuncosa/programs/anaconda3/lib/python3.7/site-packages/Bio/PDB/PDBParser.py:399: PDBConstructionWarning: Ignoring unrecognized record 'END' at line 3\n",
      "  PDBConstructionWarning,\n",
      "/home/acomajuncosa/programs/anaconda3/lib/python3.7/site-packages/Bio/PDB/PDBParser.py:399: PDBConstructionWarning: Ignoring unrecognized record 'END' at line 3\n",
      "  PDBConstructionWarning,\n",
      "/home/acomajuncosa/programs/anaconda3/lib/python3.7/site-packages/Bio/PDB/PDBParser.py:399: PDBConstructionWarning: Ignoring unrecognized record 'END' at line 3\n",
      "  PDBConstructionWarning,\n",
      "/home/acomajuncosa/programs/anaconda3/lib/python3.7/site-packages/Bio/PDB/PDBParser.py:399: PDBConstructionWarning: Ignoring unrecognized record 'END' at line 3\n",
      "  PDBConstructionWarning,\n",
      "/home/acomajuncosa/programs/anaconda3/lib/python3.7/site-packages/Bio/PDB/PDBParser.py:399: PDBConstructionWarning: Ignoring unrecognized record 'END' at line 3\n",
      "  PDBConstructionWarning,\n",
      "/home/acomajuncosa/programs/anaconda3/lib/python3.7/site-packages/Bio/PDB/PDBParser.py:399: PDBConstructionWarning: Ignoring unrecognized record 'END' at line 3\n",
      "  PDBConstructionWarning,\n",
      "/home/acomajuncosa/programs/anaconda3/lib/python3.7/site-packages/Bio/PDB/PDBParser.py:399: PDBConstructionWarning: Ignoring unrecognized record 'END' at line 3\n",
      "  PDBConstructionWarning,\n",
      "/home/acomajuncosa/programs/anaconda3/lib/python3.7/site-packages/Bio/PDB/PDBParser.py:399: PDBConstructionWarning: Ignoring unrecognized record 'END' at line 3\n",
      "  PDBConstructionWarning,\n",
      "/home/acomajuncosa/programs/anaconda3/lib/python3.7/site-packages/Bio/PDB/PDBParser.py:399: PDBConstructionWarning: Ignoring unrecognized record 'END' at line 3\n",
      "  PDBConstructionWarning,\n",
      "/home/acomajuncosa/programs/anaconda3/lib/python3.7/site-packages/Bio/PDB/PDBParser.py:399: PDBConstructionWarning: Ignoring unrecognized record 'END' at line 3\n",
      "  PDBConstructionWarning,\n",
      "/home/acomajuncosa/programs/anaconda3/lib/python3.7/site-packages/Bio/PDB/PDBParser.py:399: PDBConstructionWarning: Ignoring unrecognized record 'END' at line 3\n",
      "  PDBConstructionWarning,\n",
      "/home/acomajuncosa/programs/anaconda3/lib/python3.7/site-packages/Bio/PDB/PDBParser.py:399: PDBConstructionWarning: Ignoring unrecognized record 'END' at line 3\n",
      "  PDBConstructionWarning,\n",
      "/home/acomajuncosa/programs/anaconda3/lib/python3.7/site-packages/Bio/PDB/PDBParser.py:399: PDBConstructionWarning: Ignoring unrecognized record 'END' at line 3\n",
      "  PDBConstructionWarning,\n",
      "/home/acomajuncosa/programs/anaconda3/lib/python3.7/site-packages/Bio/PDB/PDBParser.py:399: PDBConstructionWarning: Ignoring unrecognized record 'END' at line 3\n",
      "  PDBConstructionWarning,\n",
      "/home/acomajuncosa/programs/anaconda3/lib/python3.7/site-packages/Bio/PDB/PDBParser.py:399: PDBConstructionWarning: Ignoring unrecognized record 'END' at line 3\n",
      "  PDBConstructionWarning,\n",
      "/home/acomajuncosa/programs/anaconda3/lib/python3.7/site-packages/Bio/PDB/PDBParser.py:399: PDBConstructionWarning: Ignoring unrecognized record 'END' at line 3\n",
      "  PDBConstructionWarning,\n",
      "/home/acomajuncosa/programs/anaconda3/lib/python3.7/site-packages/Bio/PDB/PDBParser.py:399: PDBConstructionWarning: Ignoring unrecognized record 'END' at line 3\n",
      "  PDBConstructionWarning,\n",
      "/home/acomajuncosa/programs/anaconda3/lib/python3.7/site-packages/Bio/PDB/PDBParser.py:399: PDBConstructionWarning: Ignoring unrecognized record 'END' at line 3\n",
      "  PDBConstructionWarning,\n",
      "/home/acomajuncosa/programs/anaconda3/lib/python3.7/site-packages/Bio/PDB/PDBParser.py:399: PDBConstructionWarning: Ignoring unrecognized record 'END' at line 3\n",
      "  PDBConstructionWarning,\n",
      "/home/acomajuncosa/programs/anaconda3/lib/python3.7/site-packages/Bio/PDB/PDBParser.py:399: PDBConstructionWarning: Ignoring unrecognized record 'END' at line 3\n",
      "  PDBConstructionWarning,\n",
      "/home/acomajuncosa/programs/anaconda3/lib/python3.7/site-packages/Bio/PDB/PDBParser.py:399: PDBConstructionWarning: Ignoring unrecognized record 'END' at line 3\n",
      "  PDBConstructionWarning,\n",
      "/home/acomajuncosa/programs/anaconda3/lib/python3.7/site-packages/Bio/PDB/PDBParser.py:399: PDBConstructionWarning: Ignoring unrecognized record 'END' at line 3\n",
      "  PDBConstructionWarning,\n",
      "/home/acomajuncosa/programs/anaconda3/lib/python3.7/site-packages/Bio/PDB/PDBParser.py:399: PDBConstructionWarning: Ignoring unrecognized record 'END' at line 3\n",
      "  PDBConstructionWarning,\n",
      "/home/acomajuncosa/programs/anaconda3/lib/python3.7/site-packages/Bio/PDB/PDBParser.py:399: PDBConstructionWarning: Ignoring unrecognized record 'END' at line 3\n",
      "  PDBConstructionWarning,\n",
      "/home/acomajuncosa/programs/anaconda3/lib/python3.7/site-packages/Bio/PDB/PDBParser.py:399: PDBConstructionWarning: Ignoring unrecognized record 'END' at line 3\n",
      "  PDBConstructionWarning,\n",
      "/home/acomajuncosa/programs/anaconda3/lib/python3.7/site-packages/Bio/PDB/PDBParser.py:399: PDBConstructionWarning: Ignoring unrecognized record 'END' at line 3\n",
      "  PDBConstructionWarning,\n",
      "/home/acomajuncosa/programs/anaconda3/lib/python3.7/site-packages/Bio/PDB/PDBParser.py:399: PDBConstructionWarning: Ignoring unrecognized record 'END' at line 3\n",
      "  PDBConstructionWarning,\n",
      "/home/acomajuncosa/programs/anaconda3/lib/python3.7/site-packages/Bio/PDB/PDBParser.py:399: PDBConstructionWarning: Ignoring unrecognized record 'END' at line 3\n",
      "  PDBConstructionWarning,\n",
      "/home/acomajuncosa/programs/anaconda3/lib/python3.7/site-packages/Bio/PDB/PDBParser.py:399: PDBConstructionWarning: Ignoring unrecognized record 'END' at line 3\n",
      "  PDBConstructionWarning,\n",
      "/home/acomajuncosa/programs/anaconda3/lib/python3.7/site-packages/Bio/PDB/PDBParser.py:399: PDBConstructionWarning: Ignoring unrecognized record 'END' at line 3\n",
      "  PDBConstructionWarning,\n",
      "/home/acomajuncosa/programs/anaconda3/lib/python3.7/site-packages/Bio/PDB/PDBParser.py:399: PDBConstructionWarning: Ignoring unrecognized record 'END' at line 3\n",
      "  PDBConstructionWarning,\n",
      "/home/acomajuncosa/programs/anaconda3/lib/python3.7/site-packages/Bio/PDB/PDBParser.py:399: PDBConstructionWarning: Ignoring unrecognized record 'END' at line 3\n",
      "  PDBConstructionWarning,\n",
      "/home/acomajuncosa/programs/anaconda3/lib/python3.7/site-packages/Bio/PDB/PDBParser.py:399: PDBConstructionWarning: Ignoring unrecognized record 'END' at line 3\n",
      "  PDBConstructionWarning,\n",
      "/home/acomajuncosa/programs/anaconda3/lib/python3.7/site-packages/Bio/PDB/PDBParser.py:399: PDBConstructionWarning: Ignoring unrecognized record 'END' at line 3\n",
      "  PDBConstructionWarning,\n",
      "/home/acomajuncosa/programs/anaconda3/lib/python3.7/site-packages/Bio/PDB/PDBParser.py:399: PDBConstructionWarning: Ignoring unrecognized record 'END' at line 3\n",
      "  PDBConstructionWarning,\n",
      "/home/acomajuncosa/programs/anaconda3/lib/python3.7/site-packages/Bio/PDB/PDBParser.py:399: PDBConstructionWarning: Ignoring unrecognized record 'END' at line 3\n",
      "  PDBConstructionWarning,\n",
      "/home/acomajuncosa/programs/anaconda3/lib/python3.7/site-packages/Bio/PDB/PDBParser.py:399: PDBConstructionWarning: Ignoring unrecognized record 'END' at line 3\n",
      "  PDBConstructionWarning,\n",
      "/home/acomajuncosa/programs/anaconda3/lib/python3.7/site-packages/Bio/PDB/PDBParser.py:399: PDBConstructionWarning: Ignoring unrecognized record 'END' at line 3\n",
      "  PDBConstructionWarning,\n",
      "/home/acomajuncosa/programs/anaconda3/lib/python3.7/site-packages/Bio/PDB/PDBParser.py:399: PDBConstructionWarning: Ignoring unrecognized record 'END' at line 3\n",
      "  PDBConstructionWarning,\n",
      "/home/acomajuncosa/programs/anaconda3/lib/python3.7/site-packages/Bio/PDB/PDBParser.py:399: PDBConstructionWarning: Ignoring unrecognized record 'END' at line 3\n",
      "  PDBConstructionWarning,\n",
      "/home/acomajuncosa/programs/anaconda3/lib/python3.7/site-packages/Bio/PDB/PDBParser.py:399: PDBConstructionWarning: Ignoring unrecognized record 'END' at line 3\n",
      "  PDBConstructionWarning,\n",
      "/home/acomajuncosa/programs/anaconda3/lib/python3.7/site-packages/Bio/PDB/PDBParser.py:399: PDBConstructionWarning: Ignoring unrecognized record 'END' at line 3\n",
      "  PDBConstructionWarning,\n",
      "/home/acomajuncosa/programs/anaconda3/lib/python3.7/site-packages/Bio/PDB/PDBParser.py:399: PDBConstructionWarning: Ignoring unrecognized record 'END' at line 3\n",
      "  PDBConstructionWarning,\n",
      "/home/acomajuncosa/programs/anaconda3/lib/python3.7/site-packages/Bio/PDB/PDBParser.py:399: PDBConstructionWarning: Ignoring unrecognized record 'END' at line 3\n",
      "  PDBConstructionWarning,\n",
      "/home/acomajuncosa/programs/anaconda3/lib/python3.7/site-packages/Bio/PDB/PDBParser.py:399: PDBConstructionWarning: Ignoring unrecognized record 'END' at line 3\n",
      "  PDBConstructionWarning,\n",
      "/home/acomajuncosa/programs/anaconda3/lib/python3.7/site-packages/Bio/PDB/PDBParser.py:399: PDBConstructionWarning: Ignoring unrecognized record 'END' at line 3\n",
      "  PDBConstructionWarning,\n",
      "/home/acomajuncosa/programs/anaconda3/lib/python3.7/site-packages/Bio/PDB/PDBParser.py:399: PDBConstructionWarning: Ignoring unrecognized record 'END' at line 3\n",
      "  PDBConstructionWarning,\n",
      "/home/acomajuncosa/programs/anaconda3/lib/python3.7/site-packages/Bio/PDB/PDBParser.py:399: PDBConstructionWarning: Ignoring unrecognized record 'END' at line 3\n",
      "  PDBConstructionWarning,\n",
      "/home/acomajuncosa/programs/anaconda3/lib/python3.7/site-packages/Bio/PDB/PDBParser.py:399: PDBConstructionWarning: Ignoring unrecognized record 'END' at line 3\n",
      "  PDBConstructionWarning,\n",
      "/home/acomajuncosa/programs/anaconda3/lib/python3.7/site-packages/Bio/PDB/PDBParser.py:399: PDBConstructionWarning: Ignoring unrecognized record 'END' at line 3\n",
      "  PDBConstructionWarning,\n",
      "/home/acomajuncosa/programs/anaconda3/lib/python3.7/site-packages/Bio/PDB/PDBParser.py:399: PDBConstructionWarning: Ignoring unrecognized record 'END' at line 3\n",
      "  PDBConstructionWarning,\n",
      "/home/acomajuncosa/programs/anaconda3/lib/python3.7/site-packages/Bio/PDB/PDBParser.py:399: PDBConstructionWarning: Ignoring unrecognized record 'END' at line 3\n",
      "  PDBConstructionWarning,\n",
      "/home/acomajuncosa/programs/anaconda3/lib/python3.7/site-packages/Bio/PDB/PDBParser.py:399: PDBConstructionWarning: Ignoring unrecognized record 'END' at line 3\n",
      "  PDBConstructionWarning,\n",
      "/home/acomajuncosa/programs/anaconda3/lib/python3.7/site-packages/Bio/PDB/PDBParser.py:399: PDBConstructionWarning: Ignoring unrecognized record 'END' at line 3\n",
      "  PDBConstructionWarning,\n",
      "/home/acomajuncosa/programs/anaconda3/lib/python3.7/site-packages/Bio/PDB/PDBParser.py:399: PDBConstructionWarning: Ignoring unrecognized record 'END' at line 3\n",
      "  PDBConstructionWarning,\n",
      "/home/acomajuncosa/programs/anaconda3/lib/python3.7/site-packages/Bio/PDB/PDBParser.py:399: PDBConstructionWarning: Ignoring unrecognized record 'END' at line 3\n",
      "  PDBConstructionWarning,\n",
      "/home/acomajuncosa/programs/anaconda3/lib/python3.7/site-packages/Bio/PDB/PDBParser.py:399: PDBConstructionWarning: Ignoring unrecognized record 'END' at line 3\n",
      "  PDBConstructionWarning,\n",
      "/home/acomajuncosa/programs/anaconda3/lib/python3.7/site-packages/Bio/PDB/PDBParser.py:399: PDBConstructionWarning: Ignoring unrecognized record 'END' at line 3\n",
      "  PDBConstructionWarning,\n",
      "/home/acomajuncosa/programs/anaconda3/lib/python3.7/site-packages/Bio/PDB/PDBParser.py:399: PDBConstructionWarning: Ignoring unrecognized record 'END' at line 3\n",
      "  PDBConstructionWarning,\n",
      "/home/acomajuncosa/programs/anaconda3/lib/python3.7/site-packages/Bio/PDB/PDBParser.py:399: PDBConstructionWarning: Ignoring unrecognized record 'END' at line 3\n",
      "  PDBConstructionWarning,\n",
      "/home/acomajuncosa/programs/anaconda3/lib/python3.7/site-packages/Bio/PDB/PDBParser.py:399: PDBConstructionWarning: Ignoring unrecognized record 'END' at line 3\n",
      "  PDBConstructionWarning,\n",
      "/home/acomajuncosa/programs/anaconda3/lib/python3.7/site-packages/Bio/PDB/PDBParser.py:399: PDBConstructionWarning: Ignoring unrecognized record 'END' at line 3\n",
      "  PDBConstructionWarning,\n",
      "/home/acomajuncosa/programs/anaconda3/lib/python3.7/site-packages/Bio/PDB/PDBParser.py:399: PDBConstructionWarning: Ignoring unrecognized record 'END' at line 3\n",
      "  PDBConstructionWarning,\n",
      "/home/acomajuncosa/programs/anaconda3/lib/python3.7/site-packages/Bio/PDB/PDBParser.py:399: PDBConstructionWarning: Ignoring unrecognized record 'END' at line 3\n",
      "  PDBConstructionWarning,\n",
      "/home/acomajuncosa/programs/anaconda3/lib/python3.7/site-packages/Bio/PDB/PDBParser.py:399: PDBConstructionWarning: Ignoring unrecognized record 'END' at line 3\n",
      "  PDBConstructionWarning,\n",
      "/home/acomajuncosa/programs/anaconda3/lib/python3.7/site-packages/Bio/PDB/PDBParser.py:399: PDBConstructionWarning: Ignoring unrecognized record 'END' at line 3\n",
      "  PDBConstructionWarning,\n",
      "/home/acomajuncosa/programs/anaconda3/lib/python3.7/site-packages/Bio/PDB/PDBParser.py:399: PDBConstructionWarning: Ignoring unrecognized record 'END' at line 3\n",
      "  PDBConstructionWarning,\n",
      "/home/acomajuncosa/programs/anaconda3/lib/python3.7/site-packages/Bio/PDB/PDBParser.py:399: PDBConstructionWarning: Ignoring unrecognized record 'END' at line 3\n",
      "  PDBConstructionWarning,\n",
      "/home/acomajuncosa/programs/anaconda3/lib/python3.7/site-packages/Bio/PDB/PDBParser.py:399: PDBConstructionWarning: Ignoring unrecognized record 'END' at line 3\n",
      "  PDBConstructionWarning,\n",
      "/home/acomajuncosa/programs/anaconda3/lib/python3.7/site-packages/Bio/PDB/PDBParser.py:399: PDBConstructionWarning: Ignoring unrecognized record 'END' at line 3\n",
      "  PDBConstructionWarning,\n",
      "/home/acomajuncosa/programs/anaconda3/lib/python3.7/site-packages/Bio/PDB/PDBParser.py:399: PDBConstructionWarning: Ignoring unrecognized record 'END' at line 3\n",
      "  PDBConstructionWarning,\n",
      "/home/acomajuncosa/programs/anaconda3/lib/python3.7/site-packages/Bio/PDB/PDBParser.py:399: PDBConstructionWarning: Ignoring unrecognized record 'END' at line 3\n",
      "  PDBConstructionWarning,\n",
      "/home/acomajuncosa/programs/anaconda3/lib/python3.7/site-packages/Bio/PDB/PDBParser.py:399: PDBConstructionWarning: Ignoring unrecognized record 'END' at line 3\n",
      "  PDBConstructionWarning,\n",
      "/home/acomajuncosa/programs/anaconda3/lib/python3.7/site-packages/Bio/PDB/PDBParser.py:399: PDBConstructionWarning: Ignoring unrecognized record 'END' at line 3\n",
      "  PDBConstructionWarning,\n",
      "/home/acomajuncosa/programs/anaconda3/lib/python3.7/site-packages/Bio/PDB/PDBParser.py:399: PDBConstructionWarning: Ignoring unrecognized record 'END' at line 3\n",
      "  PDBConstructionWarning,\n",
      "/home/acomajuncosa/programs/anaconda3/lib/python3.7/site-packages/Bio/PDB/PDBParser.py:399: PDBConstructionWarning: Ignoring unrecognized record 'END' at line 3\n",
      "  PDBConstructionWarning,\n",
      "/home/acomajuncosa/programs/anaconda3/lib/python3.7/site-packages/Bio/PDB/PDBParser.py:399: PDBConstructionWarning: Ignoring unrecognized record 'END' at line 3\n",
      "  PDBConstructionWarning,\n",
      "/home/acomajuncosa/programs/anaconda3/lib/python3.7/site-packages/Bio/PDB/PDBParser.py:399: PDBConstructionWarning: Ignoring unrecognized record 'END' at line 3\n",
      "  PDBConstructionWarning,\n",
      "/home/acomajuncosa/programs/anaconda3/lib/python3.7/site-packages/Bio/PDB/PDBParser.py:399: PDBConstructionWarning: Ignoring unrecognized record 'END' at line 3\n",
      "  PDBConstructionWarning,\n",
      "/home/acomajuncosa/programs/anaconda3/lib/python3.7/site-packages/Bio/PDB/PDBParser.py:399: PDBConstructionWarning: Ignoring unrecognized record 'END' at line 3\n",
      "  PDBConstructionWarning,\n",
      "/home/acomajuncosa/programs/anaconda3/lib/python3.7/site-packages/Bio/PDB/PDBParser.py:399: PDBConstructionWarning: Ignoring unrecognized record 'END' at line 3\n",
      "  PDBConstructionWarning,\n",
      "/home/acomajuncosa/programs/anaconda3/lib/python3.7/site-packages/Bio/PDB/PDBParser.py:399: PDBConstructionWarning: Ignoring unrecognized record 'END' at line 3\n",
      "  PDBConstructionWarning,\n",
      "/home/acomajuncosa/programs/anaconda3/lib/python3.7/site-packages/Bio/PDB/PDBParser.py:399: PDBConstructionWarning: Ignoring unrecognized record 'END' at line 3\n",
      "  PDBConstructionWarning,\n",
      "/home/acomajuncosa/programs/anaconda3/lib/python3.7/site-packages/Bio/PDB/PDBParser.py:399: PDBConstructionWarning: Ignoring unrecognized record 'END' at line 3\n",
      "  PDBConstructionWarning,\n",
      "/home/acomajuncosa/programs/anaconda3/lib/python3.7/site-packages/Bio/PDB/PDBParser.py:399: PDBConstructionWarning: Ignoring unrecognized record 'END' at line 3\n",
      "  PDBConstructionWarning,\n",
      "/home/acomajuncosa/programs/anaconda3/lib/python3.7/site-packages/Bio/PDB/PDBParser.py:399: PDBConstructionWarning: Ignoring unrecognized record 'END' at line 3\n",
      "  PDBConstructionWarning,\n",
      "/home/acomajuncosa/programs/anaconda3/lib/python3.7/site-packages/Bio/PDB/PDBParser.py:399: PDBConstructionWarning: Ignoring unrecognized record 'END' at line 3\n",
      "  PDBConstructionWarning,\n",
      "/home/acomajuncosa/programs/anaconda3/lib/python3.7/site-packages/Bio/PDB/PDBParser.py:399: PDBConstructionWarning: Ignoring unrecognized record 'END' at line 3\n",
      "  PDBConstructionWarning,\n",
      "/home/acomajuncosa/programs/anaconda3/lib/python3.7/site-packages/Bio/PDB/PDBParser.py:399: PDBConstructionWarning: Ignoring unrecognized record 'END' at line 3\n",
      "  PDBConstructionWarning,\n",
      "/home/acomajuncosa/programs/anaconda3/lib/python3.7/site-packages/Bio/PDB/PDBParser.py:399: PDBConstructionWarning: Ignoring unrecognized record 'END' at line 3\n",
      "  PDBConstructionWarning,\n",
      "/home/acomajuncosa/programs/anaconda3/lib/python3.7/site-packages/Bio/PDB/PDBParser.py:399: PDBConstructionWarning: Ignoring unrecognized record 'END' at line 3\n",
      "  PDBConstructionWarning,\n",
      "/home/acomajuncosa/programs/anaconda3/lib/python3.7/site-packages/Bio/PDB/PDBParser.py:399: PDBConstructionWarning: Ignoring unrecognized record 'END' at line 3\n",
      "  PDBConstructionWarning,\n",
      "/home/acomajuncosa/programs/anaconda3/lib/python3.7/site-packages/Bio/PDB/PDBParser.py:399: PDBConstructionWarning: Ignoring unrecognized record 'END' at line 3\n",
      "  PDBConstructionWarning,\n",
      "/home/acomajuncosa/programs/anaconda3/lib/python3.7/site-packages/Bio/PDB/PDBParser.py:399: PDBConstructionWarning: Ignoring unrecognized record 'END' at line 3\n",
      "  PDBConstructionWarning,\n",
      "/home/acomajuncosa/programs/anaconda3/lib/python3.7/site-packages/Bio/PDB/PDBParser.py:399: PDBConstructionWarning: Ignoring unrecognized record 'END' at line 3\n",
      "  PDBConstructionWarning,\n",
      "/home/acomajuncosa/programs/anaconda3/lib/python3.7/site-packages/Bio/PDB/PDBParser.py:399: PDBConstructionWarning: Ignoring unrecognized record 'END' at line 3\n",
      "  PDBConstructionWarning,\n",
      "/home/acomajuncosa/programs/anaconda3/lib/python3.7/site-packages/Bio/PDB/PDBParser.py:399: PDBConstructionWarning: Ignoring unrecognized record 'END' at line 3\n",
      "  PDBConstructionWarning,\n",
      "/home/acomajuncosa/programs/anaconda3/lib/python3.7/site-packages/Bio/PDB/PDBParser.py:399: PDBConstructionWarning: Ignoring unrecognized record 'END' at line 3\n",
      "  PDBConstructionWarning,\n",
      "/home/acomajuncosa/programs/anaconda3/lib/python3.7/site-packages/Bio/PDB/PDBParser.py:399: PDBConstructionWarning: Ignoring unrecognized record 'END' at line 3\n",
      "  PDBConstructionWarning,\n",
      "/home/acomajuncosa/programs/anaconda3/lib/python3.7/site-packages/Bio/PDB/PDBParser.py:399: PDBConstructionWarning: Ignoring unrecognized record 'END' at line 3\n",
      "  PDBConstructionWarning,\n",
      "/home/acomajuncosa/programs/anaconda3/lib/python3.7/site-packages/Bio/PDB/PDBParser.py:399: PDBConstructionWarning: Ignoring unrecognized record 'END' at line 3\n",
      "  PDBConstructionWarning,\n",
      "/home/acomajuncosa/programs/anaconda3/lib/python3.7/site-packages/Bio/PDB/PDBParser.py:399: PDBConstructionWarning: Ignoring unrecognized record 'END' at line 3\n",
      "  PDBConstructionWarning,\n",
      "/home/acomajuncosa/programs/anaconda3/lib/python3.7/site-packages/Bio/PDB/PDBParser.py:399: PDBConstructionWarning: Ignoring unrecognized record 'END' at line 3\n",
      "  PDBConstructionWarning,\n",
      "/home/acomajuncosa/programs/anaconda3/lib/python3.7/site-packages/Bio/PDB/PDBParser.py:399: PDBConstructionWarning: Ignoring unrecognized record 'END' at line 3\n",
      "  PDBConstructionWarning,\n",
      "/home/acomajuncosa/programs/anaconda3/lib/python3.7/site-packages/Bio/PDB/PDBParser.py:399: PDBConstructionWarning: Ignoring unrecognized record 'END' at line 3\n",
      "  PDBConstructionWarning,\n",
      "/home/acomajuncosa/programs/anaconda3/lib/python3.7/site-packages/Bio/PDB/PDBParser.py:399: PDBConstructionWarning: Ignoring unrecognized record 'END' at line 3\n",
      "  PDBConstructionWarning,\n",
      "/home/acomajuncosa/programs/anaconda3/lib/python3.7/site-packages/Bio/PDB/PDBParser.py:399: PDBConstructionWarning: Ignoring unrecognized record 'END' at line 3\n",
      "  PDBConstructionWarning,\n",
      "/home/acomajuncosa/programs/anaconda3/lib/python3.7/site-packages/Bio/PDB/PDBParser.py:399: PDBConstructionWarning: Ignoring unrecognized record 'END' at line 3\n",
      "  PDBConstructionWarning,\n",
      "/home/acomajuncosa/programs/anaconda3/lib/python3.7/site-packages/Bio/PDB/PDBParser.py:399: PDBConstructionWarning: Ignoring unrecognized record 'END' at line 3\n",
      "  PDBConstructionWarning,\n",
      "/home/acomajuncosa/programs/anaconda3/lib/python3.7/site-packages/Bio/PDB/PDBParser.py:399: PDBConstructionWarning: Ignoring unrecognized record 'END' at line 3\n",
      "  PDBConstructionWarning,\n",
      "/home/acomajuncosa/programs/anaconda3/lib/python3.7/site-packages/Bio/PDB/PDBParser.py:399: PDBConstructionWarning: Ignoring unrecognized record 'END' at line 3\n",
      "  PDBConstructionWarning,\n",
      "/home/acomajuncosa/programs/anaconda3/lib/python3.7/site-packages/Bio/PDB/PDBParser.py:399: PDBConstructionWarning: Ignoring unrecognized record 'END' at line 3\n",
      "  PDBConstructionWarning,\n",
      "/home/acomajuncosa/programs/anaconda3/lib/python3.7/site-packages/Bio/PDB/PDBParser.py:399: PDBConstructionWarning: Ignoring unrecognized record 'END' at line 3\n",
      "  PDBConstructionWarning,\n",
      "/home/acomajuncosa/programs/anaconda3/lib/python3.7/site-packages/Bio/PDB/PDBParser.py:399: PDBConstructionWarning: Ignoring unrecognized record 'END' at line 3\n",
      "  PDBConstructionWarning,\n",
      "/home/acomajuncosa/programs/anaconda3/lib/python3.7/site-packages/Bio/PDB/PDBParser.py:399: PDBConstructionWarning: Ignoring unrecognized record 'END' at line 3\n",
      "  PDBConstructionWarning,\n",
      "/home/acomajuncosa/programs/anaconda3/lib/python3.7/site-packages/Bio/PDB/PDBParser.py:399: PDBConstructionWarning: Ignoring unrecognized record 'END' at line 3\n",
      "  PDBConstructionWarning,\n",
      "/home/acomajuncosa/programs/anaconda3/lib/python3.7/site-packages/Bio/PDB/PDBParser.py:399: PDBConstructionWarning: Ignoring unrecognized record 'END' at line 3\n",
      "  PDBConstructionWarning,\n",
      "/home/acomajuncosa/programs/anaconda3/lib/python3.7/site-packages/Bio/PDB/PDBParser.py:399: PDBConstructionWarning: Ignoring unrecognized record 'END' at line 3\n",
      "  PDBConstructionWarning,\n",
      "/home/acomajuncosa/programs/anaconda3/lib/python3.7/site-packages/Bio/PDB/PDBParser.py:399: PDBConstructionWarning: Ignoring unrecognized record 'END' at line 3\n",
      "  PDBConstructionWarning,\n",
      "/home/acomajuncosa/programs/anaconda3/lib/python3.7/site-packages/Bio/PDB/PDBParser.py:399: PDBConstructionWarning: Ignoring unrecognized record 'END' at line 3\n",
      "  PDBConstructionWarning,\n",
      "/home/acomajuncosa/programs/anaconda3/lib/python3.7/site-packages/Bio/PDB/PDBParser.py:399: PDBConstructionWarning: Ignoring unrecognized record 'END' at line 3\n",
      "  PDBConstructionWarning,\n",
      "/home/acomajuncosa/programs/anaconda3/lib/python3.7/site-packages/Bio/PDB/PDBParser.py:399: PDBConstructionWarning: Ignoring unrecognized record 'END' at line 3\n",
      "  PDBConstructionWarning,\n",
      "/home/acomajuncosa/programs/anaconda3/lib/python3.7/site-packages/Bio/PDB/PDBParser.py:399: PDBConstructionWarning: Ignoring unrecognized record 'END' at line 3\n",
      "  PDBConstructionWarning,\n",
      "/home/acomajuncosa/programs/anaconda3/lib/python3.7/site-packages/Bio/PDB/PDBParser.py:399: PDBConstructionWarning: Ignoring unrecognized record 'END' at line 3\n",
      "  PDBConstructionWarning,\n",
      "/home/acomajuncosa/programs/anaconda3/lib/python3.7/site-packages/Bio/PDB/PDBParser.py:399: PDBConstructionWarning: Ignoring unrecognized record 'END' at line 3\n",
      "  PDBConstructionWarning,\n",
      "/home/acomajuncosa/programs/anaconda3/lib/python3.7/site-packages/Bio/PDB/PDBParser.py:399: PDBConstructionWarning: Ignoring unrecognized record 'END' at line 3\n",
      "  PDBConstructionWarning,\n",
      "/home/acomajuncosa/programs/anaconda3/lib/python3.7/site-packages/Bio/PDB/PDBParser.py:399: PDBConstructionWarning: Ignoring unrecognized record 'END' at line 3\n",
      "  PDBConstructionWarning,\n",
      "/home/acomajuncosa/programs/anaconda3/lib/python3.7/site-packages/Bio/PDB/PDBParser.py:399: PDBConstructionWarning: Ignoring unrecognized record 'END' at line 3\n",
      "  PDBConstructionWarning,\n",
      "/home/acomajuncosa/programs/anaconda3/lib/python3.7/site-packages/Bio/PDB/PDBParser.py:399: PDBConstructionWarning: Ignoring unrecognized record 'END' at line 3\n",
      "  PDBConstructionWarning,\n",
      "/home/acomajuncosa/programs/anaconda3/lib/python3.7/site-packages/Bio/PDB/PDBParser.py:399: PDBConstructionWarning: Ignoring unrecognized record 'END' at line 3\n",
      "  PDBConstructionWarning,\n",
      "/home/acomajuncosa/programs/anaconda3/lib/python3.7/site-packages/Bio/PDB/PDBParser.py:399: PDBConstructionWarning: Ignoring unrecognized record 'END' at line 3\n",
      "  PDBConstructionWarning,\n",
      "/home/acomajuncosa/programs/anaconda3/lib/python3.7/site-packages/Bio/PDB/PDBParser.py:399: PDBConstructionWarning: Ignoring unrecognized record 'END' at line 3\n",
      "  PDBConstructionWarning,\n",
      "/home/acomajuncosa/programs/anaconda3/lib/python3.7/site-packages/Bio/PDB/PDBParser.py:399: PDBConstructionWarning: Ignoring unrecognized record 'END' at line 3\n",
      "  PDBConstructionWarning,\n",
      "/home/acomajuncosa/programs/anaconda3/lib/python3.7/site-packages/Bio/PDB/PDBParser.py:399: PDBConstructionWarning: Ignoring unrecognized record 'END' at line 3\n",
      "  PDBConstructionWarning,\n",
      "/home/acomajuncosa/programs/anaconda3/lib/python3.7/site-packages/Bio/PDB/PDBParser.py:399: PDBConstructionWarning: Ignoring unrecognized record 'END' at line 3\n",
      "  PDBConstructionWarning,\n",
      "/home/acomajuncosa/programs/anaconda3/lib/python3.7/site-packages/Bio/PDB/PDBParser.py:399: PDBConstructionWarning: Ignoring unrecognized record 'END' at line 3\n",
      "  PDBConstructionWarning,\n",
      "/home/acomajuncosa/programs/anaconda3/lib/python3.7/site-packages/Bio/PDB/PDBParser.py:399: PDBConstructionWarning: Ignoring unrecognized record 'END' at line 3\n",
      "  PDBConstructionWarning,\n",
      "/home/acomajuncosa/programs/anaconda3/lib/python3.7/site-packages/Bio/PDB/PDBParser.py:399: PDBConstructionWarning: Ignoring unrecognized record 'END' at line 3\n",
      "  PDBConstructionWarning,\n",
      "/home/acomajuncosa/programs/anaconda3/lib/python3.7/site-packages/Bio/PDB/PDBParser.py:399: PDBConstructionWarning: Ignoring unrecognized record 'END' at line 3\n",
      "  PDBConstructionWarning,\n",
      "/home/acomajuncosa/programs/anaconda3/lib/python3.7/site-packages/Bio/PDB/PDBParser.py:399: PDBConstructionWarning: Ignoring unrecognized record 'END' at line 3\n",
      "  PDBConstructionWarning,\n",
      "/home/acomajuncosa/programs/anaconda3/lib/python3.7/site-packages/Bio/PDB/PDBParser.py:399: PDBConstructionWarning: Ignoring unrecognized record 'END' at line 3\n",
      "  PDBConstructionWarning,\n",
      "/home/acomajuncosa/programs/anaconda3/lib/python3.7/site-packages/Bio/PDB/PDBParser.py:399: PDBConstructionWarning: Ignoring unrecognized record 'END' at line 3\n",
      "  PDBConstructionWarning,\n",
      "/home/acomajuncosa/programs/anaconda3/lib/python3.7/site-packages/Bio/PDB/PDBParser.py:399: PDBConstructionWarning: Ignoring unrecognized record 'END' at line 3\n",
      "  PDBConstructionWarning,\n",
      "/home/acomajuncosa/programs/anaconda3/lib/python3.7/site-packages/Bio/PDB/PDBParser.py:399: PDBConstructionWarning: Ignoring unrecognized record 'END' at line 3\n",
      "  PDBConstructionWarning,\n",
      "/home/acomajuncosa/programs/anaconda3/lib/python3.7/site-packages/Bio/PDB/PDBParser.py:399: PDBConstructionWarning: Ignoring unrecognized record 'END' at line 3\n",
      "  PDBConstructionWarning,\n",
      "/home/acomajuncosa/programs/anaconda3/lib/python3.7/site-packages/Bio/PDB/PDBParser.py:399: PDBConstructionWarning: Ignoring unrecognized record 'END' at line 3\n",
      "  PDBConstructionWarning,\n",
      "/home/acomajuncosa/programs/anaconda3/lib/python3.7/site-packages/Bio/PDB/PDBParser.py:399: PDBConstructionWarning: Ignoring unrecognized record 'END' at line 3\n",
      "  PDBConstructionWarning,\n",
      "/home/acomajuncosa/programs/anaconda3/lib/python3.7/site-packages/Bio/PDB/PDBParser.py:399: PDBConstructionWarning: Ignoring unrecognized record 'END' at line 3\n",
      "  PDBConstructionWarning,\n",
      "/home/acomajuncosa/programs/anaconda3/lib/python3.7/site-packages/Bio/PDB/PDBParser.py:399: PDBConstructionWarning: Ignoring unrecognized record 'END' at line 3\n",
      "  PDBConstructionWarning,\n",
      "/home/acomajuncosa/programs/anaconda3/lib/python3.7/site-packages/Bio/PDB/PDBParser.py:399: PDBConstructionWarning: Ignoring unrecognized record 'END' at line 3\n",
      "  PDBConstructionWarning,\n",
      "/home/acomajuncosa/programs/anaconda3/lib/python3.7/site-packages/Bio/PDB/PDBParser.py:399: PDBConstructionWarning: Ignoring unrecognized record 'END' at line 3\n",
      "  PDBConstructionWarning,\n",
      "/home/acomajuncosa/programs/anaconda3/lib/python3.7/site-packages/Bio/PDB/PDBParser.py:399: PDBConstructionWarning: Ignoring unrecognized record 'END' at line 3\n",
      "  PDBConstructionWarning,\n",
      "/home/acomajuncosa/programs/anaconda3/lib/python3.7/site-packages/Bio/PDB/PDBParser.py:399: PDBConstructionWarning: Ignoring unrecognized record 'END' at line 3\n",
      "  PDBConstructionWarning,\n",
      "/home/acomajuncosa/programs/anaconda3/lib/python3.7/site-packages/Bio/PDB/PDBParser.py:399: PDBConstructionWarning: Ignoring unrecognized record 'END' at line 3\n",
      "  PDBConstructionWarning,\n",
      "/home/acomajuncosa/programs/anaconda3/lib/python3.7/site-packages/Bio/PDB/PDBParser.py:399: PDBConstructionWarning: Ignoring unrecognized record 'END' at line 3\n",
      "  PDBConstructionWarning,\n",
      "/home/acomajuncosa/programs/anaconda3/lib/python3.7/site-packages/Bio/PDB/PDBParser.py:399: PDBConstructionWarning: Ignoring unrecognized record 'END' at line 3\n",
      "  PDBConstructionWarning,\n",
      "/home/acomajuncosa/programs/anaconda3/lib/python3.7/site-packages/Bio/PDB/PDBParser.py:399: PDBConstructionWarning: Ignoring unrecognized record 'END' at line 3\n",
      "  PDBConstructionWarning,\n",
      "/home/acomajuncosa/programs/anaconda3/lib/python3.7/site-packages/Bio/PDB/PDBParser.py:399: PDBConstructionWarning: Ignoring unrecognized record 'END' at line 3\n",
      "  PDBConstructionWarning,\n",
      "/home/acomajuncosa/programs/anaconda3/lib/python3.7/site-packages/Bio/PDB/PDBParser.py:399: PDBConstructionWarning: Ignoring unrecognized record 'END' at line 3\n",
      "  PDBConstructionWarning,\n",
      "/home/acomajuncosa/programs/anaconda3/lib/python3.7/site-packages/Bio/PDB/PDBParser.py:399: PDBConstructionWarning: Ignoring unrecognized record 'END' at line 3\n",
      "  PDBConstructionWarning,\n",
      "/home/acomajuncosa/programs/anaconda3/lib/python3.7/site-packages/Bio/PDB/PDBParser.py:399: PDBConstructionWarning: Ignoring unrecognized record 'END' at line 3\n",
      "  PDBConstructionWarning,\n",
      "/home/acomajuncosa/programs/anaconda3/lib/python3.7/site-packages/Bio/PDB/PDBParser.py:399: PDBConstructionWarning: Ignoring unrecognized record 'END' at line 3\n",
      "  PDBConstructionWarning,\n",
      "/home/acomajuncosa/programs/anaconda3/lib/python3.7/site-packages/Bio/PDB/PDBParser.py:399: PDBConstructionWarning: Ignoring unrecognized record 'END' at line 3\n",
      "  PDBConstructionWarning,\n",
      "/home/acomajuncosa/programs/anaconda3/lib/python3.7/site-packages/Bio/PDB/PDBParser.py:399: PDBConstructionWarning: Ignoring unrecognized record 'END' at line 3\n",
      "  PDBConstructionWarning,\n",
      "/home/acomajuncosa/programs/anaconda3/lib/python3.7/site-packages/Bio/PDB/PDBParser.py:399: PDBConstructionWarning: Ignoring unrecognized record 'END' at line 3\n",
      "  PDBConstructionWarning,\n",
      "/home/acomajuncosa/programs/anaconda3/lib/python3.7/site-packages/Bio/PDB/PDBParser.py:399: PDBConstructionWarning: Ignoring unrecognized record 'END' at line 3\n",
      "  PDBConstructionWarning,\n",
      "/home/acomajuncosa/programs/anaconda3/lib/python3.7/site-packages/Bio/PDB/PDBParser.py:399: PDBConstructionWarning: Ignoring unrecognized record 'END' at line 3\n",
      "  PDBConstructionWarning,\n",
      "/home/acomajuncosa/programs/anaconda3/lib/python3.7/site-packages/Bio/PDB/PDBParser.py:399: PDBConstructionWarning: Ignoring unrecognized record 'END' at line 3\n",
      "  PDBConstructionWarning,\n",
      "/home/acomajuncosa/programs/anaconda3/lib/python3.7/site-packages/Bio/PDB/PDBParser.py:399: PDBConstructionWarning: Ignoring unrecognized record 'END' at line 3\n",
      "  PDBConstructionWarning,\n",
      "/home/acomajuncosa/programs/anaconda3/lib/python3.7/site-packages/Bio/PDB/PDBParser.py:399: PDBConstructionWarning: Ignoring unrecognized record 'END' at line 3\n",
      "  PDBConstructionWarning,\n",
      "/home/acomajuncosa/programs/anaconda3/lib/python3.7/site-packages/Bio/PDB/PDBParser.py:399: PDBConstructionWarning: Ignoring unrecognized record 'END' at line 3\n",
      "  PDBConstructionWarning,\n",
      "/home/acomajuncosa/programs/anaconda3/lib/python3.7/site-packages/Bio/PDB/PDBParser.py:399: PDBConstructionWarning: Ignoring unrecognized record 'END' at line 3\n",
      "  PDBConstructionWarning,\n",
      "/home/acomajuncosa/programs/anaconda3/lib/python3.7/site-packages/Bio/PDB/PDBParser.py:399: PDBConstructionWarning: Ignoring unrecognized record 'END' at line 3\n",
      "  PDBConstructionWarning,\n",
      "/home/acomajuncosa/programs/anaconda3/lib/python3.7/site-packages/Bio/PDB/PDBParser.py:399: PDBConstructionWarning: Ignoring unrecognized record 'END' at line 3\n",
      "  PDBConstructionWarning,\n",
      "/home/acomajuncosa/programs/anaconda3/lib/python3.7/site-packages/Bio/PDB/PDBParser.py:399: PDBConstructionWarning: Ignoring unrecognized record 'END' at line 3\n",
      "  PDBConstructionWarning,\n",
      "/home/acomajuncosa/programs/anaconda3/lib/python3.7/site-packages/Bio/PDB/PDBParser.py:399: PDBConstructionWarning: Ignoring unrecognized record 'END' at line 3\n",
      "  PDBConstructionWarning,\n",
      "/home/acomajuncosa/programs/anaconda3/lib/python3.7/site-packages/Bio/PDB/PDBParser.py:399: PDBConstructionWarning: Ignoring unrecognized record 'END' at line 3\n",
      "  PDBConstructionWarning,\n",
      "/home/acomajuncosa/programs/anaconda3/lib/python3.7/site-packages/Bio/PDB/PDBParser.py:399: PDBConstructionWarning: Ignoring unrecognized record 'END' at line 3\n",
      "  PDBConstructionWarning,\n",
      "/home/acomajuncosa/programs/anaconda3/lib/python3.7/site-packages/Bio/PDB/PDBParser.py:399: PDBConstructionWarning: Ignoring unrecognized record 'END' at line 3\n",
      "  PDBConstructionWarning,\n",
      "/home/acomajuncosa/programs/anaconda3/lib/python3.7/site-packages/Bio/PDB/PDBParser.py:399: PDBConstructionWarning: Ignoring unrecognized record 'END' at line 3\n",
      "  PDBConstructionWarning,\n",
      "/home/acomajuncosa/programs/anaconda3/lib/python3.7/site-packages/Bio/PDB/PDBParser.py:399: PDBConstructionWarning: Ignoring unrecognized record 'END' at line 3\n",
      "  PDBConstructionWarning,\n",
      "/home/acomajuncosa/programs/anaconda3/lib/python3.7/site-packages/Bio/PDB/PDBParser.py:399: PDBConstructionWarning: Ignoring unrecognized record 'END' at line 3\n",
      "  PDBConstructionWarning,\n",
      "/home/acomajuncosa/programs/anaconda3/lib/python3.7/site-packages/Bio/PDB/PDBParser.py:399: PDBConstructionWarning: Ignoring unrecognized record 'END' at line 3\n",
      "  PDBConstructionWarning,\n"
     ]
    }
   ],
   "source": [
    "### 3. MAKE STRUCTURAL SUPERPOSITIONS\n",
    "\n",
    "# Structural superposition against ref (st2)\n",
    "for structure in structures:\n",
    "    \n",
    "    pdb = structure.split(\"_\")[0]\n",
    "    chain = structure.split(\"_\")[1]\n",
    "    ligand = structure.split(\"_\")[2]\n",
    "    count = structure.split(\"_\")[3]\n",
    "    \n",
    "    st1 = \"_\".join(structure.split(\"_\")[:-1])\n",
    "    count = structure.split(\"_\")[-1]\n",
    "    \n",
    "    # Superpose using TM-align\n",
    "    command = '/aloy/home/acomajuncosa/programs/TM_align/TMalign ' + os.path.join(outpath, st1, st1 + '.pdb') + ' ' + os.path.join(outpath, ref_structure, ref_structure + '.pdb') + ' -m ' + os.path.join(mtx_path, ref_structure + \"_\" + st1 + \".txt\")\n",
    "    os.system(command)\n",
    "    \n",
    "\n",
    "    t, u = read_mtx(os.path.join(mtx_path, ref_structure + \"_\" + st1 + \".txt\"))\n",
    "\n",
    "\n",
    "    # Protein\n",
    "    structure = PDBParser().get_structure(\"st\", os.path.join(outpath, st1, st1 + \".pdb\"))[0]\n",
    "    for atom in structure.get_atoms():\n",
    "        #atom.transform(rotation_matrix, translation_matrix)\n",
    "        x0, y0, z0 = atom.get_coord()[0], atom.get_coord()[1], atom.get_coord()[2]\n",
    "        x = t[0] + u[0][0]*x0 + u[0][1]*y0 + u[0][2]*z0\n",
    "        y = t[1] + u[1][0]*x0 + u[1][1]*y0 + u[1][2]*z0\n",
    "        z = t[2] + u[2][0]*x0 + u[2][1]*y0 + u[2][2]*z0\n",
    "        atom.coord = np.array([x, y, z])\n",
    "    io = PDBIO()\n",
    "    io.set_structure(structure)\n",
    "    io.save(os.path.join(outpath, st1, st1 + '_aligned.pdb'))\n",
    "\n",
    "    label = \"_\".join([pdb, chain, ligand])\n",
    "    lig = ligand + \"_\" + count\n",
    "    ctr = ligand + \"_\" + count + \"_centroid\"\n",
    "\n",
    "    shutil.copyfile(os.path.join(outpath, st1, st1 + '_aligned.pdb'), os.path.join(path_to_aligned_sts, st1 + '_aligned.pdb'))\n",
    "    \n",
    "    \n",
    "    # Centroid\n",
    "    structure = PDBParser().get_structure(\"st\", os.path.join(outpath, st1, ctr + \".pdb\"))\n",
    "    for atom in structure.get_atoms():\n",
    "        # atom.transform(rotation_matrix, translation_matrix)\n",
    "        x0, y0, z0 = atom.get_coord()[0], atom.get_coord()[1], atom.get_coord()[2]\n",
    "        x = t[0] + u[0][0]*x0 + u[0][1]*y0 + u[0][2]*z0\n",
    "        y = t[1] + u[1][0]*x0 + u[1][1]*y0 + u[1][2]*z0\n",
    "        z = t[2] + u[2][0]*x0 + u[2][1]*y0 + u[2][2]*z0\n",
    "        atom.coord = np.array([x, y, z])\n",
    "    io = PDBIO()\n",
    "    io.set_structure(structure)\n",
    "    io.save(os.path.join(outpath, st1, ctr + '_aligned.pdb'))\n",
    "    shutil.copyfile(os.path.join(outpath, st1, ctr + '_aligned.pdb'), os.path.join(vis_path, \"CTR_\" + st1 + \"_\" + \"_\".join(ctr.split(\"_\")[1:]) + \".pdb\"))\n",
    "\n"
   ]
  },
  {
   "cell_type": "code",
   "execution_count": 369,
   "id": "e45292d7-0714-45f3-9e6c-a02bc7c97c51",
   "metadata": {},
   "outputs": [],
   "source": [
    "### 4. READ THE COORDINATES FROM ALL CENTROIDS \n",
    "\n",
    "labs, coords = [], []\n",
    "\n",
    "for file in sorted(os.listdir(vis_path)):\n",
    "    if \"centroid\" in file and \"REFERENCE\" not in file:\n",
    "        labs.append(file)\n",
    "        coord = get_3d_points(os.path.join(vis_path, file))\n",
    "        coords.append([coord[0], coord[1], coord[2]])\n",
    "\n",
    "coords = np.array(coords)\n",
    "coords_ = list(coords)\n",
    "labs = np.array(labs)"
   ]
  },
  {
   "cell_type": "code",
   "execution_count": 374,
   "id": "1ec52535-0d03-42e7-8b2e-6fba3b563fab",
   "metadata": {},
   "outputs": [],
   "source": [
    "def check_cond2(cluster_points, max_centroid):\n",
    "    # Get new centroid\n",
    "    ctr = calculate_centroid(cluster_points)\n",
    "    dist = max(pairwise_distances(ctr.reshape(1, -1), cluster_points)[0])\n",
    "    return dist < max_centroid\n",
    "\n",
    "def get_min_dist_between_clusters(points1, points2):\n",
    "    return min([j for i in pairwise_distances(points1, points2) for j in i])\n",
    "\n",
    "def calculate_centroid(arr):\n",
    "    arr = np.array(arr)\n",
    "    length = arr.shape[0]\n",
    "    sum_x = np.sum(arr[:, 0])\n",
    "    sum_y = np.sum(arr[:, 1])\n",
    "    sum_z = np.sum(arr[:, 2])\n",
    "    return np.array([sum_x/length, sum_y/length, sum_z/length])\n",
    "\n",
    "\n",
    "# coords = coords_\n",
    "def clustering(coords, min_newpoint, max_centroid):\n",
    "\n",
    "    # Get info\n",
    "    coords = {i: j for i, j in zip(range(len(coords)), coords)}\n",
    "    # clusters = {i: j.reshape(1, -1) for i, j in zip(range(len(coords)), coords)}\n",
    "    real_clusters = {}\n",
    "    clust_gen = True\n",
    "    clust_count = -1\n",
    "\n",
    "    while clust_gen and len([i for i in coords if i not in real_clusters]) > 1:\n",
    "\n",
    "        # Get minimum distance between points\n",
    "        labels = [i for i in coords if i not in real_clusters]\n",
    "        distances = pairwise_distances([coords[i] for i in coords if i not in real_clusters])\n",
    "        mindist = {}\n",
    "        for c1, row in zip(labels, distances):\n",
    "            for c2, dist in zip(labels, row):\n",
    "                c1, c2 = str(c1), str(c2)\n",
    "                if c1 + \"_\" + c2 not in mindist and c2 + \"_\" + c1 not in mindist and c1 != c2:\n",
    "                    mindist[c1 + \"_\" + c2] = dist\n",
    "\n",
    "        # Get the first centroid\n",
    "        minimum = sorted(mindist, key=lambda x: mindist[x])[0]\n",
    "        # print(mindist[minimum], clust_count+1)\n",
    "        # print(clust_gen, cont)\n",
    "\n",
    "        if mindist[minimum] < min_newpoint:\n",
    "            #print(\"in!\")\n",
    "            clust_count += 1\n",
    "            real_clusters[int(minimum.split(\"_\")[0])] = clust_count\n",
    "            real_clusters[int(minimum.split(\"_\")[1])] = clust_count\n",
    "            if len([i for i in coords if i not in real_clusters]) > 0:\n",
    "                clust_gen = True\n",
    "                cont = True\n",
    "            else:\n",
    "                clust_gen = False\n",
    "                cont = False\n",
    "\n",
    "        else:\n",
    "            clust_gen = False\n",
    "            cont = False\n",
    "\n",
    "        while cont == True and len([i for i in coords if i not in real_clusters]) > 0:\n",
    "\n",
    "            cluster_points = np.array([coords[i] for i in real_clusters if real_clusters[i] == clust_count])\n",
    "            cluster_labels = np.array([i for i in real_clusters if real_clusters[i] == clust_count])\n",
    "            centroid = calculate_centroid(cluster_points)\n",
    "\n",
    "            ### Increase cluster\n",
    "            # Get the min external point to cluster points\n",
    "            increasing = {}\n",
    "            labels = np.array([i for i in coords if i not in real_clusters])\n",
    "            for cluster_label, cluster_point in zip(cluster_labels, cluster_points):\n",
    "                dist = pairwise_distances(cluster_point.reshape(1, -1), [coords[i] for i in coords if i not in real_clusters])[0]\n",
    "                ind = dist.argmin()\n",
    "                increasing[cluster_label] = [dist[ind], labels[ind]]\n",
    "\n",
    "\n",
    "            increasing = np.array([increasing[i] for i in increasing])\n",
    "            dist, lab = increasing[:,0], increasing[:,1]\n",
    "            ind = dist.argmin()\n",
    "            dist, lab = dist[ind], int(lab[ind])\n",
    "\n",
    "            # Check condition 1 // cond1\n",
    "            if dist < min_newpoint:\n",
    "                cond1 = True\n",
    "            else:\n",
    "                cond1 = False\n",
    "\n",
    "\n",
    "            # Check condition 2 // cond2\n",
    "            if cond1 == True:\n",
    "                cluster_points_check = np.array([list(coords[i]) for i in real_clusters if real_clusters[i] == clust_count] + [list(coords[lab])])\n",
    "                cond2 = check_cond2(cluster_points_check, max_centroid)\n",
    "\n",
    "            if cond1 == True and cond2 == True:\n",
    "                real_clusters[lab] = clust_count\n",
    "            else:\n",
    "                cont = False\n",
    "\n",
    "    return real_clusters, clust_count\n",
    "\n",
    "\n",
    "\n",
    "def assign_outliers(clust_count, real_clusters, coords):        \n",
    "\n",
    "    clust_count += 1\n",
    "    coords = {i: j for i, j in zip(range(len(coords)), coords)}\n",
    "\n",
    "    for i in sorted(coords):\n",
    "        if i not in real_clusters:\n",
    "            real_clusters[i] = clust_count\n",
    "            clust_count += 1\n",
    "            \n",
    "    return real_clusters\n",
    "\n",
    "\n",
    "\n",
    "def pretty_clusters(real_clusters, vis_path, path_to_reports):\n",
    "    \n",
    "    clst = {}\n",
    "\n",
    "    for numb_cluster in set(sorted([real_clusters[i] for i in real_clusters])):\n",
    "        for st in real_clusters:\n",
    "            if real_clusters[st] == numb_cluster:\n",
    "                clst[labs[st]] = numb_cluster\n",
    "                \n",
    "    # Pretty print\n",
    "    for cluster in sorted(set([real_clusters[i] for i in real_clusters])):\n",
    "        with open(os.path.join(vis_path, \"cluster_\" + str(cluster) + \".pdb\"), \"w\") as f:\n",
    "            f.write(\"HEADER\\n\")\n",
    "            for lab in clst:\n",
    "                if clst[lab] == cluster:\n",
    "                    l = get_line_point(os.path.join(vis_path, lab))\n",
    "                    f.write(l)\n",
    "            f.write(\"END\")\n",
    "\n",
    "    # Print report(s)\n",
    "    with open(os.path.join(path_to_reports, uniprot + \".tsv\"), \"w\") as f:\n",
    "        f.write(\"\\n\".join([\"\\t\".join([i,str(clst[i])]) for i in clst]))\n",
    "\n",
    "    report = {i:clst[i] for i in clst}\n",
    "    pickle.dump(report, open(os.path.join(path_to_reports, uniprot + \".pkl\"), \"wb\"))"
   ]
  },
  {
   "cell_type": "code",
   "execution_count": 380,
   "id": "06337370-0174-470b-8def-b7d3fb7278e3",
   "metadata": {
    "tags": []
   },
   "outputs": [],
   "source": [
    "min_newpoint = 5\n",
    "max_centroid = 18\n",
    "\n",
    "if len(coords) > 1:\n",
    "\n",
    "    real_clusters, clust_count = clustering(coords, min_newpoint, max_centroid)\n",
    "    real_clusters = assign_outliers(clust_count, real_clusters, coords)\n",
    "    pretty_clusters(real_clusters, vis_path, path_to_reports)\n",
    "\n",
    "else:\n",
    "    real_clusters = {}\n",
    "    real_clusters[0] = 0\n",
    "    pretty_clusters(real_clusters, vis_path, path_to_reports)"
   ]
  },
  {
   "cell_type": "code",
   "execution_count": 328,
   "id": "e3ee7b68-8301-45bd-ae57-b114eb86716b",
   "metadata": {
    "tags": []
   },
   "outputs": [],
   "source": []
  },
  {
   "cell_type": "code",
   "execution_count": 138,
   "id": "68db5e78-2fd8-4136-a24c-9b0aa55b1598",
   "metadata": {},
   "outputs": [],
   "source": []
  },
  {
   "cell_type": "code",
   "execution_count": 157,
   "id": "4edb35f3-2c95-481c-a7fd-bfd93b745b44",
   "metadata": {},
   "outputs": [],
   "source": []
  },
  {
   "cell_type": "code",
   "execution_count": 93,
   "id": "17c4fab9-3504-4c53-be7f-37041c5e3bbd",
   "metadata": {},
   "outputs": [],
   "source": []
  },
  {
   "cell_type": "code",
   "execution_count": null,
   "id": "13fadcac-2f7a-4732-b02c-66c14c8a8907",
   "metadata": {},
   "outputs": [],
   "source": []
  },
  {
   "cell_type": "code",
   "execution_count": null,
   "id": "17d7d64f-a605-4903-beef-6ec82d99aa43",
   "metadata": {},
   "outputs": [],
   "source": []
  },
  {
   "cell_type": "code",
   "execution_count": null,
   "id": "bd7032c3-509d-477d-841b-aef89891716c",
   "metadata": {},
   "outputs": [],
   "source": []
  },
  {
   "cell_type": "code",
   "execution_count": null,
   "id": "b2460b36-2497-4d98-ae6d-127627015dc4",
   "metadata": {},
   "outputs": [],
   "source": []
  },
  {
   "cell_type": "code",
   "execution_count": null,
   "id": "95971477-457e-4f9b-8845-6f9a86f95b68",
   "metadata": {},
   "outputs": [],
   "source": []
  },
  {
   "cell_type": "code",
   "execution_count": null,
   "id": "6ffcfe58-5498-48d6-90cb-4a0b64f92201",
   "metadata": {},
   "outputs": [],
   "source": []
  },
  {
   "cell_type": "code",
   "execution_count": null,
   "id": "78e54575-2844-4211-8dc5-61afaf9019d2",
   "metadata": {},
   "outputs": [],
   "source": []
  },
  {
   "cell_type": "code",
   "execution_count": null,
   "id": "818e22c6-6cbf-4239-9c87-80990e660d38",
   "metadata": {},
   "outputs": [],
   "source": []
  },
  {
   "cell_type": "code",
   "execution_count": null,
   "id": "e5bd27fd-78c2-4bb3-80f1-bb530a823730",
   "metadata": {},
   "outputs": [],
   "source": []
  },
  {
   "cell_type": "code",
   "execution_count": null,
   "id": "720fec12-b292-4f99-a75d-80c8eb11817f",
   "metadata": {},
   "outputs": [],
   "source": []
  },
  {
   "cell_type": "code",
   "execution_count": null,
   "id": "6b25021f-754d-4c31-8864-b9b376bfe39f",
   "metadata": {},
   "outputs": [],
   "source": []
  },
  {
   "cell_type": "code",
   "execution_count": null,
   "id": "f1d6352d-376d-484e-aab6-7a34bf47d894",
   "metadata": {},
   "outputs": [],
   "source": []
  },
  {
   "cell_type": "code",
   "execution_count": null,
   "id": "7b5d3212-c25c-444a-8b60-ca257ee54338",
   "metadata": {},
   "outputs": [],
   "source": []
  },
  {
   "cell_type": "code",
   "execution_count": null,
   "id": "47b5762b-cf85-4c3a-922e-c0864732edd9",
   "metadata": {},
   "outputs": [],
   "source": []
  },
  {
   "cell_type": "code",
   "execution_count": null,
   "id": "e180cb97-cfb2-4250-af33-8e55e394b8a3",
   "metadata": {},
   "outputs": [],
   "source": [
    "# # Get the closest residue to all centroids\n",
    "# close_residues = {}\n",
    "# protein = PDBParser().get_structure(\"st\", os.path.join(vis_path, \"cluster_REFERENCE.pdb\"))\n",
    "# for file in sorted(os.listdir(vis_path)):\n",
    "#     if \"REFERENCE\" not in file:\n",
    "#         lab = \"_\".join(file.split(\"_\")[:5])\n",
    "#         coord = get_3d_points(os.path.join(vis_path, file))\n",
    "#         all_distances = np.array([[distance.euclidean(i.coord, coord), i.get_parent()] for i in protein.get_atoms()], dtype='object')\n",
    "#         closest_res = sorted(all_distances, key=lambda x: x[0])[0][1]\n",
    "#         close_residues[lab] = closest_res  "
   ]
  },
  {
   "cell_type": "code",
   "execution_count": 339,
   "id": "de659007-99fe-4343-b126-71dc477d0993",
   "metadata": {},
   "outputs": [
    {
     "name": "stderr",
     "output_type": "stream",
     "text": [
      "100%|██████████| 44/44 [01:12<00:00,  1.65s/it]\n"
     ]
    }
   ],
   "source": [
    "# # MOSCA'S SCRIPT\n",
    "# chain = ref_structure.split(\"_\")[1]\n",
    "# distances = []\n",
    "# for i in tqdm.tqdm(sorted(close_residues)):\n",
    "#     distances_ = []\n",
    "#     for j in sorted(close_residues):\n",
    "#         res1 = str(close_residues[i].get_id()[1])\n",
    "#         res2 = str(close_residues[j].get_id()[1])\n",
    "#         if res1 != res2:\n",
    "#             command = \"/aloy/data/programs/pac3/rosa/bin/distances -s 'chain \" + chain + \" and name CA and (resi \" + res1 + \" or resi \" + res2 + \")' \" + os.path.join(vis_path, \"cluster_REFERENCE.pdb\")\n",
    "#             r = os.popen(command).read()\n",
    "#             dist = round(float(r.split(\"\\n\")[1].split(\"\\t\")[-1]), 3)\n",
    "#         else:\n",
    "#             dist = 0\n",
    "#         distances_.append(dist)\n",
    "#     distances.append(distances_)"
   ]
  },
  {
   "cell_type": "code",
   "execution_count": 310,
   "id": "e3bfe44c-cc37-44e8-9478-6aff59e2b98c",
   "metadata": {},
   "outputs": [],
   "source": [
    "from sklearn.cluster import DBSCAN"
   ]
  },
  {
   "cell_type": "code",
   "execution_count": 293,
   "id": "e1a3d131-ff02-427f-9c52-e09bf1f178e1",
   "metadata": {},
   "outputs": [],
   "source": [
    "# import stat\n",
    "# os.chdir(vis_path)\n",
    "# chain = ref_structure.split(\"_\")[1]\n",
    "# # path_to_jwalk = \"/aloy/home/acomajuncosa/programs/Jwalk/Jwalk-master/Jwalk/build/scripts-2.7/jwalk\"\n",
    "# # shutil.copyfile(path_to_jwalk, \"./jwalk\")\n",
    "# for i in tqdm.tqdm(sorted(close_residues)):\n",
    "#     distances_ = []\n",
    "#     for j in sorted(close_residues):\n",
    "#         res1 = str(close_residues[i].get_id()[1])\n",
    "#         res2 = str(close_residues[j].get_id()[1])\n",
    "#         if res1 != res2:\n",
    "#             search = \"|\".join([res1, chain, res2, chain])\n",
    "#             with open(\"./list.txt\", \"w\") as file:\n",
    "#                 file.write(search)\n",
    "#                 command = path_to_jwalk + \" -i cluster_REFERENCE.pdb -xl_list list.txt\"\n",
    "#                 os.system(command)\n",
    "#             break\n",
    "#         else:\n",
    "#             dist = 0\n",
    "#     break"
   ]
  }
 ],
 "metadata": {
  "kernelspec": {
   "display_name": "Python 3",
   "language": "python",
   "name": "python3"
  },
  "language_info": {
   "codemirror_mode": {
    "name": "ipython",
    "version": 3
   },
   "file_extension": ".py",
   "mimetype": "text/x-python",
   "name": "python",
   "nbconvert_exporter": "python",
   "pygments_lexer": "ipython3",
   "version": "3.7.10"
  }
 },
 "nbformat": 4,
 "nbformat_minor": 5
}
