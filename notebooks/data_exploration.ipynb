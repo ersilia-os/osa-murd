{
 "cells": [
  {
   "cell_type": "code",
   "execution_count": 4,
   "metadata": {},
   "outputs": [],
   "source": [
    "import os\n",
    "import pandas as pd\n",
    "import numpy as np\n",
    "from rdkit import Chem\n",
    "\n",
    "\n",
    "DATAPATH = \"../data\""
   ]
  },
  {
   "cell_type": "code",
   "execution_count": null,
   "metadata": {},
   "outputs": [],
   "source": [
    "df = pd.read_csv(os.path.join(DATAPATH, \"OSAMasterList.csv\"))\n",
    "df = df[[\"OSA_ID\",\"Target % activity\", \"SMILES_parent\" ]]\n",
    "df.rename({\"OSA_ID\":\"ID\", \"Target % activity\":\"activity\", \"SMILES_parent\":\"SMILES\"}, axis=1, inplace=True)\n",
    "df.dropna(subset=[\"activity\"], inplace=True)\n",
    "df[\"activity\"] = df[\"activity\"].apply(lambda x: float(x.split(\" &\")[0]))\n",
    "df = df[df[\"activity\"]>=0] #eliminate negative values as errors"
   ]
  },
  {
   "cell_type": "code",
   "execution_count": null,
   "metadata": {},
   "outputs": [],
   "source": []
  },
  {
   "cell_type": "code",
   "execution_count": null,
   "metadata": {},
   "outputs": [],
   "source": []
  },
  {
   "cell_type": "code",
   "execution_count": null,
   "metadata": {},
   "outputs": [],
   "source": [
    "\n",
    "\n"
   ]
  },
  {
   "cell_type": "code",
   "execution_count": null,
   "metadata": {},
   "outputs": [],
   "source": [
    "bin_act = []\n",
    "for i in df[\"activity\"].tolist():\n",
    "    if i > 20:\n",
    "        bin = 0\n",
    "    else:\n",
    "        bin = 1\n",
    "    bin_act += [bin]\n",
    "df[\"bin_act\"]=bin_act\n",
    "\n",
    "print(len(df[df[\"bin_act\"]==1]))\n",
    "print(len(df[df[\"bin_act\"]==0]))"
   ]
  },
  {
   "cell_type": "code",
   "execution_count": null,
   "metadata": {},
   "outputs": [],
   "source": [
    "df.to_csv(os.path.join(DATAPATH, \"murD_inhibition.csv\"), index=False)"
   ]
  },
  {
   "cell_type": "code",
   "execution_count": null,
   "metadata": {},
   "outputs": [],
   "source": [
    "import sys\n",
    "sys.path.append(\"..\")\n",
    "from src.lazy_morgan import MorganBinaryClassifier\n",
    "from sklearn.model_selection import train_test_split\n",
    "from sklearn import metrics\n",
    "import matplotlib.pyplot as plt\n",
    "\n",
    "X_train, X_test, y_train, y_test = train_test_split(df[\"SMILES\"], df[\"bin_act\"], test_size=0.2)\n",
    "\n",
    "mdl = MorganBinaryClassifier()\n",
    "mdl.fit(X_train, y_train)\n",
    "y_pred = mdl.predict_proba(X_test)\n",
    "\n",
    "\n",
    "fpr_test, tpr_test, _ = metrics.roc_curve(y_test, y_pred[:,1])\n",
    "auc_test = metrics.roc_auc_score(y_test, y_pred[:,1])\n",
    "\n",
    "plt.plot(fpr_test, tpr_test, label = str(auc_test), lw=2.5, color = \"#bee6b4\")\n",
    "plt.xlabel(\"False Positive Rate\", fontsize =14)\n",
    "plt.xticks(fontsize = 14)\n",
    "plt.ylabel(\"True Positive Rate\", fontsize=14)\n",
    "plt.yticks(fontsize = 14)\n",
    "plt.title(\"ROC-AUC\", fontsize=16)\n",
    "plt.legend(loc = 'lower right')\n",
    "#plt.savefig(os.path.join(\"../figures\", \"roc_auto6.png\"))"
   ]
  },
  {
   "cell_type": "code",
   "execution_count": null,
   "metadata": {},
   "outputs": [],
   "source": [
    "mdl._auroc"
   ]
  },
  {
   "cell_type": "code",
   "execution_count": null,
   "metadata": {},
   "outputs": [],
   "source": [
    "import joblib\n",
    "import sys\n",
    "sys.path.append(\"..\")\n",
    "from src.lazy_morgan import MorganBinaryClassifier\n",
    "\n",
    "#Train model with all data\n",
    "X = df[\"SMILES\"]\n",
    "y = df[\"bin_act\"]\n",
    "\n",
    "mdl = MorganBinaryClassifier()\n",
    "mdl.fit(X, y)\n",
    "joblib.dump(mdl,\"../models/morganclf.joblib\")"
   ]
  },
  {
   "cell_type": "code",
   "execution_count": null,
   "metadata": {},
   "outputs": [],
   "source": [
    "mdl._auroc"
   ]
  },
  {
   "cell_type": "code",
   "execution_count": null,
   "metadata": {},
   "outputs": [],
   "source": [
    "from sklearn import metrics\n",
    "import matplotlib.pyplot as plt\n",
    "\n",
    "#check model performance over real training data\n",
    "y_pred = mdl.predict_proba(X)\n",
    "\n",
    "fpr_test, tpr_test, _ = metrics.roc_curve(y, y_pred[:,1])\n",
    "auc_test = metrics.roc_auc_score(y, y_pred[:,1])\n",
    "\n",
    "plt.plot(fpr_test, tpr_test, label = str(auc_test), lw=2.5, color = \"#bee6b4\")\n",
    "plt.xlabel(\"False Positive Rate\", fontsize =14)\n",
    "plt.xticks(fontsize = 14)\n",
    "plt.ylabel(\"True Positive Rate\", fontsize=14)\n",
    "plt.yticks(fontsize = 14)\n",
    "plt.title(\"ROC-AUC\", fontsize=16)\n",
    "plt.legend(loc = 'lower right')"
   ]
  },
  {
   "cell_type": "code",
   "execution_count": null,
   "metadata": {},
   "outputs": [],
   "source": [
    "#Filter list of molecules for docking\n",
    "dk = pd.read_csv(\"../data/docking/full_lib/smiles.smi\", sep='\\t', names=['smiles', 'id'])\n",
    "smi = dk[\"smiles\"]\n",
    "\n",
    "def chunker(seq, size):\n",
    "    return (seq[pos:pos + size] for pos in range(0, len(seq), size))\n",
    "\n",
    "preds = []\n",
    "for chunk in chunker(smi, 10000):\n",
    "    p = mdl.predict_proba(chunk)\n",
    "    preds += [p]"
   ]
  },
  {
   "cell_type": "code",
   "execution_count": null,
   "metadata": {},
   "outputs": [],
   "source": [
    "proba1 = []\n",
    "for x in preds:\n",
    "    p1_chunk = x[:,1]\n",
    "    proba1 += list(p1_chunk)\n",
    "    "
   ]
  },
  {
   "cell_type": "code",
   "execution_count": null,
   "metadata": {},
   "outputs": [],
   "source": [
    "plt.hist(proba1, color = \"#50285a\")\n",
    "plt.savefig(\"../figures/inhibitory_pred.png\", dpi=300)"
   ]
  },
  {
   "cell_type": "code",
   "execution_count": null,
   "metadata": {},
   "outputs": [],
   "source": [
    "dk[\"proba1\"]=proba1\n",
    "dk.to_csv(\"../data/inhibitory_pred.csv\", index=False)\n",
    "len(dk[dk[\"proba1\"]>= 0.99])"
   ]
  },
  {
   "cell_type": "code",
   "execution_count": 5,
   "metadata": {},
   "outputs": [],
   "source": [
    "import joblib\n",
    "import sys\n",
    "sys.path.append(\"..\")\n",
    "from src.lazy_morgan import MorganBinaryClassifier\n",
    "import pandas as pd\n",
    "\n",
    "mdl = joblib.load(\"../models/morganclf.joblib\")\n",
    "\n",
    "#PReds against Docking results\n",
    "df = pd.read_csv(os.path.join(DATAPATH,\"docking/docking_MurD/structures/SagaMurD_Frag373/docking_scores.tsv\"),sep='\\t', header=0)\n",
    "smi = df[\"smiles\"]\n",
    "\n",
    "def chunker(seq, size):\n",
    "    return (seq[pos:pos + size] for pos in range(0, len(seq), size))\n",
    "\n",
    "preds = []\n",
    "for chunk in chunker(smi, 10000):\n",
    "    p = mdl.predict_proba(chunk)\n",
    "    preds += [p]"
   ]
  },
  {
   "cell_type": "code",
   "execution_count": 6,
   "metadata": {},
   "outputs": [],
   "source": [
    "proba1 = []\n",
    "for x in preds:\n",
    "    p1_chunk = x[:,1]\n",
    "    proba1 += list(p1_chunk)"
   ]
  },
  {
   "cell_type": "code",
   "execution_count": 9,
   "metadata": {},
   "outputs": [],
   "source": [
    "df[\"proba_inh\"] = proba1"
   ]
  },
  {
   "cell_type": "code",
   "execution_count": 18,
   "metadata": {},
   "outputs": [
    {
     "data": {
      "text/html": [
       "<div>\n",
       "<style scoped>\n",
       "    .dataframe tbody tr th:only-of-type {\n",
       "        vertical-align: middle;\n",
       "    }\n",
       "\n",
       "    .dataframe tbody tr th {\n",
       "        vertical-align: top;\n",
       "    }\n",
       "\n",
       "    .dataframe thead th {\n",
       "        text-align: right;\n",
       "    }\n",
       "</style>\n",
       "<table border=\"1\" class=\"dataframe\">\n",
       "  <thead>\n",
       "    <tr style=\"text-align: right;\">\n",
       "      <th></th>\n",
       "      <th>title</th>\n",
       "      <th>score</th>\n",
       "      <th>smiles</th>\n",
       "      <th>class</th>\n",
       "      <th>proba_inh</th>\n",
       "    </tr>\n",
       "  </thead>\n",
       "  <tbody>\n",
       "    <tr>\n",
       "      <th>0</th>\n",
       "      <td>0091-0033</td>\n",
       "      <td>-10.04740</td>\n",
       "      <td>O=C(c1ccc(C(=O)c2ccc3c4c(cccc24)CC3)cc1)c1ccc(...</td>\n",
       "      <td>0</td>\n",
       "      <td>0.424802</td>\n",
       "    </tr>\n",
       "    <tr>\n",
       "      <th>1</th>\n",
       "      <td>0099-0275</td>\n",
       "      <td>-11.29620</td>\n",
       "      <td>CN(C)C=C(C#N)C(=O)N=C1CCCN1C</td>\n",
       "      <td>0</td>\n",
       "      <td>0.005337</td>\n",
       "    </tr>\n",
       "    <tr>\n",
       "      <th>2</th>\n",
       "      <td>0143-0003</td>\n",
       "      <td>-22.14470</td>\n",
       "      <td>Nc1nonc1N=[N+]([O-])c1nonc1N</td>\n",
       "      <td>1</td>\n",
       "      <td>0.009891</td>\n",
       "    </tr>\n",
       "    <tr>\n",
       "      <th>3</th>\n",
       "      <td>0149-0038</td>\n",
       "      <td>-9.55463</td>\n",
       "      <td>CC(C)(c1cc(CN2CCCCC2)c(O)c(CN2CCCCC2)c1)c1cc(C...</td>\n",
       "      <td>0</td>\n",
       "      <td>0.044309</td>\n",
       "    </tr>\n",
       "    <tr>\n",
       "      <th>4</th>\n",
       "      <td>0270-0069</td>\n",
       "      <td>-5.67202</td>\n",
       "      <td>O=[N+]([O-])C12CN3CN(CN(C3)C1)C2</td>\n",
       "      <td>0</td>\n",
       "      <td>0.002732</td>\n",
       "    </tr>\n",
       "  </tbody>\n",
       "</table>\n",
       "</div>"
      ],
      "text/plain": [
       "       title     score                                             smiles  \\\n",
       "0  0091-0033 -10.04740  O=C(c1ccc(C(=O)c2ccc3c4c(cccc24)CC3)cc1)c1ccc(...   \n",
       "1  0099-0275 -11.29620                       CN(C)C=C(C#N)C(=O)N=C1CCCN1C   \n",
       "2  0143-0003 -22.14470                       Nc1nonc1N=[N+]([O-])c1nonc1N   \n",
       "3  0149-0038  -9.55463  CC(C)(c1cc(CN2CCCCC2)c(O)c(CN2CCCCC2)c1)c1cc(C...   \n",
       "4  0270-0069  -5.67202                   O=[N+]([O-])C12CN3CN(CN(C3)C1)C2   \n",
       "\n",
       "   class  proba_inh  \n",
       "0      0   0.424802  \n",
       "1      0   0.005337  \n",
       "2      1   0.009891  \n",
       "3      0   0.044309  \n",
       "4      0   0.002732  "
      ]
     },
     "execution_count": 18,
     "metadata": {},
     "output_type": "execute_result"
    }
   ],
   "source": [
    "df.head()"
   ]
  },
  {
   "cell_type": "code",
   "execution_count": 19,
   "metadata": {},
   "outputs": [
    {
     "data": {
      "text/plain": [
       "(array([28452.,  7173.,  4206.,  4033.,  2355.,  2169.,  1923.,  1913.,\n",
       "         2196.,  1627.]),\n",
       " array([0.00172517, 0.10131581, 0.20090646, 0.30049708, 0.4000877 ,\n",
       "        0.49967837, 0.599269  , 0.69885963, 0.7984503 , 0.8980409 ,\n",
       "        0.99763155], dtype=float32),\n",
       " <BarContainer object of 10 artists>)"
      ]
     },
     "execution_count": 19,
     "metadata": {},
     "output_type": "execute_result"
    },
    {
     "data": {
      "image/png": "[encoded data removed]",
      "text/plain": [
       "<Figure size 432x288 with 1 Axes>"
      ]
     },
     "metadata": {
      "needs_background": "light"
     },
     "output_type": "display_data"
    }
   ],
   "source": [
    "import matplotlib.pyplot as plt\n",
    "neg = df[df[\"class\"]==0]\n",
    "pos = df[df[\"class\"]==1]\n",
    "\n",
    "plt.hist(neg[\"proba_inh\"])\n",
    "plt.hist(pos[\"proba_inh\"])"
   ]
  },
  {
   "cell_type": "code",
   "execution_count": null,
   "metadata": {},
   "outputs": [],
   "source": []
  }
 ],
 "metadata": {
  "interpreter": {
   "hash": "a5ba2f1452682855ccf4135cb16ab3fe285c3388d1e3e2e119f7a866d80e2677"
  },
  "kernelspec": {
   "display_name": "Python 3.7.11 ('chemistry')",
   "language": "python",
   "name": "python3"
  },
  "language_info": {
   "codemirror_mode": {
    "name": "ipython",
    "version": 3
   },
   "file_extension": ".py",
   "mimetype": "text/x-python",
   "name": "python",
   "nbconvert_exporter": "python",
   "pygments_lexer": "ipython3",
   "version": "3.7.11"
  },
  "orig_nbformat": 4
 },
 "nbformat": 4,
 "nbformat_minor": 2
}
