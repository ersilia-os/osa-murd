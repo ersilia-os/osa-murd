{
 "cells": [
  {
   "cell_type": "code",
   "execution_count": 3,
   "id": "296e3cba-5f76-425f-ab1a-c7747cd5419f",
   "metadata": {},
   "outputs": [],
   "source": [
    "import numpy as np\n",
    "import pandas as pd\n",
    "import os\n",
    "from rdkit import Chem\n",
    "from rdkit.Chem import Draw\n",
    "import shutil\n",
    "import tqdm\n",
    "import pybel\n",
    "import tarfile"
   ]
  },
  {
   "cell_type": "code",
   "execution_count": 4,
   "id": "a7c98191-ff00-4590-906e-ee54ea69ebac",
   "metadata": {},
   "outputs": [],
   "source": [
    "### CREATE MAPPING"
   ]
  },
  {
   "cell_type": "code",
   "execution_count": 11,
   "id": "7851db66-f89b-466d-884a-278342b40f0c",
   "metadata": {},
   "outputs": [],
   "source": [
    "path = \"/slgpfs/projects/irb35/agimeno/MurD/generative_models/REINVENT\"\n",
    "mapping = {}\n",
    "c = 1\n",
    "\n",
    "for file in sorted(os.listdir(path)):\n",
    "    if file not in [\"TESTS\", \"REINVENT_MurD_IdMrkSc-10-0.4-0.2_DS-4.5_PV-3_Inh-1.5\"]:\n",
    "        mapping[file] = c\n",
    "        c += 1\n",
    "        \n",
    "with open(\"/aloy/home/acomajuncosa/MurD/rest_docking_reinvent/mapping.tsv\", \"w\") as f:\n",
    "    for file in mapping:\n",
    "        f.write(\"\\t\".join([file, str(mapping[file])]) + \"\\n\")"
   ]
  },
  {
   "cell_type": "code",
   "execution_count": 12,
   "id": "0449aadf-6764-4b54-b373-76ceed0db64d",
   "metadata": {},
   "outputs": [],
   "source": [
    "### CREATE FILE WITH ALL SMILES"
   ]
  },
  {
   "cell_type": "code",
   "execution_count": 26,
   "id": "5061032a-0eab-47de-b31f-26bc9a26a80b",
   "metadata": {},
   "outputs": [],
   "source": [
    "def read_smiles(file):\n",
    "    return sorted(pd.read_csv(file, header=None, sep='\\t', names=['smiles', '?'])['smiles'])"
   ]
  },
  {
   "cell_type": "code",
   "execution_count": 55,
   "id": "f99a149f-ffe2-447b-977f-060244b1675c",
   "metadata": {},
   "outputs": [
    {
     "name": "stdout",
     "output_type": "stream",
     "text": [
      "REINVENT_MurD_IdMrkSc-10-0.4-0.2_DS-0_PV-0_Inh-6_MW-1_SlogP-1_QED-1 1\n",
      "REINVENT_MurD_IdMrkSc-10-0.4-0.2_DS-0_PV-6_Inh-0_MW-1_SlogP-1_QED-1 2\n",
      "REINVENT_MurD_IdMrkSc-10-0.4-0.2_DS-1_PV-2_Inh-3_MW-1_SlogP-1_QED-1 3\n",
      "REINVENT_MurD_IdMrkSc-10-0.4-0.2_DS-1_PV-3_Inh-2_MW-1_SlogP-1_QED-1 4\n",
      "REINVENT_MurD_IdMrkSc-10-0.4-0.2_DS-2_PV-1_Inh-3_MW-1_SlogP-1_QED-1 5\n",
      "REINVENT_MurD_IdMrkSc-10-0.4-0.2_DS-2_PV-2_Inh-2_MW-1_SlogP-1_QED-1 6\n",
      "REINVENT_MurD_IdMrkSc-10-0.4-0.2_DS-2_PV-3_Inh-1_MW-1_SlogP-1_QED-1 7\n",
      "REINVENT_MurD_IdMrkSc-10-0.4-0.2_DS-3_PV-1_Inh-2_MW-1_SlogP-1_QED-1 8\n",
      "REINVENT_MurD_IdMrkSc-10-0.4-0.2_DS-3_PV-2_Inh-1_MW-1_SlogP-1_QED-1 9\n",
      "REINVENT_MurD_IdMrkSc-10-0.4-0.2_DS-6_PV-0_Inh-0_MW-1_SlogP-1_QED-1 10\n",
      "REINVENT_MurD_ScSim-10-0.4-0.4_DS-0_PV-0_Inh-6_MW-1_SlogP-1_QED-1 11\n",
      "REINVENT_MurD_ScSim-10-0.4-0.4_DS-0_PV-6_Inh-0_MW-1_SlogP-1_QED-1 12\n",
      "REINVENT_MurD_ScSim-10-0.4-0.4_DS-1_PV-2_Inh-3_MW-1_SlogP-1_QED-1 13\n",
      "REINVENT_MurD_ScSim-10-0.4-0.4_DS-1_PV-3_Inh-2_MW-1_SlogP-1_QED-1 14\n",
      "REINVENT_MurD_ScSim-10-0.4-0.4_DS-2_PV-1_Inh-3_MW-1_SlogP-1_QED-1 15\n",
      "REINVENT_MurD_ScSim-10-0.4-0.4_DS-2_PV-2_Inh-2_MW-1_SlogP-1_QED-1 16\n",
      "REINVENT_MurD_ScSim-10-0.4-0.4_DS-2_PV-3_Inh-1_MW-1_SlogP-1_QED-1 17\n",
      "Could not read smiles... ==> REINVENT_MurD_ScSim-10-0.4-0.4_DS-2_PV-3_Inh-1_MW-1_SlogP-1_QED-1\n",
      "REINVENT_MurD_ScSim-10-0.4-0.4_DS-3_PV-1_Inh-2_MW-1_SlogP-1_QED-1 18\n",
      "REINVENT_MurD_ScSim-10-0.4-0.4_DS-3_PV-2_Inh-1_MW-1_SlogP-1_QED-1 19\n",
      "REINVENT_MurD_ScSim-10-0.4-0.4_DS-6_PV-0_Inh-0_MW-1_SlogP-1_QED-1 20\n"
     ]
    }
   ],
   "source": [
    "path = \"/slgpfs/projects/irb35/agimeno/MurD/generative_models/REINVENT\"\n",
    "all_smiles = []\n",
    "\n",
    "for file in mapping:\n",
    "    print(file, mapping[file])\n",
    "    \n",
    "    y = os.listdir(os.path.join(path, file, \"1_target\"))[0]\n",
    "    \n",
    "    path_to_smiles = os.path.join(path, file, \"1_target\", y, \"sampling\", \"agent\", \"output\", \"sampled\", \"sampled.smi\")\n",
    "    try:\n",
    "        smiles = read_smiles(path_to_smiles)\n",
    "        all_smiles.extend([j, str(mapping[file]) + \"-\" + str(i)] for i, j in enumerate(smiles))\n",
    "    except:\n",
    "        print(\"Could not read smiles... ==> \" + file)\n",
    "    \n",
    "all_smiles = np.array(all_smiles)\n",
    "write_all_smiles = [\"\\t\".join(i) for i in all_smiles]\n",
    "\n",
    "# Print smiles\n",
    "with open(\"/aloy/home/acomajuncosa/MurD/rest_docking_reinvent/all_smiles.tsv\", \"w\") as f:\n",
    "    f.write(\"\\n\".join(write_all_smiles))"
   ]
  },
  {
   "cell_type": "code",
   "execution_count": 82,
   "id": "73825248-4117-4aba-8768-b8833739c575",
   "metadata": {},
   "outputs": [],
   "source": [
    "unique_smiles = set()\n",
    "all_smiles_unique = []\n",
    "\n",
    "for s in all_smiles:\n",
    "    if s[0] not in unique_smiles:\n",
    "        unique_smiles.add(s[0])\n",
    "        all_smiles_unique.append(s)\n",
    "        \n",
    "all_smiles_unique = np.array(all_smiles_unique)\n",
    "write_all_smiles_unique = [\"\\t\".join(i) for i in all_smiles_unique]\n",
    "# Print smiles\n",
    "with open(\"/aloy/home/acomajuncosa/MurD/rest_docking_reinvent/all_smiles_unique.tsv\", \"w\") as f:\n",
    "    f.write(\"\\n\".join(write_all_smiles))"
   ]
  },
  {
   "cell_type": "code",
   "execution_count": 83,
   "id": "a898aa0e-0190-4e01-96d6-a29ea12aca7d",
   "metadata": {},
   "outputs": [
    {
     "data": {
      "text/plain": [
       "(190000, 179030, 179030)"
      ]
     },
     "execution_count": 83,
     "metadata": {},
     "output_type": "execute_result"
    }
   ],
   "source": [
    "len(all_smiles), len(all_smiles_unique), len(unique_smiles)"
   ]
  },
  {
   "cell_type": "code",
   "execution_count": 86,
   "id": "ade8da4e-9b44-4a4c-9e41-15265d85f1c4",
   "metadata": {},
   "outputs": [],
   "source": [
    "smiles = np.array_split(all_smiles_unique, 2000)"
   ]
  },
  {
   "cell_type": "code",
   "execution_count": 110,
   "id": "e5ffcb55-b144-44d6-868a-74f7e761dcee",
   "metadata": {
    "tags": []
   },
   "outputs": [
    {
     "name": "stderr",
     "output_type": "stream",
     "text": [
      "10it [00:00, 32.21it/s]\n"
     ]
    }
   ],
   "source": [
    "### write files in alexandria1\n",
    "outpath = \"/alexandria1/acomajuncosa/MurD/ligand_preparation_Aleix/splits\"\n",
    "\n",
    "for c, smi in tqdm.tqdm(enumerate(smiles[:10])):\n",
    "    \n",
    "    # Create directories\n",
    "    if os.path.exists(os.path.join(outpath, \"smiles\" + str(c))) is False:\n",
    "        os.makedirs(os.path.join(outpath, \"smiles\" + str(c)))\n",
    "    if os.path.exists(os.path.join(outpath, \"out_smiles\" + str(c))) is False:\n",
    "        os.makedirs(os.path.join(outpath, \"out_smiles\" + str(c)))\n",
    "        \n",
    "    # Write files\n",
    "    with open(os.path.join(outpath, \"smiles\" + str(c), \"smiles\" + str(c)), \"w\") as f:\n",
    "        for s in smi:\n",
    "            f.write(\"\\t\".join(s) + \"\\n\")"
   ]
  },
  {
   "cell_type": "code",
   "execution_count": 24,
   "id": "67aef748-f446-455a-a969-5c3975b2d3fe",
   "metadata": {
    "tags": []
   },
   "outputs": [
    {
     "name": "stderr",
     "output_type": "stream",
     "text": [
      "100%|██████████| 950/950 [03:25<00:00,  4.62it/s]\n"
     ]
    }
   ],
   "source": [
    "### CHECK THAT MOST OF THEM ARE KEPT\n",
    "path = '/alexandria1/acomajuncosa/MurD/ligand_preparation_Miquel/splits'\n",
    "original_, final_ = [], []\n",
    "\n",
    "for split in tqdm.tqdm(range(950)):\n",
    "    original = open(os.path.join(path, \"smiles\" + str(split), \"smiles\" + str(split)), \"r\").readlines()\n",
    "    final = [i.title for i in pybel.readfile(\"sdf\", \"/alexandria1/acomajuncosa/MurD/ligand_preparation_Miquel/splits/out_smiles\" + str(split) + \"/out_smiles\" + str(split) + \".sdf\")]\n",
    "    original_.extend(original)\n",
    "    final_.extend(final)\n",
    "    # print(split, round(len(set(final))/len(set(original))*100, 1))"
   ]
  },
  {
   "cell_type": "code",
   "execution_count": 25,
   "id": "8e1207ad-c466-4a90-ac45-ce58724313b6",
   "metadata": {},
   "outputs": [
    {
     "data": {
      "text/plain": [
       "(33742, 30324, 89.9)"
      ]
     },
     "execution_count": 25,
     "metadata": {},
     "output_type": "execute_result"
    }
   ],
   "source": [
    "len(set(original_)), len(set(final_)), round(len(set(final_))/len(set(original_))*100, 1)"
   ]
  },
  {
   "cell_type": "code",
   "execution_count": 26,
   "id": "e17a517b-3edb-4bf5-90ae-abc40cae5e89",
   "metadata": {},
   "outputs": [],
   "source": [
    "### COPY DATA TO SL"
   ]
  },
  {
   "cell_type": "code",
   "execution_count": 28,
   "id": "45a3ced8-cc90-475a-aac8-a90889ee5b22",
   "metadata": {
    "tags": []
   },
   "outputs": [
    {
     "name": "stderr",
     "output_type": "stream",
     "text": [
      "100%|██████████| 1901/1901 [00:57<00:00, 32.82it/s]\n"
     ]
    }
   ],
   "source": [
    "path = '/alexandria1/acomajuncosa/MurD/ligand_preparation_Miquel/splits'\n",
    "outpath = '/slgpfs/projects/irb35/acomajuncosa/MurD/rest_docking/Miquel/structures'\n",
    "\n",
    "for file in tqdm.tqdm(sorted(os.listdir(path))):\n",
    "    if \"out\" in file:\n",
    "        if os.path.exists(os.path.join(outpath, file)) is False: os.makedirs(os.path.join(outpath, file))\n",
    "        shutil.copyfile(os.path.join(path, file, file + \".sdf\"), os.path.join(outpath, file, file + \".sdf\"))"
   ]
  },
  {
   "cell_type": "code",
   "execution_count": 168,
   "id": "6bff1d95-81b7-4d2e-ae08-e5f687374c49",
   "metadata": {},
   "outputs": [],
   "source": [
    "### RUN DOCKINGS"
   ]
  },
  {
   "cell_type": "code",
   "execution_count": 32,
   "id": "11c9c37d-70b6-4e49-bc8f-f29a9366597f",
   "metadata": {},
   "outputs": [],
   "source": [
    "path = '/slgpfs/projects/irb35/acomajuncosa/MurD/rest_docking/Miquel/structures'\n",
    "elements = sorted(os.listdir(path))"
   ]
  },
  {
   "cell_type": "code",
   "execution_count": 33,
   "id": "0bd8052c-ed17-42d4-b185-71619d862b12",
   "metadata": {},
   "outputs": [
    {
     "data": {
      "text/plain": [
       "950"
      ]
     },
     "execution_count": 33,
     "metadata": {},
     "output_type": "execute_result"
    }
   ],
   "source": [
    "len(elements)"
   ]
  },
  {
   "cell_type": "code",
   "execution_count": 16,
   "id": "c657d2e3-e5f7-4f08-a1c1-db0c9fac19cc",
   "metadata": {},
   "outputs": [],
   "source": [
    "elements = to_repeat"
   ]
  },
  {
   "cell_type": "code",
   "execution_count": 18,
   "id": "778c4909-0535-4ab1-83a5-8330d7dc6fa0",
   "metadata": {},
   "outputs": [
    {
     "name": "stderr",
     "output_type": "stream",
     "text": [
      "2022-06-28 10:51:25,901 chemicalchecker.util.config.config.Config [DEBUG   ] CC_CONFIG environment variable not set. Using default config file.\n",
      "2022-06-28 10:51:25,901 chemicalchecker.util.config.config.Config [DEBUG   ] Loading config from: /home/acomajuncosa/programs/anaconda3/lib/python3.7/site-packages/chemicalchecker/util/config/cc_config.json\n",
      "2022-06-28 10:51:26,976 hpc.HPC      [DEBUG   ] HPC system to use: slurm\n",
      "2022-06-28 10:51:26,977 hpc.HPC      [DEBUG   ] initializing object slurm\n",
      "2022-06-28 10:51:27,117 slurm.slurm  [DEBUG   ] Job nasdfdsfsdfsdfdme is: murd_miq\n",
      "2022-06-28 10:51:27,131 slurm.slurm  [DEBUG   ] Num elements submitted 13\n",
      "2022-06-28 10:51:27,131 slurm.slurm  [DEBUG   ] Num Job submitted 13\n",
      "2022-06-28 10:51:27,138 slurm.slurm  [INFO    ] Writing file /slgpfs/scratch/irb35/acomajuncosa/MurD/rest_docking/Miquel_rep/job-murd_miq.sh...\n",
      "2022-06-28 10:51:27,152 slurm.slurm  [DEBUG   ] HPC submission: sbatch --parsable /slgpfs/scratch/irb35/acomajuncosa/MurD/rest_docking/Miquel_rep/job-murd_miq.sh\n"
     ]
    },
    {
     "name": "stdout",
     "output_type": "stream",
     "text": [
      "module 'matplotlib.font_manager' has no attribute '_rebuild'\n"
     ]
    },
    {
     "name": "stderr",
     "output_type": "stream",
     "text": [
      "2022-06-28 10:51:30,537 slurm.slurm  [DEBUG   ] load SINGULARITY/3\n"
     ]
    }
   ],
   "source": [
    "import sys\n",
    "sys.path.insert(0, '/aloy/home/acomajuncosa/programs/hpc') #CHANGE THIS PATH TO YOUR HPC PATH!\n",
    "from hpc import HPC\n",
    "from starlife_config import config as cluster_config\n",
    "\n",
    "scratch_path = \"/slgpfs/scratch/irb35/acomajuncosa/MurD/rest_docking/Miquel_rep\" \n",
    "script_path = \"/slgpfs/projects/irb35/acomajuncosa/MurD/rest_docking/Miquel/gen_fps_rDock_center.py\"\n",
    "\n",
    "ncpus = 4\n",
    "cluster = HPC(**cluster_config)\n",
    "njobs = len(elements)\n",
    "\n",
    "cluster_params = {}\n",
    "cluster_params['job_name'] = 'murd_miq'\n",
    "cluster_params[\"jobdir\"] = scratch_path\n",
    "cluster_params[\"memory\"] = ncpus\n",
    "cluster_params['cpu'] = ncpus\n",
    "cluster_params[\"wait\"] = False\n",
    "cluster_params[\"elements\"] = elements\n",
    "cluster_params[\"num_jobs\"] = len(elements)\n",
    "\n",
    "\n",
    "singularity_image = \"/slgpfs/projects/irb35/acomajuncosa/rDock_image_2.simg\"\n",
    "command = \"singularity exec {} python {} <TASK_ID> <FILE>\".format(\n",
    "singularity_image,\n",
    "script_path)\n",
    "\n",
    "cluster.submitMultiJob(command, **cluster_params)"
   ]
  },
  {
   "cell_type": "code",
   "execution_count": 5,
   "id": "a3352822-edef-4784-b686-eaa606f05219",
   "metadata": {},
   "outputs": [
    {
     "name": "stderr",
     "output_type": "stream",
     "text": [
      " 11%|█         | 102/953 [00:00<00:01, 446.86it/s]"
     ]
    },
    {
     "name": "stdout",
     "output_type": "stream",
     "text": [
      "slurm-18106459_114.out\n",
      "slurm-18106459_136.out\n"
     ]
    },
    {
     "name": "stderr",
     "output_type": "stream",
     "text": [
      " 61%|██████▏   | 584/953 [00:01<00:00, 439.72it/s]"
     ]
    },
    {
     "name": "stdout",
     "output_type": "stream",
     "text": [
      "slurm-18106459_557.out\n"
     ]
    },
    {
     "name": "stderr",
     "output_type": "stream",
     "text": [
      " 76%|███████▋  | 729/953 [00:01<00:00, 458.86it/s]"
     ]
    },
    {
     "name": "stdout",
     "output_type": "stream",
     "text": [
      "slurm-18106459_69.out\n"
     ]
    },
    {
     "name": "stderr",
     "output_type": "stream",
     "text": [
      "100%|██████████| 953/953 [00:02<00:00, 461.97it/s]"
     ]
    },
    {
     "name": "stdout",
     "output_type": "stream",
     "text": [
      "slurm-18106459_893.out\n",
      "slurm-18106459_894.out\n",
      "slurm-18106459_895.out\n"
     ]
    },
    {
     "name": "stderr",
     "output_type": "stream",
     "text": [
      "\n"
     ]
    }
   ],
   "source": [
    "### LOOK FOR ERRORS/PROBLEMS\n",
    "\n",
    "# SCRATCH\n",
    "path = \"/slgpfs/scratch/irb35/acomajuncosa/MurD/rest_docking/Miquel\"\n",
    "for file in tqdm.tqdm(sorted(os.listdir(path))):\n",
    "    if '.out' in file:\n",
    "        with open(os.path.join(path, file), \"r\") as f:\n",
    "            for l in f:\n",
    "                if \"error\" in l.lower() or \"warning\" in l.lower() or 'segmentation' in l.lower():\n",
    "                    print(file)\n",
    "                    break\n",
    "                    \n"
   ]
  },
  {
   "cell_type": "code",
   "execution_count": 3,
   "id": "4287a99b-e8b7-4ef7-a00d-7a5cf6a2ef8e",
   "metadata": {
    "collapsed": true,
    "jupyter": {
     "outputs_hidden": true
    },
    "tags": []
   },
   "outputs": [
    {
     "name": "stderr",
     "output_type": "stream",
     "text": [
      "  7%|▋         | 69/950 [01:06<16:06,  1.10s/it]"
     ]
    },
    {
     "name": "stdout",
     "output_type": "stream",
     "text": [
      "out_smiles16\n"
     ]
    },
    {
     "name": "stderr",
     "output_type": "stream",
     "text": [
      " 12%|█▏        | 114/950 [01:55<10:30,  1.33it/s]"
     ]
    },
    {
     "name": "stdout",
     "output_type": "stream",
     "text": [
      "out_smiles20\n"
     ]
    },
    {
     "name": "stderr",
     "output_type": "stream",
     "text": [
      " 14%|█▍        | 136/950 [02:19<10:47,  1.26it/s]"
     ]
    },
    {
     "name": "stdout",
     "output_type": "stream",
     "text": [
      "out_smiles22\n"
     ]
    },
    {
     "name": "stderr",
     "output_type": "stream",
     "text": [
      " 15%|█▌        | 143/950 [02:25<10:06,  1.33it/s]"
     ]
    },
    {
     "name": "stdout",
     "output_type": "stream",
     "text": [
      "out_smiles226\n"
     ]
    },
    {
     "name": "stderr",
     "output_type": "stream",
     "text": [
      " 18%|█▊        | 168/950 [02:51<11:58,  1.09it/s]"
     ]
    },
    {
     "name": "stdout",
     "output_type": "stream",
     "text": [
      "out_smiles25\n"
     ]
    },
    {
     "name": "stderr",
     "output_type": "stream",
     "text": [
      " 19%|█▉        | 180/950 [03:00<06:06,  2.10it/s]"
     ]
    },
    {
     "name": "stdout",
     "output_type": "stream",
     "text": [
      "out_smiles26\n"
     ]
    },
    {
     "name": "stderr",
     "output_type": "stream",
     "text": [
      " 22%|██▏       | 213/950 [03:27<12:57,  1.06s/it]"
     ]
    },
    {
     "name": "stdout",
     "output_type": "stream",
     "text": [
      "out_smiles29\n"
     ]
    },
    {
     "name": "stderr",
     "output_type": "stream",
     "text": [
      " 39%|███▉      | 371/950 [06:24<06:51,  1.41it/s]"
     ]
    },
    {
     "name": "stdout",
     "output_type": "stream",
     "text": [
      "out_smiles432: some error...\n"
     ]
    },
    {
     "name": "stderr",
     "output_type": "stream",
     "text": [
      " 59%|█████▊    | 557/950 [09:49<04:49,  1.36it/s]"
     ]
    },
    {
     "name": "stdout",
     "output_type": "stream",
     "text": [
      "out_smiles6\n"
     ]
    },
    {
     "name": "stderr",
     "output_type": "stream",
     "text": [
      " 62%|██████▏   | 589/950 [10:24<05:30,  1.09it/s]"
     ]
    },
    {
     "name": "stdout",
     "output_type": "stream",
     "text": [
      "out_smiles629: some error...\n"
     ]
    },
    {
     "name": "stderr",
     "output_type": "stream",
     "text": [
      " 66%|██████▌   | 626/950 [11:01<03:56,  1.37it/s]"
     ]
    },
    {
     "name": "stdout",
     "output_type": "stream",
     "text": [
      "out_smiles661\n"
     ]
    },
    {
     "name": "stderr",
     "output_type": "stream",
     "text": [
      " 77%|███████▋  | 729/950 [12:40<02:26,  1.50it/s]"
     ]
    },
    {
     "name": "stdout",
     "output_type": "stream",
     "text": [
      "out_smiles754\n"
     ]
    },
    {
     "name": "stderr",
     "output_type": "stream",
     "text": [
      " 78%|███████▊  | 744/950 [12:49<02:04,  1.66it/s]"
     ]
    },
    {
     "name": "stdout",
     "output_type": "stream",
     "text": [
      "out_smiles769: some error...\n"
     ]
    },
    {
     "name": "stderr",
     "output_type": "stream",
     "text": [
      " 94%|█████████▍| 895/950 [15:18<00:24,  2.27it/s]"
     ]
    },
    {
     "name": "stdout",
     "output_type": "stream",
     "text": [
      "out_smiles901\n",
      "out_smiles902: some error...\n",
      "out_smiles903: some error...\n"
     ]
    },
    {
     "name": "stderr",
     "output_type": "stream",
     "text": [
      "100%|██████████| 950/950 [16:14<00:00,  1.03s/it]\n"
     ]
    }
   ],
   "source": [
    "#RESULTS\n",
    "path = \"/slgpfs/projects/irb35/acomajuncosa/MurD/rest_docking/Miquel/structures\"\n",
    "\n",
    "original, final = set(), set()\n",
    "to_repeat = []\n",
    "data = {}\n",
    "\n",
    "for split in tqdm.tqdm(sorted(os.listdir(path))):\n",
    "    \n",
    "    try:\n",
    "    \n",
    "        mymolecules = set([i.title for i in pybel.readfile(\"sdf\", os.path.join(path, split, split + \".sdf\"))])\n",
    "        myfile = os.path.join(path, split, \"rDock_results_\" + split, \"results.tar.gz\")\n",
    "\n",
    "        if os.path.exists(myfile):\n",
    "            # if os.path.exists(os.path.join(path, split, \"results\", \"results.sd\")) is False:\n",
    "            #     tar = tarfile.open(myfile, \"r:gz\")\n",
    "            #     tar.extract(\"results/results.sd\", os.path.join(path, split))\n",
    "            myresults = set([i.title for i in pybel.readfile(\"sdf\", os.path.join(path, split, \"results\", \"results.sd\"))])\n",
    "            data[split] = myresults\n",
    "\n",
    "\n",
    "            for i in mymolecules:\n",
    "                original.add(i)\n",
    "            for i in myresults:\n",
    "                final.add(i)\n",
    "\n",
    "            if len(myresults) < len(mymolecules)*0.5:\n",
    "                print(split)\n",
    "                to_repeat.append(split)\n",
    "\n",
    "        else:\n",
    "            print(split + \" does not exist\")\n",
    "            \n",
    "    except:\n",
    "        \n",
    "        print(split + \": some error...\")\n",
    "        \n",
    "    # break"
   ]
  },
  {
   "cell_type": "code",
   "execution_count": 4,
   "id": "fcb1ad9f-e073-412a-8b73-b02c11f278a8",
   "metadata": {},
   "outputs": [
    {
     "data": {
      "text/plain": [
       "30264"
      ]
     },
     "execution_count": 4,
     "metadata": {},
     "output_type": "execute_result"
    }
   ],
   "source": [
    "len(original)"
   ]
  },
  {
   "cell_type": "code",
   "execution_count": 5,
   "id": "9cb7872e-deab-4c5a-8f2a-87722a797c88",
   "metadata": {},
   "outputs": [
    {
     "data": {
      "text/plain": [
       "28537"
      ]
     },
     "execution_count": 5,
     "metadata": {},
     "output_type": "execute_result"
    }
   ],
   "source": [
    "len(final)"
   ]
  },
  {
   "cell_type": "code",
   "execution_count": 12,
   "id": "91145644-daf3-4048-8537-cca985196b56",
   "metadata": {},
   "outputs": [
    {
     "name": "stderr",
     "output_type": "stream",
     "text": [
      " 46%|████▌     | 434/950 [00:25<00:22, 23.45it/s]"
     ]
    },
    {
     "name": "stdout",
     "output_type": "stream",
     "text": [
      "432\n"
     ]
    },
    {
     "name": "stderr",
     "output_type": "stream",
     "text": [
      " 67%|██████▋   | 632/950 [00:37<00:17, 18.06it/s]"
     ]
    },
    {
     "name": "stdout",
     "output_type": "stream",
     "text": [
      "629\n"
     ]
    },
    {
     "name": "stderr",
     "output_type": "stream",
     "text": [
      " 81%|████████▏ | 773/950 [00:44<00:05, 32.36it/s]"
     ]
    },
    {
     "name": "stdout",
     "output_type": "stream",
     "text": [
      "769\n"
     ]
    },
    {
     "name": "stderr",
     "output_type": "stream",
     "text": [
      " 95%|█████████▌| 907/950 [00:52<00:02, 19.47it/s]"
     ]
    },
    {
     "name": "stdout",
     "output_type": "stream",
     "text": [
      "902\n",
      "903\n"
     ]
    },
    {
     "name": "stderr",
     "output_type": "stream",
     "text": [
      "100%|██████████| 950/950 [00:54<00:00, 17.45it/s]\n"
     ]
    }
   ],
   "source": [
    "original_ = []\n",
    "final_ = []\n",
    "for split in tqdm.tqdm(range(950)):\n",
    "    try:\n",
    "        original = [i.title for i in pybel.readfile(\"sdf\", \"/slgpfs/projects/irb35/acomajuncosa/MurD/rest_docking/Miquel/structures/out_smiles\" + str(split) + \"/out_smiles\" + str(split) + \".sdf\")]\n",
    "        original_.extend(original)\n",
    "        final = data[\"out_smiles\" + str(split)]\n",
    "        final_.extend(final)\n",
    "    except:\n",
    "        print(split)"
   ]
  },
  {
   "cell_type": "code",
   "execution_count": null,
   "id": "228bf5c0-90e7-4478-94ff-b5420903138c",
   "metadata": {},
   "outputs": [],
   "source": [
    "len(set(final_))"
   ]
  },
  {
   "cell_type": "code",
   "execution_count": null,
   "id": "081025cb-200d-4ea1-a61b-a0014ba251b1",
   "metadata": {},
   "outputs": [],
   "source": [
    "len(set(original_))"
   ]
  },
  {
   "cell_type": "code",
   "execution_count": null,
   "id": "9cc15129-689a-46ed-8759-f3beb9d2e9ba",
   "metadata": {},
   "outputs": [],
   "source": []
  }
 ],
 "metadata": {
  "kernelspec": {
   "display_name": "Python 3",
   "language": "python",
   "name": "python3"
  },
  "language_info": {
   "codemirror_mode": {
    "name": "ipython",
    "version": 3
   },
   "file_extension": ".py",
   "mimetype": "text/x-python",
   "name": "python",
   "nbconvert_exporter": "python",
   "pygments_lexer": "ipython3",
   "version": "3.7.10"
  }
 },
 "nbformat": 4,
 "nbformat_minor": 5
}
