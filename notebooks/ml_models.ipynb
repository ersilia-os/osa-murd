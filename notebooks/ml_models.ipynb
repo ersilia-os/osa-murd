{
 "cells": [
  {
   "cell_type": "code",
   "execution_count": 2,
   "metadata": {},
   "outputs": [],
   "source": [
    "import os\n",
    "import pandas as pd\n",
    "import numpy as np\n",
    "\n",
    "import sys\n",
    "sys.path.append(\"..\")\n",
    "from src.lazy_morgan import MorganBinaryClassifier\n",
    "from sklearn.model_selection import train_test_split\n",
    "from sklearn import metrics\n",
    "import matplotlib.pyplot as plt\n",
    "\n",
    "\n",
    "DATAPATH = \"../data\""
   ]
  },
  {
   "cell_type": "code",
   "execution_count": 3,
   "metadata": {},
   "outputs": [],
   "source": [
    "df = pd.read_csv(os.path.join(DATAPATH,\"docking/docking_MurD/structures/SagaMurD_Frag373/docking_scores.tsv\"),sep='\\t', header=0)\n"
   ]
  },
  {
   "cell_type": "code",
   "execution_count": 4,
   "metadata": {},
   "outputs": [
    {
     "name": "stderr",
     "output_type": "stream",
     "text": [
      "[flaml.automl: 06-20 11:48:04] {2365} INFO - task = classification\n",
      "[flaml.automl: 06-20 11:48:04] {2367} INFO - Data split method: stratified\n",
      "[flaml.automl: 06-20 11:48:04] {2371} INFO - Evaluation method: holdout\n"
     ]
    },
    {
     "ename": "",
     "evalue": "",
     "output_type": "error",
     "traceback": [
      "\u001b[1;31mCanceled future for execute_request message before replies were done"
     ]
    },
    {
     "ename": "",
     "evalue": "",
     "output_type": "error",
     "traceback": [
      "\u001b[1;31mThe Kernel crashed while executing code in the the current cell or a previous cell. Please review the code in the cell(s) to identify a possible cause of the failure. Click <a href='https://aka.ms/vscodeJupyterKernelCrash'>here</a> for more info. View Jupyter <a href='command:jupyter.viewOutput'>log</a> for further details."
     ]
    }
   ],
   "source": [
    "X_train, X_test, y_train, y_test = train_test_split(df[\"smiles\"], df[\"class\"], test_size=0.2)\n",
    "\n",
    "mdl = MorganBinaryClassifier()\n",
    "mdl.fit(X_train, y_train)\n"
   ]
  },
  {
   "cell_type": "code",
   "execution_count": null,
   "metadata": {},
   "outputs": [],
   "source": [
    "y_pred = mdl.predict_proba(X_test)\n",
    "\n",
    "\n",
    "fpr_test, tpr_test, _ = metrics.roc_curve(y_test, y_pred[:,1])\n",
    "auc_test = metrics.roc_auc_score(y_test, y_pred[:,1])\n",
    "\n",
    "plt.plot(fpr_test, tpr_test, label = str(auc_test), lw=2.5, color = \"#bee6b4\")\n",
    "plt.xlabel(\"False Positive Rate\", fontsize =14)\n",
    "plt.xticks(fontsize = 14)\n",
    "plt.ylabel(\"True Positive Rate\", fontsize=14)\n",
    "plt.yticks(fontsize = 14)\n",
    "plt.title(\"ROC-AUC\", fontsize=16)\n",
    "plt.legend(loc = 'lower right')\n",
    "plt.savefig(os.path.join(\"../figures\", \"roc_docking.png\"))"
   ]
  }
 ],
 "metadata": {
  "kernelspec": {
   "display_name": "Python 3.7.11 ('chemistry')",
   "language": "python",
   "name": "python3"
  },
  "language_info": {
   "codemirror_mode": {
    "name": "ipython",
    "version": 3
   },
   "file_extension": ".py",
   "mimetype": "text/x-python",
   "name": "python",
   "nbconvert_exporter": "python",
   "pygments_lexer": "ipython3",
   "version": "3.7.11"
  },
  "orig_nbformat": 4,
  "vscode": {
   "interpreter": {
    "hash": "a5ba2f1452682855ccf4135cb16ab3fe285c3388d1e3e2e119f7a866d80e2677"
   }
  }
 },
 "nbformat": 4,
 "nbformat_minor": 2
}
