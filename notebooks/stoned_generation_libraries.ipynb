{
 "cells": [
  {
   "cell_type": "code",
   "execution_count": 1,
   "id": "e8287120",
   "metadata": {},
   "outputs": [],
   "source": [
    "import os\n",
    "import pandas as pd\n",
    "from rdkit import Chem\n",
    "import csv\n",
    "\n",
    "DATA = os.path.abspath(\"../data\")\n",
    "OUTPUT_PATH = os.path.join(DATA, \"generated\", \"zairachem\")\n",
    "INPUT_PATH = os.path.join(DATA, \"generated\")\n",
    "\n",
    "def read_smiles(file_name):\n",
    "    with open(file_name, \"r\") as f:\n",
    "        reader = csv.reader(f)\n",
    "        smiles = []\n",
    "        for r in reader:\n",
    "            smiles += [r[0]]\n",
    "    return smiles\n",
    "\n",
    "def write_smiles(smiles, file_name):\n",
    "    new_mols = smiles\n",
    "    with open(os.path.join(OUTPUT_PATH, file_name), \"w\") as f:\n",
    "        writer = csv.writer(f)\n",
    "        for r in new_mols:\n",
    "            writer.writerow([r])"
   ]
  },
  {
   "cell_type": "code",
   "execution_count": 2,
   "id": "037f97c3",
   "metadata": {},
   "outputs": [],
   "source": [
    "from exmol import run_stoned\n",
    "from tqdm import tqdm\n",
    "import numpy as np\n",
    "import time\n",
    "import random\n",
    "from rdkit import DataStructs\n",
    "from rdkit.Chem import AllChem\n",
    "\n",
    "\n",
    "class StonedSampler(object):\n",
    "    def __init__(self, max_mutations=2, min_mutations=1):\n",
    "        self.max_mutations = max_mutations\n",
    "        self.min_mutations = min_mutations\n",
    "\n",
    "    def sample(self, smiles, n):\n",
    "        return run_stoned(\n",
    "            smiles,\n",
    "            num_samples=n,\n",
    "            max_mutations=self.max_mutations,\n",
    "            min_mutations=self.min_mutations,\n",
    "        )\n",
    "\n",
    "\n",
    "class StonedBatchSampler(object):\n",
    "\n",
    "    def __init__(self, min_similarity=0.6, max_similarity=0.9, scorer=None, inflation=2, time_budget_sec=60):\n",
    "        self.min_similarity = min_similarity\n",
    "        self.max_similarity = max_similarity\n",
    "        self.sampler = StonedSampler(max_mutations=5, min_mutations=1)\n",
    "        if scorer is None:\n",
    "            self.scorer = SybaClassifier()\n",
    "            self.scorer.fitDefaultScore()\n",
    "        else:\n",
    "            self.scorer = scorer\n",
    "        self.inflation = inflation\n",
    "        self.time_budget_sec = time_budget_sec\n",
    "        self.elapsed_time = 0\n",
    "        self.finished = False\n",
    "\n",
    "    def _sample(self, smiles_list, n):\n",
    "        random.shuffle(smiles_list)\n",
    "        n_individual = int(np.clip(self.inflation*n/len(smiles_list), 100, 1000))\n",
    "        available_time = int((self.time_budget_sec - self.elapsed_time)) + 1\n",
    "        samples_per_sec = 100\n",
    "        estimated_time = len(smiles_list)/samples_per_sec\n",
    "        if estimated_time > available_time:\n",
    "            n_individual = 10\n",
    "        sampled_smiles = []\n",
    "        sampled_sim = []\n",
    "        for smi in tqdm(smiles_list):\n",
    "            t0 = time.time()\n",
    "            sampled = self.sampler.sample(smi, n_individual)\n",
    "            sampled_smiles += sampled[0]\n",
    "            sampled_sim += sampled[1]\n",
    "            t1 = time.time()\n",
    "            dt = t1-t0\n",
    "            self.elapsed_time += dt\n",
    "            if self.elapsed_time > self.time_budget_sec:\n",
    "                self.finished = True\n",
    "                break\n",
    "        smiles = []\n",
    "        for smi, sim in zip(sampled_smiles, sampled_sim):\n",
    "            if sim < self.min_similarity or sim > self.max_similarity:\n",
    "                continue\n",
    "            smiles += [smi]\n",
    "        n = int(len(smiles)/self.inflation+1)\n",
    "        smiles = self._select_by_similarity(smiles)\n",
    "        smiles = self._select_by_score(smiles, n)\n",
    "        return set(smiles)\n",
    "    \n",
    "    def _select_by_score(self, smiles, n):\n",
    "        smiles = list(smiles)\n",
    "        scores = [self.scorer.predict(smi) for smi in tqdm(smiles)]\n",
    "        df = pd.DataFrame({\"smiles\": smiles, \"score\": scores})\n",
    "        return list(df.sort_values(by=\"score\").tail(n)[\"smiles\"])\n",
    "    \n",
    "    def _select_by_similarity(self, smiles):\n",
    "        sel_smiles = []\n",
    "        for smi in tqdm(smiles):\n",
    "            mol = Chem.MolFromSmiles(smi)\n",
    "            fp = AllChem.GetMorganFingerprintAsBitVect(mol, 2)\n",
    "            sims = DataStructs.BulkTanimotoSimilarity(fp, self.seed_fps)\n",
    "            sim = np.max(sims)\n",
    "            if sim < self.min_similarity or sim > self.max_similarity:\n",
    "                continue\n",
    "            sel_smiles += [smi]\n",
    "        return sel_smiles\n",
    "    \n",
    "    def sample(self, smiles_list, n):\n",
    "        self.seed_smiles = list(smiles_list)\n",
    "        self.seed_fps = [AllChem.GetMorganFingerprintAsBitVect(Chem.MolFromSmiles(smi), 2) for smi in self.seed_smiles]\n",
    "        smiles = set(smiles_list)\n",
    "        sampled_smiles = set()\n",
    "        for i in range(n):\n",
    "            new_smiles = self._sample(list(smiles), n)\n",
    "            sampled_smiles.update(new_smiles)\n",
    "            smiles.update(new_smiles)\n",
    "            if self.finished:\n",
    "                break\n",
    "        smiles = list(sampled_smiles)\n",
    "        smiles = self._select_by_similarity(smiles)\n",
    "        if len(smiles) > n:\n",
    "            smiles = self._select_by_score(smiles, n)\n",
    "        self.elapsed_time = 0\n",
    "        self.finished = False\n",
    "        return smiles"
   ]
  },
  {
   "cell_type": "code",
   "execution_count": 3,
   "id": "13275fc6",
   "metadata": {},
   "outputs": [],
   "source": [
    "from syba.syba import SybaClassifier\n",
    "syba = SybaClassifier()\n",
    "syba.fitDefaultScore()\n"
   ]
  },
  {
   "cell_type": "code",
   "execution_count": 5,
   "id": "be637e72",
   "metadata": {},
   "outputs": [],
   "source": [
    "smp = StonedBatchSampler(min_similarity=0.7, max_similarity=0.95, scorer=syba, time_budget_sec=60*5)"
   ]
  },
  {
   "cell_type": "code",
   "execution_count": 9,
   "id": "33519f05",
   "metadata": {},
   "outputs": [
    {
     "name": "stderr",
     "output_type": "stream",
     "text": [
      " 24%|███████████████████▋                                                              | 1803/7524 [05:00<15:54,  5.99it/s]\n",
      "100%|████████████████████████████████████████████████████████████████████████████████| 6270/6270 [00:05<00:00, 1201.63it/s]\n",
      "100%|████████████████████████████████████████████████████████████████████████████████| 3972/3972 [00:00<00:00, 4784.07it/s]\n",
      "100%|████████████████████████████████████████████████████████████████████████████████| 3133/3133 [00:02<00:00, 1188.85it/s]\n"
     ]
    }
   ],
   "source": [
    "smiles = read_smiles(os.path.join(INPUT_PATH, \"docking_top100_hits_lib_aug.csv\"))\n",
    "sampled_smiles = smp.sample(smiles, 10000)\n",
    "write_smiles(sampled_smiles, \"stoned-docking_top100_lib_aug.csv\")"
   ]
  },
  {
   "cell_type": "code",
   "execution_count": 8,
   "id": "3ef68f39",
   "metadata": {},
   "outputs": [
    {
     "name": "stderr",
     "output_type": "stream",
     "text": [
      " 64%|████████████████████████████████████████████████████▏                             | 3337/5241 [05:00<02:51, 11.10it/s]\n",
      "100%|████████████████████████████████████████████████████████████████████████████████| 4616/4616 [00:02<00:00, 1770.77it/s]\n",
      "100%|████████████████████████████████████████████████████████████████████████████████| 2961/2961 [00:00<00:00, 8302.47it/s]\n",
      "100%|████████████████████████████████████████████████████████████████████████████████| 2279/2279 [00:01<00:00, 1762.94it/s]\n"
     ]
    }
   ],
   "source": [
    "smiles = read_smiles(os.path.join(INPUT_PATH, \"pocketvec_hits_lib_aug.csv\"))\n",
    "sampled_smiles = smp.sample(smiles, 10000)\n",
    "write_smiles(sampled_smiles, \"stoned-pocketvec_lib_aug.csv\")"
   ]
  },
  {
   "cell_type": "code",
   "execution_count": 7,
   "id": "9ddb5e81",
   "metadata": {},
   "outputs": [
    {
     "name": "stderr",
     "output_type": "stream",
     "text": [
      "100%|██████████████████████████████████████████████████████████████████████████████████| 1324/1324 [02:40<00:00,  8.26it/s]\n",
      "100%|████████████████████████████████████████████████████████████████████████████████| 3623/3623 [00:00<00:00, 4248.85it/s]\n",
      "100%|████████████████████████████████████████████████████████████████████████████████| 2451/2451 [00:00<00:00, 7212.35it/s]\n",
      " 37%|██████████████████████████████                                                    | 1139/3107 [02:20<04:02,  8.10it/s]\n",
      "100%|████████████████████████████████████████████████████████████████████████████████| 3465/3465 [00:00<00:00, 4239.21it/s]\n",
      "100%|████████████████████████████████████████████████████████████████████████████████| 1324/1324 [00:00<00:00, 6995.33it/s]\n",
      "100%|████████████████████████████████████████████████████████████████████████████████| 3038/3038 [00:00<00:00, 4175.87it/s]\n"
     ]
    }
   ],
   "source": [
    "smiles = read_smiles(os.path.join(INPUT_PATH, \"pocketvec_mw250_hits_lib_aug.csv\"))\n",
    "sampled_smiles = smp.sample(smiles, 10000)\n",
    "write_smiles(sampled_smiles, \"stoned-pocketvec_mw250_lib_aug.csv\")"
   ]
  },
  {
   "cell_type": "code",
   "execution_count": 6,
   "id": "8520f0ac",
   "metadata": {},
   "outputs": [
    {
     "name": "stderr",
     "output_type": "stream",
     "text": [
      " 52%|██████████████████████████████████████████▌                                       | 2175/4195 [05:00<04:39,  7.23it/s]\n",
      "100%|████████████████████████████████████████████████████████████████████████████████| 5345/5345 [00:02<00:00, 2041.00it/s]\n",
      "100%|████████████████████████████████████████████████████████████████████████████████| 3069/3069 [00:00<00:00, 6206.69it/s]\n",
      "100%|████████████████████████████████████████████████████████████████████████████████| 2653/2653 [00:01<00:00, 2053.30it/s]\n"
     ]
    }
   ],
   "source": [
    "smiles = read_smiles(os.path.join(INPUT_PATH, \"known_hits_lib_aug.csv\"))\n",
    "sampled_smiles = smp.sample(smiles, 10000)\n",
    "write_smiles(sampled_smiles, \"stoned-known_lib_aug.csv\")"
   ]
  },
  {
   "cell_type": "code",
   "execution_count": null,
   "id": "596d0206",
   "metadata": {},
   "outputs": [],
   "source": []
  }
 ],
 "metadata": {
  "kernelspec": {
   "display_name": "Python 3 (ipykernel)",
   "language": "python",
   "name": "python3"
  },
  "language_info": {
   "codemirror_mode": {
    "name": "ipython",
    "version": 3
   },
   "file_extension": ".py",
   "mimetype": "text/x-python",
   "name": "python",
   "nbconvert_exporter": "python",
   "pygments_lexer": "ipython3",
   "version": "3.7.12"
  }
 },
 "nbformat": 4,
 "nbformat_minor": 5
}
